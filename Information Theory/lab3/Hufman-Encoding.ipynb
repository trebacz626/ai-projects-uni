{
 "cells": [
  {
   "cell_type": "code",
   "execution_count": 104,
   "metadata": {},
   "outputs": [],
   "source": [
    "class Node():\n",
    "    def __init__(self,val,left, right):\n",
    "        self.val = val\n",
    "        self.left = left\n",
    "        self.right = right\n",
    "        self.code = ''\n",
    "    def __lt__(self,other):\n",
    "        return True"
   ]
  },
  {
   "cell_type": "code",
   "execution_count": 105,
   "metadata": {},
   "outputs": [],
   "source": [
    "from collections import Counter\n",
    "from queue import PriorityQueue\n",
    "\n",
    "class HuffmannEncoder():\n",
    "    def __init__(self,init_text):\n",
    "        self.encodes = dict()\n",
    "        self.decodes = dict()\n",
    "        counts = Counter(init_text)\n",
    "        letters = set(init_text)\n",
    "        q = PriorityQueue()\n",
    "        for letter in letters:\n",
    "            q.put((counts[letter], Node(letter,None, None)))\n",
    "                  \n",
    "        while( q.qsize() > 1):\n",
    "            count_a, a = q.get()\n",
    "            count_b, b = q.get()\n",
    "            root = Node(None,a,b)\n",
    "            q.put((count_a+count_b, root))\n",
    "        root = q.get()[1]\n",
    "                \n",
    "        self.add_codes(root)\n",
    "        \n",
    "    def add_codes(self,root):\n",
    "        if root.val:\n",
    "            self.encodes[root.val] = root.code\n",
    "            self.decodes[root.code] = root.val\n",
    "        if root.left:\n",
    "            root.left.code = root.code+\"0\"\n",
    "            self.add_codes(root.left)\n",
    "        if root.right:\n",
    "            root.right.code = root.code+\"1\"\n",
    "            self.add_codes(root.right)\n",
    "            \n",
    "    def encode(self,text):\n",
    "        result =''\n",
    "        current= ''\n",
    "        for letter in text:\n",
    "            current+=letter\n",
    "            if current in self.encodes:\n",
    "                result+=self.encodes[current]\n",
    "                current=''\n",
    "        return result\n",
    "    \n",
    "    def decode(self,text):\n",
    "        result =''\n",
    "        current= ''\n",
    "        for letter in text:\n",
    "            current+=letter\n",
    "            if current in self.decodes:\n",
    "                result+=self.decodes[current]\n",
    "                current=''\n",
    "        return result\n",
    "            \n",
    "            \n",
    "            \n",
    "                  "
   ]
  },
  {
   "cell_type": "code",
   "execution_count": 106,
   "metadata": {},
   "outputs": [],
   "source": [
    "with open('./data/norm_wiki_sample.txt', 'r') as file:\n",
    "    text = file.read()"
   ]
  },
  {
   "cell_type": "code",
   "execution_count": 107,
   "metadata": {},
   "outputs": [],
   "source": [
    "encoder = HuffmannEncoder(text)"
   ]
  },
  {
   "cell_type": "code",
   "execution_count": 108,
   "metadata": {},
   "outputs": [],
   "source": [
    "assert text == encoder.decode(encoder.encode(text))"
   ]
  },
  {
   "cell_type": "code",
   "execution_count": 109,
   "metadata": {},
   "outputs": [
    {
     "name": "stdout",
     "output_type": "stream",
     "text": [
      "Number of bits required for text: 64733646\n",
      "Number of bits required for encoded text: 46489714\n"
     ]
    }
   ],
   "source": [
    "print(\"Number of bits required for text:\", len(text)*6)\n",
    "print(\"Number of bits required for encoded text:\", len(encoder.encode(text)))"
   ]
  },
  {
   "cell_type": "code",
   "execution_count": null,
   "metadata": {},
   "outputs": [],
   "source": []
  }
 ],
 "metadata": {
  "kernelspec": {
   "display_name": "Python 3",
   "language": "python",
   "name": "python3"
  },
  "language_info": {
   "codemirror_mode": {
    "name": "ipython",
    "version": 3
   },
   "file_extension": ".py",
   "mimetype": "text/x-python",
   "name": "python",
   "nbconvert_exporter": "python",
   "pygments_lexer": "ipython3",
   "version": "3.7.6"
  }
 },
 "nbformat": 4,
 "nbformat_minor": 4
}
