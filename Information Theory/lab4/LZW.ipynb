{
 "cells": [
  {
   "cell_type": "code",
   "execution_count": 1,
   "metadata": {},
   "outputs": [],
   "source": [
    "BITS = 12\n",
    "import string\n",
    "import numpy as np"
   ]
  },
  {
   "cell_type": "code",
   "execution_count": 2,
   "metadata": {},
   "outputs": [],
   "source": [
    "def encode(text):\n",
    "    matchings = dict()\n",
    "    for i in range(256):\n",
    "        matchings[chr(i)] = i\n",
    "\n",
    "    output = []\n",
    "    i=0\n",
    "\n",
    "    cur_code = 256\n",
    "    while i <len(text):\n",
    "        current = text[i]\n",
    "        j=i+1\n",
    "        if(cur_code == 2**BITS):\n",
    "            while j <len(text) and current+text[j] in matchings:\n",
    "                current+=text[j]\n",
    "                j+=1\n",
    "            output.append(matchings[current])\n",
    "        else:\n",
    "            while j<len(text) and current in matchings:\n",
    "                current+=text[j]\n",
    "                j+=1\n",
    "            if current in matchings:\n",
    "                output.append(matchings[current])\n",
    "            else:\n",
    "                output.append(matchings[current[:-1]])\n",
    "                matchings[current] = cur_code\n",
    "                cur_code+=1\n",
    "                j-=1\n",
    "        i=j\n",
    "    assert(len(matchings.keys()) == len(set(matchings.keys())))\n",
    "    return output"
   ]
  },
  {
   "cell_type": "code",
   "execution_count": 3,
   "metadata": {},
   "outputs": [],
   "source": [
    "def decode(input_data):\n",
    "    matchings = dict()\n",
    "    for i in range(256):\n",
    "        matchings[i] = chr(i)\n",
    "    output = [matchings[input_data[0]]]\n",
    "    i=1\n",
    "    cur_code = 256\n",
    "    while i < len(input_data) and cur_code < 2**BITS:\n",
    "        if input_data[i] == cur_code:\n",
    "            matchings[cur_code] = matchings[input_data[i-1]]+matchings[input_data[i-1]][0]\n",
    "        else:\n",
    "            matchings[cur_code] = matchings[input_data[i-1]]+matchings[input_data[i]][0]\n",
    "        output.append(matchings[input_data[i]])\n",
    "        cur_code+=1\n",
    "        i+=1\n",
    "        itemy = sorted(matchings.items())\n",
    "\n",
    "    while i < len(input_data):\n",
    "        output.append(matchings[input_data[i]])\n",
    "        i+=1\n",
    "    assert(len(matchings.values()) == len(set(matchings.values())))\n",
    "    return ''.join(output)"
   ]
  },
  {
   "cell_type": "code",
   "execution_count": 4,
   "metadata": {},
   "outputs": [
    {
     "data": {
      "text/plain": [
       "'aaaaaaaaaaaaaaaale ja bardzo lubie pisac'"
      ]
     },
     "execution_count": 4,
     "metadata": {},
     "output_type": "execute_result"
    }
   ],
   "source": [
    "decode(encode(\"aaaaaaaaaaaaaaaale ja bardzo lubie pisac\"))"
   ]
  },
  {
   "cell_type": "code",
   "execution_count": 5,
   "metadata": {},
   "outputs": [
    {
     "data": {
      "text/plain": [
       "'I love this place. In fact it is so awesome that I want to live here'"
      ]
     },
     "execution_count": 5,
     "metadata": {},
     "output_type": "execute_result"
    }
   ],
   "source": [
    "decode(encode(\"I love this place. In fact it is so awesome that I want to live here\"))"
   ]
  },
  {
   "cell_type": "code",
   "execution_count": 6,
   "metadata": {},
   "outputs": [
    {
     "name": "stdout",
     "output_type": "stream",
     "text": [
      "Before: 86311528\n",
      "After: 43621296\n"
     ]
    }
   ],
   "source": [
    "with open('./data/norm_wiki_sample.txt','r') as f:\n",
    "    text = f.read()\n",
    "    encoded = encode(text)\n",
    "    #unocmment to print encoded text\n",
    "    #print(encoded)\n",
    "    next_next = decode(encoded)\n",
    "    assert(text == decode(encode(text)))\n",
    "    print(\"Before:\", len(text)*8)\n",
    "    print(\"After:\", len(encoded)*BITS)\n",
    "    "
   ]
  },
  {
   "cell_type": "code",
   "execution_count": 7,
   "metadata": {},
   "outputs": [
    {
     "name": "stdout",
     "output_type": "stream",
     "text": [
      "Before: 95236960\n",
      "After: 53214192\n"
     ]
    }
   ],
   "source": [
    "with open('./data/wiki_sample.txt','r') as f:\n",
    "    text = f.read()\n",
    "    encoded = encode(text)\n",
    "    #unocmment to print encoded text\n",
    "    #print(encoded)\n",
    "    next_next = decode(encoded)\n",
    "    assert(text == decode(encode(text)))\n",
    "    print(\"Before:\", len(text)*8)\n",
    "    print(\"After:\", len(encoded)*BITS)"
   ]
  },
  {
   "cell_type": "markdown",
   "metadata": {},
   "source": [
    "## Image"
   ]
  },
  {
   "cell_type": "code",
   "execution_count": 8,
   "metadata": {},
   "outputs": [
    {
     "data": {
      "text/plain": [
       "'00000001'"
      ]
     },
     "execution_count": 8,
     "metadata": {},
     "output_type": "execute_result"
    }
   ],
   "source": [
    "def get_bin(x,n=8):\n",
    "    return format(x, 'b').zfill(n)\n",
    "get_bin(1)"
   ]
  },
  {
   "cell_type": "code",
   "execution_count": 9,
   "metadata": {},
   "outputs": [],
   "source": [
    "def to_binary(input_data):\n",
    "    result = []\n",
    "    for num in input_data:\n",
    "        result.append(get_bin(num,BITS))\n",
    "    return ''.join(result)"
   ]
  },
  {
   "cell_type": "code",
   "execution_count": 10,
   "metadata": {},
   "outputs": [
    {
     "name": "stdout",
     "output_type": "stream",
     "text": [
      "Size before: 92199504\n",
      "Size after: 107882592\n"
     ]
    }
   ],
   "source": [
    " with open('./data/lena.bmp','rb') as f:\n",
    "    image = f.read()\n",
    "    text = []\n",
    "    for i in image:\n",
    "        text.append(chr(i))\n",
    "    encoded = encode(text)\n",
    "    print(\"Size before:\", len(text)*8)\n",
    "    print(\"Size after:\", len(to_binary(encoded)))\n",
    "    #unocmment to print binary result\n",
    "    #print(to_binary(encoded))\n",
    "    new_text = decode(encoded)\n",
    "    \n",
    "    for i in range(len(text)):\n",
    "        assert new_text[i] == text[i]"
   ]
  },
  {
   "cell_type": "code",
   "execution_count": null,
   "metadata": {},
   "outputs": [],
   "source": []
  }
 ],
 "metadata": {
  "kernelspec": {
   "display_name": "Python 3",
   "language": "python",
   "name": "python3"
  },
  "language_info": {
   "codemirror_mode": {
    "name": "ipython",
    "version": 3
   },
   "file_extension": ".py",
   "mimetype": "text/x-python",
   "name": "python",
   "nbconvert_exporter": "python",
   "pygments_lexer": "ipython3",
   "version": "3.7.6"
  }
 },
 "nbformat": 4,
 "nbformat_minor": 4
}
