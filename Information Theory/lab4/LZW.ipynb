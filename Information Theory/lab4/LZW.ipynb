{
 "cells": [
  {
   "cell_type": "code",
   "execution_count": 22,
   "metadata": {},
   "outputs": [],
   "source": [
    "import string\n",
    "import numpy as np"
   ]
  },
  {
   "cell_type": "code",
   "execution_count": 17,
   "metadata": {},
   "outputs": [],
   "source": [
    "text = \"theisisthe\""
   ]
  },
  {
   "cell_type": "code",
   "execution_count": 18,
   "metadata": {},
   "outputs": [],
   "source": [
    "convertedText = []"
   ]
  },
  {
   "cell_type": "code",
   "execution_count": 47,
   "metadata": {},
   "outputs": [
    {
     "name": "stdout",
     "output_type": "stream",
     "text": [
      "0\n",
      "th\n",
      "1\n",
      "he\n",
      "2\n",
      "ei\n",
      "3\n",
      "is\n",
      "4\n",
      "si\n",
      "5\n",
      "ist\n",
      "7\n",
      "the\n",
      "9\n",
      "[116, 104, 101, 105, 115, 259, 256, 101]\n"
     ]
    }
   ],
   "source": [
    "matchings = dict()\n",
    "for i in range(256):\n",
    "    matchings[chr(i)] = i\n",
    "    \n",
    "output = []\n",
    "i=0\n",
    "\n",
    "cur_code = 256\n",
    "while i <len(text):\n",
    "    current = text[i]\n",
    "    print(i)\n",
    "    j=i+1\n",
    "    if(cur_code == 512):\n",
    "        while j <len(text) and current+text[j] in matchings:\n",
    "            current+=text[j]\n",
    "            j+=1\n",
    "        output.append(matchings[current])\n",
    "    else:\n",
    "        while j<len(text) and current in matchings:\n",
    "            current+=text[j]\n",
    "            j+=1\n",
    "        if current in matchings:\n",
    "            output.append(matchings[current])\n",
    "        else:\n",
    "            print(current)\n",
    "            output.append(matchings[current[:-1]])\n",
    "            matchings[current] = cur_code\n",
    "            cur_code+=1\n",
    "            j-=1\n",
    "    i=j\n",
    "print(output)"
   ]
  },
  {
   "cell_type": "code",
   "execution_count": null,
   "metadata": {},
   "outputs": [],
   "source": []
  }
 ],
 "metadata": {
  "kernelspec": {
   "display_name": "Python 3",
   "language": "python",
   "name": "python3"
  },
  "language_info": {
   "codemirror_mode": {
    "name": "ipython",
    "version": 3
   },
   "file_extension": ".py",
   "mimetype": "text/x-python",
   "name": "python",
   "nbconvert_exporter": "python",
   "pygments_lexer": "ipython3",
   "version": "3.7.6"
  }
 },
 "nbformat": 4,
 "nbformat_minor": 4
}
