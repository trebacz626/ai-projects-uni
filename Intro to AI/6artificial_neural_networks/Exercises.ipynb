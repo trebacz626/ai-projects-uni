{
 "cells": [
  {
   "cell_type": "code",
   "execution_count": 2,
   "metadata": {},
   "outputs": [
    {
     "name": "stdout",
     "output_type": "stream",
     "text": "3.7.4\n"
    }
   ],
   "source": [
    "%matplotlib inline\n",
    "import matplotlib.pyplot as plt\n",
    "import numpy as np\n",
    "\n",
    "from platform import python_version\n",
    "print(python_version())"
   ]
  },
  {
   "cell_type": "markdown",
   "metadata": {},
   "source": [
    "This exercise consists of 4 parts. Finish the first part to get the mark of 3.0. The first 3 parts to get 4.0. Finish all parts to get 5.0."
   ]
  },
  {
   "cell_type": "markdown",
   "metadata": {},
   "source": [
    "# Part 1: Linear layer"
   ]
  },
  {
   "cell_type": "markdown",
   "metadata": {},
   "source": [
    "1.1) Let us start with a linear regression problem. Consider a linear function with a noise: $y = a*x+b + noise$.\n",
    "\n",
    "We use this formula to generate $100$ random smaples."
   ]
  },
  {
   "cell_type": "code",
   "execution_count": 3,
   "metadata": {},
   "outputs": [],
   "source": [
    "### The number of samples\n",
    "n = 100 \n",
    "### parameters of the linear function\n",
    "a = -2 \n",
    "b = 3"
   ]
  },
  {
   "cell_type": "markdown",
   "metadata": {},
   "source": [
    "1.2) Now, let us generate 100 samples and plot them. "
   ]
  },
  {
   "cell_type": "code",
   "execution_count": 4,
   "metadata": {},
   "outputs": [
    {
     "data": {
      "text/plain": "<matplotlib.collections.PathCollection at 0x7f1df8540450>"
     },
     "execution_count": 4,
     "metadata": {},
     "output_type": "execute_result"
    },
    {
     "data": {
      "image/png": "[encoded data removed]",
      "image/svg+xml": "<?xml version=\"1.0\" encoding=\"utf-8\" standalone=\"no\"?>\n<!DOCTYPE svg PUBLIC \"-//W3C//DTD SVG 1.1//EN\"\n  \"http://www.w3.org/Graphics/SVG/1.1/DTD/svg11.dtd\">\n<!-- Created with matplotlib (https://matplotlib.org/) -->\n<svg height=\"248.518125pt\" version=\"1.1\" viewBox=\"0 0 362.5625 248.518125\" width=\"362.5625pt\" xmlns=\"http://www.w3.org/2000/svg\" xmlns:xlink=\"http://www.w3.org/1999/xlink\">\n <defs>\n  <style type=\"text/css\">\n*{stroke-linecap:butt;stroke-linejoin:round;}\n  </style>\n </defs>\n <g id=\"figure_1\">\n  <g id=\"patch_1\">\n   <path d=\"M 0 248.518125 \nL 362.5625 248.518125 \nL 362.5625 0 \nL 0 0 \nz\n\" style=\"fill:none;\"/>\n  </g>\n  <g id=\"axes_1\">\n   <g id=\"patch_2\">\n    <path d=\"M 20.5625 224.64 \nL 355.3625 224.64 \nL 355.3625 7.2 \nL 20.5625 7.2 \nz\n\" style=\"fill:#ffffff;\"/>\n   </g>\n   <g id=\"PathCollection_1\">\n    <defs>\n     <path d=\"M 0 3 \nC 0.795609 3 1.55874 2.683901 2.12132 2.12132 \nC 2.683901 1.55874 3 0.795609 3 0 \nC 3 -0.795609 2.683901 -1.55874 2.12132 -2.12132 \nC 1.55874 -2.683901 0.795609 -3 0 -3 \nC -0.795609 -3 -1.55874 -2.683901 -2.12132 -2.12132 \nC -2.683901 -1.55874 -3 -0.795609 -3 0 \nC -3 0.795609 -2.683901 1.55874 -2.12132 2.12132 \nC -1.55874 2.683901 -0.795609 3 0 3 \nz\n\" id=\"m24803afb32\" style=\"stroke:#1f77b4;\"/>\n    </defs>\n    <g clip-path=\"url(#p675cef97f6)\">\n     <use style=\"fill:#1f77b4;stroke:#1f77b4;\" x=\"37.132208\" xlink:href=\"#m24803afb32\" y=\"49.034913\"/>\n     <use style=\"fill:#1f77b4;stroke:#1f77b4;\" x=\"40.179284\" xlink:href=\"#m24803afb32\" y=\"42.637706\"/>\n     <use style=\"fill:#1f77b4;stroke:#1f77b4;\" x=\"43.226361\" xlink:href=\"#m24803afb32\" y=\"45.719831\"/>\n     <use style=\"fill:#1f77b4;stroke:#1f77b4;\" x=\"46.273438\" xlink:href=\"#m24803afb32\" y=\"47.557762\"/>\n     <use style=\"fill:#1f77b4;stroke:#1f77b4;\" x=\"49.320514\" xlink:href=\"#m24803afb32\" y=\"50.514592\"/>\n     <use style=\"fill:#1f77b4;stroke:#1f77b4;\" x=\"52.367591\" xlink:href=\"#m24803afb32\" y=\"45.454737\"/>\n     <use style=\"fill:#1f77b4;stroke:#1f77b4;\" x=\"55.414667\" xlink:href=\"#m24803afb32\" y=\"24.011757\"/>\n     <use style=\"fill:#1f77b4;stroke:#1f77b4;\" x=\"58.461744\" xlink:href=\"#m24803afb32\" y=\"48.837743\"/>\n     <use style=\"fill:#1f77b4;stroke:#1f77b4;\" x=\"61.508821\" xlink:href=\"#m24803afb32\" y=\"17.661118\"/>\n     <use style=\"fill:#1f77b4;stroke:#1f77b4;\" x=\"64.555897\" xlink:href=\"#m24803afb32\" y=\"38.869401\"/>\n     <use style=\"fill:#1f77b4;stroke:#1f77b4;\" x=\"67.602974\" xlink:href=\"#m24803afb32\" y=\"39.104639\"/>\n     <use style=\"fill:#1f77b4;stroke:#1f77b4;\" x=\"70.65005\" xlink:href=\"#m24803afb32\" y=\"50.895506\"/>\n     <use style=\"fill:#1f77b4;stroke:#1f77b4;\" x=\"73.697127\" xlink:href=\"#m24803afb32\" y=\"68.35627\"/>\n     <use style=\"fill:#1f77b4;stroke:#1f77b4;\" x=\"76.744204\" xlink:href=\"#m24803afb32\" y=\"58.949288\"/>\n     <use style=\"fill:#1f77b4;stroke:#1f77b4;\" x=\"79.79128\" xlink:href=\"#m24803afb32\" y=\"37.034923\"/>\n     <use style=\"fill:#1f77b4;stroke:#1f77b4;\" x=\"82.838357\" xlink:href=\"#m24803afb32\" y=\"62.028375\"/>\n     <use style=\"fill:#1f77b4;stroke:#1f77b4;\" x=\"85.885434\" xlink:href=\"#m24803afb32\" y=\"55.199075\"/>\n     <use style=\"fill:#1f77b4;stroke:#1f77b4;\" x=\"88.93251\" xlink:href=\"#m24803afb32\" y=\"64.094737\"/>\n     <use style=\"fill:#1f77b4;stroke:#1f77b4;\" x=\"91.979587\" xlink:href=\"#m24803afb32\" y=\"68.172549\"/>\n     <use style=\"fill:#1f77b4;stroke:#1f77b4;\" x=\"95.026663\" xlink:href=\"#m24803afb32\" y=\"82.054269\"/>\n     <use style=\"fill:#1f77b4;stroke:#1f77b4;\" x=\"98.07374\" xlink:href=\"#m24803afb32\" y=\"63.078753\"/>\n     <use style=\"fill:#1f77b4;stroke:#1f77b4;\" x=\"101.120817\" xlink:href=\"#m24803afb32\" y=\"77.623174\"/>\n     <use style=\"fill:#1f77b4;stroke:#1f77b4;\" x=\"104.167893\" xlink:href=\"#m24803afb32\" y=\"71.219408\"/>\n     <use style=\"fill:#1f77b4;stroke:#1f77b4;\" x=\"107.21497\" xlink:href=\"#m24803afb32\" y=\"79.962509\"/>\n     <use style=\"fill:#1f77b4;stroke:#1f77b4;\" x=\"110.262046\" xlink:href=\"#m24803afb32\" y=\"87.314715\"/>\n     <use style=\"fill:#1f77b4;stroke:#1f77b4;\" x=\"113.309123\" xlink:href=\"#m24803afb32\" y=\"81.804928\"/>\n     <use style=\"fill:#1f77b4;stroke:#1f77b4;\" x=\"116.3562\" xlink:href=\"#m24803afb32\" y=\"61.829642\"/>\n     <use style=\"fill:#1f77b4;stroke:#1f77b4;\" x=\"119.403276\" xlink:href=\"#m24803afb32\" y=\"66.806948\"/>\n     <use style=\"fill:#1f77b4;stroke:#1f77b4;\" x=\"122.450353\" xlink:href=\"#m24803afb32\" y=\"61.596374\"/>\n     <use style=\"fill:#1f77b4;stroke:#1f77b4;\" x=\"125.497429\" xlink:href=\"#m24803afb32\" y=\"65.548959\"/>\n     <use style=\"fill:#1f77b4;stroke:#1f77b4;\" x=\"128.544506\" xlink:href=\"#m24803afb32\" y=\"85.135837\"/>\n     <use style=\"fill:#1f77b4;stroke:#1f77b4;\" x=\"131.591583\" xlink:href=\"#m24803afb32\" y=\"82.849341\"/>\n     <use style=\"fill:#1f77b4;stroke:#1f77b4;\" x=\"134.638659\" xlink:href=\"#m24803afb32\" y=\"83.319301\"/>\n     <use style=\"fill:#1f77b4;stroke:#1f77b4;\" x=\"137.685736\" xlink:href=\"#m24803afb32\" y=\"82.736732\"/>\n     <use style=\"fill:#1f77b4;stroke:#1f77b4;\" x=\"140.732813\" xlink:href=\"#m24803afb32\" y=\"81.392288\"/>\n     <use style=\"fill:#1f77b4;stroke:#1f77b4;\" x=\"143.779889\" xlink:href=\"#m24803afb32\" y=\"94.998477\"/>\n     <use style=\"fill:#1f77b4;stroke:#1f77b4;\" x=\"146.826966\" xlink:href=\"#m24803afb32\" y=\"86.234678\"/>\n     <use style=\"fill:#1f77b4;stroke:#1f77b4;\" x=\"149.874042\" xlink:href=\"#m24803afb32\" y=\"94.946319\"/>\n     <use style=\"fill:#1f77b4;stroke:#1f77b4;\" x=\"152.921119\" xlink:href=\"#m24803afb32\" y=\"87.900874\"/>\n     <use style=\"fill:#1f77b4;stroke:#1f77b4;\" x=\"155.968196\" xlink:href=\"#m24803afb32\" y=\"108.550732\"/>\n     <use style=\"fill:#1f77b4;stroke:#1f77b4;\" x=\"159.015272\" xlink:href=\"#m24803afb32\" y=\"103.068294\"/>\n     <use style=\"fill:#1f77b4;stroke:#1f77b4;\" x=\"162.062349\" xlink:href=\"#m24803afb32\" y=\"113.909836\"/>\n     <use style=\"fill:#1f77b4;stroke:#1f77b4;\" x=\"165.109425\" xlink:href=\"#m24803afb32\" y=\"99.041481\"/>\n     <use style=\"fill:#1f77b4;stroke:#1f77b4;\" x=\"168.156502\" xlink:href=\"#m24803afb32\" y=\"107.691787\"/>\n     <use style=\"fill:#1f77b4;stroke:#1f77b4;\" x=\"171.203579\" xlink:href=\"#m24803afb32\" y=\"120.900079\"/>\n     <use style=\"fill:#1f77b4;stroke:#1f77b4;\" x=\"174.250655\" xlink:href=\"#m24803afb32\" y=\"114.918731\"/>\n     <use style=\"fill:#1f77b4;stroke:#1f77b4;\" x=\"177.297732\" xlink:href=\"#m24803afb32\" y=\"113.942245\"/>\n     <use style=\"fill:#1f77b4;stroke:#1f77b4;\" x=\"180.344808\" xlink:href=\"#m24803afb32\" y=\"115.665446\"/>\n     <use style=\"fill:#1f77b4;stroke:#1f77b4;\" x=\"183.391885\" xlink:href=\"#m24803afb32\" y=\"103.610052\"/>\n     <use style=\"fill:#1f77b4;stroke:#1f77b4;\" x=\"186.438962\" xlink:href=\"#m24803afb32\" y=\"129.600003\"/>\n     <use style=\"fill:#1f77b4;stroke:#1f77b4;\" x=\"189.486038\" xlink:href=\"#m24803afb32\" y=\"124.40388\"/>\n     <use style=\"fill:#1f77b4;stroke:#1f77b4;\" x=\"192.533115\" xlink:href=\"#m24803afb32\" y=\"125.668772\"/>\n     <use style=\"fill:#1f77b4;stroke:#1f77b4;\" x=\"195.580192\" xlink:href=\"#m24803afb32\" y=\"128.478028\"/>\n     <use style=\"fill:#1f77b4;stroke:#1f77b4;\" x=\"198.627268\" xlink:href=\"#m24803afb32\" y=\"110.206954\"/>\n     <use style=\"fill:#1f77b4;stroke:#1f77b4;\" x=\"201.674345\" xlink:href=\"#m24803afb32\" y=\"107.288745\"/>\n     <use style=\"fill:#1f77b4;stroke:#1f77b4;\" x=\"204.721421\" xlink:href=\"#m24803afb32\" y=\"133.589355\"/>\n     <use style=\"fill:#1f77b4;stroke:#1f77b4;\" x=\"207.768498\" xlink:href=\"#m24803afb32\" y=\"132.416386\"/>\n     <use style=\"fill:#1f77b4;stroke:#1f77b4;\" x=\"210.815575\" xlink:href=\"#m24803afb32\" y=\"133.904811\"/>\n     <use style=\"fill:#1f77b4;stroke:#1f77b4;\" x=\"213.862651\" xlink:href=\"#m24803afb32\" y=\"132.421313\"/>\n     <use style=\"fill:#1f77b4;stroke:#1f77b4;\" x=\"216.909728\" xlink:href=\"#m24803afb32\" y=\"137.812631\"/>\n     <use style=\"fill:#1f77b4;stroke:#1f77b4;\" x=\"219.956804\" xlink:href=\"#m24803afb32\" y=\"132.28836\"/>\n     <use style=\"fill:#1f77b4;stroke:#1f77b4;\" x=\"223.003881\" xlink:href=\"#m24803afb32\" y=\"132.278376\"/>\n     <use style=\"fill:#1f77b4;stroke:#1f77b4;\" x=\"226.050958\" xlink:href=\"#m24803afb32\" y=\"143.314605\"/>\n     <use style=\"fill:#1f77b4;stroke:#1f77b4;\" x=\"229.098034\" xlink:href=\"#m24803afb32\" y=\"140.601014\"/>\n     <use style=\"fill:#1f77b4;stroke:#1f77b4;\" x=\"232.145111\" xlink:href=\"#m24803afb32\" y=\"134.814239\"/>\n     <use style=\"fill:#1f77b4;stroke:#1f77b4;\" x=\"235.192187\" xlink:href=\"#m24803afb32\" y=\"149.027427\"/>\n     <use style=\"fill:#1f77b4;stroke:#1f77b4;\" x=\"238.239264\" xlink:href=\"#m24803afb32\" y=\"161.3541\"/>\n     <use style=\"fill:#1f77b4;stroke:#1f77b4;\" x=\"241.286341\" xlink:href=\"#m24803afb32\" y=\"159.766519\"/>\n     <use style=\"fill:#1f77b4;stroke:#1f77b4;\" x=\"244.333417\" xlink:href=\"#m24803afb32\" y=\"156.479054\"/>\n     <use style=\"fill:#1f77b4;stroke:#1f77b4;\" x=\"247.380494\" xlink:href=\"#m24803afb32\" y=\"160.740053\"/>\n     <use style=\"fill:#1f77b4;stroke:#1f77b4;\" x=\"250.427571\" xlink:href=\"#m24803afb32\" y=\"161.85767\"/>\n     <use style=\"fill:#1f77b4;stroke:#1f77b4;\" x=\"253.474647\" xlink:href=\"#m24803afb32\" y=\"149.405401\"/>\n     <use style=\"fill:#1f77b4;stroke:#1f77b4;\" x=\"256.521724\" xlink:href=\"#m24803afb32\" y=\"152.349613\"/>\n     <use style=\"fill:#1f77b4;stroke:#1f77b4;\" x=\"259.5688\" xlink:href=\"#m24803afb32\" y=\"156.97885\"/>\n     <use style=\"fill:#1f77b4;stroke:#1f77b4;\" x=\"262.615877\" xlink:href=\"#m24803afb32\" y=\"163.112137\"/>\n     <use style=\"fill:#1f77b4;stroke:#1f77b4;\" x=\"265.662954\" xlink:href=\"#m24803afb32\" y=\"151.2294\"/>\n     <use style=\"fill:#1f77b4;stroke:#1f77b4;\" x=\"268.71003\" xlink:href=\"#m24803afb32\" y=\"150.068345\"/>\n     <use style=\"fill:#1f77b4;stroke:#1f77b4;\" x=\"271.757107\" xlink:href=\"#m24803afb32\" y=\"172.853862\"/>\n     <use style=\"fill:#1f77b4;stroke:#1f77b4;\" x=\"274.804183\" xlink:href=\"#m24803afb32\" y=\"177.563268\"/>\n     <use style=\"fill:#1f77b4;stroke:#1f77b4;\" x=\"277.85126\" xlink:href=\"#m24803afb32\" y=\"177.160187\"/>\n     <use style=\"fill:#1f77b4;stroke:#1f77b4;\" x=\"280.898337\" xlink:href=\"#m24803afb32\" y=\"185.556711\"/>\n     <use style=\"fill:#1f77b4;stroke:#1f77b4;\" x=\"283.945413\" xlink:href=\"#m24803afb32\" y=\"158.046615\"/>\n     <use style=\"fill:#1f77b4;stroke:#1f77b4;\" x=\"286.99249\" xlink:href=\"#m24803afb32\" y=\"174.885809\"/>\n     <use style=\"fill:#1f77b4;stroke:#1f77b4;\" x=\"290.039566\" xlink:href=\"#m24803afb32\" y=\"177.010564\"/>\n     <use style=\"fill:#1f77b4;stroke:#1f77b4;\" x=\"293.086643\" xlink:href=\"#m24803afb32\" y=\"174.676605\"/>\n     <use style=\"fill:#1f77b4;stroke:#1f77b4;\" x=\"296.13372\" xlink:href=\"#m24803afb32\" y=\"185.78504\"/>\n     <use style=\"fill:#1f77b4;stroke:#1f77b4;\" x=\"299.180796\" xlink:href=\"#m24803afb32\" y=\"183.457948\"/>\n     <use style=\"fill:#1f77b4;stroke:#1f77b4;\" x=\"302.227873\" xlink:href=\"#m24803afb32\" y=\"159.232077\"/>\n     <use style=\"fill:#1f77b4;stroke:#1f77b4;\" x=\"305.27495\" xlink:href=\"#m24803afb32\" y=\"188.780199\"/>\n     <use style=\"fill:#1f77b4;stroke:#1f77b4;\" x=\"308.322026\" xlink:href=\"#m24803afb32\" y=\"177.809131\"/>\n     <use style=\"fill:#1f77b4;stroke:#1f77b4;\" x=\"311.369103\" xlink:href=\"#m24803afb32\" y=\"191.522067\"/>\n     <use style=\"fill:#1f77b4;stroke:#1f77b4;\" x=\"314.416179\" xlink:href=\"#m24803afb32\" y=\"191.10239\"/>\n     <use style=\"fill:#1f77b4;stroke:#1f77b4;\" x=\"317.463256\" xlink:href=\"#m24803afb32\" y=\"187.98755\"/>\n     <use style=\"fill:#1f77b4;stroke:#1f77b4;\" x=\"320.510333\" xlink:href=\"#m24803afb32\" y=\"184.747891\"/>\n     <use style=\"fill:#1f77b4;stroke:#1f77b4;\" x=\"323.557409\" xlink:href=\"#m24803afb32\" y=\"194.687545\"/>\n     <use style=\"fill:#1f77b4;stroke:#1f77b4;\" x=\"326.604486\" xlink:href=\"#m24803afb32\" y=\"196.686019\"/>\n     <use style=\"fill:#1f77b4;stroke:#1f77b4;\" x=\"329.651562\" xlink:href=\"#m24803afb32\" y=\"193.381796\"/>\n     <use style=\"fill:#1f77b4;stroke:#1f77b4;\" x=\"332.698639\" xlink:href=\"#m24803afb32\" y=\"214.178882\"/>\n     <use style=\"fill:#1f77b4;stroke:#1f77b4;\" x=\"335.745716\" xlink:href=\"#m24803afb32\" y=\"210.74691\"/>\n     <use style=\"fill:#1f77b4;stroke:#1f77b4;\" x=\"338.792792\" xlink:href=\"#m24803afb32\" y=\"200.380504\"/>\n    </g>\n   </g>\n   <g id=\"matplotlib.axis_1\">\n    <g id=\"xtick_1\">\n     <g id=\"line2d_1\">\n      <defs>\n       <path d=\"M 0 0 \nL 0 3.5 \n\" id=\"mc34a21f5d6\" style=\"stroke:#000000;stroke-width:0.8;\"/>\n      </defs>\n      <g>\n       <use style=\"stroke:#000000;stroke-width:0.8;\" x=\"37.132208\" xlink:href=\"#mc34a21f5d6\" y=\"224.64\"/>\n      </g>\n     </g>\n     <g id=\"text_1\">\n      <!-- −1.00 -->\n      <defs>\n       <path d=\"M 10.59375 35.5 \nL 73.1875 35.5 \nL 73.1875 27.203125 \nL 10.59375 27.203125 \nz\n\" id=\"DejaVuSans-8722\"/>\n       <path d=\"M 12.40625 8.296875 \nL 28.515625 8.296875 \nL 28.515625 63.921875 \nL 10.984375 60.40625 \nL 10.984375 69.390625 \nL 28.421875 72.90625 \nL 38.28125 72.90625 \nL 38.28125 8.296875 \nL 54.390625 8.296875 \nL 54.390625 0 \nL 12.40625 0 \nz\n\" id=\"DejaVuSans-49\"/>\n       <path d=\"M 10.6875 12.40625 \nL 21 12.40625 \nL 21 0 \nL 10.6875 0 \nz\n\" id=\"DejaVuSans-46\"/>\n       <path d=\"M 31.78125 66.40625 \nQ 24.171875 66.40625 20.328125 58.90625 \nQ 16.5 51.421875 16.5 36.375 \nQ 16.5 21.390625 20.328125 13.890625 \nQ 24.171875 6.390625 31.78125 6.390625 \nQ 39.453125 6.390625 43.28125 13.890625 \nQ 47.125 21.390625 47.125 36.375 \nQ 47.125 51.421875 43.28125 58.90625 \nQ 39.453125 66.40625 31.78125 66.40625 \nz\nM 31.78125 74.21875 \nQ 44.046875 74.21875 50.515625 64.515625 \nQ 56.984375 54.828125 56.984375 36.375 \nQ 56.984375 17.96875 50.515625 8.265625 \nQ 44.046875 -1.421875 31.78125 -1.421875 \nQ 19.53125 -1.421875 13.0625 8.265625 \nQ 6.59375 17.96875 6.59375 36.375 \nQ 6.59375 54.828125 13.0625 64.515625 \nQ 19.53125 74.21875 31.78125 74.21875 \nz\n\" id=\"DejaVuSans-48\"/>\n      </defs>\n      <g transform=\"translate(21.809551 239.238438)scale(0.1 -0.1)\">\n       <use xlink:href=\"#DejaVuSans-8722\"/>\n       <use x=\"83.789062\" xlink:href=\"#DejaVuSans-49\"/>\n       <use x=\"147.412109\" xlink:href=\"#DejaVuSans-46\"/>\n       <use x=\"179.199219\" xlink:href=\"#DejaVuSans-48\"/>\n       <use x=\"242.822266\" xlink:href=\"#DejaVuSans-48\"/>\n      </g>\n     </g>\n    </g>\n    <g id=\"xtick_2\">\n     <g id=\"line2d_2\">\n      <g>\n       <use style=\"stroke:#000000;stroke-width:0.8;\" x=\"74.839781\" xlink:href=\"#mc34a21f5d6\" y=\"224.64\"/>\n      </g>\n     </g>\n     <g id=\"text_2\">\n      <!-- −0.75 -->\n      <defs>\n       <path d=\"M 8.203125 72.90625 \nL 55.078125 72.90625 \nL 55.078125 68.703125 \nL 28.609375 0 \nL 18.3125 0 \nL 43.21875 64.59375 \nL 8.203125 64.59375 \nz\n\" id=\"DejaVuSans-55\"/>\n       <path d=\"M 10.796875 72.90625 \nL 49.515625 72.90625 \nL 49.515625 64.59375 \nL 19.828125 64.59375 \nL 19.828125 46.734375 \nQ 21.96875 47.46875 24.109375 47.828125 \nQ 26.265625 48.1875 28.421875 48.1875 \nQ 40.625 48.1875 47.75 41.5 \nQ 54.890625 34.8125 54.890625 23.390625 \nQ 54.890625 11.625 47.5625 5.09375 \nQ 40.234375 -1.421875 26.90625 -1.421875 \nQ 22.3125 -1.421875 17.546875 -0.640625 \nQ 12.796875 0.140625 7.71875 1.703125 \nL 7.71875 11.625 \nQ 12.109375 9.234375 16.796875 8.0625 \nQ 21.484375 6.890625 26.703125 6.890625 \nQ 35.15625 6.890625 40.078125 11.328125 \nQ 45.015625 15.765625 45.015625 23.390625 \nQ 45.015625 31 40.078125 35.4375 \nQ 35.15625 39.890625 26.703125 39.890625 \nQ 22.75 39.890625 18.8125 39.015625 \nQ 14.890625 38.140625 10.796875 36.28125 \nz\n\" id=\"DejaVuSans-53\"/>\n      </defs>\n      <g transform=\"translate(59.517125 239.238438)scale(0.1 -0.1)\">\n       <use xlink:href=\"#DejaVuSans-8722\"/>\n       <use x=\"83.789062\" xlink:href=\"#DejaVuSans-48\"/>\n       <use x=\"147.412109\" xlink:href=\"#DejaVuSans-46\"/>\n       <use x=\"179.199219\" xlink:href=\"#DejaVuSans-55\"/>\n       <use x=\"242.822266\" xlink:href=\"#DejaVuSans-53\"/>\n      </g>\n     </g>\n    </g>\n    <g id=\"xtick_3\">\n     <g id=\"line2d_3\">\n      <g>\n       <use style=\"stroke:#000000;stroke-width:0.8;\" x=\"112.547354\" xlink:href=\"#mc34a21f5d6\" y=\"224.64\"/>\n      </g>\n     </g>\n     <g id=\"text_3\">\n      <!-- −0.50 -->\n      <g transform=\"translate(97.224698 239.238438)scale(0.1 -0.1)\">\n       <use xlink:href=\"#DejaVuSans-8722\"/>\n       <use x=\"83.789062\" xlink:href=\"#DejaVuSans-48\"/>\n       <use x=\"147.412109\" xlink:href=\"#DejaVuSans-46\"/>\n       <use x=\"179.199219\" xlink:href=\"#DejaVuSans-53\"/>\n       <use x=\"242.822266\" xlink:href=\"#DejaVuSans-48\"/>\n      </g>\n     </g>\n    </g>\n    <g id=\"xtick_4\">\n     <g id=\"line2d_4\">\n      <g>\n       <use style=\"stroke:#000000;stroke-width:0.8;\" x=\"150.254927\" xlink:href=\"#mc34a21f5d6\" y=\"224.64\"/>\n      </g>\n     </g>\n     <g id=\"text_4\">\n      <!-- −0.25 -->\n      <defs>\n       <path d=\"M 19.1875 8.296875 \nL 53.609375 8.296875 \nL 53.609375 0 \nL 7.328125 0 \nL 7.328125 8.296875 \nQ 12.9375 14.109375 22.625 23.890625 \nQ 32.328125 33.6875 34.8125 36.53125 \nQ 39.546875 41.84375 41.421875 45.53125 \nQ 43.3125 49.21875 43.3125 52.78125 \nQ 43.3125 58.59375 39.234375 62.25 \nQ 35.15625 65.921875 28.609375 65.921875 \nQ 23.96875 65.921875 18.8125 64.3125 \nQ 13.671875 62.703125 7.8125 59.421875 \nL 7.8125 69.390625 \nQ 13.765625 71.78125 18.9375 73 \nQ 24.125 74.21875 28.421875 74.21875 \nQ 39.75 74.21875 46.484375 68.546875 \nQ 53.21875 62.890625 53.21875 53.421875 \nQ 53.21875 48.921875 51.53125 44.890625 \nQ 49.859375 40.875 45.40625 35.40625 \nQ 44.1875 33.984375 37.640625 27.21875 \nQ 31.109375 20.453125 19.1875 8.296875 \nz\n\" id=\"DejaVuSans-50\"/>\n      </defs>\n      <g transform=\"translate(134.932271 239.238438)scale(0.1 -0.1)\">\n       <use xlink:href=\"#DejaVuSans-8722\"/>\n       <use x=\"83.789062\" xlink:href=\"#DejaVuSans-48\"/>\n       <use x=\"147.412109\" xlink:href=\"#DejaVuSans-46\"/>\n       <use x=\"179.199219\" xlink:href=\"#DejaVuSans-50\"/>\n       <use x=\"242.822266\" xlink:href=\"#DejaVuSans-53\"/>\n      </g>\n     </g>\n    </g>\n    <g id=\"xtick_5\">\n     <g id=\"line2d_5\">\n      <g>\n       <use style=\"stroke:#000000;stroke-width:0.8;\" x=\"187.9625\" xlink:href=\"#mc34a21f5d6\" y=\"224.64\"/>\n      </g>\n     </g>\n     <g id=\"text_5\">\n      <!-- 0.00 -->\n      <g transform=\"translate(176.829688 239.238438)scale(0.1 -0.1)\">\n       <use xlink:href=\"#DejaVuSans-48\"/>\n       <use x=\"63.623047\" xlink:href=\"#DejaVuSans-46\"/>\n       <use x=\"95.410156\" xlink:href=\"#DejaVuSans-48\"/>\n       <use x=\"159.033203\" xlink:href=\"#DejaVuSans-48\"/>\n      </g>\n     </g>\n    </g>\n    <g id=\"xtick_6\">\n     <g id=\"line2d_6\">\n      <g>\n       <use style=\"stroke:#000000;stroke-width:0.8;\" x=\"225.670073\" xlink:href=\"#mc34a21f5d6\" y=\"224.64\"/>\n      </g>\n     </g>\n     <g id=\"text_6\">\n      <!-- 0.25 -->\n      <g transform=\"translate(214.537261 239.238438)scale(0.1 -0.1)\">\n       <use xlink:href=\"#DejaVuSans-48\"/>\n       <use x=\"63.623047\" xlink:href=\"#DejaVuSans-46\"/>\n       <use x=\"95.410156\" xlink:href=\"#DejaVuSans-50\"/>\n       <use x=\"159.033203\" xlink:href=\"#DejaVuSans-53\"/>\n      </g>\n     </g>\n    </g>\n    <g id=\"xtick_7\">\n     <g id=\"line2d_7\">\n      <g>\n       <use style=\"stroke:#000000;stroke-width:0.8;\" x=\"263.377646\" xlink:href=\"#mc34a21f5d6\" y=\"224.64\"/>\n      </g>\n     </g>\n     <g id=\"text_7\">\n      <!-- 0.50 -->\n      <g transform=\"translate(252.244834 239.238438)scale(0.1 -0.1)\">\n       <use xlink:href=\"#DejaVuSans-48\"/>\n       <use x=\"63.623047\" xlink:href=\"#DejaVuSans-46\"/>\n       <use x=\"95.410156\" xlink:href=\"#DejaVuSans-53\"/>\n       <use x=\"159.033203\" xlink:href=\"#DejaVuSans-48\"/>\n      </g>\n     </g>\n    </g>\n    <g id=\"xtick_8\">\n     <g id=\"line2d_8\">\n      <g>\n       <use style=\"stroke:#000000;stroke-width:0.8;\" x=\"301.085219\" xlink:href=\"#mc34a21f5d6\" y=\"224.64\"/>\n      </g>\n     </g>\n     <g id=\"text_8\">\n      <!-- 0.75 -->\n      <g transform=\"translate(289.952407 239.238438)scale(0.1 -0.1)\">\n       <use xlink:href=\"#DejaVuSans-48\"/>\n       <use x=\"63.623047\" xlink:href=\"#DejaVuSans-46\"/>\n       <use x=\"95.410156\" xlink:href=\"#DejaVuSans-55\"/>\n       <use x=\"159.033203\" xlink:href=\"#DejaVuSans-53\"/>\n      </g>\n     </g>\n    </g>\n    <g id=\"xtick_9\">\n     <g id=\"line2d_9\">\n      <g>\n       <use style=\"stroke:#000000;stroke-width:0.8;\" x=\"338.792792\" xlink:href=\"#mc34a21f5d6\" y=\"224.64\"/>\n      </g>\n     </g>\n     <g id=\"text_9\">\n      <!-- 1.00 -->\n      <g transform=\"translate(327.65998 239.238438)scale(0.1 -0.1)\">\n       <use xlink:href=\"#DejaVuSans-49\"/>\n       <use x=\"63.623047\" xlink:href=\"#DejaVuSans-46\"/>\n       <use x=\"95.410156\" xlink:href=\"#DejaVuSans-48\"/>\n       <use x=\"159.033203\" xlink:href=\"#DejaVuSans-48\"/>\n      </g>\n     </g>\n    </g>\n   </g>\n   <g id=\"matplotlib.axis_2\">\n    <g id=\"ytick_1\">\n     <g id=\"line2d_10\">\n      <defs>\n       <path d=\"M 0 0 \nL -3.5 0 \n\" id=\"m5a6e1cedfa\" style=\"stroke:#000000;stroke-width:0.8;\"/>\n      </defs>\n      <g>\n       <use style=\"stroke:#000000;stroke-width:0.8;\" x=\"20.5625\" xlink:href=\"#m5a6e1cedfa\" y=\"201.849511\"/>\n      </g>\n     </g>\n     <g id=\"text_10\">\n      <!-- 1 -->\n      <g transform=\"translate(7.2 205.64873)scale(0.1 -0.1)\">\n       <use xlink:href=\"#DejaVuSans-49\"/>\n      </g>\n     </g>\n    </g>\n    <g id=\"ytick_2\">\n     <g id=\"line2d_11\">\n      <g>\n       <use style=\"stroke:#000000;stroke-width:0.8;\" x=\"20.5625\" xlink:href=\"#m5a6e1cedfa\" y=\"159.993645\"/>\n      </g>\n     </g>\n     <g id=\"text_11\">\n      <!-- 2 -->\n      <g transform=\"translate(7.2 163.792863)scale(0.1 -0.1)\">\n       <use xlink:href=\"#DejaVuSans-50\"/>\n      </g>\n     </g>\n    </g>\n    <g id=\"ytick_3\">\n     <g id=\"line2d_12\">\n      <g>\n       <use style=\"stroke:#000000;stroke-width:0.8;\" x=\"20.5625\" xlink:href=\"#m5a6e1cedfa\" y=\"118.137778\"/>\n      </g>\n     </g>\n     <g id=\"text_12\">\n      <!-- 3 -->\n      <defs>\n       <path d=\"M 40.578125 39.3125 \nQ 47.65625 37.796875 51.625 33 \nQ 55.609375 28.21875 55.609375 21.1875 \nQ 55.609375 10.40625 48.1875 4.484375 \nQ 40.765625 -1.421875 27.09375 -1.421875 \nQ 22.515625 -1.421875 17.65625 -0.515625 \nQ 12.796875 0.390625 7.625 2.203125 \nL 7.625 11.71875 \nQ 11.71875 9.328125 16.59375 8.109375 \nQ 21.484375 6.890625 26.8125 6.890625 \nQ 36.078125 6.890625 40.9375 10.546875 \nQ 45.796875 14.203125 45.796875 21.1875 \nQ 45.796875 27.640625 41.28125 31.265625 \nQ 36.765625 34.90625 28.71875 34.90625 \nL 20.21875 34.90625 \nL 20.21875 43.015625 \nL 29.109375 43.015625 \nQ 36.375 43.015625 40.234375 45.921875 \nQ 44.09375 48.828125 44.09375 54.296875 \nQ 44.09375 59.90625 40.109375 62.90625 \nQ 36.140625 65.921875 28.71875 65.921875 \nQ 24.65625 65.921875 20.015625 65.03125 \nQ 15.375 64.15625 9.8125 62.3125 \nL 9.8125 71.09375 \nQ 15.4375 72.65625 20.34375 73.4375 \nQ 25.25 74.21875 29.59375 74.21875 \nQ 40.828125 74.21875 47.359375 69.109375 \nQ 53.90625 64.015625 53.90625 55.328125 \nQ 53.90625 49.265625 50.4375 45.09375 \nQ 46.96875 40.921875 40.578125 39.3125 \nz\n\" id=\"DejaVuSans-51\"/>\n      </defs>\n      <g transform=\"translate(7.2 121.936997)scale(0.1 -0.1)\">\n       <use xlink:href=\"#DejaVuSans-51\"/>\n      </g>\n     </g>\n    </g>\n    <g id=\"ytick_4\">\n     <g id=\"line2d_13\">\n      <g>\n       <use style=\"stroke:#000000;stroke-width:0.8;\" x=\"20.5625\" xlink:href=\"#m5a6e1cedfa\" y=\"76.281911\"/>\n      </g>\n     </g>\n     <g id=\"text_13\">\n      <!-- 4 -->\n      <defs>\n       <path d=\"M 37.796875 64.3125 \nL 12.890625 25.390625 \nL 37.796875 25.390625 \nz\nM 35.203125 72.90625 \nL 47.609375 72.90625 \nL 47.609375 25.390625 \nL 58.015625 25.390625 \nL 58.015625 17.1875 \nL 47.609375 17.1875 \nL 47.609375 0 \nL 37.796875 0 \nL 37.796875 17.1875 \nL 4.890625 17.1875 \nL 4.890625 26.703125 \nz\n\" id=\"DejaVuSans-52\"/>\n      </defs>\n      <g transform=\"translate(7.2 80.08113)scale(0.1 -0.1)\">\n       <use xlink:href=\"#DejaVuSans-52\"/>\n      </g>\n     </g>\n    </g>\n    <g id=\"ytick_5\">\n     <g id=\"line2d_14\">\n      <g>\n       <use style=\"stroke:#000000;stroke-width:0.8;\" x=\"20.5625\" xlink:href=\"#m5a6e1cedfa\" y=\"34.426045\"/>\n      </g>\n     </g>\n     <g id=\"text_14\">\n      <!-- 5 -->\n      <g transform=\"translate(7.2 38.225263)scale(0.1 -0.1)\">\n       <use xlink:href=\"#DejaVuSans-53\"/>\n      </g>\n     </g>\n    </g>\n   </g>\n   <g id=\"patch_3\">\n    <path d=\"M 20.5625 224.64 \nL 20.5625 7.2 \n\" style=\"fill:none;stroke:#000000;stroke-linecap:square;stroke-linejoin:miter;stroke-width:0.8;\"/>\n   </g>\n   <g id=\"patch_4\">\n    <path d=\"M 355.3625 224.64 \nL 355.3625 7.2 \n\" style=\"fill:none;stroke:#000000;stroke-linecap:square;stroke-linejoin:miter;stroke-width:0.8;\"/>\n   </g>\n   <g id=\"patch_5\">\n    <path d=\"M 20.5625 224.64 \nL 355.3625 224.64 \n\" style=\"fill:none;stroke:#000000;stroke-linecap:square;stroke-linejoin:miter;stroke-width:0.8;\"/>\n   </g>\n   <g id=\"patch_6\">\n    <path d=\"M 20.5625 7.2 \nL 355.3625 7.2 \n\" style=\"fill:none;stroke:#000000;stroke-linecap:square;stroke-linejoin:miter;stroke-width:0.8;\"/>\n   </g>\n  </g>\n </g>\n <defs>\n  <clipPath id=\"p675cef97f6\">\n   <rect height=\"217.44\" width=\"334.8\" x=\"20.5625\" y=\"7.2\"/>\n  </clipPath>\n </defs>\n</svg>\n",
      "text/plain": "<Figure size 432x288 with 1 Axes>"
     },
     "metadata": {
      "needs_background": "light"
     },
     "output_type": "display_data"
    }
   ],
   "source": [
    "### generate equally spaced x-values\n",
    "x = np.linspace(-1, 1, n) \n",
    "### generate y-values (we use a numpy library so we can generate a vector of numbers - y - inline)\n",
    "y = a * x + b + np.random.normal(scale=0.25, size=n)\n",
    "\n",
    "plt.scatter(x, y)"
   ]
  },
  {
   "cell_type": "markdown",
   "metadata": {},
   "source": [
    "1.3) As you may see, the samples are placed - more or less - along a single line.\n",
    "Now, our aim is to find the best parameters for a linear function \n",
    "so that such defined model describes the given data in the best possible way. For this reason, we will iteratively search the parameter space and update the model. Firstly, we need to define an error function. This function will inform how well (or bad) the instantiated model describes the data. For this reason, we use a mean square error function. <br>\n",
    "\n",
    "We define a mean square error function as:<br>\n",
    "$\\dfrac{\\sum\\left(y_i - \\widehat{y}_i \\right)^2}{n} = MSE,$\n",
    "\n",
    "where $y$ are the target (i.e., data values) and $\\widehat{y}$ are the output (i.e., model's) values. <br>\n",
    "\n",
    "See the MSE (mean square error) function given below."
   ]
  },
  {
   "cell_type": "code",
   "execution_count": 5,
   "metadata": {},
   "outputs": [],
   "source": [
    "def mse(y_target, y_calc):\n",
    "    return ((y_target - y_calc) ** 2).mean()"
   ]
  },
  {
   "cell_type": "markdown",
   "metadata": {},
   "source": [
    "1.4) Run the below code for different parameters of the model. Which paramter values give the best (i.e., minimal) MSE?"
   ]
  },
  {
   "cell_type": "code",
   "execution_count": 6,
   "metadata": {},
   "outputs": [
    {
     "name": "stdout",
     "output_type": "stream",
     "text": "MSE  =  0.052498812215302705\n"
    },
    {
     "data": {
      "text/plain": "<matplotlib.legend.Legend at 0x7f1ddc00f510>"
     },
     "execution_count": 6,
     "metadata": {},
     "output_type": "execute_result"
    },
    {
     "data": {
      "image/png": "[encoded data removed]",
      "image/svg+xml": "<?xml version=\"1.0\" encoding=\"utf-8\" standalone=\"no\"?>\n<!DOCTYPE svg PUBLIC \"-//W3C//DTD SVG 1.1//EN\"\n  \"http://www.w3.org/Graphics/SVG/1.1/DTD/svg11.dtd\">\n<!-- Created with matplotlib (https://matplotlib.org/) -->\n<svg height=\"248.518125pt\" version=\"1.1\" viewBox=\"0 0 362.5625 248.518125\" width=\"362.5625pt\" xmlns=\"http://www.w3.org/2000/svg\" xmlns:xlink=\"http://www.w3.org/1999/xlink\">\n <defs>\n  <style type=\"text/css\">\n*{stroke-linecap:butt;stroke-linejoin:round;}\n  </style>\n </defs>\n <g id=\"figure_1\">\n  <g id=\"patch_1\">\n   <path d=\"M 0 248.518125 \nL 362.5625 248.518125 \nL 362.5625 0 \nL 0 0 \nz\n\" style=\"fill:none;\"/>\n  </g>\n  <g id=\"axes_1\">\n   <g id=\"patch_2\">\n    <path d=\"M 20.5625 224.64 \nL 355.3625 224.64 \nL 355.3625 7.2 \nL 20.5625 7.2 \nz\n\" style=\"fill:#ffffff;\"/>\n   </g>\n   <g id=\"PathCollection_1\">\n    <defs>\n     <path d=\"M 0 3 \nC 0.795609 3 1.55874 2.683901 2.12132 2.12132 \nC 2.683901 1.55874 3 0.795609 3 0 \nC 3 -0.795609 2.683901 -1.55874 2.12132 -2.12132 \nC 1.55874 -2.683901 0.795609 -3 0 -3 \nC -0.795609 -3 -1.55874 -2.683901 -2.12132 -2.12132 \nC -2.683901 -1.55874 -3 -0.795609 -3 0 \nC -3 0.795609 -2.683901 1.55874 -2.12132 2.12132 \nC -1.55874 2.683901 -0.795609 3 0 3 \nz\n\" id=\"m7fa40f6022\" style=\"stroke:#1f77b4;\"/>\n    </defs>\n    <g clip-path=\"url(#p22e192df30)\">\n     <use style=\"fill:#1f77b4;stroke:#1f77b4;\" x=\"38.748533\" xlink:href=\"#m7fa40f6022\" y=\"49.034913\"/>\n     <use style=\"fill:#1f77b4;stroke:#1f77b4;\" x=\"41.762957\" xlink:href=\"#m7fa40f6022\" y=\"42.637706\"/>\n     <use style=\"fill:#1f77b4;stroke:#1f77b4;\" x=\"44.77738\" xlink:href=\"#m7fa40f6022\" y=\"45.719831\"/>\n     <use style=\"fill:#1f77b4;stroke:#1f77b4;\" x=\"47.791804\" xlink:href=\"#m7fa40f6022\" y=\"47.557762\"/>\n     <use style=\"fill:#1f77b4;stroke:#1f77b4;\" x=\"50.806228\" xlink:href=\"#m7fa40f6022\" y=\"50.514592\"/>\n     <use style=\"fill:#1f77b4;stroke:#1f77b4;\" x=\"53.820651\" xlink:href=\"#m7fa40f6022\" y=\"45.454737\"/>\n     <use style=\"fill:#1f77b4;stroke:#1f77b4;\" x=\"56.835075\" xlink:href=\"#m7fa40f6022\" y=\"24.011757\"/>\n     <use style=\"fill:#1f77b4;stroke:#1f77b4;\" x=\"59.849498\" xlink:href=\"#m7fa40f6022\" y=\"48.837743\"/>\n     <use style=\"fill:#1f77b4;stroke:#1f77b4;\" x=\"62.863922\" xlink:href=\"#m7fa40f6022\" y=\"17.661118\"/>\n     <use style=\"fill:#1f77b4;stroke:#1f77b4;\" x=\"65.878345\" xlink:href=\"#m7fa40f6022\" y=\"38.869401\"/>\n     <use style=\"fill:#1f77b4;stroke:#1f77b4;\" x=\"68.892769\" xlink:href=\"#m7fa40f6022\" y=\"39.104639\"/>\n     <use style=\"fill:#1f77b4;stroke:#1f77b4;\" x=\"71.907193\" xlink:href=\"#m7fa40f6022\" y=\"50.895506\"/>\n     <use style=\"fill:#1f77b4;stroke:#1f77b4;\" x=\"74.921616\" xlink:href=\"#m7fa40f6022\" y=\"68.35627\"/>\n     <use style=\"fill:#1f77b4;stroke:#1f77b4;\" x=\"77.93604\" xlink:href=\"#m7fa40f6022\" y=\"58.949288\"/>\n     <use style=\"fill:#1f77b4;stroke:#1f77b4;\" x=\"80.950463\" xlink:href=\"#m7fa40f6022\" y=\"37.034923\"/>\n     <use style=\"fill:#1f77b4;stroke:#1f77b4;\" x=\"83.964887\" xlink:href=\"#m7fa40f6022\" y=\"62.028375\"/>\n     <use style=\"fill:#1f77b4;stroke:#1f77b4;\" x=\"86.97931\" xlink:href=\"#m7fa40f6022\" y=\"55.199075\"/>\n     <use style=\"fill:#1f77b4;stroke:#1f77b4;\" x=\"89.993734\" xlink:href=\"#m7fa40f6022\" y=\"64.094737\"/>\n     <use style=\"fill:#1f77b4;stroke:#1f77b4;\" x=\"93.008158\" xlink:href=\"#m7fa40f6022\" y=\"68.172549\"/>\n     <use style=\"fill:#1f77b4;stroke:#1f77b4;\" x=\"96.022581\" xlink:href=\"#m7fa40f6022\" y=\"82.054269\"/>\n     <use style=\"fill:#1f77b4;stroke:#1f77b4;\" x=\"99.037005\" xlink:href=\"#m7fa40f6022\" y=\"63.078753\"/>\n     <use style=\"fill:#1f77b4;stroke:#1f77b4;\" x=\"102.051428\" xlink:href=\"#m7fa40f6022\" y=\"77.623174\"/>\n     <use style=\"fill:#1f77b4;stroke:#1f77b4;\" x=\"105.065852\" xlink:href=\"#m7fa40f6022\" y=\"71.219408\"/>\n     <use style=\"fill:#1f77b4;stroke:#1f77b4;\" x=\"108.080275\" xlink:href=\"#m7fa40f6022\" y=\"79.962509\"/>\n     <use style=\"fill:#1f77b4;stroke:#1f77b4;\" x=\"111.094699\" xlink:href=\"#m7fa40f6022\" y=\"87.314715\"/>\n     <use style=\"fill:#1f77b4;stroke:#1f77b4;\" x=\"114.109123\" xlink:href=\"#m7fa40f6022\" y=\"81.804928\"/>\n     <use style=\"fill:#1f77b4;stroke:#1f77b4;\" x=\"117.123546\" xlink:href=\"#m7fa40f6022\" y=\"61.829642\"/>\n     <use style=\"fill:#1f77b4;stroke:#1f77b4;\" x=\"120.13797\" xlink:href=\"#m7fa40f6022\" y=\"66.806948\"/>\n     <use style=\"fill:#1f77b4;stroke:#1f77b4;\" x=\"123.152393\" xlink:href=\"#m7fa40f6022\" y=\"61.596374\"/>\n     <use style=\"fill:#1f77b4;stroke:#1f77b4;\" x=\"126.166817\" xlink:href=\"#m7fa40f6022\" y=\"65.548959\"/>\n     <use style=\"fill:#1f77b4;stroke:#1f77b4;\" x=\"129.18124\" xlink:href=\"#m7fa40f6022\" y=\"85.135837\"/>\n     <use style=\"fill:#1f77b4;stroke:#1f77b4;\" x=\"132.195664\" xlink:href=\"#m7fa40f6022\" y=\"82.849341\"/>\n     <use style=\"fill:#1f77b4;stroke:#1f77b4;\" x=\"135.210088\" xlink:href=\"#m7fa40f6022\" y=\"83.319301\"/>\n     <use style=\"fill:#1f77b4;stroke:#1f77b4;\" x=\"138.224511\" xlink:href=\"#m7fa40f6022\" y=\"82.736732\"/>\n     <use style=\"fill:#1f77b4;stroke:#1f77b4;\" x=\"141.238935\" xlink:href=\"#m7fa40f6022\" y=\"81.392288\"/>\n     <use style=\"fill:#1f77b4;stroke:#1f77b4;\" x=\"144.253358\" xlink:href=\"#m7fa40f6022\" y=\"94.998477\"/>\n     <use style=\"fill:#1f77b4;stroke:#1f77b4;\" x=\"147.267782\" xlink:href=\"#m7fa40f6022\" y=\"86.234678\"/>\n     <use style=\"fill:#1f77b4;stroke:#1f77b4;\" x=\"150.282205\" xlink:href=\"#m7fa40f6022\" y=\"94.946319\"/>\n     <use style=\"fill:#1f77b4;stroke:#1f77b4;\" x=\"153.296629\" xlink:href=\"#m7fa40f6022\" y=\"87.900874\"/>\n     <use style=\"fill:#1f77b4;stroke:#1f77b4;\" x=\"156.311053\" xlink:href=\"#m7fa40f6022\" y=\"108.550732\"/>\n     <use style=\"fill:#1f77b4;stroke:#1f77b4;\" x=\"159.325476\" xlink:href=\"#m7fa40f6022\" y=\"103.068294\"/>\n     <use style=\"fill:#1f77b4;stroke:#1f77b4;\" x=\"162.3399\" xlink:href=\"#m7fa40f6022\" y=\"113.909836\"/>\n     <use style=\"fill:#1f77b4;stroke:#1f77b4;\" x=\"165.354323\" xlink:href=\"#m7fa40f6022\" y=\"99.041481\"/>\n     <use style=\"fill:#1f77b4;stroke:#1f77b4;\" x=\"168.368747\" xlink:href=\"#m7fa40f6022\" y=\"107.691787\"/>\n     <use style=\"fill:#1f77b4;stroke:#1f77b4;\" x=\"171.38317\" xlink:href=\"#m7fa40f6022\" y=\"120.900079\"/>\n     <use style=\"fill:#1f77b4;stroke:#1f77b4;\" x=\"174.397594\" xlink:href=\"#m7fa40f6022\" y=\"114.918731\"/>\n     <use style=\"fill:#1f77b4;stroke:#1f77b4;\" x=\"177.412018\" xlink:href=\"#m7fa40f6022\" y=\"113.942245\"/>\n     <use style=\"fill:#1f77b4;stroke:#1f77b4;\" x=\"180.426441\" xlink:href=\"#m7fa40f6022\" y=\"115.665446\"/>\n     <use style=\"fill:#1f77b4;stroke:#1f77b4;\" x=\"183.440865\" xlink:href=\"#m7fa40f6022\" y=\"103.610052\"/>\n     <use style=\"fill:#1f77b4;stroke:#1f77b4;\" x=\"186.455288\" xlink:href=\"#m7fa40f6022\" y=\"129.600003\"/>\n     <use style=\"fill:#1f77b4;stroke:#1f77b4;\" x=\"189.469712\" xlink:href=\"#m7fa40f6022\" y=\"124.40388\"/>\n     <use style=\"fill:#1f77b4;stroke:#1f77b4;\" x=\"192.484135\" xlink:href=\"#m7fa40f6022\" y=\"125.668772\"/>\n     <use style=\"fill:#1f77b4;stroke:#1f77b4;\" x=\"195.498559\" xlink:href=\"#m7fa40f6022\" y=\"128.478028\"/>\n     <use style=\"fill:#1f77b4;stroke:#1f77b4;\" x=\"198.512982\" xlink:href=\"#m7fa40f6022\" y=\"110.206954\"/>\n     <use style=\"fill:#1f77b4;stroke:#1f77b4;\" x=\"201.527406\" xlink:href=\"#m7fa40f6022\" y=\"107.288745\"/>\n     <use style=\"fill:#1f77b4;stroke:#1f77b4;\" x=\"204.54183\" xlink:href=\"#m7fa40f6022\" y=\"133.589355\"/>\n     <use style=\"fill:#1f77b4;stroke:#1f77b4;\" x=\"207.556253\" xlink:href=\"#m7fa40f6022\" y=\"132.416386\"/>\n     <use style=\"fill:#1f77b4;stroke:#1f77b4;\" x=\"210.570677\" xlink:href=\"#m7fa40f6022\" y=\"133.904811\"/>\n     <use style=\"fill:#1f77b4;stroke:#1f77b4;\" x=\"213.5851\" xlink:href=\"#m7fa40f6022\" y=\"132.421313\"/>\n     <use style=\"fill:#1f77b4;stroke:#1f77b4;\" x=\"216.599524\" xlink:href=\"#m7fa40f6022\" y=\"137.812631\"/>\n     <use style=\"fill:#1f77b4;stroke:#1f77b4;\" x=\"219.613947\" xlink:href=\"#m7fa40f6022\" y=\"132.28836\"/>\n     <use style=\"fill:#1f77b4;stroke:#1f77b4;\" x=\"222.628371\" xlink:href=\"#m7fa40f6022\" y=\"132.278376\"/>\n     <use style=\"fill:#1f77b4;stroke:#1f77b4;\" x=\"225.642795\" xlink:href=\"#m7fa40f6022\" y=\"143.314605\"/>\n     <use style=\"fill:#1f77b4;stroke:#1f77b4;\" x=\"228.657218\" xlink:href=\"#m7fa40f6022\" y=\"140.601014\"/>\n     <use style=\"fill:#1f77b4;stroke:#1f77b4;\" x=\"231.671642\" xlink:href=\"#m7fa40f6022\" y=\"134.814239\"/>\n     <use style=\"fill:#1f77b4;stroke:#1f77b4;\" x=\"234.686065\" xlink:href=\"#m7fa40f6022\" y=\"149.027427\"/>\n     <use style=\"fill:#1f77b4;stroke:#1f77b4;\" x=\"237.700489\" xlink:href=\"#m7fa40f6022\" y=\"161.3541\"/>\n     <use style=\"fill:#1f77b4;stroke:#1f77b4;\" x=\"240.714912\" xlink:href=\"#m7fa40f6022\" y=\"159.766519\"/>\n     <use style=\"fill:#1f77b4;stroke:#1f77b4;\" x=\"243.729336\" xlink:href=\"#m7fa40f6022\" y=\"156.479054\"/>\n     <use style=\"fill:#1f77b4;stroke:#1f77b4;\" x=\"246.74376\" xlink:href=\"#m7fa40f6022\" y=\"160.740053\"/>\n     <use style=\"fill:#1f77b4;stroke:#1f77b4;\" x=\"249.758183\" xlink:href=\"#m7fa40f6022\" y=\"161.85767\"/>\n     <use style=\"fill:#1f77b4;stroke:#1f77b4;\" x=\"252.772607\" xlink:href=\"#m7fa40f6022\" y=\"149.405401\"/>\n     <use style=\"fill:#1f77b4;stroke:#1f77b4;\" x=\"255.78703\" xlink:href=\"#m7fa40f6022\" y=\"152.349613\"/>\n     <use style=\"fill:#1f77b4;stroke:#1f77b4;\" x=\"258.801454\" xlink:href=\"#m7fa40f6022\" y=\"156.97885\"/>\n     <use style=\"fill:#1f77b4;stroke:#1f77b4;\" x=\"261.815877\" xlink:href=\"#m7fa40f6022\" y=\"163.112137\"/>\n     <use style=\"fill:#1f77b4;stroke:#1f77b4;\" x=\"264.830301\" xlink:href=\"#m7fa40f6022\" y=\"151.2294\"/>\n     <use style=\"fill:#1f77b4;stroke:#1f77b4;\" x=\"267.844725\" xlink:href=\"#m7fa40f6022\" y=\"150.068345\"/>\n     <use style=\"fill:#1f77b4;stroke:#1f77b4;\" x=\"270.859148\" xlink:href=\"#m7fa40f6022\" y=\"172.853862\"/>\n     <use style=\"fill:#1f77b4;stroke:#1f77b4;\" x=\"273.873572\" xlink:href=\"#m7fa40f6022\" y=\"177.563268\"/>\n     <use style=\"fill:#1f77b4;stroke:#1f77b4;\" x=\"276.887995\" xlink:href=\"#m7fa40f6022\" y=\"177.160187\"/>\n     <use style=\"fill:#1f77b4;stroke:#1f77b4;\" x=\"279.902419\" xlink:href=\"#m7fa40f6022\" y=\"185.556711\"/>\n     <use style=\"fill:#1f77b4;stroke:#1f77b4;\" x=\"282.916842\" xlink:href=\"#m7fa40f6022\" y=\"158.046615\"/>\n     <use style=\"fill:#1f77b4;stroke:#1f77b4;\" x=\"285.931266\" xlink:href=\"#m7fa40f6022\" y=\"174.885809\"/>\n     <use style=\"fill:#1f77b4;stroke:#1f77b4;\" x=\"288.94569\" xlink:href=\"#m7fa40f6022\" y=\"177.010564\"/>\n     <use style=\"fill:#1f77b4;stroke:#1f77b4;\" x=\"291.960113\" xlink:href=\"#m7fa40f6022\" y=\"174.676605\"/>\n     <use style=\"fill:#1f77b4;stroke:#1f77b4;\" x=\"294.974537\" xlink:href=\"#m7fa40f6022\" y=\"185.78504\"/>\n     <use style=\"fill:#1f77b4;stroke:#1f77b4;\" x=\"297.98896\" xlink:href=\"#m7fa40f6022\" y=\"183.457948\"/>\n     <use style=\"fill:#1f77b4;stroke:#1f77b4;\" x=\"301.003384\" xlink:href=\"#m7fa40f6022\" y=\"159.232077\"/>\n     <use style=\"fill:#1f77b4;stroke:#1f77b4;\" x=\"304.017807\" xlink:href=\"#m7fa40f6022\" y=\"188.780199\"/>\n     <use style=\"fill:#1f77b4;stroke:#1f77b4;\" x=\"307.032231\" xlink:href=\"#m7fa40f6022\" y=\"177.809131\"/>\n     <use style=\"fill:#1f77b4;stroke:#1f77b4;\" x=\"310.046655\" xlink:href=\"#m7fa40f6022\" y=\"191.522067\"/>\n     <use style=\"fill:#1f77b4;stroke:#1f77b4;\" x=\"313.061078\" xlink:href=\"#m7fa40f6022\" y=\"191.10239\"/>\n     <use style=\"fill:#1f77b4;stroke:#1f77b4;\" x=\"316.075502\" xlink:href=\"#m7fa40f6022\" y=\"187.98755\"/>\n     <use style=\"fill:#1f77b4;stroke:#1f77b4;\" x=\"319.089925\" xlink:href=\"#m7fa40f6022\" y=\"184.747891\"/>\n     <use style=\"fill:#1f77b4;stroke:#1f77b4;\" x=\"322.104349\" xlink:href=\"#m7fa40f6022\" y=\"194.687545\"/>\n     <use style=\"fill:#1f77b4;stroke:#1f77b4;\" x=\"325.118772\" xlink:href=\"#m7fa40f6022\" y=\"196.686019\"/>\n     <use style=\"fill:#1f77b4;stroke:#1f77b4;\" x=\"328.133196\" xlink:href=\"#m7fa40f6022\" y=\"193.381796\"/>\n     <use style=\"fill:#1f77b4;stroke:#1f77b4;\" x=\"331.14762\" xlink:href=\"#m7fa40f6022\" y=\"214.178882\"/>\n     <use style=\"fill:#1f77b4;stroke:#1f77b4;\" x=\"334.162043\" xlink:href=\"#m7fa40f6022\" y=\"210.74691\"/>\n     <use style=\"fill:#1f77b4;stroke:#1f77b4;\" x=\"337.176467\" xlink:href=\"#m7fa40f6022\" y=\"200.380504\"/>\n    </g>\n   </g>\n   <g id=\"PathCollection_2\">\n    <defs>\n     <path d=\"M 0 3 \nC 0.795609 3 1.55874 2.683901 2.12132 2.12132 \nC 2.683901 1.55874 3 0.795609 3 0 \nC 3 -0.795609 2.683901 -1.55874 2.12132 -2.12132 \nC 1.55874 -2.683901 0.795609 -3 0 -3 \nC -0.795609 -3 -1.55874 -2.683901 -2.12132 -2.12132 \nC -2.683901 -1.55874 -3 -0.795609 -3 0 \nC -3 0.795609 -2.683901 1.55874 -2.12132 2.12132 \nC -1.55874 2.683901 -0.795609 3 0 3 \nz\n\" id=\"mb7d2e332c8\" style=\"stroke:#ff7f0e;\"/>\n    </defs>\n    <g clip-path=\"url(#p22e192df30)\">\n     <use style=\"fill:#ff7f0e;stroke:#ff7f0e;\" x=\"38.748533\" xlink:href=\"#mb7d2e332c8\" y=\"34.426045\"/>\n     <use style=\"fill:#ff7f0e;stroke:#ff7f0e;\" x=\"41.762957\" xlink:href=\"#mb7d2e332c8\" y=\"36.117191\"/>\n     <use style=\"fill:#ff7f0e;stroke:#ff7f0e;\" x=\"44.77738\" xlink:href=\"#mb7d2e332c8\" y=\"37.808337\"/>\n     <use style=\"fill:#ff7f0e;stroke:#ff7f0e;\" x=\"47.791804\" xlink:href=\"#mb7d2e332c8\" y=\"39.499483\"/>\n     <use style=\"fill:#ff7f0e;stroke:#ff7f0e;\" x=\"50.806228\" xlink:href=\"#mb7d2e332c8\" y=\"41.190629\"/>\n     <use style=\"fill:#ff7f0e;stroke:#ff7f0e;\" x=\"53.820651\" xlink:href=\"#mb7d2e332c8\" y=\"42.881775\"/>\n     <use style=\"fill:#ff7f0e;stroke:#ff7f0e;\" x=\"56.835075\" xlink:href=\"#mb7d2e332c8\" y=\"44.572921\"/>\n     <use style=\"fill:#ff7f0e;stroke:#ff7f0e;\" x=\"59.849498\" xlink:href=\"#mb7d2e332c8\" y=\"46.264068\"/>\n     <use style=\"fill:#ff7f0e;stroke:#ff7f0e;\" x=\"62.863922\" xlink:href=\"#mb7d2e332c8\" y=\"47.955214\"/>\n     <use style=\"fill:#ff7f0e;stroke:#ff7f0e;\" x=\"65.878345\" xlink:href=\"#mb7d2e332c8\" y=\"49.64636\"/>\n     <use style=\"fill:#ff7f0e;stroke:#ff7f0e;\" x=\"68.892769\" xlink:href=\"#mb7d2e332c8\" y=\"51.337506\"/>\n     <use style=\"fill:#ff7f0e;stroke:#ff7f0e;\" x=\"71.907193\" xlink:href=\"#mb7d2e332c8\" y=\"53.028652\"/>\n     <use style=\"fill:#ff7f0e;stroke:#ff7f0e;\" x=\"74.921616\" xlink:href=\"#mb7d2e332c8\" y=\"54.719798\"/>\n     <use style=\"fill:#ff7f0e;stroke:#ff7f0e;\" x=\"77.93604\" xlink:href=\"#mb7d2e332c8\" y=\"56.410944\"/>\n     <use style=\"fill:#ff7f0e;stroke:#ff7f0e;\" x=\"80.950463\" xlink:href=\"#mb7d2e332c8\" y=\"58.10209\"/>\n     <use style=\"fill:#ff7f0e;stroke:#ff7f0e;\" x=\"83.964887\" xlink:href=\"#mb7d2e332c8\" y=\"59.793237\"/>\n     <use style=\"fill:#ff7f0e;stroke:#ff7f0e;\" x=\"86.97931\" xlink:href=\"#mb7d2e332c8\" y=\"61.484383\"/>\n     <use style=\"fill:#ff7f0e;stroke:#ff7f0e;\" x=\"89.993734\" xlink:href=\"#mb7d2e332c8\" y=\"63.175529\"/>\n     <use style=\"fill:#ff7f0e;stroke:#ff7f0e;\" x=\"93.008158\" xlink:href=\"#mb7d2e332c8\" y=\"64.866675\"/>\n     <use style=\"fill:#ff7f0e;stroke:#ff7f0e;\" x=\"96.022581\" xlink:href=\"#mb7d2e332c8\" y=\"66.557821\"/>\n     <use style=\"fill:#ff7f0e;stroke:#ff7f0e;\" x=\"99.037005\" xlink:href=\"#mb7d2e332c8\" y=\"68.248967\"/>\n     <use style=\"fill:#ff7f0e;stroke:#ff7f0e;\" x=\"102.051428\" xlink:href=\"#mb7d2e332c8\" y=\"69.940113\"/>\n     <use style=\"fill:#ff7f0e;stroke:#ff7f0e;\" x=\"105.065852\" xlink:href=\"#mb7d2e332c8\" y=\"71.631259\"/>\n     <use style=\"fill:#ff7f0e;stroke:#ff7f0e;\" x=\"108.080275\" xlink:href=\"#mb7d2e332c8\" y=\"73.322406\"/>\n     <use style=\"fill:#ff7f0e;stroke:#ff7f0e;\" x=\"111.094699\" xlink:href=\"#mb7d2e332c8\" y=\"75.013552\"/>\n     <use style=\"fill:#ff7f0e;stroke:#ff7f0e;\" x=\"114.109123\" xlink:href=\"#mb7d2e332c8\" y=\"76.704698\"/>\n     <use style=\"fill:#ff7f0e;stroke:#ff7f0e;\" x=\"117.123546\" xlink:href=\"#mb7d2e332c8\" y=\"78.395844\"/>\n     <use style=\"fill:#ff7f0e;stroke:#ff7f0e;\" x=\"120.13797\" xlink:href=\"#mb7d2e332c8\" y=\"80.08699\"/>\n     <use style=\"fill:#ff7f0e;stroke:#ff7f0e;\" x=\"123.152393\" xlink:href=\"#mb7d2e332c8\" y=\"81.778136\"/>\n     <use style=\"fill:#ff7f0e;stroke:#ff7f0e;\" x=\"126.166817\" xlink:href=\"#mb7d2e332c8\" y=\"83.469282\"/>\n     <use style=\"fill:#ff7f0e;stroke:#ff7f0e;\" x=\"129.18124\" xlink:href=\"#mb7d2e332c8\" y=\"85.160429\"/>\n     <use style=\"fill:#ff7f0e;stroke:#ff7f0e;\" x=\"132.195664\" xlink:href=\"#mb7d2e332c8\" y=\"86.851575\"/>\n     <use style=\"fill:#ff7f0e;stroke:#ff7f0e;\" x=\"135.210088\" xlink:href=\"#mb7d2e332c8\" y=\"88.542721\"/>\n     <use style=\"fill:#ff7f0e;stroke:#ff7f0e;\" x=\"138.224511\" xlink:href=\"#mb7d2e332c8\" y=\"90.233867\"/>\n     <use style=\"fill:#ff7f0e;stroke:#ff7f0e;\" x=\"141.238935\" xlink:href=\"#mb7d2e332c8\" y=\"91.925013\"/>\n     <use style=\"fill:#ff7f0e;stroke:#ff7f0e;\" x=\"144.253358\" xlink:href=\"#mb7d2e332c8\" y=\"93.616159\"/>\n     <use style=\"fill:#ff7f0e;stroke:#ff7f0e;\" x=\"147.267782\" xlink:href=\"#mb7d2e332c8\" y=\"95.307305\"/>\n     <use style=\"fill:#ff7f0e;stroke:#ff7f0e;\" x=\"150.282205\" xlink:href=\"#mb7d2e332c8\" y=\"96.998451\"/>\n     <use style=\"fill:#ff7f0e;stroke:#ff7f0e;\" x=\"153.296629\" xlink:href=\"#mb7d2e332c8\" y=\"98.689598\"/>\n     <use style=\"fill:#ff7f0e;stroke:#ff7f0e;\" x=\"156.311053\" xlink:href=\"#mb7d2e332c8\" y=\"100.380744\"/>\n     <use style=\"fill:#ff7f0e;stroke:#ff7f0e;\" x=\"159.325476\" xlink:href=\"#mb7d2e332c8\" y=\"102.07189\"/>\n     <use style=\"fill:#ff7f0e;stroke:#ff7f0e;\" x=\"162.3399\" xlink:href=\"#mb7d2e332c8\" y=\"103.763036\"/>\n     <use style=\"fill:#ff7f0e;stroke:#ff7f0e;\" x=\"165.354323\" xlink:href=\"#mb7d2e332c8\" y=\"105.454182\"/>\n     <use style=\"fill:#ff7f0e;stroke:#ff7f0e;\" x=\"168.368747\" xlink:href=\"#mb7d2e332c8\" y=\"107.145328\"/>\n     <use style=\"fill:#ff7f0e;stroke:#ff7f0e;\" x=\"171.38317\" xlink:href=\"#mb7d2e332c8\" y=\"108.836474\"/>\n     <use style=\"fill:#ff7f0e;stroke:#ff7f0e;\" x=\"174.397594\" xlink:href=\"#mb7d2e332c8\" y=\"110.52762\"/>\n     <use style=\"fill:#ff7f0e;stroke:#ff7f0e;\" x=\"177.412018\" xlink:href=\"#mb7d2e332c8\" y=\"112.218767\"/>\n     <use style=\"fill:#ff7f0e;stroke:#ff7f0e;\" x=\"180.426441\" xlink:href=\"#mb7d2e332c8\" y=\"113.909913\"/>\n     <use style=\"fill:#ff7f0e;stroke:#ff7f0e;\" x=\"183.440865\" xlink:href=\"#mb7d2e332c8\" y=\"115.601059\"/>\n     <use style=\"fill:#ff7f0e;stroke:#ff7f0e;\" x=\"186.455288\" xlink:href=\"#mb7d2e332c8\" y=\"117.292205\"/>\n     <use style=\"fill:#ff7f0e;stroke:#ff7f0e;\" x=\"189.469712\" xlink:href=\"#mb7d2e332c8\" y=\"118.983351\"/>\n     <use style=\"fill:#ff7f0e;stroke:#ff7f0e;\" x=\"192.484135\" xlink:href=\"#mb7d2e332c8\" y=\"120.674497\"/>\n     <use style=\"fill:#ff7f0e;stroke:#ff7f0e;\" x=\"195.498559\" xlink:href=\"#mb7d2e332c8\" y=\"122.365643\"/>\n     <use style=\"fill:#ff7f0e;stroke:#ff7f0e;\" x=\"198.512982\" xlink:href=\"#mb7d2e332c8\" y=\"124.056789\"/>\n     <use style=\"fill:#ff7f0e;stroke:#ff7f0e;\" x=\"201.527406\" xlink:href=\"#mb7d2e332c8\" y=\"125.747936\"/>\n     <use style=\"fill:#ff7f0e;stroke:#ff7f0e;\" x=\"204.54183\" xlink:href=\"#mb7d2e332c8\" y=\"127.439082\"/>\n     <use style=\"fill:#ff7f0e;stroke:#ff7f0e;\" x=\"207.556253\" xlink:href=\"#mb7d2e332c8\" y=\"129.130228\"/>\n     <use style=\"fill:#ff7f0e;stroke:#ff7f0e;\" x=\"210.570677\" xlink:href=\"#mb7d2e332c8\" y=\"130.821374\"/>\n     <use style=\"fill:#ff7f0e;stroke:#ff7f0e;\" x=\"213.5851\" xlink:href=\"#mb7d2e332c8\" y=\"132.51252\"/>\n     <use style=\"fill:#ff7f0e;stroke:#ff7f0e;\" x=\"216.599524\" xlink:href=\"#mb7d2e332c8\" y=\"134.203666\"/>\n     <use style=\"fill:#ff7f0e;stroke:#ff7f0e;\" x=\"219.613947\" xlink:href=\"#mb7d2e332c8\" y=\"135.894812\"/>\n     <use style=\"fill:#ff7f0e;stroke:#ff7f0e;\" x=\"222.628371\" xlink:href=\"#mb7d2e332c8\" y=\"137.585959\"/>\n     <use style=\"fill:#ff7f0e;stroke:#ff7f0e;\" x=\"225.642795\" xlink:href=\"#mb7d2e332c8\" y=\"139.277105\"/>\n     <use style=\"fill:#ff7f0e;stroke:#ff7f0e;\" x=\"228.657218\" xlink:href=\"#mb7d2e332c8\" y=\"140.968251\"/>\n     <use style=\"fill:#ff7f0e;stroke:#ff7f0e;\" x=\"231.671642\" xlink:href=\"#mb7d2e332c8\" y=\"142.659397\"/>\n     <use style=\"fill:#ff7f0e;stroke:#ff7f0e;\" x=\"234.686065\" xlink:href=\"#mb7d2e332c8\" y=\"144.350543\"/>\n     <use style=\"fill:#ff7f0e;stroke:#ff7f0e;\" x=\"237.700489\" xlink:href=\"#mb7d2e332c8\" y=\"146.041689\"/>\n     <use style=\"fill:#ff7f0e;stroke:#ff7f0e;\" x=\"240.714912\" xlink:href=\"#mb7d2e332c8\" y=\"147.732835\"/>\n     <use style=\"fill:#ff7f0e;stroke:#ff7f0e;\" x=\"243.729336\" xlink:href=\"#mb7d2e332c8\" y=\"149.423981\"/>\n     <use style=\"fill:#ff7f0e;stroke:#ff7f0e;\" x=\"246.74376\" xlink:href=\"#mb7d2e332c8\" y=\"151.115128\"/>\n     <use style=\"fill:#ff7f0e;stroke:#ff7f0e;\" x=\"249.758183\" xlink:href=\"#mb7d2e332c8\" y=\"152.806274\"/>\n     <use style=\"fill:#ff7f0e;stroke:#ff7f0e;\" x=\"252.772607\" xlink:href=\"#mb7d2e332c8\" y=\"154.49742\"/>\n     <use style=\"fill:#ff7f0e;stroke:#ff7f0e;\" x=\"255.78703\" xlink:href=\"#mb7d2e332c8\" y=\"156.188566\"/>\n     <use style=\"fill:#ff7f0e;stroke:#ff7f0e;\" x=\"258.801454\" xlink:href=\"#mb7d2e332c8\" y=\"157.879712\"/>\n     <use style=\"fill:#ff7f0e;stroke:#ff7f0e;\" x=\"261.815877\" xlink:href=\"#mb7d2e332c8\" y=\"159.570858\"/>\n     <use style=\"fill:#ff7f0e;stroke:#ff7f0e;\" x=\"264.830301\" xlink:href=\"#mb7d2e332c8\" y=\"161.262004\"/>\n     <use style=\"fill:#ff7f0e;stroke:#ff7f0e;\" x=\"267.844725\" xlink:href=\"#mb7d2e332c8\" y=\"162.95315\"/>\n     <use style=\"fill:#ff7f0e;stroke:#ff7f0e;\" x=\"270.859148\" xlink:href=\"#mb7d2e332c8\" y=\"164.644297\"/>\n     <use style=\"fill:#ff7f0e;stroke:#ff7f0e;\" x=\"273.873572\" xlink:href=\"#mb7d2e332c8\" y=\"166.335443\"/>\n     <use style=\"fill:#ff7f0e;stroke:#ff7f0e;\" x=\"276.887995\" xlink:href=\"#mb7d2e332c8\" y=\"168.026589\"/>\n     <use style=\"fill:#ff7f0e;stroke:#ff7f0e;\" x=\"279.902419\" xlink:href=\"#mb7d2e332c8\" y=\"169.717735\"/>\n     <use style=\"fill:#ff7f0e;stroke:#ff7f0e;\" x=\"282.916842\" xlink:href=\"#mb7d2e332c8\" y=\"171.408881\"/>\n     <use style=\"fill:#ff7f0e;stroke:#ff7f0e;\" x=\"285.931266\" xlink:href=\"#mb7d2e332c8\" y=\"173.100027\"/>\n     <use style=\"fill:#ff7f0e;stroke:#ff7f0e;\" x=\"288.94569\" xlink:href=\"#mb7d2e332c8\" y=\"174.791173\"/>\n     <use style=\"fill:#ff7f0e;stroke:#ff7f0e;\" x=\"291.960113\" xlink:href=\"#mb7d2e332c8\" y=\"176.48232\"/>\n     <use style=\"fill:#ff7f0e;stroke:#ff7f0e;\" x=\"294.974537\" xlink:href=\"#mb7d2e332c8\" y=\"178.173466\"/>\n     <use style=\"fill:#ff7f0e;stroke:#ff7f0e;\" x=\"297.98896\" xlink:href=\"#mb7d2e332c8\" y=\"179.864612\"/>\n     <use style=\"fill:#ff7f0e;stroke:#ff7f0e;\" x=\"301.003384\" xlink:href=\"#mb7d2e332c8\" y=\"181.555758\"/>\n     <use style=\"fill:#ff7f0e;stroke:#ff7f0e;\" x=\"304.017807\" xlink:href=\"#mb7d2e332c8\" y=\"183.246904\"/>\n     <use style=\"fill:#ff7f0e;stroke:#ff7f0e;\" x=\"307.032231\" xlink:href=\"#mb7d2e332c8\" y=\"184.93805\"/>\n     <use style=\"fill:#ff7f0e;stroke:#ff7f0e;\" x=\"310.046655\" xlink:href=\"#mb7d2e332c8\" y=\"186.629196\"/>\n     <use style=\"fill:#ff7f0e;stroke:#ff7f0e;\" x=\"313.061078\" xlink:href=\"#mb7d2e332c8\" y=\"188.320342\"/>\n     <use style=\"fill:#ff7f0e;stroke:#ff7f0e;\" x=\"316.075502\" xlink:href=\"#mb7d2e332c8\" y=\"190.011489\"/>\n     <use style=\"fill:#ff7f0e;stroke:#ff7f0e;\" x=\"319.089925\" xlink:href=\"#mb7d2e332c8\" y=\"191.702635\"/>\n     <use style=\"fill:#ff7f0e;stroke:#ff7f0e;\" x=\"322.104349\" xlink:href=\"#mb7d2e332c8\" y=\"193.393781\"/>\n     <use style=\"fill:#ff7f0e;stroke:#ff7f0e;\" x=\"325.118772\" xlink:href=\"#mb7d2e332c8\" y=\"195.084927\"/>\n     <use style=\"fill:#ff7f0e;stroke:#ff7f0e;\" x=\"328.133196\" xlink:href=\"#mb7d2e332c8\" y=\"196.776073\"/>\n     <use style=\"fill:#ff7f0e;stroke:#ff7f0e;\" x=\"331.14762\" xlink:href=\"#mb7d2e332c8\" y=\"198.467219\"/>\n     <use style=\"fill:#ff7f0e;stroke:#ff7f0e;\" x=\"334.162043\" xlink:href=\"#mb7d2e332c8\" y=\"200.158365\"/>\n     <use style=\"fill:#ff7f0e;stroke:#ff7f0e;\" x=\"337.176467\" xlink:href=\"#mb7d2e332c8\" y=\"201.849511\"/>\n    </g>\n   </g>\n   <g id=\"matplotlib.axis_1\">\n    <g id=\"xtick_1\">\n     <g id=\"line2d_1\">\n      <defs>\n       <path d=\"M 0 0 \nL 0 3.5 \n\" id=\"m54ce06286c\" style=\"stroke:#000000;stroke-width:0.8;\"/>\n      </defs>\n      <g>\n       <use style=\"stroke:#000000;stroke-width:0.8;\" x=\"38.748533\" xlink:href=\"#m54ce06286c\" y=\"224.64\"/>\n      </g>\n     </g>\n     <g id=\"text_1\">\n      <!-- −1.00 -->\n      <defs>\n       <path d=\"M 10.59375 35.5 \nL 73.1875 35.5 \nL 73.1875 27.203125 \nL 10.59375 27.203125 \nz\n\" id=\"DejaVuSans-8722\"/>\n       <path d=\"M 12.40625 8.296875 \nL 28.515625 8.296875 \nL 28.515625 63.921875 \nL 10.984375 60.40625 \nL 10.984375 69.390625 \nL 28.421875 72.90625 \nL 38.28125 72.90625 \nL 38.28125 8.296875 \nL 54.390625 8.296875 \nL 54.390625 0 \nL 12.40625 0 \nz\n\" id=\"DejaVuSans-49\"/>\n       <path d=\"M 10.6875 12.40625 \nL 21 12.40625 \nL 21 0 \nL 10.6875 0 \nz\n\" id=\"DejaVuSans-46\"/>\n       <path d=\"M 31.78125 66.40625 \nQ 24.171875 66.40625 20.328125 58.90625 \nQ 16.5 51.421875 16.5 36.375 \nQ 16.5 21.390625 20.328125 13.890625 \nQ 24.171875 6.390625 31.78125 6.390625 \nQ 39.453125 6.390625 43.28125 13.890625 \nQ 47.125 21.390625 47.125 36.375 \nQ 47.125 51.421875 43.28125 58.90625 \nQ 39.453125 66.40625 31.78125 66.40625 \nz\nM 31.78125 74.21875 \nQ 44.046875 74.21875 50.515625 64.515625 \nQ 56.984375 54.828125 56.984375 36.375 \nQ 56.984375 17.96875 50.515625 8.265625 \nQ 44.046875 -1.421875 31.78125 -1.421875 \nQ 19.53125 -1.421875 13.0625 8.265625 \nQ 6.59375 17.96875 6.59375 36.375 \nQ 6.59375 54.828125 13.0625 64.515625 \nQ 19.53125 74.21875 31.78125 74.21875 \nz\n\" id=\"DejaVuSans-48\"/>\n      </defs>\n      <g transform=\"translate(23.425877 239.238438)scale(0.1 -0.1)\">\n       <use xlink:href=\"#DejaVuSans-8722\"/>\n       <use x=\"83.789062\" xlink:href=\"#DejaVuSans-49\"/>\n       <use x=\"147.412109\" xlink:href=\"#DejaVuSans-46\"/>\n       <use x=\"179.199219\" xlink:href=\"#DejaVuSans-48\"/>\n       <use x=\"242.822266\" xlink:href=\"#DejaVuSans-48\"/>\n      </g>\n     </g>\n    </g>\n    <g id=\"xtick_2\">\n     <g id=\"line2d_2\">\n      <g>\n       <use style=\"stroke:#000000;stroke-width:0.8;\" x=\"76.052025\" xlink:href=\"#m54ce06286c\" y=\"224.64\"/>\n      </g>\n     </g>\n     <g id=\"text_2\">\n      <!-- −0.75 -->\n      <defs>\n       <path d=\"M 8.203125 72.90625 \nL 55.078125 72.90625 \nL 55.078125 68.703125 \nL 28.609375 0 \nL 18.3125 0 \nL 43.21875 64.59375 \nL 8.203125 64.59375 \nz\n\" id=\"DejaVuSans-55\"/>\n       <path d=\"M 10.796875 72.90625 \nL 49.515625 72.90625 \nL 49.515625 64.59375 \nL 19.828125 64.59375 \nL 19.828125 46.734375 \nQ 21.96875 47.46875 24.109375 47.828125 \nQ 26.265625 48.1875 28.421875 48.1875 \nQ 40.625 48.1875 47.75 41.5 \nQ 54.890625 34.8125 54.890625 23.390625 \nQ 54.890625 11.625 47.5625 5.09375 \nQ 40.234375 -1.421875 26.90625 -1.421875 \nQ 22.3125 -1.421875 17.546875 -0.640625 \nQ 12.796875 0.140625 7.71875 1.703125 \nL 7.71875 11.625 \nQ 12.109375 9.234375 16.796875 8.0625 \nQ 21.484375 6.890625 26.703125 6.890625 \nQ 35.15625 6.890625 40.078125 11.328125 \nQ 45.015625 15.765625 45.015625 23.390625 \nQ 45.015625 31 40.078125 35.4375 \nQ 35.15625 39.890625 26.703125 39.890625 \nQ 22.75 39.890625 18.8125 39.015625 \nQ 14.890625 38.140625 10.796875 36.28125 \nz\n\" id=\"DejaVuSans-53\"/>\n      </defs>\n      <g transform=\"translate(60.729369 239.238438)scale(0.1 -0.1)\">\n       <use xlink:href=\"#DejaVuSans-8722\"/>\n       <use x=\"83.789062\" xlink:href=\"#DejaVuSans-48\"/>\n       <use x=\"147.412109\" xlink:href=\"#DejaVuSans-46\"/>\n       <use x=\"179.199219\" xlink:href=\"#DejaVuSans-55\"/>\n       <use x=\"242.822266\" xlink:href=\"#DejaVuSans-53\"/>\n      </g>\n     </g>\n    </g>\n    <g id=\"xtick_3\">\n     <g id=\"line2d_3\">\n      <g>\n       <use style=\"stroke:#000000;stroke-width:0.8;\" x=\"113.355517\" xlink:href=\"#m54ce06286c\" y=\"224.64\"/>\n      </g>\n     </g>\n     <g id=\"text_3\">\n      <!-- −0.50 -->\n      <g transform=\"translate(98.03286 239.238438)scale(0.1 -0.1)\">\n       <use xlink:href=\"#DejaVuSans-8722\"/>\n       <use x=\"83.789062\" xlink:href=\"#DejaVuSans-48\"/>\n       <use x=\"147.412109\" xlink:href=\"#DejaVuSans-46\"/>\n       <use x=\"179.199219\" xlink:href=\"#DejaVuSans-53\"/>\n       <use x=\"242.822266\" xlink:href=\"#DejaVuSans-48\"/>\n      </g>\n     </g>\n    </g>\n    <g id=\"xtick_4\">\n     <g id=\"line2d_4\">\n      <g>\n       <use style=\"stroke:#000000;stroke-width:0.8;\" x=\"150.659008\" xlink:href=\"#m54ce06286c\" y=\"224.64\"/>\n      </g>\n     </g>\n     <g id=\"text_4\">\n      <!-- −0.25 -->\n      <defs>\n       <path d=\"M 19.1875 8.296875 \nL 53.609375 8.296875 \nL 53.609375 0 \nL 7.328125 0 \nL 7.328125 8.296875 \nQ 12.9375 14.109375 22.625 23.890625 \nQ 32.328125 33.6875 34.8125 36.53125 \nQ 39.546875 41.84375 41.421875 45.53125 \nQ 43.3125 49.21875 43.3125 52.78125 \nQ 43.3125 58.59375 39.234375 62.25 \nQ 35.15625 65.921875 28.609375 65.921875 \nQ 23.96875 65.921875 18.8125 64.3125 \nQ 13.671875 62.703125 7.8125 59.421875 \nL 7.8125 69.390625 \nQ 13.765625 71.78125 18.9375 73 \nQ 24.125 74.21875 28.421875 74.21875 \nQ 39.75 74.21875 46.484375 68.546875 \nQ 53.21875 62.890625 53.21875 53.421875 \nQ 53.21875 48.921875 51.53125 44.890625 \nQ 49.859375 40.875 45.40625 35.40625 \nQ 44.1875 33.984375 37.640625 27.21875 \nQ 31.109375 20.453125 19.1875 8.296875 \nz\n\" id=\"DejaVuSans-50\"/>\n      </defs>\n      <g transform=\"translate(135.336352 239.238438)scale(0.1 -0.1)\">\n       <use xlink:href=\"#DejaVuSans-8722\"/>\n       <use x=\"83.789062\" xlink:href=\"#DejaVuSans-48\"/>\n       <use x=\"147.412109\" xlink:href=\"#DejaVuSans-46\"/>\n       <use x=\"179.199219\" xlink:href=\"#DejaVuSans-50\"/>\n       <use x=\"242.822266\" xlink:href=\"#DejaVuSans-53\"/>\n      </g>\n     </g>\n    </g>\n    <g id=\"xtick_5\">\n     <g id=\"line2d_5\">\n      <g>\n       <use style=\"stroke:#000000;stroke-width:0.8;\" x=\"187.9625\" xlink:href=\"#m54ce06286c\" y=\"224.64\"/>\n      </g>\n     </g>\n     <g id=\"text_5\">\n      <!-- 0.00 -->\n      <g transform=\"translate(176.829688 239.238438)scale(0.1 -0.1)\">\n       <use xlink:href=\"#DejaVuSans-48\"/>\n       <use x=\"63.623047\" xlink:href=\"#DejaVuSans-46\"/>\n       <use x=\"95.410156\" xlink:href=\"#DejaVuSans-48\"/>\n       <use x=\"159.033203\" xlink:href=\"#DejaVuSans-48\"/>\n      </g>\n     </g>\n    </g>\n    <g id=\"xtick_6\">\n     <g id=\"line2d_6\">\n      <g>\n       <use style=\"stroke:#000000;stroke-width:0.8;\" x=\"225.265992\" xlink:href=\"#m54ce06286c\" y=\"224.64\"/>\n      </g>\n     </g>\n     <g id=\"text_6\">\n      <!-- 0.25 -->\n      <g transform=\"translate(214.133179 239.238438)scale(0.1 -0.1)\">\n       <use xlink:href=\"#DejaVuSans-48\"/>\n       <use x=\"63.623047\" xlink:href=\"#DejaVuSans-46\"/>\n       <use x=\"95.410156\" xlink:href=\"#DejaVuSans-50\"/>\n       <use x=\"159.033203\" xlink:href=\"#DejaVuSans-53\"/>\n      </g>\n     </g>\n    </g>\n    <g id=\"xtick_7\">\n     <g id=\"line2d_7\">\n      <g>\n       <use style=\"stroke:#000000;stroke-width:0.8;\" x=\"262.569483\" xlink:href=\"#m54ce06286c\" y=\"224.64\"/>\n      </g>\n     </g>\n     <g id=\"text_7\">\n      <!-- 0.50 -->\n      <g transform=\"translate(251.436671 239.238438)scale(0.1 -0.1)\">\n       <use xlink:href=\"#DejaVuSans-48\"/>\n       <use x=\"63.623047\" xlink:href=\"#DejaVuSans-46\"/>\n       <use x=\"95.410156\" xlink:href=\"#DejaVuSans-53\"/>\n       <use x=\"159.033203\" xlink:href=\"#DejaVuSans-48\"/>\n      </g>\n     </g>\n    </g>\n    <g id=\"xtick_8\">\n     <g id=\"line2d_8\">\n      <g>\n       <use style=\"stroke:#000000;stroke-width:0.8;\" x=\"299.872975\" xlink:href=\"#m54ce06286c\" y=\"224.64\"/>\n      </g>\n     </g>\n     <g id=\"text_8\">\n      <!-- 0.75 -->\n      <g transform=\"translate(288.740163 239.238438)scale(0.1 -0.1)\">\n       <use xlink:href=\"#DejaVuSans-48\"/>\n       <use x=\"63.623047\" xlink:href=\"#DejaVuSans-46\"/>\n       <use x=\"95.410156\" xlink:href=\"#DejaVuSans-55\"/>\n       <use x=\"159.033203\" xlink:href=\"#DejaVuSans-53\"/>\n      </g>\n     </g>\n    </g>\n    <g id=\"xtick_9\">\n     <g id=\"line2d_9\">\n      <g>\n       <use style=\"stroke:#000000;stroke-width:0.8;\" x=\"337.176467\" xlink:href=\"#m54ce06286c\" y=\"224.64\"/>\n      </g>\n     </g>\n     <g id=\"text_9\">\n      <!-- 1.00 -->\n      <g transform=\"translate(326.043654 239.238438)scale(0.1 -0.1)\">\n       <use xlink:href=\"#DejaVuSans-49\"/>\n       <use x=\"63.623047\" xlink:href=\"#DejaVuSans-46\"/>\n       <use x=\"95.410156\" xlink:href=\"#DejaVuSans-48\"/>\n       <use x=\"159.033203\" xlink:href=\"#DejaVuSans-48\"/>\n      </g>\n     </g>\n    </g>\n   </g>\n   <g id=\"matplotlib.axis_2\">\n    <g id=\"ytick_1\">\n     <g id=\"line2d_10\">\n      <defs>\n       <path d=\"M 0 0 \nL -3.5 0 \n\" id=\"mee90832c80\" style=\"stroke:#000000;stroke-width:0.8;\"/>\n      </defs>\n      <g>\n       <use style=\"stroke:#000000;stroke-width:0.8;\" x=\"20.5625\" xlink:href=\"#mee90832c80\" y=\"201.849511\"/>\n      </g>\n     </g>\n     <g id=\"text_10\">\n      <!-- 1 -->\n      <g transform=\"translate(7.2 205.64873)scale(0.1 -0.1)\">\n       <use xlink:href=\"#DejaVuSans-49\"/>\n      </g>\n     </g>\n    </g>\n    <g id=\"ytick_2\">\n     <g id=\"line2d_11\">\n      <g>\n       <use style=\"stroke:#000000;stroke-width:0.8;\" x=\"20.5625\" xlink:href=\"#mee90832c80\" y=\"159.993645\"/>\n      </g>\n     </g>\n     <g id=\"text_11\">\n      <!-- 2 -->\n      <g transform=\"translate(7.2 163.792863)scale(0.1 -0.1)\">\n       <use xlink:href=\"#DejaVuSans-50\"/>\n      </g>\n     </g>\n    </g>\n    <g id=\"ytick_3\">\n     <g id=\"line2d_12\">\n      <g>\n       <use style=\"stroke:#000000;stroke-width:0.8;\" x=\"20.5625\" xlink:href=\"#mee90832c80\" y=\"118.137778\"/>\n      </g>\n     </g>\n     <g id=\"text_12\">\n      <!-- 3 -->\n      <defs>\n       <path d=\"M 40.578125 39.3125 \nQ 47.65625 37.796875 51.625 33 \nQ 55.609375 28.21875 55.609375 21.1875 \nQ 55.609375 10.40625 48.1875 4.484375 \nQ 40.765625 -1.421875 27.09375 -1.421875 \nQ 22.515625 -1.421875 17.65625 -0.515625 \nQ 12.796875 0.390625 7.625 2.203125 \nL 7.625 11.71875 \nQ 11.71875 9.328125 16.59375 8.109375 \nQ 21.484375 6.890625 26.8125 6.890625 \nQ 36.078125 6.890625 40.9375 10.546875 \nQ 45.796875 14.203125 45.796875 21.1875 \nQ 45.796875 27.640625 41.28125 31.265625 \nQ 36.765625 34.90625 28.71875 34.90625 \nL 20.21875 34.90625 \nL 20.21875 43.015625 \nL 29.109375 43.015625 \nQ 36.375 43.015625 40.234375 45.921875 \nQ 44.09375 48.828125 44.09375 54.296875 \nQ 44.09375 59.90625 40.109375 62.90625 \nQ 36.140625 65.921875 28.71875 65.921875 \nQ 24.65625 65.921875 20.015625 65.03125 \nQ 15.375 64.15625 9.8125 62.3125 \nL 9.8125 71.09375 \nQ 15.4375 72.65625 20.34375 73.4375 \nQ 25.25 74.21875 29.59375 74.21875 \nQ 40.828125 74.21875 47.359375 69.109375 \nQ 53.90625 64.015625 53.90625 55.328125 \nQ 53.90625 49.265625 50.4375 45.09375 \nQ 46.96875 40.921875 40.578125 39.3125 \nz\n\" id=\"DejaVuSans-51\"/>\n      </defs>\n      <g transform=\"translate(7.2 121.936997)scale(0.1 -0.1)\">\n       <use xlink:href=\"#DejaVuSans-51\"/>\n      </g>\n     </g>\n    </g>\n    <g id=\"ytick_4\">\n     <g id=\"line2d_13\">\n      <g>\n       <use style=\"stroke:#000000;stroke-width:0.8;\" x=\"20.5625\" xlink:href=\"#mee90832c80\" y=\"76.281911\"/>\n      </g>\n     </g>\n     <g id=\"text_13\">\n      <!-- 4 -->\n      <defs>\n       <path d=\"M 37.796875 64.3125 \nL 12.890625 25.390625 \nL 37.796875 25.390625 \nz\nM 35.203125 72.90625 \nL 47.609375 72.90625 \nL 47.609375 25.390625 \nL 58.015625 25.390625 \nL 58.015625 17.1875 \nL 47.609375 17.1875 \nL 47.609375 0 \nL 37.796875 0 \nL 37.796875 17.1875 \nL 4.890625 17.1875 \nL 4.890625 26.703125 \nz\n\" id=\"DejaVuSans-52\"/>\n      </defs>\n      <g transform=\"translate(7.2 80.08113)scale(0.1 -0.1)\">\n       <use xlink:href=\"#DejaVuSans-52\"/>\n      </g>\n     </g>\n    </g>\n    <g id=\"ytick_5\">\n     <g id=\"line2d_14\">\n      <g>\n       <use style=\"stroke:#000000;stroke-width:0.8;\" x=\"20.5625\" xlink:href=\"#mee90832c80\" y=\"34.426045\"/>\n      </g>\n     </g>\n     <g id=\"text_14\">\n      <!-- 5 -->\n      <g transform=\"translate(7.2 38.225263)scale(0.1 -0.1)\">\n       <use xlink:href=\"#DejaVuSans-53\"/>\n      </g>\n     </g>\n    </g>\n   </g>\n   <g id=\"patch_3\">\n    <path d=\"M 20.5625 224.64 \nL 20.5625 7.2 \n\" style=\"fill:none;stroke:#000000;stroke-linecap:square;stroke-linejoin:miter;stroke-width:0.8;\"/>\n   </g>\n   <g id=\"patch_4\">\n    <path d=\"M 355.3625 224.64 \nL 355.3625 7.2 \n\" style=\"fill:none;stroke:#000000;stroke-linecap:square;stroke-linejoin:miter;stroke-width:0.8;\"/>\n   </g>\n   <g id=\"patch_5\">\n    <path d=\"M 20.5625 224.64 \nL 355.3625 224.64 \n\" style=\"fill:none;stroke:#000000;stroke-linecap:square;stroke-linejoin:miter;stroke-width:0.8;\"/>\n   </g>\n   <g id=\"patch_6\">\n    <path d=\"M 20.5625 7.2 \nL 355.3625 7.2 \n\" style=\"fill:none;stroke:#000000;stroke-linecap:square;stroke-linejoin:miter;stroke-width:0.8;\"/>\n   </g>\n   <g id=\"legend_1\">\n    <g id=\"patch_7\">\n     <path d=\"M 264.79375 44.55625 \nL 348.3625 44.55625 \nQ 350.3625 44.55625 350.3625 42.55625 \nL 350.3625 14.2 \nQ 350.3625 12.2 348.3625 12.2 \nL 264.79375 12.2 \nQ 262.79375 12.2 262.79375 14.2 \nL 262.79375 42.55625 \nQ 262.79375 44.55625 264.79375 44.55625 \nz\n\" style=\"fill:#ffffff;opacity:0.8;stroke:#cccccc;stroke-linejoin:miter;\"/>\n    </g>\n    <g id=\"PathCollection_3\">\n     <g>\n      <use style=\"fill:#1f77b4;stroke:#1f77b4;\" x=\"276.79375\" xlink:href=\"#m7fa40f6022\" y=\"21.173437\"/>\n     </g>\n    </g>\n    <g id=\"text_15\">\n     <!-- target -->\n     <defs>\n      <path d=\"M 18.3125 70.21875 \nL 18.3125 54.6875 \nL 36.8125 54.6875 \nL 36.8125 47.703125 \nL 18.3125 47.703125 \nL 18.3125 18.015625 \nQ 18.3125 11.328125 20.140625 9.421875 \nQ 21.96875 7.515625 27.59375 7.515625 \nL 36.8125 7.515625 \nL 36.8125 0 \nL 27.59375 0 \nQ 17.1875 0 13.234375 3.875 \nQ 9.28125 7.765625 9.28125 18.015625 \nL 9.28125 47.703125 \nL 2.6875 47.703125 \nL 2.6875 54.6875 \nL 9.28125 54.6875 \nL 9.28125 70.21875 \nz\n\" id=\"DejaVuSans-116\"/>\n      <path d=\"M 34.28125 27.484375 \nQ 23.390625 27.484375 19.1875 25 \nQ 14.984375 22.515625 14.984375 16.5 \nQ 14.984375 11.71875 18.140625 8.90625 \nQ 21.296875 6.109375 26.703125 6.109375 \nQ 34.1875 6.109375 38.703125 11.40625 \nQ 43.21875 16.703125 43.21875 25.484375 \nL 43.21875 27.484375 \nz\nM 52.203125 31.203125 \nL 52.203125 0 \nL 43.21875 0 \nL 43.21875 8.296875 \nQ 40.140625 3.328125 35.546875 0.953125 \nQ 30.953125 -1.421875 24.3125 -1.421875 \nQ 15.921875 -1.421875 10.953125 3.296875 \nQ 6 8.015625 6 15.921875 \nQ 6 25.140625 12.171875 29.828125 \nQ 18.359375 34.515625 30.609375 34.515625 \nL 43.21875 34.515625 \nL 43.21875 35.40625 \nQ 43.21875 41.609375 39.140625 45 \nQ 35.0625 48.390625 27.6875 48.390625 \nQ 23 48.390625 18.546875 47.265625 \nQ 14.109375 46.140625 10.015625 43.890625 \nL 10.015625 52.203125 \nQ 14.9375 54.109375 19.578125 55.046875 \nQ 24.21875 56 28.609375 56 \nQ 40.484375 56 46.34375 49.84375 \nQ 52.203125 43.703125 52.203125 31.203125 \nz\n\" id=\"DejaVuSans-97\"/>\n      <path d=\"M 41.109375 46.296875 \nQ 39.59375 47.171875 37.8125 47.578125 \nQ 36.03125 48 33.890625 48 \nQ 26.265625 48 22.1875 43.046875 \nQ 18.109375 38.09375 18.109375 28.8125 \nL 18.109375 0 \nL 9.078125 0 \nL 9.078125 54.6875 \nL 18.109375 54.6875 \nL 18.109375 46.1875 \nQ 20.953125 51.171875 25.484375 53.578125 \nQ 30.03125 56 36.53125 56 \nQ 37.453125 56 38.578125 55.875 \nQ 39.703125 55.765625 41.0625 55.515625 \nz\n\" id=\"DejaVuSans-114\"/>\n      <path d=\"M 45.40625 27.984375 \nQ 45.40625 37.75 41.375 43.109375 \nQ 37.359375 48.484375 30.078125 48.484375 \nQ 22.859375 48.484375 18.828125 43.109375 \nQ 14.796875 37.75 14.796875 27.984375 \nQ 14.796875 18.265625 18.828125 12.890625 \nQ 22.859375 7.515625 30.078125 7.515625 \nQ 37.359375 7.515625 41.375 12.890625 \nQ 45.40625 18.265625 45.40625 27.984375 \nz\nM 54.390625 6.78125 \nQ 54.390625 -7.171875 48.1875 -13.984375 \nQ 42 -20.796875 29.203125 -20.796875 \nQ 24.46875 -20.796875 20.265625 -20.09375 \nQ 16.0625 -19.390625 12.109375 -17.921875 \nL 12.109375 -9.1875 \nQ 16.0625 -11.328125 19.921875 -12.34375 \nQ 23.78125 -13.375 27.78125 -13.375 \nQ 36.625 -13.375 41.015625 -8.765625 \nQ 45.40625 -4.15625 45.40625 5.171875 \nL 45.40625 9.625 \nQ 42.625 4.78125 38.28125 2.390625 \nQ 33.9375 0 27.875 0 \nQ 17.828125 0 11.671875 7.65625 \nQ 5.515625 15.328125 5.515625 27.984375 \nQ 5.515625 40.671875 11.671875 48.328125 \nQ 17.828125 56 27.875 56 \nQ 33.9375 56 38.28125 53.609375 \nQ 42.625 51.21875 45.40625 46.390625 \nL 45.40625 54.6875 \nL 54.390625 54.6875 \nz\n\" id=\"DejaVuSans-103\"/>\n      <path d=\"M 56.203125 29.59375 \nL 56.203125 25.203125 \nL 14.890625 25.203125 \nQ 15.484375 15.921875 20.484375 11.0625 \nQ 25.484375 6.203125 34.421875 6.203125 \nQ 39.59375 6.203125 44.453125 7.46875 \nQ 49.3125 8.734375 54.109375 11.28125 \nL 54.109375 2.78125 \nQ 49.265625 0.734375 44.1875 -0.34375 \nQ 39.109375 -1.421875 33.890625 -1.421875 \nQ 20.796875 -1.421875 13.15625 6.1875 \nQ 5.515625 13.8125 5.515625 26.8125 \nQ 5.515625 40.234375 12.765625 48.109375 \nQ 20.015625 56 32.328125 56 \nQ 43.359375 56 49.78125 48.890625 \nQ 56.203125 41.796875 56.203125 29.59375 \nz\nM 47.21875 32.234375 \nQ 47.125 39.59375 43.09375 43.984375 \nQ 39.0625 48.390625 32.421875 48.390625 \nQ 24.90625 48.390625 20.390625 44.140625 \nQ 15.875 39.890625 15.1875 32.171875 \nz\n\" id=\"DejaVuSans-101\"/>\n     </defs>\n     <g transform=\"translate(294.79375 23.798437)scale(0.1 -0.1)\">\n      <use xlink:href=\"#DejaVuSans-116\"/>\n      <use x=\"39.208984\" xlink:href=\"#DejaVuSans-97\"/>\n      <use x=\"100.488281\" xlink:href=\"#DejaVuSans-114\"/>\n      <use x=\"141.585938\" xlink:href=\"#DejaVuSans-103\"/>\n      <use x=\"205.0625\" xlink:href=\"#DejaVuSans-101\"/>\n      <use x=\"266.585938\" xlink:href=\"#DejaVuSans-116\"/>\n     </g>\n    </g>\n    <g id=\"PathCollection_4\">\n     <g>\n      <use style=\"fill:#ff7f0e;stroke:#ff7f0e;\" x=\"276.79375\" xlink:href=\"#mb7d2e332c8\" y=\"35.851562\"/>\n     </g>\n    </g>\n    <g id=\"text_16\">\n     <!-- calculated -->\n     <defs>\n      <path d=\"M 48.78125 52.59375 \nL 48.78125 44.1875 \nQ 44.96875 46.296875 41.140625 47.34375 \nQ 37.3125 48.390625 33.40625 48.390625 \nQ 24.65625 48.390625 19.8125 42.84375 \nQ 14.984375 37.3125 14.984375 27.296875 \nQ 14.984375 17.28125 19.8125 11.734375 \nQ 24.65625 6.203125 33.40625 6.203125 \nQ 37.3125 6.203125 41.140625 7.25 \nQ 44.96875 8.296875 48.78125 10.40625 \nL 48.78125 2.09375 \nQ 45.015625 0.34375 40.984375 -0.53125 \nQ 36.96875 -1.421875 32.421875 -1.421875 \nQ 20.0625 -1.421875 12.78125 6.34375 \nQ 5.515625 14.109375 5.515625 27.296875 \nQ 5.515625 40.671875 12.859375 48.328125 \nQ 20.21875 56 33.015625 56 \nQ 37.15625 56 41.109375 55.140625 \nQ 45.0625 54.296875 48.78125 52.59375 \nz\n\" id=\"DejaVuSans-99\"/>\n      <path d=\"M 9.421875 75.984375 \nL 18.40625 75.984375 \nL 18.40625 0 \nL 9.421875 0 \nz\n\" id=\"DejaVuSans-108\"/>\n      <path d=\"M 8.5 21.578125 \nL 8.5 54.6875 \nL 17.484375 54.6875 \nL 17.484375 21.921875 \nQ 17.484375 14.15625 20.5 10.265625 \nQ 23.53125 6.390625 29.59375 6.390625 \nQ 36.859375 6.390625 41.078125 11.03125 \nQ 45.3125 15.671875 45.3125 23.6875 \nL 45.3125 54.6875 \nL 54.296875 54.6875 \nL 54.296875 0 \nL 45.3125 0 \nL 45.3125 8.40625 \nQ 42.046875 3.421875 37.71875 1 \nQ 33.40625 -1.421875 27.6875 -1.421875 \nQ 18.265625 -1.421875 13.375 4.4375 \nQ 8.5 10.296875 8.5 21.578125 \nz\nM 31.109375 56 \nz\n\" id=\"DejaVuSans-117\"/>\n      <path d=\"M 45.40625 46.390625 \nL 45.40625 75.984375 \nL 54.390625 75.984375 \nL 54.390625 0 \nL 45.40625 0 \nL 45.40625 8.203125 \nQ 42.578125 3.328125 38.25 0.953125 \nQ 33.9375 -1.421875 27.875 -1.421875 \nQ 17.96875 -1.421875 11.734375 6.484375 \nQ 5.515625 14.40625 5.515625 27.296875 \nQ 5.515625 40.1875 11.734375 48.09375 \nQ 17.96875 56 27.875 56 \nQ 33.9375 56 38.25 53.625 \nQ 42.578125 51.265625 45.40625 46.390625 \nz\nM 14.796875 27.296875 \nQ 14.796875 17.390625 18.875 11.75 \nQ 22.953125 6.109375 30.078125 6.109375 \nQ 37.203125 6.109375 41.296875 11.75 \nQ 45.40625 17.390625 45.40625 27.296875 \nQ 45.40625 37.203125 41.296875 42.84375 \nQ 37.203125 48.484375 30.078125 48.484375 \nQ 22.953125 48.484375 18.875 42.84375 \nQ 14.796875 37.203125 14.796875 27.296875 \nz\n\" id=\"DejaVuSans-100\"/>\n     </defs>\n     <g transform=\"translate(294.79375 38.476562)scale(0.1 -0.1)\">\n      <use xlink:href=\"#DejaVuSans-99\"/>\n      <use x=\"54.980469\" xlink:href=\"#DejaVuSans-97\"/>\n      <use x=\"116.259766\" xlink:href=\"#DejaVuSans-108\"/>\n      <use x=\"144.042969\" xlink:href=\"#DejaVuSans-99\"/>\n      <use x=\"199.023438\" xlink:href=\"#DejaVuSans-117\"/>\n      <use x=\"262.402344\" xlink:href=\"#DejaVuSans-108\"/>\n      <use x=\"290.185547\" xlink:href=\"#DejaVuSans-97\"/>\n      <use x=\"351.464844\" xlink:href=\"#DejaVuSans-116\"/>\n      <use x=\"390.673828\" xlink:href=\"#DejaVuSans-101\"/>\n      <use x=\"452.197266\" xlink:href=\"#DejaVuSans-100\"/>\n     </g>\n    </g>\n   </g>\n  </g>\n </g>\n <defs>\n  <clipPath id=\"p22e192df30\">\n   <rect height=\"217.44\" width=\"334.8\" x=\"20.5625\" y=\"7.2\"/>\n  </clipPath>\n </defs>\n</svg>\n",
      "text/plain": "<Figure size 432x288 with 1 Axes>"
     },
     "metadata": {
      "needs_background": "light"
     },
     "output_type": "display_data"
    }
   ],
   "source": [
    "a_2 = -2\n",
    "b_2 = 3\n",
    "\n",
    "y_calc = a_2 * x + b_2\n",
    "print(\"MSE  =  \" + str(mse(y, y_calc)))\n",
    "\n",
    "plt.scatter(x, y, label=\"target\")\n",
    "plt.scatter(x, y_calc, label=\"calculated\")\n",
    "plt.legend()"
   ]
  },
  {
   "cell_type": "markdown",
   "metadata": {},
   "source": [
    "1.5) We want to find the best possible model parameters automatically. For this reason, we use a gradient of a loss function. The gradient informs what is the direction of the fastest increase/decrease of a given function. We use this information to update both model parameters. This procedure will be performed iterativelly. In each iteration, the parameters a and b will be slightly modififed such that MSE will be reduced (i.e., improved). <br>\n",
    "\n",
    "Firstly, finish the below function. It should calculate a gradient of a loss function. Specifically, compute dE/dy (see the Exercies.pdf). (y_target, and y_calc are tensors,  not just scalars)."
   ]
  },
  {
   "cell_type": "code",
   "execution_count": 7,
   "metadata": {},
   "outputs": [
    {
     "name": "stdout",
     "output_type": "stream",
     "text": "[1.21820524e-01 2.42689620e-02 3.57276419e-02 3.70656794e-02\n 4.96236116e-02 3.77880147e-03 2.41314111e-01 3.78089663e-03\n 5.23845609e-01 6.62948416e-02 8.54169026e-02 2.59733856e-03\n 1.06143003e-01 3.67780000e-03 2.53337579e-01 2.85164966e-03\n 2.25496847e-02 4.82297708e-04 6.23820931e-03 1.37072919e-01\n 1.52582373e-02 3.36942571e-02 9.68209201e-05 2.51673253e-02\n 8.63733287e-02 1.48479650e-02 1.56651026e-01 1.00666793e-01\n 2.32490657e-01 1.83306989e-01 3.45190284e-07 9.14307136e-03\n 1.55738955e-02 3.20832215e-02 6.33240638e-02 1.09069415e-03\n 4.69843760e-02 2.40379774e-03 6.64396694e-02 3.81004547e-02\n 5.66707045e-04 5.87686288e-02 2.34730367e-02 1.70451756e-04\n 8.30694788e-02 1.10061686e-02 1.69550571e-03 1.75916136e-03\n 8.20726816e-02 8.64665367e-02 1.67714542e-02 1.42374493e-02\n 2.13259667e-02 1.09490534e-01 1.94496875e-01 2.15911699e-02\n 6.16402180e-03 5.42696946e-03 4.74834245e-06 7.43451437e-03\n 7.42416766e-03 1.60798080e-02 9.30491547e-03 7.69804727e-05\n 3.51310183e-02 1.24853440e-02 1.33836465e-01 8.26579286e-02\n 2.84112470e-02 5.28788609e-02 4.67647353e-02 1.48001890e-02\n 8.41226480e-03 4.63238141e-04 7.15826144e-03 5.74532616e-02\n 9.47639206e-02 3.84704830e-02 7.19579270e-02 4.76179949e-02\n 1.43199509e-01 1.01917212e-01 1.82030394e-03 2.81160905e-03\n 1.86116809e-03 3.30701622e-02 7.37026398e-03 2.84458512e-01\n 1.74765212e-02 2.90091295e-02 1.36651636e-02 4.41790662e-03\n 2.33820237e-03 2.76089295e-02 9.55427348e-04 1.46325430e-03\n 6.57630588e-03 1.40906694e-01 6.39970383e-02 1.23178669e-03]\n"
    }
   ],
   "source": [
    "def mse_grad(y_target, y_calc):\n",
    "    return (y_target-y_calc)**2\n",
    "\n",
    "### TEST\n",
    "print(mse_grad(y, y_calc))"
   ]
  },
  {
   "cell_type": "markdown",
   "metadata": {},
   "source": [
    "1.4) Complete the below class representing a linear layer (or just a single linear neuron with one weight \"a\" for the input and one wieght \"b\" for the bias). The update function should alter the weights a and b using the gradient descent algorithm: x is an input vector, grad_y is a gradient of a loss function, i.e., dE/dE, computed using mse_grad method, and lr is the learning rate parameter."
   ]
  },
  {
   "cell_type": "code",
   "execution_count": null,
   "metadata": {},
   "outputs": [],
   "source": [
    "class LinearLayer:\n",
    "    def __init__(self, a, b):\n",
    "        self.a = a\n",
    "        self.b = b\n",
    "\n",
    "    def __call__(self, x):\n",
    "        return self.a * x + self.b\n",
    "\n",
    "    def update(self, x, grad_y, lr):\n",
    "        ### TODO\n",
    "        #self.a = self.a\n",
    "        #self.b = self.b"
   ]
  },
  {
   "cell_type": "markdown",
   "metadata": {},
   "source": [
    "1.5) Complete the below \"step\" function. It shoul (1) compute the y_calc vector, i.e., the output vector, (2) loss, i.e., MSE, (3) gradient of the loss function, i.e., dE/dy, and (4) update the model parameters using the gradient descent algorithm."
   ]
  },
  {
   "cell_type": "code",
   "execution_count": 43,
   "metadata": {},
   "outputs": [],
   "source": [
    "def Step(x, y_target, model, lr):\n",
    "    # TODO\n",
    "    y_calc = 0\n",
    "    loss = 0\n",
    "    #grad_y = \n",
    "    # model.update\n",
    "    return y_calc, loss"
   ]
  },
  {
   "cell_type": "markdown",
   "metadata": {},
   "source": [
    "1.6) Instantiate the model. Run the step function for 100 epochs with lr = 0.05, a = 1.1, and b=2. Store the attained losses and plot them. "
   ]
  },
  {
   "cell_type": "code",
   "execution_count": 44,
   "metadata": {},
   "outputs": [
    {
     "ename": "NameError",
     "evalue": "name 'LinearLayer' is not defined",
     "output_type": "error",
     "traceback": [
      "\u001b[0;31m---------------------------------------------------------------------------\u001b[0m",
      "\u001b[0;31mNameError\u001b[0m                                 Traceback (most recent call last)",
      "\u001b[0;32m<ipython-input-44-249db45c0c79>\u001b[0m in \u001b[0;36m<module>\u001b[0;34m\u001b[0m\n\u001b[0;32m----> 1\u001b[0;31m \u001b[0mmodel\u001b[0m \u001b[0;34m=\u001b[0m \u001b[0mLinearLayer\u001b[0m\u001b[0;34m(\u001b[0m\u001b[0;36m1.1\u001b[0m\u001b[0;34m,\u001b[0m \u001b[0;36m2\u001b[0m\u001b[0;34m)\u001b[0m\u001b[0;34m\u001b[0m\u001b[0;34m\u001b[0m\u001b[0m\n\u001b[0m",
      "\u001b[0;31mNameError\u001b[0m: name 'LinearLayer' is not defined"
     ]
    }
   ],
   "source": [
    "model = LinearLayer(1.1, 2)"
   ]
  },
  {
   "cell_type": "code",
   "execution_count": 45,
   "metadata": {},
   "outputs": [],
   "source": [
    "lr = 0.05"
   ]
  },
  {
   "cell_type": "code",
   "execution_count": 46,
   "metadata": {},
   "outputs": [
    {
     "ename": "NameError",
     "evalue": "name 'model' is not defined",
     "output_type": "error",
     "traceback": [
      "\u001b[0;31m---------------------------------------------------------------------------\u001b[0m",
      "\u001b[0;31mNameError\u001b[0m                                 Traceback (most recent call last)",
      "\u001b[0;32m<ipython-input-46-9a9d46861bb9>\u001b[0m in \u001b[0;36m<module>\u001b[0;34m\u001b[0m\n\u001b[1;32m      2\u001b[0m \u001b[0mlosses\u001b[0m \u001b[0;34m=\u001b[0m \u001b[0;34m[\u001b[0m\u001b[0;34m]\u001b[0m\u001b[0;34m\u001b[0m\u001b[0;34m\u001b[0m\u001b[0m\n\u001b[1;32m      3\u001b[0m \u001b[0;32mfor\u001b[0m \u001b[0mi\u001b[0m \u001b[0;32min\u001b[0m \u001b[0mrange\u001b[0m\u001b[0;34m(\u001b[0m\u001b[0mepoch\u001b[0m\u001b[0;34m)\u001b[0m\u001b[0;34m:\u001b[0m\u001b[0;34m\u001b[0m\u001b[0;34m\u001b[0m\u001b[0m\n\u001b[0;32m----> 4\u001b[0;31m     \u001b[0my_calc\u001b[0m\u001b[0;34m,\u001b[0m \u001b[0mloss\u001b[0m \u001b[0;34m=\u001b[0m \u001b[0mStep\u001b[0m\u001b[0;34m(\u001b[0m\u001b[0mx\u001b[0m\u001b[0;34m,\u001b[0m \u001b[0my\u001b[0m\u001b[0;34m,\u001b[0m \u001b[0mmodel\u001b[0m\u001b[0;34m,\u001b[0m \u001b[0mlr\u001b[0m\u001b[0;34m)\u001b[0m\u001b[0;34m\u001b[0m\u001b[0;34m\u001b[0m\u001b[0m\n\u001b[0m\u001b[1;32m      5\u001b[0m     \u001b[0mlosses\u001b[0m\u001b[0;34m.\u001b[0m\u001b[0mappend\u001b[0m\u001b[0;34m(\u001b[0m\u001b[0mloss\u001b[0m\u001b[0;34m)\u001b[0m\u001b[0;34m\u001b[0m\u001b[0;34m\u001b[0m\u001b[0m\n",
      "\u001b[0;31mNameError\u001b[0m: name 'model' is not defined"
     ]
    }
   ],
   "source": [
    "epoch = 100\n",
    "losses = []\n",
    "for i in range(epoch):\n",
    "    y_calc, loss = Step(x, y, model, lr)\n",
    "    losses.append(loss)"
   ]
  },
  {
   "cell_type": "code",
   "execution_count": 47,
   "metadata": {},
   "outputs": [
    {
     "data": {
      "text/plain": [
       "[<matplotlib.lines.Line2D at 0x7fdf72ac2690>]"
      ]
     },
     "execution_count": 47,
     "metadata": {},
     "output_type": "execute_result"
    },
    {
     "data": {
      "image/png": "[encoded data removed]",
      "text/plain": [
       "<Figure size 432x288 with 1 Axes>"
      ]
     },
     "metadata": {
      "needs_background": "light"
     },
     "output_type": "display_data"
    }
   ],
   "source": [
    "plt.plot(losses)"
   ]
  },
  {
   "cell_type": "markdown",
   "metadata": {},
   "source": [
    "1.7) You may animate the learning process."
   ]
  },
  {
   "cell_type": "code",
   "execution_count": 48,
   "metadata": {},
   "outputs": [],
   "source": [
    "from matplotlib import animation, rc\n",
    "from IPython.display import HTML\n",
    "#from matplotlib.animation import FuncAnimation\n",
    "rc('animation', html='jshtml')"
   ]
  },
  {
   "cell_type": "code",
   "execution_count": 49,
   "metadata": {},
   "outputs": [
    {
     "ename": "NameError",
     "evalue": "name 'LinearLayer' is not defined",
     "output_type": "error",
     "traceback": [
      "\u001b[0;31m---------------------------------------------------------------------------\u001b[0m",
      "\u001b[0;31mNameError\u001b[0m                                 Traceback (most recent call last)",
      "\u001b[0;32m<ipython-input-49-249db45c0c79>\u001b[0m in \u001b[0;36m<module>\u001b[0;34m\u001b[0m\n\u001b[0;32m----> 1\u001b[0;31m \u001b[0mmodel\u001b[0m \u001b[0;34m=\u001b[0m \u001b[0mLinearLayer\u001b[0m\u001b[0;34m(\u001b[0m\u001b[0;36m1.1\u001b[0m\u001b[0;34m,\u001b[0m \u001b[0;36m2\u001b[0m\u001b[0;34m)\u001b[0m\u001b[0;34m\u001b[0m\u001b[0;34m\u001b[0m\u001b[0m\n\u001b[0m",
      "\u001b[0;31mNameError\u001b[0m: name 'LinearLayer' is not defined"
     ]
    }
   ],
   "source": [
    "model = LinearLayer(1.1, 2)"
   ]
  },
  {
   "cell_type": "code",
   "execution_count": null,
   "metadata": {},
   "outputs": [],
   "source": [
    "fig = plt.figure()\n",
    "plt.scatter(x, y)\n",
    "line, = plt.plot(x, y_calc, \".\", c=\"orange\")\n",
    "plt.close()\n",
    "\n",
    "\n",
    "def animate(i):\n",
    "    y_calc, loss = Step(x, y, model, lr)\n",
    "    line.set_ydata(y_calc)\n",
    "    return (line,)\n",
    "\n",
    "\n",
    "animation.FuncAnimation(fig, animate, np.arange(0, epoch), interval=20)"
   ]
  },
  {
   "cell_type": "markdown",
   "metadata": {},
   "source": [
    "1.8) The above example can be implemented in pytorch. Read & analyze the code."
   ]
  },
  {
   "cell_type": "code",
   "execution_count": null,
   "metadata": {},
   "outputs": [],
   "source": [
    "# Imports\n",
    "import torch\n",
    "import torch.nn as nn"
   ]
  },
  {
   "cell_type": "code",
   "execution_count": 50,
   "metadata": {},
   "outputs": [
    {
     "ename": "NameError",
     "evalue": "name 'torch' is not defined",
     "output_type": "error",
     "traceback": [
      "\u001b[0;31m---------------------------------------------------------------------------\u001b[0m",
      "\u001b[0;31mNameError\u001b[0m                                 Traceback (most recent call last)",
      "\u001b[0;32m<ipython-input-50-5201d524c31a>\u001b[0m in \u001b[0;36m<module>\u001b[0;34m\u001b[0m\n\u001b[1;32m      1\u001b[0m \u001b[0;31m# Convert numpy array to a torch tensor, [:,None] adds an additional dimension\u001b[0m\u001b[0;34m\u001b[0m\u001b[0;34m\u001b[0m\u001b[0;34m\u001b[0m\u001b[0m\n\u001b[0;32m----> 2\u001b[0;31m \u001b[0mxt\u001b[0m \u001b[0;34m=\u001b[0m \u001b[0mtorch\u001b[0m\u001b[0;34m.\u001b[0m\u001b[0mFloatTensor\u001b[0m\u001b[0;34m(\u001b[0m\u001b[0mx\u001b[0m\u001b[0;34m[\u001b[0m\u001b[0;34m:\u001b[0m\u001b[0;34m,\u001b[0m \u001b[0;32mNone\u001b[0m\u001b[0;34m]\u001b[0m\u001b[0;34m)\u001b[0m\u001b[0;34m\u001b[0m\u001b[0;34m\u001b[0m\u001b[0m\n\u001b[0m\u001b[1;32m      3\u001b[0m \u001b[0myt\u001b[0m \u001b[0;34m=\u001b[0m \u001b[0mtorch\u001b[0m\u001b[0;34m.\u001b[0m\u001b[0mFloatTensor\u001b[0m\u001b[0;34m(\u001b[0m\u001b[0my\u001b[0m\u001b[0;34m[\u001b[0m\u001b[0;34m:\u001b[0m\u001b[0;34m,\u001b[0m \u001b[0;32mNone\u001b[0m\u001b[0;34m]\u001b[0m\u001b[0;34m)\u001b[0m\u001b[0;34m\u001b[0m\u001b[0;34m\u001b[0m\u001b[0m\n",
      "\u001b[0;31mNameError\u001b[0m: name 'torch' is not defined"
     ]
    }
   ],
   "source": [
    "# Convert numpy array to a torch tensor, [:,None] adds an additional dimension\n",
    "xt = torch.FloatTensor(x[:, None])\n",
    "yt = torch.FloatTensor(y[:, None])"
   ]
  },
  {
   "cell_type": "code",
   "execution_count": null,
   "metadata": {},
   "outputs": [],
   "source": [
    "def mse(y_target, y_calc):\n",
    "    return ((y_target - y_calc) ** 2).mean()"
   ]
  },
  {
   "cell_type": "code",
   "execution_count": 51,
   "metadata": {},
   "outputs": [
    {
     "ename": "NameError",
     "evalue": "name 'nn' is not defined",
     "output_type": "error",
     "traceback": [
      "\u001b[0;31m---------------------------------------------------------------------------\u001b[0m",
      "\u001b[0;31mNameError\u001b[0m                                 Traceback (most recent call last)",
      "\u001b[0;32m<ipython-input-51-135e2b69a7c8>\u001b[0m in \u001b[0;36m<module>\u001b[0;34m\u001b[0m\n\u001b[0;32m----> 1\u001b[0;31m \u001b[0;32mclass\u001b[0m \u001b[0mLinearLayer\u001b[0m\u001b[0;34m(\u001b[0m\u001b[0mnn\u001b[0m\u001b[0;34m.\u001b[0m\u001b[0mModule\u001b[0m\u001b[0;34m)\u001b[0m\u001b[0;34m:\u001b[0m\u001b[0;34m\u001b[0m\u001b[0;34m\u001b[0m\u001b[0m\n\u001b[0m\u001b[1;32m      2\u001b[0m     \u001b[0;32mdef\u001b[0m \u001b[0m__init__\u001b[0m\u001b[0;34m(\u001b[0m\u001b[0mself\u001b[0m\u001b[0;34m,\u001b[0m \u001b[0ma\u001b[0m\u001b[0;34m,\u001b[0m \u001b[0mb\u001b[0m\u001b[0;34m)\u001b[0m\u001b[0;34m:\u001b[0m\u001b[0;34m\u001b[0m\u001b[0;34m\u001b[0m\u001b[0m\n\u001b[1;32m      3\u001b[0m         \u001b[0msuper\u001b[0m\u001b[0;34m(\u001b[0m\u001b[0mLinearLayer\u001b[0m\u001b[0;34m,\u001b[0m \u001b[0mself\u001b[0m\u001b[0;34m)\u001b[0m\u001b[0;34m.\u001b[0m\u001b[0m__init__\u001b[0m\u001b[0;34m(\u001b[0m\u001b[0;34m)\u001b[0m  \u001b[0;31m# initialize torch functionality\u001b[0m\u001b[0;34m\u001b[0m\u001b[0;34m\u001b[0m\u001b[0m\n\u001b[1;32m      4\u001b[0m         \u001b[0;31m# change a and b to float tensors, and next to parameters,\u001b[0m\u001b[0;34m\u001b[0m\u001b[0;34m\u001b[0m\u001b[0;34m\u001b[0m\u001b[0m\n\u001b[1;32m      5\u001b[0m         \u001b[0;31m# the main difference between tensor and parameter is that parameter keeps information about calculations,\u001b[0m\u001b[0;34m\u001b[0m\u001b[0;34m\u001b[0m\u001b[0;34m\u001b[0m\u001b[0m\n",
      "\u001b[0;31mNameError\u001b[0m: name 'nn' is not defined"
     ]
    }
   ],
   "source": [
    "class LinearLayer(nn.Module):\n",
    "    def __init__(self, a, b):\n",
    "        super(LinearLayer, self).__init__()  # initialize torch functionality\n",
    "        # change a and b to float tensors, and next to parameters,\n",
    "        # the main difference between tensor and parameter is that parameter keeps information about calculations,\n",
    "        # which is used to calculate gradients\n",
    "        self.a = nn.Parameter(torch.FloatTensor([a]).view(1, 1))\n",
    "        self.b = nn.Parameter(torch.FloatTensor([b]))\n",
    "\n",
    "    # forward function is similar to python __call__ but also contains torch functionality\n",
    "    def forward(self, x):\n",
    "        return  x @ self.a + self.b  # linear equation, @ means matrix multiplication for a tensor\n",
    "\n",
    "    def update(self, lr):\n",
    "        with torch.no_grad():  # when we update some parameter, we have to switch off gradient tracking\n",
    "            self.a.sub_(lr * self.a.grad)  # inplace update of parameter a\n",
    "            self.a.grad.zero_()  # clear gradient\n",
    "\n",
    "            self.b.sub_(lr * self.b.grad)\n",
    "            self.b.grad.zero_()"
   ]
  },
  {
   "cell_type": "code",
   "execution_count": null,
   "metadata": {},
   "outputs": [],
   "source": [
    "model =  LinearLayer(1.1, 0.2)"
   ]
  },
  {
   "cell_type": "code",
   "execution_count": 52,
   "metadata": {},
   "outputs": [],
   "source": [
    "def torchStep(x, y, model, lr):\n",
    "    y_calc = model(x)  # calculate the output of our model\n",
    "    loss = mse(y, y_calc)  # calculate the loss\n",
    "    loss.backward()  # calculate all gradients\n",
    "    model.update(lr)  # update parameters\n",
    "    return loss, y_calc"
   ]
  },
  {
   "cell_type": "code",
   "execution_count": 53,
   "metadata": {},
   "outputs": [
    {
     "ename": "NameError",
     "evalue": "name 'xt' is not defined",
     "output_type": "error",
     "traceback": [
      "\u001b[0;31m---------------------------------------------------------------------------\u001b[0m",
      "\u001b[0;31mNameError\u001b[0m                                 Traceback (most recent call last)",
      "\u001b[0;32m<ipython-input-53-14bf180f9113>\u001b[0m in \u001b[0;36m<module>\u001b[0;34m\u001b[0m\n\u001b[0;32m----> 1\u001b[0;31m \u001b[0mloss\u001b[0m\u001b[0;34m,\u001b[0m \u001b[0my_calc\u001b[0m \u001b[0;34m=\u001b[0m \u001b[0mtorchStep\u001b[0m\u001b[0;34m(\u001b[0m\u001b[0mxt\u001b[0m\u001b[0;34m,\u001b[0m \u001b[0myt\u001b[0m\u001b[0;34m,\u001b[0m \u001b[0mmodel\u001b[0m\u001b[0;34m,\u001b[0m \u001b[0mlr\u001b[0m\u001b[0;34m)\u001b[0m\u001b[0;34m\u001b[0m\u001b[0;34m\u001b[0m\u001b[0m\n\u001b[0m\u001b[1;32m      2\u001b[0m \u001b[0my_calc\u001b[0m \u001b[0;34m=\u001b[0m \u001b[0my_calc\u001b[0m\u001b[0;34m.\u001b[0m\u001b[0mdetach\u001b[0m\u001b[0;34m(\u001b[0m\u001b[0;34m)\u001b[0m\u001b[0;34m.\u001b[0m\u001b[0mcpu\u001b[0m\u001b[0;34m(\u001b[0m\u001b[0;34m)\u001b[0m\u001b[0;34m\u001b[0m\u001b[0;34m\u001b[0m\u001b[0m\n\u001b[1;32m      3\u001b[0m \u001b[0mfig\u001b[0m \u001b[0;34m=\u001b[0m \u001b[0mplt\u001b[0m\u001b[0;34m.\u001b[0m\u001b[0mfigure\u001b[0m\u001b[0;34m(\u001b[0m\u001b[0;34m)\u001b[0m\u001b[0;34m\u001b[0m\u001b[0;34m\u001b[0m\u001b[0m\n\u001b[1;32m      4\u001b[0m \u001b[0mplt\u001b[0m\u001b[0;34m.\u001b[0m\u001b[0mscatter\u001b[0m\u001b[0;34m(\u001b[0m\u001b[0mxt\u001b[0m\u001b[0;34m[\u001b[0m\u001b[0;34m:\u001b[0m\u001b[0;34m,\u001b[0m \u001b[0;36m0\u001b[0m\u001b[0;34m]\u001b[0m\u001b[0;34m,\u001b[0m \u001b[0myt\u001b[0m\u001b[0;34m)\u001b[0m\u001b[0;34m\u001b[0m\u001b[0;34m\u001b[0m\u001b[0m\n\u001b[1;32m      5\u001b[0m \u001b[0mline\u001b[0m\u001b[0;34m,\u001b[0m \u001b[0;34m=\u001b[0m \u001b[0mplt\u001b[0m\u001b[0;34m.\u001b[0m\u001b[0mplot\u001b[0m\u001b[0;34m(\u001b[0m\u001b[0mxt\u001b[0m\u001b[0;34m[\u001b[0m\u001b[0;34m:\u001b[0m\u001b[0;34m,\u001b[0m \u001b[0;36m0\u001b[0m\u001b[0;34m]\u001b[0m\u001b[0;34m,\u001b[0m \u001b[0my_calc\u001b[0m\u001b[0;34m,\u001b[0m \u001b[0mc\u001b[0m\u001b[0;34m=\u001b[0m\u001b[0;34m\"orange\"\u001b[0m\u001b[0;34m)\u001b[0m\u001b[0;34m\u001b[0m\u001b[0;34m\u001b[0m\u001b[0m\n",
      "\u001b[0;31mNameError\u001b[0m: name 'xt' is not defined"
     ]
    }
   ],
   "source": [
    "loss, y_calc = torchStep(xt, yt, model, lr)\n",
    "y_calc = y_calc.detach().cpu()\n",
    "fig = plt.figure()\n",
    "plt.scatter(xt[:, 0], yt)\n",
    "line, = plt.plot(xt[:, 0], y_calc, c=\"orange\")\n",
    "plt.close()\n",
    "\n",
    "\n",
    "def animate(i):\n",
    "    loss, y_calc = torchStep(xt, yt, model, lr)\n",
    "    y_calc = y_calc.detach().cpu()  #\n",
    "    line.set_ydata(y_calc)\n",
    "    return (line,)\n",
    "\n",
    "\n",
    "animation.FuncAnimation(fig, animate, np.arange(0, 100), interval=20)"
   ]
  },
  {
   "cell_type": "code",
   "execution_count": 54,
   "metadata": {},
   "outputs": [],
   "source": [
    "# we can use optymalizer to update parameters based on their gradients\n",
    "# the most simple is stochastic gradient descent (SGD)\n",
    "def torchStep2(x, y, model, optim):\n",
    "    optim.zero_grad()  # clear gradients\n",
    "    y_calc = model(x)  # calculate output of model\n",
    "    loss = mse(y, y_calc)  # calculate loss\n",
    "    loss.backward()  # calculate all gradients\n",
    "    optim.step()  # make a optymalizer step which update parameters\n",
    "    return loss, y_calc"
   ]
  },
  {
   "cell_type": "code",
   "execution_count": 55,
   "metadata": {},
   "outputs": [
    {
     "ename": "NameError",
     "evalue": "name 'LinearLayer' is not defined",
     "output_type": "error",
     "traceback": [
      "\u001b[0;31m---------------------------------------------------------------------------\u001b[0m",
      "\u001b[0;31mNameError\u001b[0m                                 Traceback (most recent call last)",
      "\u001b[0;32m<ipython-input-55-62748baa2af5>\u001b[0m in \u001b[0;36m<module>\u001b[0;34m\u001b[0m\n\u001b[0;32m----> 1\u001b[0;31m \u001b[0mmodel\u001b[0m \u001b[0;34m=\u001b[0m \u001b[0mLinearLayer\u001b[0m\u001b[0;34m(\u001b[0m\u001b[0;34m-\u001b[0m\u001b[0;36m1.1\u001b[0m\u001b[0;34m,\u001b[0m \u001b[0;36m0.2\u001b[0m\u001b[0;34m)\u001b[0m\u001b[0;34m\u001b[0m\u001b[0;34m\u001b[0m\u001b[0m\n\u001b[0m\u001b[1;32m      2\u001b[0m \u001b[0moptim\u001b[0m \u001b[0;34m=\u001b[0m \u001b[0mtorch\u001b[0m\u001b[0;34m.\u001b[0m\u001b[0moptim\u001b[0m\u001b[0;34m.\u001b[0m\u001b[0mSGD\u001b[0m\u001b[0;34m(\u001b[0m\u001b[0mmodel\u001b[0m\u001b[0;34m.\u001b[0m\u001b[0mparameters\u001b[0m\u001b[0;34m(\u001b[0m\u001b[0;34m)\u001b[0m\u001b[0;34m,\u001b[0m \u001b[0mlr\u001b[0m\u001b[0;34m)\u001b[0m\u001b[0;34m\u001b[0m\u001b[0;34m\u001b[0m\u001b[0m\n",
      "\u001b[0;31mNameError\u001b[0m: name 'LinearLayer' is not defined"
     ]
    }
   ],
   "source": [
    "model = LinearLayer(-1.1, 0.2)\n",
    "optim = torch.optim.SGD(model.parameters(), lr)"
   ]
  },
  {
   "cell_type": "code",
   "execution_count": 56,
   "metadata": {},
   "outputs": [
    {
     "ename": "NameError",
     "evalue": "name 'xt' is not defined",
     "output_type": "error",
     "traceback": [
      "\u001b[0;31m---------------------------------------------------------------------------\u001b[0m",
      "\u001b[0;31mNameError\u001b[0m                                 Traceback (most recent call last)",
      "\u001b[0;32m<ipython-input-56-b81048677622>\u001b[0m in \u001b[0;36m<module>\u001b[0;34m\u001b[0m\n\u001b[0;32m----> 1\u001b[0;31m \u001b[0mloss\u001b[0m\u001b[0;34m,\u001b[0m \u001b[0my_calc\u001b[0m \u001b[0;34m=\u001b[0m \u001b[0mtorchStep2\u001b[0m\u001b[0;34m(\u001b[0m\u001b[0mxt\u001b[0m\u001b[0;34m,\u001b[0m \u001b[0myt\u001b[0m\u001b[0;34m,\u001b[0m \u001b[0mmodel\u001b[0m\u001b[0;34m,\u001b[0m \u001b[0moptim\u001b[0m\u001b[0;34m)\u001b[0m\u001b[0;34m\u001b[0m\u001b[0;34m\u001b[0m\u001b[0m\n\u001b[0m\u001b[1;32m      2\u001b[0m \u001b[0my_calc\u001b[0m \u001b[0;34m=\u001b[0m \u001b[0my_calc\u001b[0m\u001b[0;34m.\u001b[0m\u001b[0mdetach\u001b[0m\u001b[0;34m(\u001b[0m\u001b[0;34m)\u001b[0m\u001b[0;34m.\u001b[0m\u001b[0mcpu\u001b[0m\u001b[0;34m(\u001b[0m\u001b[0;34m)\u001b[0m\u001b[0;34m\u001b[0m\u001b[0;34m\u001b[0m\u001b[0m\n\u001b[1;32m      3\u001b[0m \u001b[0mfig\u001b[0m \u001b[0;34m=\u001b[0m \u001b[0mplt\u001b[0m\u001b[0;34m.\u001b[0m\u001b[0mfigure\u001b[0m\u001b[0;34m(\u001b[0m\u001b[0;34m)\u001b[0m\u001b[0;34m\u001b[0m\u001b[0;34m\u001b[0m\u001b[0m\n\u001b[1;32m      4\u001b[0m \u001b[0mplt\u001b[0m\u001b[0;34m.\u001b[0m\u001b[0mscatter\u001b[0m\u001b[0;34m(\u001b[0m\u001b[0mxt\u001b[0m\u001b[0;34m[\u001b[0m\u001b[0;34m:\u001b[0m\u001b[0;34m,\u001b[0m \u001b[0;36m0\u001b[0m\u001b[0;34m]\u001b[0m\u001b[0;34m,\u001b[0m \u001b[0myt\u001b[0m\u001b[0;34m)\u001b[0m\u001b[0;34m\u001b[0m\u001b[0;34m\u001b[0m\u001b[0m\n\u001b[1;32m      5\u001b[0m \u001b[0mline\u001b[0m\u001b[0;34m,\u001b[0m \u001b[0;34m=\u001b[0m \u001b[0mplt\u001b[0m\u001b[0;34m.\u001b[0m\u001b[0mplot\u001b[0m\u001b[0;34m(\u001b[0m\u001b[0mxt\u001b[0m\u001b[0;34m[\u001b[0m\u001b[0;34m:\u001b[0m\u001b[0;34m,\u001b[0m \u001b[0;36m0\u001b[0m\u001b[0;34m]\u001b[0m\u001b[0;34m,\u001b[0m \u001b[0my_calc\u001b[0m\u001b[0;34m,\u001b[0m \u001b[0mc\u001b[0m\u001b[0;34m=\u001b[0m\u001b[0;34m\"orange\"\u001b[0m\u001b[0;34m)\u001b[0m\u001b[0;34m\u001b[0m\u001b[0;34m\u001b[0m\u001b[0m\n",
      "\u001b[0;31mNameError\u001b[0m: name 'xt' is not defined"
     ]
    }
   ],
   "source": [
    "loss, y_calc = torchStep2(xt, yt, model, optim)\n",
    "y_calc = y_calc.detach().cpu()\n",
    "fig = plt.figure()\n",
    "plt.scatter(xt[:, 0], yt)\n",
    "line, = plt.plot(xt[:, 0], y_calc, c=\"orange\")\n",
    "plt.close()\n",
    "\n",
    "\n",
    "def animate(i):\n",
    "    loss, y_calc = torchStep2(xt, yt, model, optim)\n",
    "    y_calc = y_calc.detach().cpu()\n",
    "    line.set_ydata(y_calc)\n",
    "    return (line,)\n",
    "\n",
    "\n",
    "animation.FuncAnimation(fig, animate, np.arange(0, 100), interval=20)"
   ]
  },
  {
   "cell_type": "markdown",
   "metadata": {},
   "source": [
    "# Part 2: Convolution layer"
   ]
  },
  {
   "cell_type": "code",
   "execution_count": 57,
   "metadata": {},
   "outputs": [],
   "source": [
    "# input image\n",
    "image = np.array(\n",
    "    [\n",
    "        [0, 0, 0, 0, 0, 1, 0, 0, 0, 0, 0, 0, 0, 0, 0, 0, 0, 0, 0, 0],\n",
    "        [0, 0, 0, 0, 0, 1, 0, 0, 0, 0, 0, 0, 1, 1, 1, 1, 1, 1, 0, 0],\n",
    "        [0, 0, 0, 0, 0, 1, 0, 0, 0, 0, 0, 0, 1, 0, 0, 0, 0, 1, 0, 0],\n",
    "        [0, 0, 0, 0, 0, 1, 0, 0, 0, 0, 0, 0, 1, 0, 0, 0, 0, 1, 0, 0],\n",
    "        [0, 0, 0, 0, 0, 1, 0, 0, 0, 0, 0, 0, 1, 0, 0, 0, 0, 1, 0, 0],\n",
    "        [0, 0, 0, 0, 0, 1, 0, 0, 0, 0, 0, 0, 1, 0, 0, 0, 0, 1, 0, 0],\n",
    "        [0, 0, 0, 0, 0, 1, 0, 0, 0, 0, 0, 0, 1, 1, 1, 1, 1, 1, 0, 0],\n",
    "        [1, 0, 0, 0, 0, 1, 0, 0, 0, 0, 0, 0, 0, 0, 0, 0, 0, 0, 0, 0],\n",
    "        [0, 1, 0, 0, 0, 1, 0, 0, 0, 0, 0, 0, 0, 0, 0, 0, 0, 0, 0, 0],\n",
    "        [0, 0, 1, 0, 0, 1, 0, 0, 0, 0, 0, 0, 0, 0, 0, 0, 0, 0, 0, 0],\n",
    "        [1, 1, 1, 1, 1, 1, 1, 1, 1, 1, 1, 1, 1, 1, 1, 1, 1, 1, 1, 1],\n",
    "        [0, 0, 0, 0, 1, 1, 0, 0, 0, 0, 0, 0, 0, 0, 0, 0, 0, 0, 0, 0],\n",
    "        [0, 0, 0, 0, 0, 1, 0, 0, 0, 0, 0, 0, 0, 0, 0, 0, 0, 0, 0, 0],\n",
    "        [0, 0, 0, 0, 0, 1, 1, 0, 0, 0, 0, 0, 0, 0, 0, 0, 0, 0, 0, 0],\n",
    "        [0, 0, 0, 0, 0, 1, 0, 1, 0, 0, 0, 0, 0, 0, 0, 1, 0, 0, 0, 1],\n",
    "        [0, 0, 0, 0, 0, 1, 0, 0, 1, 0, 0, 0, 0, 0, 0, 0, 0, 0, 1, 0],\n",
    "        [0, 0, 0, 0, 0, 1, 0, 0, 0, 1, 0, 0, 0, 0, 0, 0, 0, 1, 0, 0],\n",
    "        [0, 0, 0, 0, 0, 1, 0, 0, 0, 0, 1, 0, 0, 0, 0, 0, 1, 0, 0, 0],\n",
    "        [0, 0, 0, 0, 0, 1, 0, 0, 0, 0, 0, 1, 0, 0, 0, 1, 0, 0, 0, 0],\n",
    "        [0, 0, 0, 0, 0, 1, 0, 0, 0, 0, 0, 0, 1, 0, 1, 0, 0, 0, 0, 0],\n",
    "    ]\n",
    ")"
   ]
  },
  {
   "cell_type": "code",
   "execution_count": 58,
   "metadata": {},
   "outputs": [
    {
     "data": {
      "text/plain": [
       "<matplotlib.image.AxesImage at 0x7fdf729f4850>"
      ]
     },
     "execution_count": 58,
     "metadata": {},
     "output_type": "execute_result"
    },
    {
     "data": {
      "image/png": "[encoded data removed]",
      "text/plain": [
       "<Figure size 432x288 with 1 Axes>"
      ]
     },
     "metadata": {
      "needs_background": "light"
     },
     "output_type": "display_data"
    }
   ],
   "source": [
    "plt.imshow(image)"
   ]
  },
  {
   "cell_type": "markdown",
   "metadata": {},
   "source": [
    "2.1) Complete the below function. It should convolve the input image with the kernel (mask). The kernel is of a 3x3 shape. Additionally, use the bias parameter (modify the result of the convolvution operation). Do not use padding, so the output image should be in size: (input_wight -2) x (input_height -2)."
   ]
  },
  {
   "cell_type": "code",
   "execution_count": 59,
   "metadata": {},
   "outputs": [],
   "source": [
    "def Convolution(image, kernel, bias):\n",
    "    img_out = np.zeros((image.shape[0] - 2, image.shape[1] - 2))\n",
    "    ### TODO\n",
    "            \n",
    "    return img_out"
   ]
  },
  {
   "cell_type": "code",
   "execution_count": 60,
   "metadata": {},
   "outputs": [
    {
     "data": {
      "text/plain": [
       "array([[0.11111111, 0.11111111, 0.11111111],\n",
       "       [0.11111111, 0.11111111, 0.11111111],\n",
       "       [0.11111111, 0.11111111, 0.11111111]])"
      ]
     },
     "execution_count": 60,
     "metadata": {},
     "output_type": "execute_result"
    }
   ],
   "source": [
    "# kernel (mask) - this is just a simple mean filter\n",
    "kernel = np.ones((3, 3)) / 9\n",
    "kernel"
   ]
  },
  {
   "cell_type": "code",
   "execution_count": 61,
   "metadata": {},
   "outputs": [],
   "source": [
    "bias = -0.5"
   ]
  },
  {
   "cell_type": "code",
   "execution_count": 62,
   "metadata": {},
   "outputs": [],
   "source": [
    "img_out = Convolution(image, kernel, bias)"
   ]
  },
  {
   "cell_type": "code",
   "execution_count": 63,
   "metadata": {},
   "outputs": [
    {
     "data": {
      "text/plain": [
       "<matplotlib.image.AxesImage at 0x7fdf7295b7d0>"
      ]
     },
     "execution_count": 63,
     "metadata": {},
     "output_type": "execute_result"
    },
    {
     "data": {
      "image/png": "[encoded data removed]",
      "text/plain": [
       "<Figure size 432x288 with 1 Axes>"
      ]
     },
     "metadata": {
      "needs_background": "light"
     },
     "output_type": "display_data"
    }
   ],
   "source": [
    "plt.imshow(img_out)"
   ]
  },
  {
   "cell_type": "markdown",
   "metadata": {},
   "source": [
    "2.2) Find out kernels (masks) which can be used for horizontal and vertical edges detection."
   ]
  },
  {
   "cell_type": "code",
   "execution_count": 64,
   "metadata": {},
   "outputs": [],
   "source": [
    "kernel_horizontal = np.array([[0, 0, 0], [0, 0, 0], [0, 0, 0]])"
   ]
  },
  {
   "cell_type": "code",
   "execution_count": 65,
   "metadata": {},
   "outputs": [
    {
     "data": {
      "text/plain": [
       "<matplotlib.image.AxesImage at 0x7fdf7293cf90>"
      ]
     },
     "execution_count": 65,
     "metadata": {},
     "output_type": "execute_result"
    },
    {
     "data": {
      "image/png": "[encoded data removed]",
      "text/plain": [
       "<Figure size 432x288 with 1 Axes>"
      ]
     },
     "metadata": {
      "needs_background": "light"
     },
     "output_type": "display_data"
    }
   ],
   "source": [
    "img_horizontal = Convolution(image, kernel_horizontal, -2)\n",
    "plt.imshow(img_horizontal)"
   ]
  },
  {
   "cell_type": "code",
   "execution_count": 66,
   "metadata": {},
   "outputs": [],
   "source": [
    "kernel_vertical = np.array([[0, 0, 0], [0, 0, 0], [0, 0, 0]])"
   ]
  },
  {
   "cell_type": "code",
   "execution_count": 67,
   "metadata": {},
   "outputs": [
    {
     "data": {
      "text/plain": [
       "<matplotlib.image.AxesImage at 0x7fdf729e3310>"
      ]
     },
     "execution_count": 67,
     "metadata": {},
     "output_type": "execute_result"
    },
    {
     "data": {
      "image/png": "[encoded data removed]",
      "text/plain": [
       "<Figure size 432x288 with 1 Axes>"
      ]
     },
     "metadata": {
      "needs_background": "light"
     },
     "output_type": "display_data"
    }
   ],
   "source": [
    "img_vertical = Convolution(image, kernel_vertical, -2)\n",
    "plt.imshow(img_vertical)"
   ]
  },
  {
   "cell_type": "markdown",
   "metadata": {},
   "source": [
    "2.3) Complete the below function for calculating ReLU."
   ]
  },
  {
   "cell_type": "code",
   "execution_count": 68,
   "metadata": {},
   "outputs": [],
   "source": [
    "def relu(x):\n",
    "    ### TODO\n",
    "    ### return 0\n",
    "    return np.maximum(x, 0)"
   ]
  },
  {
   "cell_type": "markdown",
   "metadata": {},
   "source": [
    "2.4) Find values for bias such that output pixels have a value above 0 only if original pixel is a part of the horizontal/vertical line."
   ]
  },
  {
   "cell_type": "code",
   "execution_count": 69,
   "metadata": {},
   "outputs": [
    {
     "data": {
      "image/png": "[encoded data removed]",
      "text/plain": [
       "<Figure size 432x288 with 1 Axes>"
      ]
     },
     "metadata": {
      "needs_background": "light"
     },
     "output_type": "display_data"
    },
    {
     "data": {
      "text/plain": [
       "<matplotlib.image.AxesImage at 0x7fdf727e7a50>"
      ]
     },
     "execution_count": 69,
     "metadata": {},
     "output_type": "execute_result"
    },
    {
     "data": {
      "image/png": "[encoded data removed]",
      "text/plain": [
       "<Figure size 432x288 with 1 Axes>"
      ]
     },
     "metadata": {
      "needs_background": "light"
     },
     "output_type": "display_data"
    }
   ],
   "source": [
    "plt.imshow(relu(Convolution(image, kernel_horizontal, 2)))\n",
    "plt.show()\n",
    "plt.imshow(relu(Convolution(image, kernel_vertical, 2)))"
   ]
  },
  {
   "cell_type": "markdown",
   "metadata": {},
   "source": [
    "# Part 3: Deep network"
   ]
  },
  {
   "cell_type": "code",
   "execution_count": 70,
   "metadata": {},
   "outputs": [],
   "source": [
    "import pandas as pd"
   ]
  },
  {
   "cell_type": "code",
   "execution_count": 71,
   "metadata": {},
   "outputs": [
    {
     "ename": "FileNotFoundError",
     "evalue": "[Errno 2] File b'data/iris.csv' does not exist: b'data/iris.csv'",
     "output_type": "error",
     "traceback": [
      "\u001b[0;31m---------------------------------------------------------------------------\u001b[0m",
      "\u001b[0;31mFileNotFoundError\u001b[0m                         Traceback (most recent call last)",
      "\u001b[0;32m<ipython-input-71-71f84a579f91>\u001b[0m in \u001b[0;36m<module>\u001b[0;34m\u001b[0m\n\u001b[1;32m      1\u001b[0m \u001b[0;31m# load iris dataset\u001b[0m\u001b[0;34m\u001b[0m\u001b[0;34m\u001b[0m\u001b[0;34m\u001b[0m\u001b[0m\n\u001b[0;32m----> 2\u001b[0;31m \u001b[0mdf\u001b[0m \u001b[0;34m=\u001b[0m \u001b[0mpd\u001b[0m\u001b[0;34m.\u001b[0m\u001b[0mread_csv\u001b[0m\u001b[0;34m(\u001b[0m\u001b[0;34m'data/iris.csv'\u001b[0m\u001b[0;34m)\u001b[0m\u001b[0;34m\u001b[0m\u001b[0;34m\u001b[0m\u001b[0m\n\u001b[0m",
      "\u001b[0;32m~/anaconda3/lib/python3.7/site-packages/pandas/io/parsers.py\u001b[0m in \u001b[0;36mparser_f\u001b[0;34m(filepath_or_buffer, sep, delimiter, header, names, index_col, usecols, squeeze, prefix, mangle_dupe_cols, dtype, engine, converters, true_values, false_values, skipinitialspace, skiprows, skipfooter, nrows, na_values, keep_default_na, na_filter, verbose, skip_blank_lines, parse_dates, infer_datetime_format, keep_date_col, date_parser, dayfirst, cache_dates, iterator, chunksize, compression, thousands, decimal, lineterminator, quotechar, quoting, doublequote, escapechar, comment, encoding, dialect, error_bad_lines, warn_bad_lines, delim_whitespace, low_memory, memory_map, float_precision)\u001b[0m\n\u001b[1;32m    683\u001b[0m         )\n\u001b[1;32m    684\u001b[0m \u001b[0;34m\u001b[0m\u001b[0m\n\u001b[0;32m--> 685\u001b[0;31m         \u001b[0;32mreturn\u001b[0m \u001b[0m_read\u001b[0m\u001b[0;34m(\u001b[0m\u001b[0mfilepath_or_buffer\u001b[0m\u001b[0;34m,\u001b[0m \u001b[0mkwds\u001b[0m\u001b[0;34m)\u001b[0m\u001b[0;34m\u001b[0m\u001b[0;34m\u001b[0m\u001b[0m\n\u001b[0m\u001b[1;32m    686\u001b[0m \u001b[0;34m\u001b[0m\u001b[0m\n\u001b[1;32m    687\u001b[0m     \u001b[0mparser_f\u001b[0m\u001b[0;34m.\u001b[0m\u001b[0m__name__\u001b[0m \u001b[0;34m=\u001b[0m \u001b[0mname\u001b[0m\u001b[0;34m\u001b[0m\u001b[0;34m\u001b[0m\u001b[0m\n",
      "\u001b[0;32m~/anaconda3/lib/python3.7/site-packages/pandas/io/parsers.py\u001b[0m in \u001b[0;36m_read\u001b[0;34m(filepath_or_buffer, kwds)\u001b[0m\n\u001b[1;32m    455\u001b[0m \u001b[0;34m\u001b[0m\u001b[0m\n\u001b[1;32m    456\u001b[0m     \u001b[0;31m# Create the parser.\u001b[0m\u001b[0;34m\u001b[0m\u001b[0;34m\u001b[0m\u001b[0;34m\u001b[0m\u001b[0m\n\u001b[0;32m--> 457\u001b[0;31m     \u001b[0mparser\u001b[0m \u001b[0;34m=\u001b[0m \u001b[0mTextFileReader\u001b[0m\u001b[0;34m(\u001b[0m\u001b[0mfp_or_buf\u001b[0m\u001b[0;34m,\u001b[0m \u001b[0;34m**\u001b[0m\u001b[0mkwds\u001b[0m\u001b[0;34m)\u001b[0m\u001b[0;34m\u001b[0m\u001b[0;34m\u001b[0m\u001b[0m\n\u001b[0m\u001b[1;32m    458\u001b[0m \u001b[0;34m\u001b[0m\u001b[0m\n\u001b[1;32m    459\u001b[0m     \u001b[0;32mif\u001b[0m \u001b[0mchunksize\u001b[0m \u001b[0;32mor\u001b[0m \u001b[0miterator\u001b[0m\u001b[0;34m:\u001b[0m\u001b[0;34m\u001b[0m\u001b[0;34m\u001b[0m\u001b[0m\n",
      "\u001b[0;32m~/anaconda3/lib/python3.7/site-packages/pandas/io/parsers.py\u001b[0m in \u001b[0;36m__init__\u001b[0;34m(self, f, engine, **kwds)\u001b[0m\n\u001b[1;32m    893\u001b[0m             \u001b[0mself\u001b[0m\u001b[0;34m.\u001b[0m\u001b[0moptions\u001b[0m\u001b[0;34m[\u001b[0m\u001b[0;34m\"has_index_names\"\u001b[0m\u001b[0;34m]\u001b[0m \u001b[0;34m=\u001b[0m \u001b[0mkwds\u001b[0m\u001b[0;34m[\u001b[0m\u001b[0;34m\"has_index_names\"\u001b[0m\u001b[0;34m]\u001b[0m\u001b[0;34m\u001b[0m\u001b[0;34m\u001b[0m\u001b[0m\n\u001b[1;32m    894\u001b[0m \u001b[0;34m\u001b[0m\u001b[0m\n\u001b[0;32m--> 895\u001b[0;31m         \u001b[0mself\u001b[0m\u001b[0;34m.\u001b[0m\u001b[0m_make_engine\u001b[0m\u001b[0;34m(\u001b[0m\u001b[0mself\u001b[0m\u001b[0;34m.\u001b[0m\u001b[0mengine\u001b[0m\u001b[0;34m)\u001b[0m\u001b[0;34m\u001b[0m\u001b[0;34m\u001b[0m\u001b[0m\n\u001b[0m\u001b[1;32m    896\u001b[0m \u001b[0;34m\u001b[0m\u001b[0m\n\u001b[1;32m    897\u001b[0m     \u001b[0;32mdef\u001b[0m \u001b[0mclose\u001b[0m\u001b[0;34m(\u001b[0m\u001b[0mself\u001b[0m\u001b[0;34m)\u001b[0m\u001b[0;34m:\u001b[0m\u001b[0;34m\u001b[0m\u001b[0;34m\u001b[0m\u001b[0m\n",
      "\u001b[0;32m~/anaconda3/lib/python3.7/site-packages/pandas/io/parsers.py\u001b[0m in \u001b[0;36m_make_engine\u001b[0;34m(self, engine)\u001b[0m\n\u001b[1;32m   1133\u001b[0m     \u001b[0;32mdef\u001b[0m \u001b[0m_make_engine\u001b[0m\u001b[0;34m(\u001b[0m\u001b[0mself\u001b[0m\u001b[0;34m,\u001b[0m \u001b[0mengine\u001b[0m\u001b[0;34m=\u001b[0m\u001b[0;34m\"c\"\u001b[0m\u001b[0;34m)\u001b[0m\u001b[0;34m:\u001b[0m\u001b[0;34m\u001b[0m\u001b[0;34m\u001b[0m\u001b[0m\n\u001b[1;32m   1134\u001b[0m         \u001b[0;32mif\u001b[0m \u001b[0mengine\u001b[0m \u001b[0;34m==\u001b[0m \u001b[0;34m\"c\"\u001b[0m\u001b[0;34m:\u001b[0m\u001b[0;34m\u001b[0m\u001b[0;34m\u001b[0m\u001b[0m\n\u001b[0;32m-> 1135\u001b[0;31m             \u001b[0mself\u001b[0m\u001b[0;34m.\u001b[0m\u001b[0m_engine\u001b[0m \u001b[0;34m=\u001b[0m \u001b[0mCParserWrapper\u001b[0m\u001b[0;34m(\u001b[0m\u001b[0mself\u001b[0m\u001b[0;34m.\u001b[0m\u001b[0mf\u001b[0m\u001b[0;34m,\u001b[0m \u001b[0;34m**\u001b[0m\u001b[0mself\u001b[0m\u001b[0;34m.\u001b[0m\u001b[0moptions\u001b[0m\u001b[0;34m)\u001b[0m\u001b[0;34m\u001b[0m\u001b[0;34m\u001b[0m\u001b[0m\n\u001b[0m\u001b[1;32m   1136\u001b[0m         \u001b[0;32melse\u001b[0m\u001b[0;34m:\u001b[0m\u001b[0;34m\u001b[0m\u001b[0;34m\u001b[0m\u001b[0m\n\u001b[1;32m   1137\u001b[0m             \u001b[0;32mif\u001b[0m \u001b[0mengine\u001b[0m \u001b[0;34m==\u001b[0m \u001b[0;34m\"python\"\u001b[0m\u001b[0;34m:\u001b[0m\u001b[0;34m\u001b[0m\u001b[0;34m\u001b[0m\u001b[0m\n",
      "\u001b[0;32m~/anaconda3/lib/python3.7/site-packages/pandas/io/parsers.py\u001b[0m in \u001b[0;36m__init__\u001b[0;34m(self, src, **kwds)\u001b[0m\n\u001b[1;32m   1915\u001b[0m         \u001b[0mkwds\u001b[0m\u001b[0;34m[\u001b[0m\u001b[0;34m\"usecols\"\u001b[0m\u001b[0;34m]\u001b[0m \u001b[0;34m=\u001b[0m \u001b[0mself\u001b[0m\u001b[0;34m.\u001b[0m\u001b[0musecols\u001b[0m\u001b[0;34m\u001b[0m\u001b[0;34m\u001b[0m\u001b[0m\n\u001b[1;32m   1916\u001b[0m \u001b[0;34m\u001b[0m\u001b[0m\n\u001b[0;32m-> 1917\u001b[0;31m         \u001b[0mself\u001b[0m\u001b[0;34m.\u001b[0m\u001b[0m_reader\u001b[0m \u001b[0;34m=\u001b[0m \u001b[0mparsers\u001b[0m\u001b[0;34m.\u001b[0m\u001b[0mTextReader\u001b[0m\u001b[0;34m(\u001b[0m\u001b[0msrc\u001b[0m\u001b[0;34m,\u001b[0m \u001b[0;34m**\u001b[0m\u001b[0mkwds\u001b[0m\u001b[0;34m)\u001b[0m\u001b[0;34m\u001b[0m\u001b[0;34m\u001b[0m\u001b[0m\n\u001b[0m\u001b[1;32m   1918\u001b[0m         \u001b[0mself\u001b[0m\u001b[0;34m.\u001b[0m\u001b[0munnamed_cols\u001b[0m \u001b[0;34m=\u001b[0m \u001b[0mself\u001b[0m\u001b[0;34m.\u001b[0m\u001b[0m_reader\u001b[0m\u001b[0;34m.\u001b[0m\u001b[0munnamed_cols\u001b[0m\u001b[0;34m\u001b[0m\u001b[0;34m\u001b[0m\u001b[0m\n\u001b[1;32m   1919\u001b[0m \u001b[0;34m\u001b[0m\u001b[0m\n",
      "\u001b[0;32mpandas/_libs/parsers.pyx\u001b[0m in \u001b[0;36mpandas._libs.parsers.TextReader.__cinit__\u001b[0;34m()\u001b[0m\n",
      "\u001b[0;32mpandas/_libs/parsers.pyx\u001b[0m in \u001b[0;36mpandas._libs.parsers.TextReader._setup_parser_source\u001b[0;34m()\u001b[0m\n",
      "\u001b[0;31mFileNotFoundError\u001b[0m: [Errno 2] File b'data/iris.csv' does not exist: b'data/iris.csv'"
     ]
    }
   ],
   "source": [
    "# load iris dataset\n",
    "df = pd.read_csv('data/iris.csv')"
   ]
  },
  {
   "cell_type": "code",
   "execution_count": 72,
   "metadata": {},
   "outputs": [
    {
     "ename": "NameError",
     "evalue": "name 'df' is not defined",
     "output_type": "error",
     "traceback": [
      "\u001b[0;31m---------------------------------------------------------------------------\u001b[0m",
      "\u001b[0;31mNameError\u001b[0m                                 Traceback (most recent call last)",
      "\u001b[0;32m<ipython-input-72-24893083d7b4>\u001b[0m in \u001b[0;36m<module>\u001b[0;34m\u001b[0m\n\u001b[1;32m      1\u001b[0m \u001b[0;31m# n - number of elements in dataset\u001b[0m\u001b[0;34m\u001b[0m\u001b[0;34m\u001b[0m\u001b[0;34m\u001b[0m\u001b[0m\n\u001b[0;32m----> 2\u001b[0;31m \u001b[0mn\u001b[0m \u001b[0;34m=\u001b[0m \u001b[0mlen\u001b[0m\u001b[0;34m(\u001b[0m\u001b[0mdf\u001b[0m\u001b[0;34m)\u001b[0m\u001b[0;34m\u001b[0m\u001b[0;34m\u001b[0m\u001b[0m\n\u001b[0m",
      "\u001b[0;31mNameError\u001b[0m: name 'df' is not defined"
     ]
    }
   ],
   "source": [
    "# n - number of elements in dataset\n",
    "n = len(df)"
   ]
  },
  {
   "cell_type": "code",
   "execution_count": 73,
   "metadata": {},
   "outputs": [],
   "source": [
    "# useful variables\n",
    "feature_columns = [\"sepal.length\", \"sepal.width\", \"petal.length\", \"petal.width\"]\n",
    "target_column = \"variety\"\n",
    "class_number = 3\n",
    "feature_number = 4"
   ]
  },
  {
   "cell_type": "code",
   "execution_count": 74,
   "metadata": {},
   "outputs": [],
   "source": [
    "# dictionaries use to map class name to number\n",
    "name_to_class = {0: \"Setosa\", 1: \"Versicolor\", 2: \"Virginica\"}\n",
    "class_to_name = {\"Setosa\": 0, \"Versicolor\": 1, \"Virginica\": 2}"
   ]
  },
  {
   "cell_type": "code",
   "execution_count": 75,
   "metadata": {},
   "outputs": [
    {
     "ename": "NameError",
     "evalue": "name 'df' is not defined",
     "output_type": "error",
     "traceback": [
      "\u001b[0;31m---------------------------------------------------------------------------\u001b[0m",
      "\u001b[0;31mNameError\u001b[0m                                 Traceback (most recent call last)",
      "\u001b[0;32m<ipython-input-75-4f20abb63ba7>\u001b[0m in \u001b[0;36m<module>\u001b[0;34m\u001b[0m\n\u001b[1;32m      1\u001b[0m \u001b[0;31m# conversion of class name\u001b[0m\u001b[0;34m\u001b[0m\u001b[0;34m\u001b[0m\u001b[0;34m\u001b[0m\u001b[0m\n\u001b[0;32m----> 2\u001b[0;31m \u001b[0mdf\u001b[0m\u001b[0;34m[\u001b[0m\u001b[0mtarget_column\u001b[0m\u001b[0;34m]\u001b[0m \u001b[0;34m=\u001b[0m \u001b[0mdf\u001b[0m\u001b[0;34m[\u001b[0m\u001b[0mtarget_column\u001b[0m\u001b[0;34m]\u001b[0m\u001b[0;34m.\u001b[0m\u001b[0mapply\u001b[0m\u001b[0;34m(\u001b[0m\u001b[0;32mlambda\u001b[0m \u001b[0mx\u001b[0m\u001b[0;34m:\u001b[0m \u001b[0mclass_to_name\u001b[0m\u001b[0;34m[\u001b[0m\u001b[0mx\u001b[0m\u001b[0;34m]\u001b[0m\u001b[0;34m)\u001b[0m\u001b[0;34m\u001b[0m\u001b[0;34m\u001b[0m\u001b[0m\n\u001b[0m",
      "\u001b[0;31mNameError\u001b[0m: name 'df' is not defined"
     ]
    }
   ],
   "source": [
    "# conversion of class name\n",
    "df[target_column] = df[target_column].apply(lambda x: class_to_name[x])"
   ]
  },
  {
   "cell_type": "code",
   "execution_count": 76,
   "metadata": {},
   "outputs": [
    {
     "ename": "NameError",
     "evalue": "name 'df' is not defined",
     "output_type": "error",
     "traceback": [
      "\u001b[0;31m---------------------------------------------------------------------------\u001b[0m",
      "\u001b[0;31mNameError\u001b[0m                                 Traceback (most recent call last)",
      "\u001b[0;32m<ipython-input-76-bb1444b28800>\u001b[0m in \u001b[0;36m<module>\u001b[0;34m\u001b[0m\n\u001b[1;32m      1\u001b[0m \u001b[0;31m# take raw numpy data\u001b[0m\u001b[0;34m\u001b[0m\u001b[0;34m\u001b[0m\u001b[0;34m\u001b[0m\u001b[0m\n\u001b[0;32m----> 2\u001b[0;31m \u001b[0mx\u001b[0m \u001b[0;34m=\u001b[0m \u001b[0mdf\u001b[0m\u001b[0;34m[\u001b[0m\u001b[0mfeature_columns\u001b[0m\u001b[0;34m]\u001b[0m\u001b[0;34m.\u001b[0m\u001b[0mvalues\u001b[0m\u001b[0;34m\u001b[0m\u001b[0;34m\u001b[0m\u001b[0m\n\u001b[0m\u001b[1;32m      3\u001b[0m \u001b[0my\u001b[0m \u001b[0;34m=\u001b[0m \u001b[0mdf\u001b[0m\u001b[0;34m[\u001b[0m\u001b[0mtarget_column\u001b[0m\u001b[0;34m]\u001b[0m\u001b[0;34m.\u001b[0m\u001b[0mvalues\u001b[0m\u001b[0;34m\u001b[0m\u001b[0;34m\u001b[0m\u001b[0m\n",
      "\u001b[0;31mNameError\u001b[0m: name 'df' is not defined"
     ]
    }
   ],
   "source": [
    "# take raw numpy data\n",
    "x = df[feature_columns].values\n",
    "y = df[target_column].values"
   ]
  },
  {
   "cell_type": "code",
   "execution_count": 77,
   "metadata": {},
   "outputs": [
    {
     "name": "stdout",
     "output_type": "stream",
     "text": [
      "-8.881784197001253e-18\n",
      "1.0\n"
     ]
    }
   ],
   "source": [
    "# normalize data to make network input mean value equals 0 and standard deviation 1\n",
    "x = (x - x.mean(0)) / x.std(0)\n",
    "print(x.mean(0))\n",
    "print(x.std(0))"
   ]
  },
  {
   "cell_type": "code",
   "execution_count": 78,
   "metadata": {},
   "outputs": [
    {
     "ename": "NameError",
     "evalue": "name 'torch' is not defined",
     "output_type": "error",
     "traceback": [
      "\u001b[0;31m---------------------------------------------------------------------------\u001b[0m",
      "\u001b[0;31mNameError\u001b[0m                                 Traceback (most recent call last)",
      "\u001b[0;32m<ipython-input-78-891cd9f7f310>\u001b[0m in \u001b[0;36m<module>\u001b[0;34m\u001b[0m\n\u001b[1;32m      1\u001b[0m \u001b[0;31m# conversion numpy array to torch tensor\u001b[0m\u001b[0;34m\u001b[0m\u001b[0;34m\u001b[0m\u001b[0;34m\u001b[0m\u001b[0m\n\u001b[0;32m----> 2\u001b[0;31m \u001b[0mx\u001b[0m \u001b[0;34m=\u001b[0m \u001b[0mtorch\u001b[0m\u001b[0;34m.\u001b[0m\u001b[0mFloatTensor\u001b[0m\u001b[0;34m(\u001b[0m\u001b[0mx\u001b[0m\u001b[0;34m)\u001b[0m\u001b[0;34m\u001b[0m\u001b[0;34m\u001b[0m\u001b[0m\n\u001b[0m\u001b[1;32m      3\u001b[0m \u001b[0my\u001b[0m \u001b[0;34m=\u001b[0m \u001b[0mtorch\u001b[0m\u001b[0;34m.\u001b[0m\u001b[0mLongTensor\u001b[0m\u001b[0;34m(\u001b[0m\u001b[0my\u001b[0m\u001b[0;34m)\u001b[0m\u001b[0;34m\u001b[0m\u001b[0;34m\u001b[0m\u001b[0m\n",
      "\u001b[0;31mNameError\u001b[0m: name 'torch' is not defined"
     ]
    }
   ],
   "source": [
    "# conversion numpy array to torch tensor\n",
    "x = torch.FloatTensor(x)\n",
    "y = torch.LongTensor(y)"
   ]
  },
  {
   "cell_type": "code",
   "execution_count": 79,
   "metadata": {},
   "outputs": [
    {
     "ename": "NameError",
     "evalue": "name 'nn' is not defined",
     "output_type": "error",
     "traceback": [
      "\u001b[0;31m---------------------------------------------------------------------------\u001b[0m",
      "\u001b[0;31mNameError\u001b[0m                                 Traceback (most recent call last)",
      "\u001b[0;32m<ipython-input-79-ffe42cede190>\u001b[0m in \u001b[0;36m<module>\u001b[0;34m\u001b[0m\n\u001b[1;32m      4\u001b[0m \u001b[0;31m# After hidden_layer, there is a sigmoid function because we want the network to return\u001b[0m\u001b[0;34m\u001b[0m\u001b[0;34m\u001b[0m\u001b[0;34m\u001b[0m\u001b[0m\n\u001b[1;32m      5\u001b[0m \u001b[0;31m# probabilities for class assignments [0,1]\u001b[0m\u001b[0;34m\u001b[0m\u001b[0;34m\u001b[0m\u001b[0;34m\u001b[0m\u001b[0m\n\u001b[0;32m----> 6\u001b[0;31m \u001b[0;32mclass\u001b[0m \u001b[0mNet\u001b[0m\u001b[0;34m(\u001b[0m\u001b[0mnn\u001b[0m\u001b[0;34m.\u001b[0m\u001b[0mModule\u001b[0m\u001b[0;34m)\u001b[0m\u001b[0;34m:\u001b[0m\u001b[0;34m\u001b[0m\u001b[0;34m\u001b[0m\u001b[0m\n\u001b[0m\u001b[1;32m      7\u001b[0m     \u001b[0;32mdef\u001b[0m \u001b[0m__init__\u001b[0m\u001b[0;34m(\u001b[0m\u001b[0mself\u001b[0m\u001b[0;34m,\u001b[0m \u001b[0minput_nr\u001b[0m\u001b[0;34m,\u001b[0m \u001b[0mhidden_nr\u001b[0m\u001b[0;34m,\u001b[0m \u001b[0moutput_nr\u001b[0m\u001b[0;34m)\u001b[0m\u001b[0;34m:\u001b[0m\u001b[0;34m\u001b[0m\u001b[0;34m\u001b[0m\u001b[0m\n\u001b[1;32m      8\u001b[0m         \u001b[0msuper\u001b[0m\u001b[0;34m(\u001b[0m\u001b[0mNet\u001b[0m\u001b[0;34m,\u001b[0m \u001b[0mself\u001b[0m\u001b[0;34m)\u001b[0m\u001b[0;34m.\u001b[0m\u001b[0m__init__\u001b[0m\u001b[0;34m(\u001b[0m\u001b[0;34m)\u001b[0m\u001b[0;34m\u001b[0m\u001b[0;34m\u001b[0m\u001b[0m\n",
      "\u001b[0;31mNameError\u001b[0m: name 'nn' is not defined"
     ]
    }
   ],
   "source": [
    "# Simple neural network with one hidden layer with hidden_nr neuron.\n",
    "# Input_layer can detect some features which are then used by hidden_layer to make predictions.\n",
    "# Between input_layer and hidden_layer: use relu as a nonlinear activation function.\n",
    "# After hidden_layer, there is a sigmoid function because we want the network to return \n",
    "# probabilities for class assignments [0,1]\n",
    "class Net(nn.Module):\n",
    "    def __init__(self, input_nr, hidden_nr, output_nr):\n",
    "        super(Net, self).__init__()\n",
    "        self.input_layer = nn.Linear(input_nr, hidden_nr)\n",
    "        self.hidden_layer = nn.Linear(hidden_nr, output_nr)\n",
    "\n",
    "    def forward(self, x):\n",
    "        x = self.input_layer(x)\n",
    "        x = torch.relu(x)\n",
    "        x = self.hidden_layer(x)\n",
    "        return torch.sigmoid(x)"
   ]
  },
  {
   "cell_type": "markdown",
   "metadata": {},
   "source": [
    "Cross entropy loss equals: $- (y=0) * log(p_0) - (y=1) * log(p_1)  - (y=2) * log(p_2)$ \n",
    "where $p_1, p_2,p_3$ are calculated probabilities for 1,2,3 class assignment; and y=0 means y is classified to class 0, and so on."
   ]
  },
  {
   "cell_type": "code",
   "execution_count": 80,
   "metadata": {},
   "outputs": [
    {
     "ename": "NameError",
     "evalue": "name 'nn' is not defined",
     "output_type": "error",
     "traceback": [
      "\u001b[0;31m---------------------------------------------------------------------------\u001b[0m",
      "\u001b[0;31mNameError\u001b[0m                                 Traceback (most recent call last)",
      "\u001b[0;32m<ipython-input-80-0c751a1cb414>\u001b[0m in \u001b[0;36m<module>\u001b[0;34m\u001b[0m\n\u001b[0;32m----> 1\u001b[0;31m \u001b[0mloss_func\u001b[0m \u001b[0;34m=\u001b[0m \u001b[0mnn\u001b[0m\u001b[0;34m.\u001b[0m\u001b[0mCrossEntropyLoss\u001b[0m\u001b[0;34m(\u001b[0m\u001b[0;34m)\u001b[0m\u001b[0;34m\u001b[0m\u001b[0;34m\u001b[0m\u001b[0m\n\u001b[0m",
      "\u001b[0;31mNameError\u001b[0m: name 'nn' is not defined"
     ]
    }
   ],
   "source": [
    "loss_func = nn.CrossEntropyLoss()"
   ]
  },
  {
   "cell_type": "code",
   "execution_count": 81,
   "metadata": {},
   "outputs": [],
   "source": [
    "# accuracy means how many samples are classified correctly\n",
    "def Accuracy(y_target, y_calc):\n",
    "    prediction_class = y_calc.max(1)[1]\n",
    "    number_of_correct = (prediction_class == y).float().sum()\n",
    "    return number_of_correct / n"
   ]
  },
  {
   "cell_type": "code",
   "execution_count": 82,
   "metadata": {},
   "outputs": [],
   "source": [
    "def Step(x, y, model, optim):\n",
    "    optim.zero_grad()\n",
    "    y_calc = model(x)\n",
    "    loss = loss_func(y_calc, y)\n",
    "    loss.backward()\n",
    "    optim.step()\n",
    "    acc = Accuracy(y, y_calc)\n",
    "    return loss, y_calc, acc"
   ]
  },
  {
   "cell_type": "code",
   "execution_count": 83,
   "metadata": {},
   "outputs": [],
   "source": [
    "# Train function trains model for epoch step and collects metrics (loss and accuracy)\n",
    "def Train(x, y, model, optim, epoch):\n",
    "    losses = []\n",
    "    accuracies = []\n",
    "    for i in range(epoch):\n",
    "        loss, y_calc, acc = Step(x, y, model, optim)\n",
    "        losses.append(loss)\n",
    "        accuracies.append(acc)\n",
    "    return losses, accuracies"
   ]
  },
  {
   "cell_type": "code",
   "execution_count": 84,
   "metadata": {},
   "outputs": [],
   "source": [
    "lr = 0.1"
   ]
  },
  {
   "cell_type": "code",
   "execution_count": 85,
   "metadata": {},
   "outputs": [
    {
     "ename": "NameError",
     "evalue": "name 'Net' is not defined",
     "output_type": "error",
     "traceback": [
      "\u001b[0;31m---------------------------------------------------------------------------\u001b[0m",
      "\u001b[0;31mNameError\u001b[0m                                 Traceback (most recent call last)",
      "\u001b[0;32m<ipython-input-85-ae87631a3534>\u001b[0m in \u001b[0;36m<module>\u001b[0;34m\u001b[0m\n\u001b[1;32m      1\u001b[0m \u001b[0;31m# create a model and optimalizer\u001b[0m\u001b[0;34m\u001b[0m\u001b[0;34m\u001b[0m\u001b[0;34m\u001b[0m\u001b[0m\n\u001b[1;32m      2\u001b[0m \u001b[0mhidden_nr\u001b[0m \u001b[0;34m=\u001b[0m \u001b[0;36m5\u001b[0m\u001b[0;34m\u001b[0m\u001b[0;34m\u001b[0m\u001b[0m\n\u001b[0;32m----> 3\u001b[0;31m \u001b[0mmodel\u001b[0m \u001b[0;34m=\u001b[0m \u001b[0mNet\u001b[0m\u001b[0;34m(\u001b[0m\u001b[0mfeature_number\u001b[0m\u001b[0;34m,\u001b[0m \u001b[0mhidden_nr\u001b[0m\u001b[0;34m,\u001b[0m \u001b[0mclass_number\u001b[0m\u001b[0;34m)\u001b[0m\u001b[0;34m\u001b[0m\u001b[0;34m\u001b[0m\u001b[0m\n\u001b[0m\u001b[1;32m      4\u001b[0m \u001b[0moptim\u001b[0m \u001b[0;34m=\u001b[0m \u001b[0mtorch\u001b[0m\u001b[0;34m.\u001b[0m\u001b[0moptim\u001b[0m\u001b[0;34m.\u001b[0m\u001b[0mSGD\u001b[0m\u001b[0;34m(\u001b[0m\u001b[0mmodel\u001b[0m\u001b[0;34m.\u001b[0m\u001b[0mparameters\u001b[0m\u001b[0;34m(\u001b[0m\u001b[0;34m)\u001b[0m\u001b[0;34m,\u001b[0m \u001b[0mlr\u001b[0m\u001b[0;34m)\u001b[0m\u001b[0;34m\u001b[0m\u001b[0;34m\u001b[0m\u001b[0m\n",
      "\u001b[0;31mNameError\u001b[0m: name 'Net' is not defined"
     ]
    }
   ],
   "source": [
    "# create a model and optimalizer\n",
    "hidden_nr = 5\n",
    "model = Net(feature_number, hidden_nr, class_number)\n",
    "optim = torch.optim.SGD(model.parameters(), lr)"
   ]
  },
  {
   "cell_type": "code",
   "execution_count": 86,
   "metadata": {},
   "outputs": [
    {
     "ename": "NameError",
     "evalue": "name 'model' is not defined",
     "output_type": "error",
     "traceback": [
      "\u001b[0;31m---------------------------------------------------------------------------\u001b[0m",
      "\u001b[0;31mNameError\u001b[0m                                 Traceback (most recent call last)",
      "\u001b[0;32m<ipython-input-86-b1f67562a6ba>\u001b[0m in \u001b[0;36m<module>\u001b[0;34m\u001b[0m\n\u001b[1;32m      1\u001b[0m \u001b[0mepoch\u001b[0m \u001b[0;34m=\u001b[0m \u001b[0;36m200\u001b[0m\u001b[0;34m\u001b[0m\u001b[0;34m\u001b[0m\u001b[0m\n\u001b[0;32m----> 2\u001b[0;31m \u001b[0mlosses\u001b[0m\u001b[0;34m,\u001b[0m \u001b[0maccuracies\u001b[0m \u001b[0;34m=\u001b[0m \u001b[0mTrain\u001b[0m\u001b[0;34m(\u001b[0m\u001b[0mx\u001b[0m\u001b[0;34m,\u001b[0m \u001b[0my\u001b[0m\u001b[0;34m,\u001b[0m \u001b[0mmodel\u001b[0m\u001b[0;34m,\u001b[0m \u001b[0moptim\u001b[0m\u001b[0;34m,\u001b[0m \u001b[0mepoch\u001b[0m\u001b[0;34m)\u001b[0m\u001b[0;34m\u001b[0m\u001b[0;34m\u001b[0m\u001b[0m\n\u001b[0m",
      "\u001b[0;31mNameError\u001b[0m: name 'model' is not defined"
     ]
    }
   ],
   "source": [
    "epoch = 200\n",
    "losses, accuracies = Train(x, y, model, optim, epoch)"
   ]
  },
  {
   "cell_type": "code",
   "execution_count": 87,
   "metadata": {},
   "outputs": [
    {
     "data": {
      "image/png": "[encoded data removed]",
      "text/plain": [
       "<Figure size 432x288 with 1 Axes>"
      ]
     },
     "metadata": {
      "needs_background": "light"
     },
     "output_type": "display_data"
    },
    {
     "ename": "NameError",
     "evalue": "name 'accuracies' is not defined",
     "output_type": "error",
     "traceback": [
      "\u001b[0;31m---------------------------------------------------------------------------\u001b[0m",
      "\u001b[0;31mNameError\u001b[0m                                 Traceback (most recent call last)",
      "\u001b[0;32m<ipython-input-87-fc35472427a8>\u001b[0m in \u001b[0;36m<module>\u001b[0;34m\u001b[0m\n\u001b[1;32m      1\u001b[0m \u001b[0mplt\u001b[0m\u001b[0;34m.\u001b[0m\u001b[0mplot\u001b[0m\u001b[0;34m(\u001b[0m\u001b[0mlosses\u001b[0m\u001b[0;34m)\u001b[0m\u001b[0;34m\u001b[0m\u001b[0;34m\u001b[0m\u001b[0m\n\u001b[1;32m      2\u001b[0m \u001b[0mplt\u001b[0m\u001b[0;34m.\u001b[0m\u001b[0mshow\u001b[0m\u001b[0;34m(\u001b[0m\u001b[0;34m)\u001b[0m\u001b[0;34m\u001b[0m\u001b[0;34m\u001b[0m\u001b[0m\n\u001b[0;32m----> 3\u001b[0;31m \u001b[0mplt\u001b[0m\u001b[0;34m.\u001b[0m\u001b[0mplot\u001b[0m\u001b[0;34m(\u001b[0m\u001b[0maccuracies\u001b[0m\u001b[0;34m)\u001b[0m\u001b[0;34m\u001b[0m\u001b[0;34m\u001b[0m\u001b[0m\n\u001b[0m",
      "\u001b[0;31mNameError\u001b[0m: name 'accuracies' is not defined"
     ]
    }
   ],
   "source": [
    "plt.plot(losses)\n",
    "plt.show()\n",
    "plt.plot(accuracies)"
   ]
  },
  {
   "cell_type": "markdown",
   "metadata": {},
   "source": [
    "## Task for 5:\n",
    "Choose one of the following:"
   ]
  },
  {
   "cell_type": "markdown",
   "metadata": {},
   "source": [
    "3.1) Create a repor on testing the impact of different values for learning rate and number of neurons in hidden layer.\n",
    "\n",
    "    test case 1: \n",
    "    learning rate:[ 1, 0.5, 0.1, 0.01, 0.001]\n",
    "    number of neuron in hidden layer: 10\n",
    "    \n",
    "    test case 2: \n",
    "    number of neuron in hidden layer: [1, 2, 5, 10, 20, 100]\n",
    "    learning rate: 0.1\n",
    "\n",
    "\n",
    "Run every test 10 times with 200 epochs. Plot mean losses and accuracies for each test scenario. Make a table containing scores attained after 200 epochs. These scores should include the best, worst, mean, and standard deviation of lossess and accuracies (you can use pandas describe function). \n",
    "\n",
    "\n",
    "    \n",
    "    "
   ]
  },
  {
   "cell_type": "markdown",
   "metadata": {},
   "source": [
    "3.2) If you have a GPU, you can try to make an image classifier shown in https://course.fast.ai/videos/?lesson=2.\n",
    "Watch the video. You can use the original \"animals\" dataset or prepare your own data set - but this should contain at least 4 different classes. \n",
    "\n",
    "Your task is to create a classifier and show working neural network at the laboratory. Furtermore, make a brief report where you:\n",
    "- describe the dataset: number of samples, some examples, how it was prepared, number of samples in train and validation set, are there images which contains more than one class, batch size.\n",
    "- describe the model: tested models\n",
    "- describe the training process: how the verification process looked like, how many epoch it was run for, how long it took, data cleaning, learning rate finder and so on, plots of losses, and accuracy.\n",
    "- describe the result: confusion matrix, examples of correctly/incorrectly classified images."
   ]
  },
  {
   "cell_type": "code",
   "execution_count": null,
   "metadata": {},
   "outputs": [],
   "source": []
  },
  {
   "cell_type": "code",
   "execution_count": null,
   "metadata": {},
   "outputs": [],
   "source": []
  },
  {
   "cell_type": "code",
   "execution_count": null,
   "metadata": {},
   "outputs": [],
   "source": []
  },
  {
   "cell_type": "code",
   "execution_count": null,
   "metadata": {},
   "outputs": [],
   "source": []
  },
  {
   "cell_type": "code",
   "execution_count": null,
   "metadata": {},
   "outputs": [],
   "source": []
  },
  {
   "cell_type": "code",
   "execution_count": null,
   "metadata": {},
   "outputs": [],
   "source": []
  },
  {
   "cell_type": "code",
   "execution_count": null,
   "metadata": {},
   "outputs": [],
   "source": []
  },
  {
   "cell_type": "code",
   "execution_count": null,
   "metadata": {},
   "outputs": [],
   "source": []
  },
  {
   "cell_type": "code",
   "execution_count": null,
   "metadata": {},
   "outputs": [],
   "source": []
  },
  {
   "cell_type": "code",
   "execution_count": null,
   "metadata": {},
   "outputs": [],
   "source": []
  },
  {
   "cell_type": "code",
   "execution_count": null,
   "metadata": {},
   "outputs": [],
   "source": []
  },
  {
   "cell_type": "code",
   "execution_count": null,
   "metadata": {},
   "outputs": [],
   "source": []
  },
  {
   "cell_type": "code",
   "execution_count": null,
   "metadata": {},
   "outputs": [],
   "source": []
  },
  {
   "cell_type": "code",
   "execution_count": null,
   "metadata": {},
   "outputs": [],
   "source": []
  },
  {
   "cell_type": "code",
   "execution_count": null,
   "metadata": {},
   "outputs": [],
   "source": []
  },
  {
   "cell_type": "code",
   "execution_count": null,
   "metadata": {},
   "outputs": [],
   "source": []
  },
  {
   "cell_type": "code",
   "execution_count": null,
   "metadata": {},
   "outputs": [],
   "source": []
  },
  {
   "cell_type": "code",
   "execution_count": null,
   "metadata": {},
   "outputs": [],
   "source": []
  },
  {
   "cell_type": "code",
   "execution_count": null,
   "metadata": {},
   "outputs": [],
   "source": []
  },
  {
   "cell_type": "code",
   "execution_count": null,
   "metadata": {},
   "outputs": [],
   "source": []
  },
  {
   "cell_type": "code",
   "execution_count": null,
   "metadata": {},
   "outputs": [],
   "source": []
  },
  {
   "cell_type": "code",
   "execution_count": null,
   "metadata": {},
   "outputs": [],
   "source": []
  }
 ],
 "metadata": {
  "kernelspec": {
   "display_name": "Python 3",
   "language": "python",
   "name": "python3"
  },
  "language_info": {
   "codemirror_mode": {
    "name": "ipython",
    "version": 3
   },
   "file_extension": ".py",
   "mimetype": "text/x-python",
   "name": "python",
   "nbconvert_exporter": "python",
   "pygments_lexer": "ipython3",
   "version": "3.7.4-final"
  }
 },
 "nbformat": 4,
 "nbformat_minor": 4
}