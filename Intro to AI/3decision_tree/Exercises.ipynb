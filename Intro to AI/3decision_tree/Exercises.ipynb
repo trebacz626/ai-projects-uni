{
 "cells": [
  {
   "cell_type": "code",
   "execution_count": 1,
   "metadata": {},
   "outputs": [],
   "source": [
    "import numpy as np\n",
    "import math\n",
    "import matplotlib.pyplot as plt\n",
    "import pandas as pd\n",
    "import common as cm"
   ]
  },
  {
   "cell_type": "markdown",
   "metadata": {},
   "source": [
    "# Part 1: Information Gain"
   ]
  },
  {
   "cell_type": "markdown",
   "metadata": {},
   "source": [
    "Important note: this exercise uses Pandas (for data manipulation and analysis) and Graphviz (for graph-drawing) libraries. "
   ]
  },
  {
   "cell_type": "markdown",
   "metadata": {},
   "source": [
    "This exercise consists of 3 parts. Complete the first part to get a mark of 3.0, the first two parts to get 4.0, complete all assignments to get 5.0. "
   ]
  },
  {
   "cell_type": "markdown",
   "metadata": {},
   "source": [
    "1.1 ) There are 10 objects (data) characterized with 5 binary attributes:"
   ]
  },
  {
   "cell_type": "code",
   "execution_count": 2,
   "metadata": {},
   "outputs": [],
   "source": [
    "attributeNames = [\"attr 1\", \"attr 2\", \"attr 3\", \"attr 4\", \"attr 5\"]\n",
    "\n",
    "data = pd.DataFrame(\n",
    "    [\n",
    "        [1, 0, 1, 1, 1],\n",
    "        [1, 1, 0, 0, 1],\n",
    "        [0, 1, 1, 1, 1],\n",
    "        [1, 0, 1, 0, 1],\n",
    "        [1, 0, 0, 1, 1],\n",
    "        [0, 0, 1, 1, 1],\n",
    "        [1, 1, 1, 1, 1],\n",
    "        [1, 0, 0, 1, 1],\n",
    "        [0, 1, 0, 0, 1],\n",
    "        [0, 0, 0, 1, 1],\n",
    "    ],\n",
    "    columns=attributeNames,\n",
    ")"
   ]
  },
  {
   "cell_type": "markdown",
   "metadata": {},
   "source": [
    "1.2) Each object is assigned to either a class \"0\" or \"1\". The assignments are as follows (cl):"
   ]
  },
  {
   "cell_type": "code",
   "execution_count": 3,
   "metadata": {},
   "outputs": [],
   "source": [
    "data[\"cl\"] = [1, 1, 1, 0, 0, 1, 1, 1, 0, 0]"
   ]
  },
  {
   "cell_type": "markdown",
   "metadata": {},
   "source": [
    "Hint: How one can read data (columns) in Pandas"
   ]
  },
  {
   "cell_type": "code",
   "execution_count": 4,
   "metadata": {},
   "outputs": [
    {
     "name": "stdout",
     "output_type": "stream",
     "text": [
      "0    1\n",
      "1    1\n",
      "2    1\n",
      "3    0\n",
      "4    0\n",
      "5    1\n",
      "6    1\n",
      "7    1\n",
      "8    0\n",
      "9    0\n",
      "Name: cl, dtype: int64\n",
      "[1, 1, 1, 0, 0, 1, 1, 1, 0, 0]\n",
      "{0, 1}\n",
      "0    1\n",
      "1    1\n",
      "2    0\n",
      "3    1\n",
      "4    1\n",
      "5    0\n",
      "6    1\n",
      "7    1\n",
      "8    0\n",
      "9    0\n",
      "Name: attr 1, dtype: int64\n"
     ]
    }
   ],
   "source": [
    "print(data[\"cl\"])\n",
    "print(list(data[\"cl\"]))\n",
    "print(set(data[\"cl\"]))\n",
    "print(data[\"attr 1\"])"
   ]
  },
  {
   "cell_type": "markdown",
   "metadata": {},
   "source": [
    "1.3 )  Finish the below function for calculating entropy. $H(CL) = - \\sum_{y \\in CL}p(y)log_2p(y)$ It should return a value of entropy for an input vector CL. Assume that $log_2(0)$ is equal to 0."
   ]
  },
  {
   "cell_type": "code",
   "execution_count": 5,
   "metadata": {},
   "outputs": [],
   "source": [
    "def getEntropy(cl):\n",
    "    cl_list =list(cl)\n",
    "    prob_1 = sum([1 if elem_cl==1 else 0 for elem_cl in cl_list])/len(cl_list)\n",
    "    prob_0 = 1-prob_1\n",
    "    entropy =0\n",
    "    if not prob_1 ==0:\n",
    "        entropy-=prob_1*math.log2(prob_1)\n",
    "    if not prob_0 ==0:\n",
    "        entropy-=prob_0*math.log2(prob_0)\n",
    "        \n",
    "    return entropy\n",
    "        \n"
   ]
  },
  {
   "cell_type": "markdown",
   "metadata": {},
   "source": [
    "1.4 ) Calculate the entropy for the CL vector:"
   ]
  },
  {
   "cell_type": "code",
   "execution_count": 6,
   "metadata": {},
   "outputs": [
    {
     "data": {
      "text/plain": [
       "0.9709505944546686"
      ]
     },
     "execution_count": 6,
     "metadata": {},
     "output_type": "execute_result"
    }
   ],
   "source": [
    "### TODO print()\n",
    "getEntropy(data[\"cl\"])"
   ]
  },
  {
   "cell_type": "markdown",
   "metadata": {},
   "source": [
    "1.5) Finish the below function for calculating a conditional entropy: $H(CL|X) = - \\sum_{x \\in X} \\sum_{y \\in CL} p(x,y) log_2 \\frac{p(x,y)}{p(x)}$. Assume that $log_2(0)$ is equal to 0 and if $p(x) = 0$, $\\frac{p(x,y)}{p(x)}$ is equal to 0 as well."
   ]
  },
  {
   "cell_type": "code",
   "execution_count": 7,
   "metadata": {},
   "outputs": [],
   "source": [
    "def getConditionalEntropy(dt,cl, attr):\n",
    "    entropy_0=getEntropy(dt.loc[dt[attr]==0,cl]) if dt.loc[dt[attr]==0,cl].shape[0]>0 else 0\n",
    "    entropy_0*=dt.loc[dt[attr]==0,cl].shape[0]/dt[cl].shape[0]\n",
    "    entropy_1=getEntropy(dt.loc[dt[attr]==1,cl]) if dt.loc[dt[attr]==1,cl].shape[0]>0 else 0\n",
    "    entropy_1*=dt.loc[dt[attr]==1,cl].shape[0]/dt[cl].shape[0]\n",
    "    return entropy_0+entropy_1"
   ]
  },
  {
   "cell_type": "markdown",
   "metadata": {},
   "source": [
    "1.6 ) Calculate conditional entropies for given attribiutes."
   ]
  },
  {
   "cell_type": "code",
   "execution_count": 8,
   "metadata": {},
   "outputs": [
    {
     "name": "stdout",
     "output_type": "stream",
     "text": [
      "0.9509775004326937\n",
      "0.9709505944546686\n"
     ]
    }
   ],
   "source": [
    "print(getConditionalEntropy(data,\"cl\", \"attr 1\"))\n",
    "print(getConditionalEntropy(data,\"cl\", \"attr 5\"))"
   ]
  },
  {
   "cell_type": "markdown",
   "metadata": {},
   "source": [
    "1.7 ) Which entropy is lesser and why?"
   ]
  },
  {
   "cell_type": "markdown",
   "metadata": {},
   "source": [
    "1.8) Finish the below function for calculating information gain:"
   ]
  },
  {
   "cell_type": "code",
   "execution_count": 9,
   "metadata": {},
   "outputs": [],
   "source": [
    "def getInformationGain(dt,cl, attr):\n",
    "    return getEntropy(dt[cl]) - getConditionalEntropy(dt,cl,attr)\n",
    "    ### TODO\n",
    "    ### return 0.0"
   ]
  },
  {
   "cell_type": "code",
   "execution_count": 10,
   "metadata": {},
   "outputs": [
    {
     "name": "stdout",
     "output_type": "stream",
     "text": [
      "0.01997309402197489\n",
      "0.0\n"
     ]
    }
   ],
   "source": [
    "print(getInformationGain(data,\"cl\", \"attr 1\"))\n",
    "print(getInformationGain(data,\"cl\", \"attr 5\"))"
   ]
  },
  {
   "cell_type": "markdown",
   "metadata": {},
   "source": [
    "# Part 2: ID3 algorithm"
   ]
  },
  {
   "cell_type": "markdown",
   "metadata": {},
   "source": [
    "Decision tree consists of decision nodes and leaves. Nodes split data while leaves classify objects. Consider the class \"Node\" provided below. It consists of 4 fields:\n",
    "- attr - attribute ID (use the names in attributeNames vector)\n",
    "- left - left branch, i.e., a reference to other node\n",
    "- right - right branch, i.e., a reference to other node\n",
    "- value - a decision. If node = None, then the node is not a leaf. If value is not None, then a node is considered a leaf. \n",
    "\n",
    "Method __call__ returns the decision if the node is a leaf (i.e., when value is not None). \n",
    "Otherwise, it calls either the left or the right branch of an input object, based on the attribute value (0 -> left children; 1 -> right children). In this way, we can traverse the decision tree in order to find the final decision."
   ]
  },
  {
   "cell_type": "code",
   "execution_count": 11,
   "metadata": {},
   "outputs": [
    {
     "name": "stdout",
     "output_type": "stream",
     "text": [
      "3\n",
      "4\n",
      "2\n",
      "2\n"
     ]
    }
   ],
   "source": [
    "class Node:\n",
    "    def __init__(self, attr, left, right, value):\n",
    "        self.attr = attr\n",
    "        self.left = left\n",
    "        self.right = right\n",
    "        self.value = value\n",
    "\n",
    "    def __call__(self, obj):\n",
    "        if self.value is None:\n",
    "            if obj[self.attr] == 0:\n",
    "                return self.left(obj)\n",
    "            else:\n",
    "                return self.right(obj)\n",
    "        else:\n",
    "            return self.value\n",
    "        \n",
    "### EXAMPLE\n",
    "def example(obj):\n",
    "    root = Node(0, None, None, None)\n",
    "    lChildren = Node(1, None, None, None)\n",
    "    rChildren = Node(None, None, None, 2)\n",
    "    root.left = lChildren\n",
    "    root.right = rChildren\n",
    "    llChildren = Node(None, None, None, 3)\n",
    "    rrChildren = Node(None, None, None, 4)\n",
    "    lChildren.left = llChildren\n",
    "    lChildren.right = rrChildren\n",
    "    print(root(obj))\n",
    "    \n",
    "example([0, 0])\n",
    "example([0, 1])\n",
    "example([1, 0])\n",
    "example([1, 1])"
   ]
  },
  {
   "cell_type": "markdown",
   "metadata": {},
   "source": [
    "2.1) Create an initial root. Set the value (decision) to 1. "
   ]
  },
  {
   "cell_type": "code",
   "execution_count": 12,
   "metadata": {},
   "outputs": [
    {
     "name": "stdout",
     "output_type": "stream",
     "text": [
      "1\n"
     ]
    }
   ],
   "source": [
    "root = Node(0, None, None, 1)\n",
    "print(root([0,0]))"
   ]
  },
  {
   "cell_type": "markdown",
   "metadata": {},
   "source": [
    "2.2) Use a getErrorRate method in common.py auxiliary file to calculate the error rate. The decision is made based on the majority rule. In case of tie, the method takes 0 as the default class."
   ]
  },
  {
   "cell_type": "code",
   "execution_count": 13,
   "metadata": {},
   "outputs": [
    {
     "data": {
      "text/plain": [
       "0.4"
      ]
     },
     "execution_count": 13,
     "metadata": {},
     "output_type": "execute_result"
    }
   ],
   "source": [
    "### TODO\n",
    "cm.getErrorRate(root,data)"
   ]
  },
  {
   "cell_type": "markdown",
   "metadata": {},
   "source": [
    "2.3) Use printGraph method (see the common.py file) to draw the decision tree and save it in a png file."
   ]
  },
  {
   "cell_type": "code",
   "execution_count": 14,
   "metadata": {},
   "outputs": [],
   "source": [
    "### TODO\n",
    "cm.printGraph(root,data)"
   ]
  },
  {
   "cell_type": "markdown",
   "metadata": {},
   "source": [
    "2.4) Calculate information gain for all attribiutes."
   ]
  },
  {
   "cell_type": "code",
   "execution_count": 15,
   "metadata": {},
   "outputs": [
    {
     "name": "stdout",
     "output_type": "stream",
     "text": [
      "attr 1\n",
      "0.01997309402197489\n",
      "attr 2\n",
      "0.0464393446710154\n",
      "attr 3\n",
      "0.12451124978365313\n",
      "attr 4\n",
      "0.0912774462416801\n",
      "attr 5\n",
      "0.0\n"
     ]
    }
   ],
   "source": [
    "def printInformationGain(data):\n",
    "    for attribute_name in attributeNames:\n",
    "        print(attribute_name)\n",
    "        print(getInformationGain(data,\"cl\",attribute_name))\n",
    "        \n",
    "printInformationGain(data)"
   ]
  },
  {
   "cell_type": "markdown",
   "metadata": {},
   "source": [
    "2.5) Choose the best attribute to split the data. Construct two new nodes: one for $x_i$ = 0 decision and the second for $x_i$ = 1; connect them with the root (left and right branch). Remember to update the root. "
   ]
  },
  {
   "cell_type": "code",
   "execution_count": 16,
   "metadata": {},
   "outputs": [],
   "source": [
    "### TODO\n",
    "root = Node(\"attr 3\", None, None, None)\n",
    "child_l1_0 = Node(None, None, None, 0)\n",
    "child_l1_1 = Node(None, None, None, 1)\n",
    "root.left = child_l1_0\n",
    "root.right = child_l1_1"
   ]
  },
  {
   "cell_type": "markdown",
   "metadata": {},
   "source": [
    "2.6) Print the graph and calculate the error rate. What happened with the error rate?"
   ]
  },
  {
   "cell_type": "code",
   "execution_count": 17,
   "metadata": {},
   "outputs": [
    {
     "data": {
      "text/plain": [
       "0.30000000000000004"
      ]
     },
     "execution_count": 17,
     "metadata": {},
     "output_type": "execute_result"
    }
   ],
   "source": [
    "### TODO\n",
    "cm.printGraph(root,data,fileName=\"obr.jpg\")\n",
    "cm.getErrorRate(root,data)"
   ]
  },
  {
   "cell_type": "markdown",
   "metadata": {},
   "source": [
    "2.7) Split the 'data' (table) based on the selected attribiute, i.e., create two new tables."
   ]
  },
  {
   "cell_type": "code",
   "execution_count": 18,
   "metadata": {},
   "outputs": [
    {
     "name": "stdout",
     "output_type": "stream",
     "text": [
      "   attr 1  attr 2  attr 3  attr 4  attr 5  cl\n",
      "1       1       1       0       0       1   1\n",
      "4       1       0       0       1       1   0\n",
      "7       1       0       0       1       1   1\n",
      "8       0       1       0       0       1   0\n",
      "9       0       0       0       1       1   0\n",
      "   attr 1  attr 2  attr 3  attr 4  attr 5  cl\n",
      "0       1       0       1       1       1   1\n",
      "2       0       1       1       1       1   1\n",
      "3       1       0       1       0       1   0\n",
      "5       0       0       1       1       1   1\n",
      "6       1       1       1       1       1   1\n"
     ]
    }
   ],
   "source": [
    "### TODO\n",
    "left_data = data.loc[data[\"attr 3\"]==0]\n",
    "right_data = data.loc[data[\"attr 3\"]==1]\n",
    "print(left_data)\n",
    "print(right_data)"
   ]
  },
  {
   "cell_type": "markdown",
   "metadata": {},
   "source": [
    "2.8) Let us start with the left node. Firstly, calculate information gain for this node."
   ]
  },
  {
   "cell_type": "code",
   "execution_count": 19,
   "metadata": {},
   "outputs": [
    {
     "name": "stdout",
     "output_type": "stream",
     "text": [
      "attr 1\n",
      "0.4199730940219749\n",
      "attr 2\n",
      "0.01997309402197489\n",
      "attr 3\n",
      "0.0\n",
      "attr 4\n",
      "0.01997309402197489\n",
      "attr 5\n",
      "0.0\n"
     ]
    }
   ],
   "source": [
    "### TODO\n",
    "printInformationGain(left_data)"
   ]
  },
  {
   "cell_type": "markdown",
   "metadata": {},
   "source": [
    "2.9) Choose the best attribute to split the data and then update the decision tree."
   ]
  },
  {
   "cell_type": "code",
   "execution_count": 20,
   "metadata": {},
   "outputs": [],
   "source": [
    "### TODO\n",
    "root.left=Node('attr 1',None,None,None)\n",
    "root.left.left = Node(None, None, None, 0)\n",
    "root.left.right = Node(None, None, None, 1)"
   ]
  },
  {
   "cell_type": "markdown",
   "metadata": {},
   "source": [
    "2.10) Print the graph and calculate the error rate. What happened with the error rate?"
   ]
  },
  {
   "cell_type": "code",
   "execution_count": 21,
   "metadata": {},
   "outputs": [
    {
     "data": {
      "text/plain": [
       "0.19999999999999996"
      ]
     },
     "execution_count": 21,
     "metadata": {},
     "output_type": "execute_result"
    }
   ],
   "source": [
    "cm.printGraph(root,data)\n",
    "cm.getErrorRate(root,data)"
   ]
  },
  {
   "cell_type": "markdown",
   "metadata": {},
   "source": [
    "2.11) Split data (remember that we split left_data, not data)."
   ]
  },
  {
   "cell_type": "code",
   "execution_count": 22,
   "metadata": {},
   "outputs": [
    {
     "name": "stdout",
     "output_type": "stream",
     "text": [
      "   attr 1  attr 2  attr 3  attr 4  attr 5  cl\n",
      "8       0       1       0       0       1   0\n",
      "9       0       0       0       1       1   0\n",
      "   attr 1  attr 2  attr 3  attr 4  attr 5  cl\n",
      "1       1       1       0       0       1   1\n",
      "4       1       0       0       1       1   0\n",
      "7       1       0       0       1       1   1\n"
     ]
    }
   ],
   "source": [
    "### TODO\n",
    "left_left_data = left_data.loc[left_data[\"attr 1\"]==0]\n",
    "left_right_data = left_data.loc[left_data[\"attr 1\"]==1]\n",
    "print(left_left_data)\n",
    "print(left_right_data)"
   ]
  },
  {
   "cell_type": "markdown",
   "metadata": {},
   "source": [
    "2.12) Repeat the whole process for the right node."
   ]
  },
  {
   "cell_type": "code",
   "execution_count": 23,
   "metadata": {},
   "outputs": [
    {
     "name": "stdout",
     "output_type": "stream",
     "text": [
      "attr 1\n",
      "0.17095059445466865\n",
      "attr 2\n",
      "0.17095059445466865\n",
      "attr 3\n",
      "0.0\n",
      "attr 4\n",
      "0.7219280948873623\n",
      "attr 5\n",
      "0.0\n"
     ]
    }
   ],
   "source": [
    "# TODO compute the information gain\n",
    "printInformationGain(right_data)"
   ]
  },
  {
   "cell_type": "code",
   "execution_count": 24,
   "metadata": {},
   "outputs": [],
   "source": [
    "# TODO update the decision tree\n",
    "root.right=Node(3,None,None,None)\n",
    "root.right.left = Node(None, None, None, 0)\n",
    "root.right.right = Node(None, None, None, 1)"
   ]
  },
  {
   "cell_type": "code",
   "execution_count": 25,
   "metadata": {},
   "outputs": [
    {
     "data": {
      "text/plain": [
       "0.09999999999999998"
      ]
     },
     "execution_count": 25,
     "metadata": {},
     "output_type": "execute_result"
    }
   ],
   "source": [
    "# TODO print the decision tree and calculate the error rate\n",
    "cm.printGraph(root)\n",
    "cm.getErrorRate(root,data)"
   ]
  },
  {
   "cell_type": "code",
   "execution_count": 26,
   "metadata": {
    "scrolled": true
   },
   "outputs": [
    {
     "name": "stdout",
     "output_type": "stream",
     "text": [
      "   attr 1  attr 2  attr 3  attr 4  attr 5  cl\n",
      "3       1       0       1       0       1   0\n",
      "   attr 1  attr 2  attr 3  attr 4  attr 5  cl\n",
      "0       1       0       1       1       1   1\n",
      "2       0       1       1       1       1   1\n",
      "5       0       0       1       1       1   1\n",
      "6       1       1       1       1       1   1\n"
     ]
    }
   ],
   "source": [
    "# TODO split the data (right_data)\n",
    "right_left_data = right_data.loc[right_data[\"attr 4\"]==0]\n",
    "right_right_data = right_data.loc[right_data[\"attr 4\"]==1]\n",
    "print(right_left_data)\n",
    "print(right_right_data)"
   ]
  },
  {
   "cell_type": "markdown",
   "metadata": {},
   "source": [
    "2.13) Let's consider left-left node. Calculate information gain for it."
   ]
  },
  {
   "cell_type": "code",
   "execution_count": 27,
   "metadata": {},
   "outputs": [
    {
     "name": "stdout",
     "output_type": "stream",
     "text": [
      "attr 1\n",
      "0.0\n",
      "attr 2\n",
      "0.0\n",
      "attr 3\n",
      "0.0\n",
      "attr 4\n",
      "0.0\n",
      "attr 5\n",
      "0.0\n"
     ]
    }
   ],
   "source": [
    "# TODO\n",
    "printInformationGain(left_left_data)\n",
    "#because entropy of this data is equal to 0"
   ]
  },
  {
   "cell_type": "markdown",
   "metadata": {},
   "source": [
    "2.14) Will adding a new node to the tree improve its effectiveness? Why? Why not?"
   ]
  },
  {
   "cell_type": "markdown",
   "metadata": {},
   "source": [
    "2.15) Calculate information gain for the left-right node."
   ]
  },
  {
   "cell_type": "code",
   "execution_count": 28,
   "metadata": {},
   "outputs": [
    {
     "name": "stdout",
     "output_type": "stream",
     "text": [
      "attr 1\n",
      "0.0\n",
      "attr 2\n",
      "0.2516291673878229\n",
      "attr 3\n",
      "0.0\n",
      "attr 4\n",
      "0.2516291673878229\n",
      "attr 5\n",
      "0.0\n"
     ]
    }
   ],
   "source": [
    "printInformationGain(left_right_data)"
   ]
  },
  {
   "cell_type": "code",
   "execution_count": 29,
   "metadata": {},
   "outputs": [],
   "source": [
    "### Select the attribute and update the tree\n",
    "root.left.right=Node(1,None,None,None)\n",
    "root.left.right.left = Node(None, None, None, 0)\n",
    "root.left.right.right = Node(None, None, None, 1)"
   ]
  },
  {
   "cell_type": "code",
   "execution_count": 30,
   "metadata": {},
   "outputs": [
    {
     "data": {
      "text/plain": [
       "0.09999999999999998"
      ]
     },
     "execution_count": 30,
     "metadata": {},
     "output_type": "execute_result"
    }
   ],
   "source": [
    "### Print the decision tree and compute the error rate\n",
    "cm.printGraph(root)\n",
    "cm.getErrorRate(root,data)"
   ]
  },
  {
   "cell_type": "markdown",
   "metadata": {},
   "source": [
    "2.16) What happened with the error rate? Is it necessary to keep these two newly added leaves?"
   ]
  },
  {
   "cell_type": "markdown",
   "metadata": {},
   "source": [
    "2.17) Finish creating the right side of the tree"
   ]
  },
  {
   "cell_type": "code",
   "execution_count": 31,
   "metadata": {},
   "outputs": [],
   "source": [
    "### TODO\n",
    "#it's already ok"
   ]
  },
  {
   "cell_type": "markdown",
   "metadata": {},
   "source": [
    "# Part 3: automated construction of decision trees"
   ]
  },
  {
   "cell_type": "markdown",
   "metadata": {},
   "source": [
    "3.1 Complete the following function for automated construct of decision trees, so that it returns a decision tree for the given data and attribute list. Note that this is a recusive method, i.e., calls itself."
   ]
  },
  {
   "cell_type": "code",
   "execution_count": 32,
   "metadata": {},
   "outputs": [
    {
     "data": {
      "text/plain": [
       "[0.01997309402197489,\n",
       " 0.0464393446710154,\n",
       " 0.12451124978365313,\n",
       " 0.0912774462416801,\n",
       " 0.0]"
      ]
     },
     "execution_count": 32,
     "metadata": {},
     "output_type": "execute_result"
    }
   ],
   "source": [
    "def getInformationGanes(dt,attribute_names):\n",
    "    return list(map(lambda name:getInformationGain(dt,\"cl\",name),attribute_names))\n",
    "    #for attribute_name in attributeNames:\n",
    "        #print(getInformationGain(dt,\"cl\",attribute_name))\n",
    "getInformationGanes(data,attributeNames)"
   ]
  },
  {
   "cell_type": "code",
   "execution_count": 40,
   "metadata": {},
   "outputs": [
    {
     "data": {
      "text/plain": [
       "0.09999999999999998"
      ]
     },
     "execution_count": 40,
     "metadata": {},
     "output_type": "execute_result"
    }
   ],
   "source": [
    "max_depth = 4\n",
    "\n",
    "def createTree(data, attribute_names, depth=0):\n",
    "    data = data.reset_index().drop(\"index\", axis=1)\n",
    "    gains = getInformationGanes(data,attribute_names)\n",
    "    max_gain=max(gains)\n",
    "    if max_gain == 0 or depth==max_depth:\n",
    "        return Node(None,None,None,1 if data.loc[data[\"cl\"]==1].shape[0]*2>=data.shape[0] else 0)\n",
    "    attr_id = gains.index(max_gain)\n",
    "    node= Node(\"attr \"+str(attr_id+1),None,None,None)\n",
    "    node.left = createTree(data.loc[data[attribute_names[attr_id]]==0],attribute_names,depth+1)\n",
    "    node.right = createTree(data.loc[data[attribute_names[attr_id]]==1],attribute_names,depth+1)\n",
    "    return node\n",
    "    ### TODO\n",
    "root =createTree(data,attributeNames)\n",
    "cm.printGraph(root)\n",
    "cm.getErrorRate(root,data)"
   ]
  },
  {
   "cell_type": "markdown",
   "metadata": {},
   "source": [
    "3.2) Build a decision tree for a training dataset in the common.py auxiliary file, for diffrent values of max_depth.  Calculate & compare the error rates for training and validation datasets."
   ]
  },
  {
   "cell_type": "code",
   "execution_count": 41,
   "metadata": {},
   "outputs": [],
   "source": [
    "max_depth = 10"
   ]
  },
  {
   "cell_type": "code",
   "execution_count": 42,
   "metadata": {},
   "outputs": [
    {
     "name": "stdout",
     "output_type": "stream",
     "text": [
      "max depth: 0\n",
      "0.4\n",
      "0.5\n",
      "max depth: 1\n",
      "0.35\n",
      "0.5\n",
      "max depth: 2\n",
      "0.30000000000000004\n",
      "0.5\n",
      "max depth: 3\n",
      "0.25\n",
      "0.4\n",
      "max depth: 4\n",
      "0.25\n",
      "0.5\n",
      "max depth: 5\n",
      "0.19999999999999996\n",
      "0.30000000000000004\n",
      "max depth: 6\n",
      "0.19999999999999996\n",
      "0.30000000000000004\n",
      "max depth: 7\n",
      "0.19999999999999996\n",
      "0.30000000000000004\n",
      "max depth: 8\n",
      "0.19999999999999996\n",
      "0.30000000000000004\n",
      "max depth: 9\n",
      "0.19999999999999996\n",
      "0.30000000000000004\n"
     ]
    }
   ],
   "source": [
    "### TODO\n",
    "for i in range(10):\n",
    "    max_depth = i\n",
    "    print(\"max depth: \"+str(max_depth))\n",
    "    root =createTree(cm.getTrainingDataSet()[1],cm.getTrainingDataSet()[0])\n",
    "    cm.printGraph(root)\n",
    "    print(cm.getErrorRate(root,cm.getTrainingDataSet()[1]))\n",
    "    print(cm.getErrorRate(root,cm.getValidationDataSet()[1]))"
   ]
  },
  {
   "cell_type": "code",
   "execution_count": 36,
   "metadata": {},
   "outputs": [],
   "source": [
    "### TODO"
   ]
  },
  {
   "cell_type": "markdown",
   "metadata": {},
   "source": [
    "3.3) Consider only the training data set and answer the following questions:\n",
    "* What is the miximum depth of the tree (consider only the training data set)?\n",
    "* The tree building process should stop when there is no improvement in error rate (why?). Check for which value of \"max_dept\" there is no improvement in error rate. "
   ]
  },
  {
   "cell_type": "code",
   "execution_count": 37,
   "metadata": {},
   "outputs": [
    {
     "name": "stdout",
     "output_type": "stream",
     "text": [
      "0.4\n",
      "0.35\n",
      "0.30000000000000004\n",
      "0.25\n",
      "0.25\n",
      "0.19999999999999996\n",
      "0.19999999999999996\n",
      "0.19999999999999996\n",
      "0.19999999999999996\n",
      "0.19999999999999996\n"
     ]
    }
   ],
   "source": [
    "for i in range(10):\n",
    "    max_depth = i\n",
    "    root =createTree(cm.getTrainingDataSet()[1],cm.getTrainingDataSet()[0])\n",
    "    print(cm.getErrorRate(root,cm.getTrainingDataSet()[1]))\n",
    "    \n",
    "    ### TODO"
   ]
  },
  {
   "cell_type": "markdown",
   "metadata": {},
   "source": [
    "Max depth should be 5 now"
   ]
  },
  {
   "cell_type": "code",
   "execution_count": null,
   "metadata": {},
   "outputs": [],
   "source": []
  }
 ],
 "metadata": {
  "kernelspec": {
   "display_name": "Python 3",
   "language": "python",
   "name": "python3"
  },
  "language_info": {
   "codemirror_mode": {
    "name": "ipython",
    "version": 3
   },
   "file_extension": ".py",
   "mimetype": "text/x-python",
   "name": "python",
   "nbconvert_exporter": "python",
   "pygments_lexer": "ipython3",
   "version": "3.7.4"
  },
  "toc-autonumbering": false,
  "toc-showcode": false,
  "toc-showmarkdowntxt": true
 },
 "nbformat": 4,
 "nbformat_minor": 4
}
