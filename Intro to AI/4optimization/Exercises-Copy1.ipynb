{
 "cells": [
  {
   "cell_type": "markdown",
   "metadata": {},
   "source": [
    "# Travelling Salesman Problem (TSP)"
   ]
  },
  {
   "cell_type": "markdown",
   "metadata": {},
   "source": [
    "There are N cities. Given is a distance matrix M=NxN, where $M[i][j]$ is a distance from the i-th to the j-th city.\n",
    "In this exercise, we consider a symmetrical variant of TSP, i.e., $M[i][j] = M[j][i]$. Furhermore, $M[i][i] = 0$.\n",
    "The objective is to find the shortest path traversing through each city once. In other words: <br> Let s=[3,1,...,5] be some N-element permutation of indices. We want to find such a permutation that $\\sum_{k=2,...,N}M[s[k-1]][s[k]]$ is optimal (minimal)."
   ]
  },
  {
   "cell_type": "markdown",
   "metadata": {},
   "source": [
    "This exercise consists of three parts. Finish the first part to get a mark of 3.0; the first two parts for 4.0. Complete all three parts to get 5.0."
   ]
  },
  {
   "cell_type": "markdown",
   "metadata": {},
   "source": [
    "# Part 1: Evolutionary algorithm"
   ]
  },
  {
   "cell_type": "code",
   "execution_count": 3,
   "metadata": {},
   "outputs": [],
   "source": [
    "import common as cm\n",
    "import numpy as np\n",
    "import matplotlib.pyplot as plt\n",
    "from random import randint\n",
    "import random\n",
    "%matplotlib inline"
   ]
  },
  {
   "cell_type": "markdown",
   "metadata": {},
   "source": [
    "### 1.1) Evaluation"
   ]
  },
  {
   "cell_type": "markdown",
   "metadata": {},
   "source": [
    "Complete the below function. It should evaluate an input solution (decision vector, vector of indices) in terms of TSP distance criterion. M is a distance matrix. Return the computed total distance."
   ]
  },
  {
   "cell_type": "code",
   "execution_count": 4,
   "metadata": {},
   "outputs": [
    {
     "name": "stdout",
     "output_type": "stream",
     "text": [
      "122.49663138589409\n",
      "150.0406828847588\n",
      "229.44917077038633\n"
     ]
    }
   ],
   "source": [
    "def getEvaluation(solution, M):\n",
    "    return sum([M[solution[i-1]][solution[i]] for i in range(2,len(solution))])\n",
    "    #return distance\n",
    "\n",
    "M = cm.getTutorialDistanceMatrix() ### 6 CITIES\n",
    "print(getEvaluation([0,1,2,3,4,5], M)) \n",
    "print(getEvaluation([5,4,3,2,1,0], M))\n",
    "print(getEvaluation([0,2,1,3,5,4], M))"
   ]
  },
  {
   "cell_type": "markdown",
   "metadata": {},
   "source": [
    "### 1.2) Validation"
   ]
  },
  {
   "cell_type": "markdown",
   "metadata": {},
   "source": [
    "This function can be used to validate the solution, i.e., to check if a given solution vector is of a proper size and to check if each element is unique."
   ]
  },
  {
   "cell_type": "code",
   "execution_count": 5,
   "metadata": {},
   "outputs": [
    {
     "name": "stdout",
     "output_type": "stream",
     "text": [
      "False\n",
      "True\n",
      "False\n",
      "False\n"
     ]
    }
   ],
   "source": [
    "def isValid(solution, cities):\n",
    "    if len(solution) != cities: return False\n",
    "    s = set(solution)\n",
    "    e = set([i for i in range(cities)])\n",
    "    if s==e: return True\n",
    "    else: return False\n",
    "    \n",
    "print(isValid([0,1,2,3,4,5,6], 6)) # FALSE\n",
    "print(isValid([0,1,2,3,4,5], 6)) # TRUE\n",
    "print(isValid([0,1,2,3,4,5,5], 6)) # FALSE\n",
    "print(isValid([0,1,1,2,3,2], 6)) # FALSE"
   ]
  },
  {
   "cell_type": "markdown",
   "metadata": {},
   "source": [
    "### 1.3) Initialization"
   ]
  },
  {
   "cell_type": "markdown",
   "metadata": {},
   "source": [
    "We need to create a population of solutions. These solutions - initially - can be generated randomly. \n",
    "Firstly, complete getRandomSolution function (cities = the number of cities considered in the TSP problem).\n",
    "It should generate a random permutation of [0,1,...,cities] vector. You can use np.random.shuffle function. Then, \n",
    "finish getInitialPopulation method. It should return a populationSize-element vector of pairs [distance, solution], where a solution is a random permutation of indices, and distance = the total distance (solution evaluation). "
   ]
  },
  {
   "cell_type": "code",
   "execution_count": 6,
   "metadata": {},
   "outputs": [
    {
     "name": "stdout",
     "output_type": "stream",
     "text": [
      "282.59038378507034 : [0, 1, 3, 5, 2, 4]\n",
      "246.78885666007983 : [0, 4, 3, 1, 2, 5]\n",
      "247.68369804126687 : [2, 3, 0, 5, 1, 4]\n",
      "133.39140613255333 : [5, 1, 2, 3, 4, 0]\n",
      "195.1579172066445 : [5, 1, 0, 2, 3, 4]\n",
      "167.61386570777978 : [1, 0, 2, 3, 4, 5]\n",
      "192.74966380948212 : [3, 2, 1, 5, 4, 0]\n",
      "350.58574568534107 : [4, 2, 5, 1, 3, 0]\n",
      "141.65162979115357 : [0, 2, 1, 4, 3, 5]\n",
      "327.76416200255335 : [4, 5, 1, 2, 0, 3]\n"
     ]
    }
   ],
   "source": [
    "def getRandomSolution(cities):\n",
    "    result =[i for i in range(cities)]\n",
    "    np.random.shuffle(result)\n",
    "    return result\n",
    "\n",
    "def getInitialPopulation(populationSize, cities, M):\n",
    "    return [(lambda sol:[getEvaluation(sol,M),sol])(getRandomSolution(cities)) for i in range(populationSize)]\n",
    "\n",
    "def printPopulation(population):\n",
    "    for s in population:\n",
    "        print(str(s[0]) + \" : \" + str(s[1]))\n",
    "\n",
    "population = getInitialPopulation(10, 6, M)\n",
    "printPopulation(population)"
   ]
  },
  {
   "cell_type": "markdown",
   "metadata": {},
   "source": [
    "### 1.4) Sort population"
   ]
  },
  {
   "cell_type": "markdown",
   "metadata": {},
   "source": [
    "The below function should sort the population according to the distance, i.e., according to the first element of each pair. These should be ordered from the smallest to the largest.You can use .sort method and a lambda function."
   ]
  },
  {
   "cell_type": "code",
   "execution_count": 7,
   "metadata": {},
   "outputs": [
    {
     "name": "stdout",
     "output_type": "stream",
     "text": [
      "133.39140613255333 : [5, 1, 2, 3, 4, 0]\n",
      "141.65162979115357 : [0, 2, 1, 4, 3, 5]\n",
      "167.61386570777978 : [1, 0, 2, 3, 4, 5]\n",
      "192.74966380948212 : [3, 2, 1, 5, 4, 0]\n",
      "195.1579172066445 : [5, 1, 0, 2, 3, 4]\n",
      "246.78885666007983 : [0, 4, 3, 1, 2, 5]\n",
      "247.68369804126687 : [2, 3, 0, 5, 1, 4]\n",
      "282.59038378507034 : [0, 1, 3, 5, 2, 4]\n",
      "327.76416200255335 : [4, 5, 1, 2, 0, 3]\n",
      "350.58574568534107 : [4, 2, 5, 1, 3, 0]\n"
     ]
    }
   ],
   "source": [
    "def sortPopulation(population):\n",
    "    population.sort(key=lambda p:p[0])\n",
    "\n",
    "sortPopulation(population)\n",
    "printPopulation(population)"
   ]
  },
  {
   "cell_type": "markdown",
   "metadata": {},
   "source": [
    "### 1.5) Summarize the population"
   ]
  },
  {
   "cell_type": "markdown",
   "metadata": {},
   "source": [
    "The below function should compute minimum, mean, and maximum value of the total distances of solutions in the population. Return these statistics as [min, mean, max] vector. "
   ]
  },
  {
   "cell_type": "code",
   "execution_count": 8,
   "metadata": {},
   "outputs": [
    {
     "name": "stdout",
     "output_type": "stream",
     "text": [
      "[133.39140613255333, 228.59773288219245, 350.58574568534107]\n"
     ]
    }
   ],
   "source": [
    "def getStats(population):\n",
    "    ### TODO\n",
    "    return [min(map(lambda p:p[0],population)), sum(map(lambda p:p[0],population))/len(population), max(map(lambda p:p[0],population))]\n",
    "\n",
    "print(getStats(population))"
   ]
  },
  {
   "cell_type": "markdown",
   "metadata": {},
   "source": [
    "### 1.6) Tournament selection of size K"
   ]
  },
  {
   "cell_type": "markdown",
   "metadata": {},
   "source": [
    "You are asked to implement a tournament for parent selection (it is assumed that the population is already sorted). Firstly, complete getParentIndices method. It should return two random indices corresponding to selected parent solutions (e.g., [3, 5] etc.). Simply generate K random integers from [0,...,populationSize] and select the smallest index (as the solutions are ordered from the best to the worst). Repeat this process twice and return a vector [index1, index2]. Then, complete getMatingPool method. Usually, matingPoolSize = population size, i.e., we wish to generate an offspring population of size populationSize and thus we need to select such many pairs of parent solutions. This metod should return a vector of these pairs, e.g., [[2, 5], [9, 2], ..., [5, 7]]. "
   ]
  },
  {
   "cell_type": "code",
   "execution_count": 9,
   "metadata": {},
   "outputs": [
    {
     "name": "stdout",
     "output_type": "stream",
     "text": [
      "[[4, 0], [5, 3], [4, 2], [1, 2], [8, 1], [7, 3], [4, 6], [7, 5], [5, 3], [2, 1]]\n"
     ]
    }
   ],
   "source": [
    "def getParentIndices(populationSize, K):\n",
    "    tab =[1,1]\n",
    "    while tab[0]==tab[1]:\n",
    "        tab =[min([randint(0,populationSize-1) for i in range(K)]), min([randint(0,populationSize-1) for i in range(K)])]\n",
    "    return tab\n",
    "    \n",
    "def getMatingPool(matingPoolSize, populationSize, K):\n",
    "    matingPool = [getParentIndices(populationSize,K) for i in range(matingPoolSize)]\n",
    "    ### TODO\n",
    "    return matingPool\n",
    "     \n",
    "matingPool = getMatingPool(10, 10, 2)\n",
    "print(matingPool)"
   ]
  },
  {
   "cell_type": "markdown",
   "metadata": {},
   "source": [
    "How does the selection depend on K? Run the below code for different K and verify your thoughts. "
   ]
  },
  {
   "cell_type": "code",
   "execution_count": 10,
   "metadata": {},
   "outputs": [
    {
     "data": {
      "image/png": "[encoded data removed]",
      "text/plain": [
       "<Figure size 432x288 with 1 Axes>"
      ]
     },
     "metadata": {
      "needs_background": "light"
     },
     "output_type": "display_data"
    }
   ],
   "source": [
    "def testTournament(matingPoolSize, populationSize, K):\n",
    "    testMatingPool = getMatingPool(matingPoolSize, populationSize, K)\n",
    "    cm.displayHistogram(plt, np, testMatingPool, populationSize)\n",
    "    \n",
    "testTournament(10000, 10, 4)"
   ]
  },
  {
   "cell_type": "markdown",
   "metadata": {},
   "source": [
    "### 1.7) Crossover operator"
   ]
  },
  {
   "cell_type": "markdown",
   "metadata": {},
   "source": [
    "Now, you are asked to implement the crossover operator. A and B are solutions (decision vectors). Let child be a new offspring solution (decision vector) and N is the number of cities.  Assume that the first N/2 elements of the child vector = the first N/2 elements of A, while the last N/2 elements of the child vector = the last N/2 elements of B. Obviously, such constructed solution may not be valid (use isValid) method. Repair this. You can, e.g., check (i) which indices are duplicated and (ii) which indices are missing. Then, you can replace one copy of each duplicate with one random missing index. "
   ]
  },
  {
   "cell_type": "code",
   "execution_count": 11,
   "metadata": {},
   "outputs": [
    {
     "name": "stdout",
     "output_type": "stream",
     "text": [
      "[0, 1, 2, 4, 5, 3]\n"
     ]
    }
   ],
   "source": [
    "def getCrossedOver(A, B):\n",
    "    child = A.copy()\n",
    "    N = len(A)\n",
    "    for i in range(int(N/2),N):\n",
    "        child[i]=B[i]\n",
    "    all_set = set([i for i in range(len(child))])\n",
    "    missing = list(all_set-set(child))\n",
    "    present = []\n",
    "    for i in range(len(child)):\n",
    "        if child[i] in present:\n",
    "            child[i]=missing.pop(random.randrange(len(missing)))\n",
    "        else:\n",
    "            present.append(child[i])\n",
    "    return child\n",
    "\n",
    "### TEST\n",
    "print(getCrossedOver([0,1,2,3,4,5],[0,1,3,4,2,4]))"
   ]
  },
  {
   "cell_type": "markdown",
   "metadata": {},
   "source": [
    "### 1.8) Mutation operator"
   ]
  },
  {
   "cell_type": "markdown",
   "metadata": {},
   "source": [
    "Implement the mutation operator. Simply swap two random cities (indices). Apply this mutation with a certain probability (input argument)."
   ]
  },
  {
   "cell_type": "code",
   "execution_count": 12,
   "metadata": {},
   "outputs": [
    {
     "name": "stdout",
     "output_type": "stream",
     "text": [
      "[1, 0, 2, 3, 4, 5]\n",
      "[0, 1, 2, 5, 4, 3]\n",
      "[0, 5, 2, 3, 4, 1]\n",
      "[0, 5, 2, 3, 4, 1]\n",
      "[4, 1, 2, 3, 0, 5]\n",
      "[0, 2, 1, 3, 4, 5]\n",
      "[0, 4, 2, 3, 1, 5]\n",
      "[0, 1, 2, 3, 5, 4]\n",
      "[1, 0, 2, 3, 4, 5]\n",
      "[1, 0, 2, 3, 4, 5]\n"
     ]
    }
   ],
   "source": [
    "def mutate(solution, probability):\n",
    "    if np.random.random() < probability:\n",
    "        i=randint(0,len(solution)-1)\n",
    "        j=randint(0,len(solution)-1)\n",
    "        solution[i],solution[j]=solution[j],solution[i]\n",
    "    \n",
    "for i in range(10):\n",
    "    s= [0,1,2,3,4,5]\n",
    "    mutate(s, 0.9)\n",
    "    print(s)"
   ]
  },
  {
   "cell_type": "markdown",
   "metadata": {},
   "source": [
    "### 1.9) Create offspring"
   ]
  },
  {
   "cell_type": "markdown",
   "metadata": {},
   "source": [
    "Now, combine both operators. The below method should generate the offspring. For each pair of parent indices in matingPool, i.e., [index1, index2], take the corresponding solutions from the population and apply the crossover and mutation operators in order to generate a single offspring/child. Evaluate this solution, i.e., compute the total distance. Finally, add [distance, child] to children vector.   "
   ]
  },
  {
   "cell_type": "code",
   "execution_count": 13,
   "metadata": {},
   "outputs": [],
   "source": [
    "def getOffspring(population, matingPool, mutationProbability, M):\n",
    "    result = []\n",
    "    for parents in matingPool:\n",
    "        child = getCrossedOver(population[parents[0]][1],population[parents[1]][1])\n",
    "        mutate(child,mutationProbability)\n",
    "        result.append([getEvaluation(child,M),child])\n",
    "    return result"
   ]
  },
  {
   "cell_type": "markdown",
   "metadata": {},
   "source": [
    "### 1.10) Evolutionary Algorithm"
   ]
  },
  {
   "cell_type": "markdown",
   "metadata": {},
   "source": [
    "Now, you are asked to combine all the previously completed methods into an evolutionary algorithm. This is the outline of the algorithm: <br>\n",
    "1) Create an initial population of size \"populationSize\" <br>\n",
    "2) Sort the population <br>\n",
    "3) Construct a mating pool <br>\n",
    "4) Generate an offspring of size \"populationSize\" <br>\n",
    "5) Merge the current population and the offspring <br>\n",
    "6) Sort such merged population <br>\n",
    "7) Remove the worst half of the population <br>\n",
    "8) Go to (2) until the stopping criterion is not meet (repeat for the assumed number of generations) <br>\n",
    "\n",
    "In each generation, compute & display the statistics concerning the current population. Finally, what is the best solution found by the method? Rerun the method for different parameters (e.g., population size) and check if you can improve the result."
   ]
  },
  {
   "cell_type": "code",
   "execution_count": 14,
   "metadata": {},
   "outputs": [
    {
     "name": "stdout",
     "output_type": "stream",
     "text": [
      "[146.19902148473847, 179.70311780370076, 206.86361712424502]\n",
      "[146.19902148473847, 170.1184953650481, 184.8680643606254]\n",
      "[125.82629088690142, 159.34605025013155, 171.04181195109115]\n",
      "[106.76006002145428, 147.32565670511525, 161.29868704589066]\n",
      "[106.76006002145428, 132.2079231959497, 153.68932655594148]\n",
      "[106.76006002145428, 115.14319984621136, 136.47937314739312]\n",
      "[106.76006002145428, 106.76006002145432, 106.76006002145428]\n",
      "[106.76006002145428, 106.76006002145432, 106.76006002145428]\n",
      "[106.76006002145428, 106.76006002145432, 106.76006002145428]\n",
      "[106.76006002145428, 106.76006002145432, 106.76006002145428]\n",
      "[106.76006002145428, 106.76006002145432, 106.76006002145428]\n",
      "[106.76006002145428, 106.76006002145432, 106.76006002145428]\n",
      "[106.76006002145428, 106.76006002145432, 106.76006002145428]\n",
      "[106.76006002145428, 106.76006002145432, 106.76006002145428]\n",
      "[106.76006002145428, 106.76006002145432, 106.76006002145428]\n",
      "[106.76006002145428, 106.76006002145432, 106.76006002145428]\n",
      "[106.76006002145428, 106.76006002145432, 106.76006002145428]\n",
      "[106.76006002145428, 106.76006002145432, 106.76006002145428]\n",
      "[106.76006002145428, 106.76006002145432, 106.76006002145428]\n",
      "[106.76006002145428, 106.76006002145432, 106.76006002145428]\n",
      "[106.76006002145428, 106.76006002145432, 106.76006002145428]\n",
      "[106.76006002145428, 106.76006002145432, 106.76006002145428]\n",
      "[106.76006002145428, 106.76006002145432, 106.76006002145428]\n",
      "[106.76006002145428, 106.76006002145432, 106.76006002145428]\n",
      "[106.76006002145428, 106.76006002145432, 106.76006002145428]\n",
      "[106.76006002145428, 106.76006002145432, 106.76006002145428]\n",
      "[106.76006002145428, 106.76006002145432, 106.76006002145428]\n",
      "[106.76006002145428, 106.76006002145432, 106.76006002145428]\n",
      "[106.76006002145428, 106.76006002145432, 106.76006002145428]\n",
      "[106.76006002145428, 106.76006002145432, 106.76006002145428]\n",
      "[106.76006002145428, 106.76006002145432, 106.76006002145428]\n",
      "[106.76006002145428, 106.76006002145432, 106.76006002145428]\n",
      "[106.76006002145428, 106.76006002145432, 106.76006002145428]\n",
      "[106.76006002145428, 106.76006002145432, 106.76006002145428]\n",
      "[106.76006002145428, 106.76006002145432, 106.76006002145428]\n",
      "[106.76006002145428, 106.76006002145432, 106.76006002145428]\n",
      "[106.76006002145428, 106.76006002145432, 106.76006002145428]\n",
      "[106.76006002145428, 106.76006002145432, 106.76006002145428]\n",
      "[106.76006002145428, 106.76006002145432, 106.76006002145428]\n",
      "[106.76006002145428, 106.76006002145432, 106.76006002145428]\n",
      "[106.76006002145428, 106.76006002145432, 106.76006002145428]\n",
      "[106.76006002145428, 106.76006002145432, 106.76006002145428]\n",
      "[106.76006002145428, 106.76006002145432, 106.76006002145428]\n",
      "[106.76006002145428, 106.76006002145432, 106.76006002145428]\n",
      "[106.76006002145428, 106.76006002145432, 106.76006002145428]\n",
      "[106.76006002145428, 106.76006002145432, 106.76006002145428]\n",
      "[106.76006002145428, 106.76006002145432, 106.76006002145428]\n",
      "[106.76006002145428, 106.76006002145432, 106.76006002145428]\n",
      "[106.76006002145428, 106.76006002145432, 106.76006002145428]\n",
      "[106.76006002145428, 106.76006002145432, 106.76006002145428]\n"
     ]
    }
   ],
   "source": [
    "###\n",
    "costMatrix = cm.getTutorialDistanceMatrix() ### 6 CITIES\n",
    "cities = 6\n",
    "mutationProbability = 1.0/6.0\n",
    "populationSize = 20\n",
    "generations = 50\n",
    "\n",
    "population = getInitialPopulation(populationSize, cities, costMatrix)\n",
    "sortPopulation(population)\n",
    "\n",
    "for g in range(generations):\n",
    "    offspring = getOffspring(population,getMatingPool(20,20,2),mutationProbability,M)\n",
    "    population+=offspring\n",
    "    sortPopulation(population)\n",
    "    population=population[:len(offspring)]\n",
    "    print(getStats(population))\n",
    "    ### TODO"
   ]
  },
  {
   "cell_type": "markdown",
   "metadata": {},
   "source": [
    "# Part 2: Visualization of convergence"
   ]
  },
  {
   "cell_type": "markdown",
   "metadata": {},
   "source": [
    "2.1) Now, change the data set (distance matrix) to cm.getLargeDistanceMatrix. This instance concerns 15 cities. Run the evolutionary algorithm with a population size of 20 and the number of generation of 200 (and suitably adjust the mutation probability - 1.0/15.0). In each generation, store the statistics (min, mean, and max distances found, in, respectively, Y_MIN, Y_MEAN, Y_MAX). Then, use cm.plotConvergence(plt, X, Y_MIN, Y_MEAN, Y_MAX) to display the convergence plot. Rerun the code for different parameters and observe the results. What is the best value (distance) you could find (print)?"
   ]
  },
  {
   "cell_type": "code",
   "execution_count": 30,
   "metadata": {},
   "outputs": [
    {
     "data": {
      "image/png": "[encoded data removed]",
      "text/plain": [
       "<Figure size 432x288 with 1 Axes>"
      ]
     },
     "metadata": {
      "needs_background": "light"
     },
     "output_type": "display_data"
    }
   ],
   "source": [
    "### TODO\n",
    "def evolve(populationSize = 20,tSize=2):\n",
    "    costMatrix = cm.getLargeDistanceMatrix() \n",
    "    cities = 15\n",
    "    mutationProbability = 1.0/15.0\n",
    "    generations = 200\n",
    "\n",
    "    population = getInitialPopulation(populationSize, cities, costMatrix)\n",
    "    sortPopulation(population)\n",
    "    X,Y_MIN,Y_MEAN,Y_MAX =[],[],[],[]\n",
    "    for g in range(generations):\n",
    "        offspring = getOffspring(population,getMatingPool(populationSize,populationSize,tSize),mutationProbability,costMatrix)\n",
    "        population+=offspring\n",
    "        sortPopulation(population)\n",
    "        population=population[:len(offspring)]\n",
    "        stats=getStats(population)\n",
    "        X.append(g)\n",
    "        Y_MIN.append(stats[0])\n",
    "        Y_MEAN.append(stats[1])\n",
    "        Y_MAX.append(stats[2])\n",
    "\n",
    "    return [X,Y_MIN,Y_MEAN,Y_MAX]\n",
    "X, Y_MIN, Y_MEAN, Y_MAX=evolve()\n",
    "cm.plotConvergence(plt, X, Y_MIN, Y_MEAN, Y_MAX)"
   ]
  },
  {
   "cell_type": "markdown",
   "metadata": {},
   "source": [
    "2.2) Each time you rerun the code, while keeping the paramet values fixed, the results my slightly change. This is due to the random nature of evolutionary algorithms. Hence, in order to get the reliable results, the method must be run several times and the results have to be averaged. Do the following:<br>\n",
    "- run the method 20 times <br>\n",
    "- in each run: capture the best result found  throughout evolutionary search (i.e., in each generation) <br>\n",
    "- for each generation: find min, mean, and max value over 20 independent runs <br>\n",
    "- use cm.plotConvergence to display the convergence\n",
    "- print the best value ever found "
   ]
  },
  {
   "cell_type": "code",
   "execution_count": 16,
   "metadata": {},
   "outputs": [
    {
     "name": "stdout",
     "output_type": "stream",
     "text": [
      "279.9013609670745\n"
     ]
    },
    {
     "data": {
      "image/png": "[encoded data removed]",
      "text/plain": [
       "<Figure size 432x288 with 1 Axes>"
      ]
     },
     "metadata": {
      "needs_background": "light"
     },
     "output_type": "display_data"
    }
   ],
   "source": [
    "### TODO\n",
    "X,Y_MINs,Y_MEANs,Y_MAXs = [],[],[],[]\n",
    "min_min =99999999999999\n",
    "for i in range(20):\n",
    "    x,ymin,ymean,ymax = evolve()\n",
    "    min_min=min(min_min,min(ymin))\n",
    "    X=x    \n",
    "    Y_MINs.append(ymin)\n",
    "Y_MIN, Y_MEAN, Y_MAX =[],[],[]\n",
    "for i in range(len(x)):\n",
    "    Y_MIN.append(min([Y_MINs[j][i]for j in range(len(Y_MINs))]))\n",
    "    Y_MEAN.append(sum([Y_MINs[j][i]for j in range(len(Y_MINs))])/len(Y_MINs))\n",
    "    Y_MAX.append(max([Y_MINs[j][i]for j in range(len(Y_MINs))]))\n",
    "cm.plotConvergence(plt, X, Y_MIN, Y_MEAN, Y_MAX)\n",
    "print(min_min)"
   ]
  },
  {
   "cell_type": "markdown",
   "metadata": {},
   "source": [
    "# Part 3: Impact of different parameter values on the optimization"
   ]
  },
  {
   "cell_type": "markdown",
   "metadata": {},
   "source": [
    "In this exercise, you are asked to check how the method performs when involving different parameter values. Firtly, we wish to plot several convergence plots in a single chart. For this reason, you may copy & paste the cm.plotConvergence function (from common.py) and modify it. Then, copy & paste the code you completed in the previous exercise (the one which averages 20 trial runs). Then: <br>\n",
    "- Firsty, evaluate the performance in terms of different population sizes. Specifically, check how the method performs for the population size = 5, 10, 20, and 50. Display 4 convergence plots in a signle chart. \n",
    "- Secondly, evaluate the performance in terms of different tournament sizes. Specifically, check how the method performs for the tournament size = 1, 2, 5, and 15. Display 4 convergence plots in a signle chart. "
   ]
  },
  {
   "cell_type": "code",
   "execution_count": 26,
   "metadata": {},
   "outputs": [],
   "source": [
    "def evolve2(populationSize = 20,tSize =2):\n",
    "    X,Y_MINs,Y_MEANs,Y_MAXs = [],[],[],[]\n",
    "    for i in range(20):\n",
    "        x,ymin,ymean,ymax = evolve(populationSize,tSize)\n",
    "        X=x    \n",
    "        Y_MINs.append(ymin)\n",
    "    Y_MIN, Y_MEAN, Y_MAX =[],[],[]\n",
    "    for i in range(len(x)):\n",
    "        Y_MIN.append(min([Y_MINs[j][i]for j in range(len(Y_MINs))]))\n",
    "        Y_MEAN.append(sum([Y_MINs[j][i]for j in range(len(Y_MINs))])/len(Y_MINs))\n",
    "        Y_MAX.append(max([Y_MINs[j][i]for j in range(len(Y_MINs))]))\n",
    "    return Y_MIN, Y_MEAN, Y_MAX\n"
   ]
  },
  {
   "cell_type": "code",
   "execution_count": 27,
   "metadata": {},
   "outputs": [],
   "source": [
    "def plotConvergence2(plt, X, Y_MINs, Y_MEANs, Y_MAXs):\n",
    "    fig, ax = plt.subplots(1, 1)\n",
    "    for Y_MIN,Y_MEAN,Y_MAX in zip(Y_MINs, Y_MEANs, Y_MAXs):\n",
    "        ax.fill_between(X, Y_MIN, Y_MAX, alpha=0.5)\n",
    "        ax.plot(X, Y_MEAN, linestyle='-')\n",
    "    plt.xlabel('Generation')\n",
    "    plt.ylabel('Total distance')\n",
    "    plt.grid(True)\n",
    "    ### TODO"
   ]
  },
  {
   "cell_type": "code",
   "execution_count": 28,
   "metadata": {
    "scrolled": false
   },
   "outputs": [
    {
     "name": "stdout",
     "output_type": "stream",
     "text": [
      "5\n",
      "10\n",
      "20\n",
      "50\n"
     ]
    },
    {
     "data": {
      "image/png": "[encoded data removed]",
      "text/plain": [
       "<Figure size 432x288 with 1 Axes>"
      ]
     },
     "metadata": {
      "needs_background": "light"
     },
     "output_type": "display_data"
    }
   ],
   "source": [
    "### TODO (POPULATION SIZE) blue orange green red\n",
    "mins,means,maxes=[],[],[]\n",
    "X=[i for i in range(200)]\n",
    "for pop in [5,10,20,50]:\n",
    "    print(pop)\n",
    "    Y_MIN , Y_MEAN, Y_MAX = evolve2(pop)\n",
    "    mins.append(Y_MIN)\n",
    "    means.append(Y_MEAN)\n",
    "    maxes.append(Y_MAX)\n",
    "plotConvergence2(plt,X,mins,means,maxes)\n",
    "    "
   ]
  },
  {
   "cell_type": "code",
   "execution_count": 29,
   "metadata": {},
   "outputs": [
    {
     "data": {
      "image/png": "[encoded data removed]",
      "text/plain": [
       "<Figure size 432x288 with 1 Axes>"
      ]
     },
     "metadata": {
      "needs_background": "light"
     },
     "output_type": "display_data"
    }
   ],
   "source": [
    "### TODO (TOURNAMENT SIZE)\n",
    "mins,means,maxes=[],[],[]\n",
    "X=[i for i in range(200)]\n",
    "for tournament in [1,2,5,15]:\n",
    "    Y_MIN , Y_MEAN, Y_MAX = evolve2(20,tournament)\n",
    "    mins.append(Y_MIN)\n",
    "    means.append(Y_MEAN)\n",
    "    maxes.append(Y_MAX)\n",
    "plotConvergence2(plt,X,mins,means,maxes)"
   ]
  },
  {
   "cell_type": "code",
   "execution_count": null,
   "metadata": {},
   "outputs": [],
   "source": []
  },
  {
   "cell_type": "code",
   "execution_count": null,
   "metadata": {},
   "outputs": [],
   "source": []
  },
  {
   "cell_type": "code",
   "execution_count": null,
   "metadata": {},
   "outputs": [],
   "source": []
  },
  {
   "cell_type": "code",
   "execution_count": null,
   "metadata": {},
   "outputs": [],
   "source": []
  },
  {
   "cell_type": "code",
   "execution_count": null,
   "metadata": {},
   "outputs": [],
   "source": []
  },
  {
   "cell_type": "code",
   "execution_count": null,
   "metadata": {},
   "outputs": [],
   "source": []
  },
  {
   "cell_type": "code",
   "execution_count": null,
   "metadata": {},
   "outputs": [],
   "source": []
  },
  {
   "cell_type": "code",
   "execution_count": null,
   "metadata": {},
   "outputs": [],
   "source": []
  },
  {
   "cell_type": "code",
   "execution_count": null,
   "metadata": {},
   "outputs": [],
   "source": []
  },
  {
   "cell_type": "code",
   "execution_count": null,
   "metadata": {},
   "outputs": [],
   "source": []
  },
  {
   "cell_type": "code",
   "execution_count": null,
   "metadata": {},
   "outputs": [],
   "source": []
  }
 ],
 "metadata": {
  "kernelspec": {
   "display_name": "Python 3",
   "language": "python",
   "name": "python3"
  },
  "language_info": {
   "codemirror_mode": {
    "name": "ipython",
    "version": 3
   },
   "file_extension": ".py",
   "mimetype": "text/x-python",
   "name": "python",
   "nbconvert_exporter": "python",
   "pygments_lexer": "ipython3",
   "version": "3.7.4"
  }
 },
 "nbformat": 4,
 "nbformat_minor": 2
}
