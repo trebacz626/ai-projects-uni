{
 "cells": [
  {
   "cell_type": "markdown",
   "metadata": {
    "colab_type": "text",
    "id": "MA4p80N-FXeT"
   },
   "source": [
    "# Sorting Algoriths Evaluation report\n",
    "- Academic Year: 2019/20\n",
    "- Faculty of Computing - Artificial Intelligence - Semester 2\n",
    "- Full name and student id: Kacper Trębacz 145453\n",
    "- Subject: Algorithms and Data Structures\n"
   ]
  },
  {
   "cell_type": "markdown",
   "metadata": {
    "colab_type": "text",
    "id": "TAbIVVWEG02s"
   },
   "source": [
    "The main purpose of the excercise was to evaluate performance of the most popular sorting algorithms. There were 2 main tasks defined below. At first lets look at definitions of sequence generation funciton and implementations of algorithms."
   ]
  },
  {
   "cell_type": "markdown",
   "metadata": {
    "colab_type": "text",
    "id": "61gDEZJdO-t4"
   },
   "source": [
    "# Sequences generations"
   ]
  },
  {
   "cell_type": "code",
   "execution_count": 1,
   "metadata": {
    "colab": {},
    "colab_type": "code",
    "id": "ktrr3fszO-t6"
   },
   "outputs": [],
   "source": [
    "from random import randint\n",
    "import sys\n",
    "import matplotlib.pyplot as plt\n",
    "import numpy as np\n",
    "import time \n",
    "import math\n",
    "sys.setrecursionlimit(10**9)\n",
    "plt.rcParams['figure.figsize'] = (10.0, 6.0)"
   ]
  },
  {
   "cell_type": "code",
   "execution_count": 2,
   "metadata": {
    "colab": {},
    "colab_type": "code",
    "id": "-VKbAIRHO-uC"
   },
   "outputs": [],
   "source": [
    "def uniform_distribution(n,upper=0):\n",
    "    if upper == 0:\n",
    "        upper = 5*n\n",
    "    return [randint(0,upper) for i in range(0,n)]\n",
    "\n",
    "def constant_distribution(n):\n",
    "    return [5 for i in range(0,n)]\n",
    "\n",
    "def ascending_order(n):\n",
    "    return [i for i in range(0,n)]\n",
    "\n",
    "def descending_order(n):\n",
    "    return [n-i-1 for i in range(0,n)]\n",
    "\n",
    "def asc_desc_order(n):\n",
    "    if n%2 ==0:\n",
    "        return [i for i in range(1,n,2)]+[i for i in range(n-2,-1,-2)]\n",
    "    else:\n",
    "        return [i for i in range(1,n,2)]+[i for i in range(n-1,-1,-2)]\n",
    "\n",
    "def desc_asc_order(n):\n",
    "    if n%2 ==0:\n",
    "        return [i for i in range(n-1,-1,-2)]+[i for i in range(0,n,2)]\n",
    "    else:\n",
    "        return [i for i in range(n-2,-1,-2)]+[i for i in range(0,n,2)]"
   ]
  },
  {
   "cell_type": "markdown",
   "metadata": {
    "colab_type": "text",
    "id": "GOqJ1VZiO-uT"
   },
   "source": [
    "## Check function"
   ]
  },
  {
   "cell_type": "code",
   "execution_count": 3,
   "metadata": {
    "colab": {},
    "colab_type": "code",
    "id": "--eG_L6eO-uU"
   },
   "outputs": [],
   "source": [
    "def check(sorting_function):\n",
    "    count =0\n",
    "    iterations=1000\n",
    "    for i in range(iterations):\n",
    "        arr=uniform_distribution(i)\n",
    "        if(sorting_function(arr.copy())==sorted(arr.copy())):\n",
    "            count+=1\n",
    "    if count == iterations:\n",
    "        print(\"It works\")\n",
    "    else:\n",
    "        print(\"It doesn't work\")   "
   ]
  },
  {
   "cell_type": "markdown",
   "metadata": {
    "colab_type": "text",
    "id": "Gulj7NNrO-uZ"
   },
   "source": [
    "# Sorting Algorithms Definitions"
   ]
  },
  {
   "cell_type": "markdown",
   "metadata": {
    "colab_type": "text",
    "id": "GeQLO6uzO-ua"
   },
   "source": [
    "### Bubble Sort"
   ]
  },
  {
   "cell_type": "code",
   "execution_count": 4,
   "metadata": {
    "colab": {},
    "colab_type": "code",
    "id": "8fWkE_3SO-uc"
   },
   "outputs": [],
   "source": [
    "def bubble_sort(arr):\n",
    "    length = len(arr)\n",
    "    for i in range(length-1,-1,-1):\n",
    "        for j in range(0,i):\n",
    "            if arr[j]> arr[j+1]:\n",
    "                arr[j],arr[j+1] = arr[j+1],arr[j]\n",
    "    return arr"
   ]
  },
  {
   "cell_type": "code",
   "execution_count": 5,
   "metadata": {
    "colab": {
     "base_uri": "https://localhost:8080/",
     "height": 34
    },
    "colab_type": "code",
    "id": "Po258lM0O-ui",
    "outputId": "8af08462-bc28-425d-8087-a6fbf7e1e00a"
   },
   "outputs": [],
   "source": [
    "#  check(bubble_sort)"
   ]
  },
  {
   "cell_type": "markdown",
   "metadata": {
    "colab_type": "text",
    "id": "SBOauzbUO-uo"
   },
   "source": [
    "### Heap Sort"
   ]
  },
  {
   "cell_type": "code",
   "execution_count": 1,
   "metadata": {
    "colab": {},
    "colab_type": "code",
    "id": "sP-qvmA-O-uq"
   },
   "outputs": [
    {
     "name": "stdout",
     "output_type": "stream",
     "text": [
      "[7, 12, 5, 15, 3, 16, 2]\n",
      "[7, 12, 16, 15, 3, 5, 2]\n",
      "[7, 12, 16, 15, 3, 5, 2]\n",
      "[7, 15, 16, 12, 3, 5, 2]\n",
      "[7, 15, 16, 12, 3, 5, 2]\n",
      "[16, 15, 7, 12, 3, 5, 2]\n",
      "[2, 15, 7, 12, 3, 5, 16]\n",
      "[15, 2, 7, 12, 3, 5, 16]\n",
      "[15, 12, 7, 2, 3, 5, 16]\n",
      "[5, 12, 7, 2, 3, 15, 16]\n",
      "[12, 5, 7, 2, 3, 15, 16]\n",
      "[3, 5, 7, 2, 12, 15, 16]\n",
      "[7, 5, 3, 2, 12, 15, 16]\n",
      "[2, 5, 3, 7, 12, 15, 16]\n",
      "[5, 2, 3, 7, 12, 15, 16]\n",
      "[3, 2, 5, 7, 12, 15, 16]\n",
      "[2, 3, 5, 7, 12, 15, 16]\n"
     ]
    },
    {
     "data": {
      "text/plain": [
       "[2, 3, 5, 7, 12, 15, 16]"
      ]
     },
     "execution_count": 1,
     "metadata": {},
     "output_type": "execute_result"
    }
   ],
   "source": [
    "def build_heap(arr, n, i):\n",
    "    print(arr)\n",
    "    max_el = i\n",
    "    l = 2 * i + 1\n",
    "    r = 2 * i + 2\n",
    "    if l < n and arr[i] < arr[l]: \n",
    "        max_el = l\n",
    "    if r < n and arr[max_el] < arr[r]: \n",
    "        max_el = r \n",
    "    if max_el != i: \n",
    "        arr[i],arr[max_el] = arr[max_el],arr[i]\n",
    "        build_heap(arr, n, max_el) \n",
    "def heap_sort(arr): \n",
    "    n = len(arr)  \n",
    "    for i in range(int(n/2 - 1), -1, -1): \n",
    "        build_heap(arr, n, i) \n",
    "    for i in range(n-1, 0, -1): \n",
    "        arr[i], arr[0] = arr[0], arr[i]\n",
    "        build_heap(arr, i, 0)\n",
    "    return arr\n",
    "\n",
    "heap_sort([7,12,5,15,3,16,2])"
   ]
  },
  {
   "cell_type": "code",
   "execution_count": 7,
   "metadata": {
    "colab": {
     "base_uri": "https://localhost:8080/",
     "height": 34
    },
    "colab_type": "code",
    "id": "6eMiSF6eO-ux",
    "outputId": "423ca5fa-ccaf-42ff-ab70-442c3ef96b48"
   },
   "outputs": [],
   "source": [
    "# check(heap_sort)\n"
   ]
  },
  {
   "cell_type": "markdown",
   "metadata": {
    "colab_type": "text",
    "id": "9wziUG83O-u2"
   },
   "source": [
    "### Merge Sort"
   ]
  },
  {
   "cell_type": "code",
   "execution_count": 8,
   "metadata": {
    "colab": {},
    "colab_type": "code",
    "id": "UqzdquXJO-u3"
   },
   "outputs": [],
   "source": [
    "def merge(arr,dup,l,m,r):\n",
    "    for i in range(l,r):\n",
    "        dup[i]=arr[i]\n",
    "    j=l\n",
    "    l1=l\n",
    "    l2=m\n",
    "    while l1<m and l2<r:\n",
    "        if dup[l1] < dup[l2]:\n",
    "            arr[j]=dup[l1]\n",
    "            l1+=1\n",
    "        else:\n",
    "            arr[j]=dup[l2]\n",
    "            l2+=1\n",
    "        j+=1\n",
    "    while l1<m:\n",
    "        arr[j]=dup[l1]\n",
    "        l1+=1\n",
    "        j+=1\n",
    "    while l2<r:\n",
    "        arr[j]=dup[l2]\n",
    "        l2+=1\n",
    "        j+=1           \n",
    "def merge_sort_rec(arr,dup,l,m,r):\n",
    "    if l >= r-1:\n",
    "        return\n",
    "    merge_sort_rec(arr,dup,l,int(l+(m-l)/2),m)\n",
    "    merge_sort_rec(arr,dup,m,int(m+(r-m)/2),r)\n",
    "    \n",
    "    merge(arr,dup,l,m,r)\n",
    "\n",
    "def merge_sort(arr):\n",
    "    if len(arr)<= 1:\n",
    "        return arr\n",
    "    l=0\n",
    "    r=len(arr)\n",
    "    m= int(l +(r-l)/2)\n",
    "    dup=arr.copy()\n",
    "    merge_sort_rec(arr,dup,0,m,r)\n",
    "    return arr\n",
    "    "
   ]
  },
  {
   "cell_type": "code",
   "execution_count": 9,
   "metadata": {
    "colab": {
     "base_uri": "https://localhost:8080/",
     "height": 34
    },
    "colab_type": "code",
    "id": "ZanDhfq1O-u8",
    "outputId": "0caafc4c-3db1-4c6c-92cb-ec62e234cf06"
   },
   "outputs": [],
   "source": [
    "# check(merge_sort)"
   ]
  },
  {
   "cell_type": "markdown",
   "metadata": {
    "colab_type": "text",
    "id": "VtvZ6qRlO-vD"
   },
   "source": [
    "### Shell Sort"
   ]
  },
  {
   "cell_type": "code",
   "execution_count": 3,
   "metadata": {
    "colab": {},
    "colab_type": "code",
    "id": "PSTBJLnbO-vE"
   },
   "outputs": [
    {
     "name": "stdout",
     "output_type": "stream",
     "text": [
      "7\n",
      "[4, 2, 2, 1, 3, 3, 1, 0, 5, 4]\n",
      "[4, 2, 2, 1, 3, 3, 1, 4, 5, 4]\n",
      "[0, 2, 2, 1, 3, 3, 1, 4, 5, 4]\n",
      "[0, 2, 2, 1, 3, 3, 1, 4, 5, 4]\n",
      "3\n",
      "[0, 2, 2, 1, 3, 3, 1, 4, 5, 4]\n",
      "[0, 2, 2, 1, 3, 3, 1, 4, 5, 4]\n",
      "[0, 2, 2, 1, 3, 3, 1, 4, 5, 4]\n",
      "[0, 2, 2, 1, 3, 3, 1, 4, 5, 4]\n",
      "[0, 2, 2, 1, 3, 3, 1, 4, 5, 4]\n",
      "[0, 2, 2, 1, 3, 3, 1, 4, 5, 4]\n",
      "[0, 2, 2, 1, 3, 3, 1, 4, 5, 4]\n",
      "1\n",
      "[0, 2, 2, 1, 3, 3, 1, 4, 5, 4]\n",
      "[0, 2, 2, 1, 3, 3, 1, 4, 5, 4]\n",
      "[0, 2, 2, 1, 3, 3, 1, 4, 5, 4]\n",
      "[0, 2, 2, 2, 3, 3, 1, 4, 5, 4]\n",
      "[0, 2, 2, 2, 3, 3, 1, 4, 5, 4]\n",
      "[0, 1, 2, 2, 3, 3, 1, 4, 5, 4]\n",
      "[0, 1, 2, 2, 3, 3, 1, 4, 5, 4]\n",
      "[0, 1, 2, 2, 3, 3, 1, 4, 5, 4]\n",
      "[0, 1, 2, 2, 3, 3, 3, 4, 5, 4]\n",
      "[0, 1, 2, 2, 3, 3, 3, 4, 5, 4]\n",
      "[0, 1, 2, 2, 2, 3, 3, 4, 5, 4]\n",
      "[0, 1, 2, 2, 2, 3, 3, 4, 5, 4]\n",
      "[0, 1, 1, 2, 2, 3, 3, 4, 5, 4]\n",
      "[0, 1, 1, 2, 2, 3, 3, 4, 5, 4]\n",
      "[0, 1, 1, 2, 2, 3, 3, 4, 5, 4]\n",
      "[0, 1, 1, 2, 2, 3, 3, 4, 5, 5]\n"
     ]
    },
    {
     "data": {
      "text/plain": [
       "[0, 1, 1, 2, 2, 3, 3, 4, 4, 5]"
      ]
     },
     "execution_count": 3,
     "metadata": {},
     "output_type": "execute_result"
    }
   ],
   "source": [
    "import math\n",
    "def shell_sort(arr):\n",
    "    n=len(arr)\n",
    "    if n == 0:\n",
    "        return arr\n",
    "    k=int(math.log(n,2))\n",
    "    for p in range(k,0,-1):\n",
    "        step=2**p-1\n",
    "        print(step)\n",
    "        for i in range(step,n):\n",
    "            current = arr[i]\n",
    "            j=i-step\n",
    "            while j>-1 and current <arr[j]:\n",
    "                print(arr)\n",
    "                arr[j+step]=arr[j]\n",
    "                j-=step\n",
    "            print(arr)\n",
    "            arr[j+step]=current\n",
    "    return arr\n",
    "shell_sort([4,2,2,1,3,3,1,0,5,4])"
   ]
  },
  {
   "cell_type": "code",
   "execution_count": 11,
   "metadata": {
    "colab": {
     "base_uri": "https://localhost:8080/",
     "height": 34
    },
    "colab_type": "code",
    "id": "qF6FZtr3O-vK",
    "outputId": "d9895290-4283-4e1c-89f6-742b9613affa"
   },
   "outputs": [],
   "source": [
    "# check(shell_sort)"
   ]
  },
  {
   "cell_type": "markdown",
   "metadata": {
    "colab_type": "text",
    "id": "8nH95rc5O-vO"
   },
   "source": [
    "### Counting Sort"
   ]
  },
  {
   "cell_type": "code",
   "execution_count": 12,
   "metadata": {
    "colab": {},
    "colab_type": "code",
    "id": "JIrrDEy-O-vP"
   },
   "outputs": [],
   "source": [
    "def counting_sort(arr):\n",
    "    length = len(arr)\n",
    "    if length <1:\n",
    "        return arr\n",
    "    maximum = max(arr)\n",
    "    counts = [0]*(maximum+1)\n",
    "    output = [0]*len(arr)\n",
    "    for num in arr:\n",
    "        counts[num]+=1\n",
    "    for i in range(1,maximum+1):\n",
    "        counts[i]=counts[i]+counts[i-1]\n",
    "    for i in range(length):\n",
    "        output[counts[arr[i]]-1]=arr[i]\n",
    "        counts[arr[i]]-=1\n",
    "    return output"
   ]
  },
  {
   "cell_type": "code",
   "execution_count": 13,
   "metadata": {
    "colab": {
     "base_uri": "https://localhost:8080/",
     "height": 34
    },
    "colab_type": "code",
    "id": "_j7D7rt8O-vU",
    "outputId": "d456007e-cfac-41f2-f43c-56ccfa7e8a9a"
   },
   "outputs": [],
   "source": [
    "# check(counting_sort)"
   ]
  },
  {
   "cell_type": "markdown",
   "metadata": {
    "colab_type": "text",
    "id": "S9g56liKO-vZ"
   },
   "source": [
    "### Quick Sort"
   ]
  },
  {
   "cell_type": "code",
   "execution_count": 14,
   "metadata": {
    "colab": {},
    "colab_type": "code",
    "id": "wNIlKLDnO-va"
   },
   "outputs": [],
   "source": [
    "def quick_sort_rec(arr,l,r):\n",
    "#     print(arr[l:r+1])\n",
    "    if l>=r:\n",
    "        return\n",
    "    pivot=arr[int((l+r)/2)]\n",
    "    i=l\n",
    "    j=r\n",
    "    while(i<=j):\n",
    "        while(arr[i]<pivot):\n",
    "            i+=1\n",
    "        while(arr[j]>pivot):\n",
    "            j-=1\n",
    "        if i <= j:\n",
    "            arr[i],arr[j]=arr[j],arr[i]\n",
    "            i+=1\n",
    "            j-=1\n",
    "\n",
    "    if l<j:\n",
    "        quick_sort_rec(arr,l,j)\n",
    "    if i<r:\n",
    "        quick_sort_rec(arr,i,r)\n",
    "            \n",
    "\n",
    "def quick_sort(arr):\n",
    "    l=0\n",
    "    r=len(arr)-1\n",
    "    if r>=0:\n",
    "        quick_sort_rec(arr,l,r)\n",
    "    return arr"
   ]
  },
  {
   "cell_type": "code",
   "execution_count": 15,
   "metadata": {
    "colab": {
     "base_uri": "https://localhost:8080/",
     "height": 34
    },
    "colab_type": "code",
    "id": "t8lZcmK8O-vf",
    "outputId": "de5d1c77-2b7b-4744-bc9c-61460f335fa8"
   },
   "outputs": [
    {
     "name": "stdout",
     "output_type": "stream",
     "text": [
      "It works\n"
     ]
    }
   ],
   "source": [
    "check(quick_sort)"
   ]
  },
  {
   "cell_type": "markdown",
   "metadata": {
    "colab_type": "text",
    "id": "zX6cd0ZzO-vn"
   },
   "source": [
    "## Time measurement"
   ]
  },
  {
   "cell_type": "code",
   "execution_count": 16,
   "metadata": {
    "colab": {},
    "colab_type": "code",
    "id": "lLn6Q44eO-vn"
   },
   "outputs": [],
   "source": [
    "def measure_time(sorting_function,order):\n",
    "    start = time.time()\n",
    "    arr = sorting_function(order.copy())\n",
    "    return time.time()-start\n",
    "\n",
    "def average_time(sorting_function,orders):\n",
    "    return sum([measure_time(sorting_function,order) for order in orders])/len(orders)"
   ]
  },
  {
   "cell_type": "markdown",
   "metadata": {
    "colab_type": "text",
    "id": "wAEtUm1KO-vr"
   },
   "source": [
    "# Exercise 1"
   ]
  },
  {
   "cell_type": "markdown",
   "metadata": {
    "colab_type": "text",
    "id": "2wNkJ1l7O-vs"
   },
   "source": [
    "Comparing the speed of Counting Sort, Bubble Sort,, Heap Sort and Shell Sort iwhen sorting uniformly distributed random values"
   ]
  },
  {
   "cell_type": "markdown",
   "metadata": {
    "colab_type": "text",
    "id": "zpcENo3mO-vt"
   },
   "source": [
    "## Evaluation function definition"
   ]
  },
  {
   "cell_type": "markdown",
   "metadata": {
    "colab_type": "text",
    "id": "8A6TX3sNO-vu"
   },
   "source": [
    "For every size of sorted arrays we generate 5 different sequences and than every algorithm sorts those 5 sequences of a given size and the average time is measured"
   ]
  },
  {
   "cell_type": "code",
   "execution_count": 17,
   "metadata": {
    "colab": {},
    "colab_type": "code",
    "id": "gpnD-FPuO-vw"
   },
   "outputs": [],
   "source": [
    "def evaluate(entries,order_function,numbers):\n",
    "    orders = [[ order_function(num)for i in range(5)] for num in numbers]\n",
    "    ys=[[average_time(entry['sorting_function'],order) for order in orders] for entry in entries]\n",
    "    for i in range(len(entries)):\n",
    "        plt.plot(numbers,ys[i],label=entries[i]['name'])\n",
    "    plt.legend()\n",
    "    plt.xlabel('Number of Elements')\n",
    "    plt.ylabel('Time (s)')\n",
    "    plt.show()"
   ]
  },
  {
   "cell_type": "markdown",
   "metadata": {
    "colab_type": "text",
    "id": "ffqI1dupO-v0"
   },
   "source": [
    "## Selecting Algorithms for evaluation"
   ]
  },
  {
   "cell_type": "markdown",
   "metadata": {
    "colab_type": "text",
    "id": "61MF5R5XO-v1"
   },
   "source": [
    "For Exercise 1 they are: Counting Sort, Bubble Sort, Heap Sort and Shell Sort"
   ]
  },
  {
   "cell_type": "code",
   "execution_count": 18,
   "metadata": {
    "colab": {},
    "colab_type": "code",
    "id": "qLUB596BO-v2"
   },
   "outputs": [],
   "source": [
    "entries = [\n",
    "    {'name':\"Counting Sort\",'sorting_function':counting_sort},\n",
    "    {'name':\"Heap Sort\", 'sorting_function':heap_sort},\n",
    "    {'name':\"Shell Sort\", 'sorting_function':shell_sort},\n",
    "    {'name':\"Bubble Sort\", 'sorting_function':bubble_sort},\n",
    "]\n",
    "entries_without_bubble = [\n",
    "    {'name':\"Counting Sort\",'sorting_function':counting_sort},\n",
    "    {'name':\"Heap Sort\", 'sorting_function':heap_sort},\n",
    "    {'name':\"Shell Sort\", 'sorting_function':shell_sort},\n",
    "]"
   ]
  },
  {
   "cell_type": "markdown",
   "metadata": {
    "colab_type": "text",
    "id": "99YaxKjbO-v6"
   },
   "source": [
    "## Performing evaluation"
   ]
  },
  {
   "cell_type": "markdown",
   "metadata": {
    "colab_type": "text",
    "id": "FaSh808iO-v7"
   },
   "source": [
    "#### Firstly with Bubble Sort"
   ]
  },
  {
   "cell_type": "markdown",
   "metadata": {
    "colab_type": "text",
    "id": "lsMyiKYlO-v8"
   },
   "source": [
    "We run 21 iterations from 1 to 10001"
   ]
  },
  {
   "cell_type": "code",
   "execution_count": 19,
   "metadata": {
    "colab": {
     "base_uri": "https://localhost:8080/",
     "height": 390
    },
    "colab_type": "code",
    "id": "1rBVTHb_O-v8",
    "outputId": "b74861e7-00b3-4111-d3fc-c5fae65bfe2d"
   },
   "outputs": [],
   "source": [
    "# evaluate(entries,uniform_distribution,[i for i in range(1,10002,500)])"
   ]
  },
  {
   "cell_type": "markdown",
   "metadata": {
    "colab_type": "text",
    "id": "um80T580O-wB"
   },
   "source": [
    "#### Secondly without it to compare other 3 algorithms"
   ]
  },
  {
   "cell_type": "markdown",
   "metadata": {
    "colab_type": "text",
    "id": "jqAkhKDhO-wC"
   },
   "source": [
    "We run 21 iterations from 1 to 400001"
   ]
  },
  {
   "cell_type": "code",
   "execution_count": 20,
   "metadata": {
    "colab": {
     "base_uri": "https://localhost:8080/",
     "height": 388
    },
    "colab_type": "code",
    "id": "v2LdT0dGMgfP",
    "outputId": "d121a914-97c3-4a29-b7ce-9b19c5f68a4f"
   },
   "outputs": [],
   "source": [
    "# evaluate(entries_without_bubble,uniform_distribution,[i for i in range(1,400002,20000)])"
   ]
  },
  {
   "cell_type": "markdown",
   "metadata": {
    "colab_type": "text",
    "id": "7kVhHqQGO-wK"
   },
   "source": [
    "## Counclusions"
   ]
  },
  {
   "cell_type": "markdown",
   "metadata": {
    "colab_type": "text",
    "id": "lTmjkD28O-wL"
   },
   "source": [
    "The theoretical time and memory complexities of the given algorithms are:\n",
    " - Counting Sort time:O(n+k) in our case k is always 5*n memory: O(n+k)\n",
    " - Bubble Sort time: O(n^2) memory: O(n)\n",
    " - Heap Sort time: O(nlog(n)) memory: O(n)\n",
    " - Shell Sort time: O(n^1,25) memory: O(n)\n",
    " \n",
    " This can be clearly seen in above graphs that Bubble Sort is much slower than others and its execution time grows quadratically. The second one is Shell Sort which is slower than Heap due to the fact that it has better time complexity. We can also see that for small number of elements in array (<200000) Shell Sort is better than Heap Sort because n^1,25 is smaller than nlog(n) for small numbers. The fastest one is Counting Sort because for the given numbers range(5n) its complexity is smaller, but if range was much bigger it would not be so efficient or it would consume too much memory. That is why it should be used only in specific cases. It appears that if there are not many numbers shell sort should be used and if there are more heap sort is more suitable.\n",
    " \n",
    " P.S.\n",
    " \n",
    " Do not use Bubble Sort!!!"
   ]
  },
  {
   "cell_type": "markdown",
   "metadata": {
    "colab_type": "text",
    "id": "iF-qpDU_O-wM"
   },
   "source": [
    "# Exercise 2"
   ]
  },
  {
   "cell_type": "markdown",
   "metadata": {
    "colab_type": "text",
    "id": "f0W7gLbLO-wN"
   },
   "source": [
    "Comparing the effectiveness of Quick Sort with middle selection pivot, Heap Sort and Merge Sort when sorting 6 different data types: \n",
    "- random (uniform distribution)\n",
    "- constant value (5)\n",
    "- increasing order (step equal to 1)\n",
    "- descending order (step equal to 1)\n",
    "- ascending-descending order (A shape – increase odd numbers - decrease even)\n",
    "- descending-ascending order (V -shape – decrease odd numbers - increase even)"
   ]
  },
  {
   "cell_type": "markdown",
   "metadata": {
    "colab_type": "text",
    "id": "T0uQeh_oO-wP"
   },
   "source": [
    "## Evaluation function definition"
   ]
  },
  {
   "cell_type": "markdown",
   "metadata": {
    "colab_type": "text",
    "id": "xvtgofHwO-wQ"
   },
   "source": [
    "For every size of sorted arrays we generate 30 sequences (different in uniform distribution) and than every algorithm sorts those 30 sequences of a given size and the average time is measured"
   ]
  },
  {
   "cell_type": "code",
   "execution_count": 21,
   "metadata": {
    "colab": {},
    "colab_type": "code",
    "id": "2yw-SaRfO-wR"
   },
   "outputs": [],
   "source": [
    "def evaluate2(sorting_entries,order_entries,numbers):\n",
    "    orders = [[ [order_entry[1](num) for i in range(10)]for num in numbers]for order_entry in order_entries]\n",
    "    ys=[]\n",
    "    i=0\n",
    "    for order_entry in orders:\n",
    "            for sorting_entry in sorting_entries:\n",
    "                ys.append([average_time(sorting_entry[1],order)for order in order_entry])\n",
    "    print(ys)\n",
    "    for i in range(len(ys)):\n",
    "        plt.plot(numbers,ys[i],label = sorting_entries[i%len(sorting_entries)][0]+\" \"+order_entries[int(i/len(sorting_entries))][0])\n",
    "        plt.xlabel('Number of Elements')\n",
    "        plt.ylabel('Time (s)')\n",
    "    plt.legend()\n",
    "    plt.show()"
   ]
  },
  {
   "cell_type": "markdown",
   "metadata": {
    "colab_type": "text",
    "id": "JwXYt5daO-wW"
   },
   "source": [
    "## Selection Algorithms and Orders for Evaluation"
   ]
  },
  {
   "cell_type": "markdown",
   "metadata": {
    "colab_type": "text",
    "id": "xW_8NOBAIyCD"
   },
   "source": [
    "At every iteration we run each sorting algotihm against 2 data types for every chart."
   ]
  },
  {
   "cell_type": "code",
   "execution_count": 22,
   "metadata": {
    "colab": {},
    "colab_type": "code",
    "id": "3cxi7cqtO-wX"
   },
   "outputs": [],
   "source": [
    "sorting_entries = [\n",
    "    ['QuickSort',quick_sort],\n",
    "    ['MergeSort',merge_sort],\n",
    "    ['HeapSort',heap_sort]\n",
    "]\n",
    "\n",
    "sorting_entries_without_quick_sort = [\n",
    "    ['MergeSort',merge_sort],\n",
    "    ['HeapSort',heap_sort]\n",
    "]\n",
    "\n",
    "order_entries = [\n",
    "    [\n",
    "        ['Random',uniform_distribution],\n",
    "        ['Constant',constant_distribution]\n",
    "    ],\n",
    "    [\n",
    "        ['Ascending',ascending_order],\n",
    "        ['Descending',descending_order]\n",
    "    ],\n",
    "    [\n",
    "        ['Ascedning Descending',asc_desc_order],\n",
    "        ['Descending Ascending',desc_asc_order]\n",
    "    ]\n",
    "]"
   ]
  },
  {
   "cell_type": "markdown",
   "metadata": {
    "colab_type": "text",
    "id": "_KJWPrguO-wc"
   },
   "source": [
    "We run 21 iterations from 1 to 100001"
   ]
  },
  {
   "cell_type": "code",
   "execution_count": 23,
   "metadata": {
    "colab": {
     "base_uri": "https://localhost:8080/",
     "height": 388
    },
    "colab_type": "code",
    "id": "hmWV6UQ1O-wd",
    "outputId": "84594f55-cab3-4a6a-902b-c745686f1548",
    "scrolled": true
   },
   "outputs": [],
   "source": [
    "# evaluate2(sorting_entries,order_entries[0],[i for i in range(1,100002,5000)])"
   ]
  },
  {
   "cell_type": "markdown",
   "metadata": {
    "colab_type": "text",
    "id": "EDNLf-n0O-wt"
   },
   "source": [
    "We run 21 iterations from 1 to 100001"
   ]
  },
  {
   "cell_type": "code",
   "execution_count": 24,
   "metadata": {
    "colab": {
     "base_uri": "https://localhost:8080/",
     "height": 388
    },
    "colab_type": "code",
    "id": "XSGqCZDgO-wu",
    "outputId": "5f15e94c-3bae-4be4-eb01-acff6e2e15ea",
    "scrolled": true
   },
   "outputs": [],
   "source": [
    "# evaluate2(sorting_entries,order_entries[1],[i for i in range(1,100002,5000)])"
   ]
  },
  {
   "cell_type": "markdown",
   "metadata": {
    "colab_type": "text",
    "id": "H29vP_TeO-wy"
   },
   "source": [
    "We run 21 iterations from 1 to 100001"
   ]
  },
  {
   "cell_type": "code",
   "execution_count": 30,
   "metadata": {
    "colab": {
     "base_uri": "https://localhost:8080/",
     "height": 388
    },
    "colab_type": "code",
    "id": "KlONZg6dO-wy",
    "outputId": "b4c520f0-43f6-4464-b60f-e3d32803c13a"
   },
   "outputs": [
    {
     "name": "stdout",
     "output_type": "stream",
     "text": [
      "[[2.002716064453125e-06, 0.02944173812866211, 0.057326316833496094, 0.1256929636001587, 0.16424157619476318, 0.26496305465698244, 0.31755454540252687, 0.4808701992034912, 0.5476033687591553, 0.5855296850204468, 1.0063275814056396, 1.0265258312225343, 1.1382094144821167, 1.1894777059555053, 1.4505523681640624, 1.2236080408096313, 2.36981143951416, 2.286453437805176, 2.2406666755676268, 2.6712235689163206, 2.320710849761963], [3.5762786865234375e-07, 0.01413421630859375, 0.029847002029418944, 0.04604630470275879, 0.06253607273101806, 0.07905983924865723, 0.09730417728424072, 0.11490364074707031, 0.13724782466888427, 0.14948997497558594, 0.17228524684906005, 0.18480274677276612, 0.20265378952026367, 0.22168893814086915, 0.23888933658599854, 0.25649874210357665, 0.278888463973999, 0.2953700304031372, 0.32362611293792726, 0.3323777437210083, 0.356807541847229], [1.33514404296875e-06, 0.01979382038116455, 0.04358904361724854, 0.06901338100433349, 0.09641742706298828, 0.12559382915496825, 0.15448296070098877, 0.1800849437713623, 0.2107461452484131, 0.2402028799057007, 0.29018325805664064, 0.2943965673446655, 0.29415910243988036, 0.31689431667327883, 0.3395918607711792, 0.366866397857666, 0.3947063684463501, 0.43762261867523194, 0.4624114990234375, 0.4748098611831665, 0.5004326820373535], [4.76837158203125e-07, 0.019806480407714842, 0.0633774757385254, 0.11248507499694824, 0.10046045780181885, 0.20565855503082275, 0.42494471073150636, 0.7461291551589966, 0.9693955183029175, 0.7461068153381347, 0.41087777614593507, 0.8017280101776123, 0.5264910697937012, 1.024223518371582, 0.4213081121444702, 1.357085108757019, 1.7431204795837403, 2.7101484537124634, 3.234011244773865, 2.673251748085022, 2.1418325424194338], [3.5762786865234375e-07, 0.012779664993286134, 0.026828289031982422, 0.0413226842880249, 0.056880855560302736, 0.07170712947845459, 0.08666386604309081, 0.10245356559753419, 0.11829564571380616, 0.13346800804138184, 0.14979984760284423, 0.16608812808990478, 0.1832798719406128, 0.19850854873657225, 0.21458511352539061, 0.22998948097229005, 0.24730384349822998, 0.2643613338470459, 0.27773075103759765, 0.29319052696228026, 0.3108044147491455], [1.1682510375976563e-06, 0.01661350727081299, 0.036411452293396, 0.0574897289276123, 0.07952206134796143, 0.102016019821167, 0.12524495124816895, 0.14647858142852782, 0.17159538269042968, 0.1955925464630127, 0.22187247276306152, 0.24608912467956542, 0.26801607608795164, 0.29168570041656494, 0.3163409471511841, 0.34301373958587644, 0.36795601844787595, 0.39354591369628905, 0.419403600692749, 0.4481021881103516, 0.4707630157470703]]\n"
     ]
    },
    {
     "data": {
      "image/png": "[encoded data removed]",
      "text/plain": [
       "<Figure size 720x432 with 1 Axes>"
      ]
     },
     "metadata": {
      "needs_background": "light"
     },
     "output_type": "display_data"
    }
   ],
   "source": [
    "evaluate2(sorting_entries,order_entries[2],[i for i in range(1,100002,5000)])"
   ]
  },
  {
   "cell_type": "markdown",
   "metadata": {
    "colab_type": "text",
    "id": "0g4asSjPc0py"
   },
   "source": [
    "And without quicksort we run 21 iterations from 1 to 100001"
   ]
  },
  {
   "cell_type": "code",
   "execution_count": 26,
   "metadata": {
    "colab": {
     "base_uri": "https://localhost:8080/",
     "height": 388
    },
    "colab_type": "code",
    "id": "Hzcm3bUXczRm",
    "outputId": "f6d9bf72-b392-426a-da4d-6178eb3e6686"
   },
   "outputs": [],
   "source": [
    "# evaluate2(sorting_entries_without_quick_sort,order_entries[2],[i for i in range(1,100002,5000)])"
   ]
  },
  {
   "cell_type": "markdown",
   "metadata": {
    "colab_type": "text",
    "id": "6aBILQ3MO-w4"
   },
   "source": [
    "## Conclusions"
   ]
  },
  {
   "cell_type": "markdown",
   "metadata": {
    "colab_type": "text",
    "id": "F-WhHKlYO-w5"
   },
   "source": [
    "The theoretical time and memory complexities of the given algorithms are:\n",
    " - Quick Sort time: O(nlog(n)) memory: O(n)\n",
    " - Heap Sort time: O(nlog(n)) memory: O(n)\n",
    " - Merge Sort time: O(nlog(n)) memory: O(n)\n",
    "        \n",
    "When Sorting uniformly distributed values Quick Sort is clearly the fastest one, which means that on average it is the best. However, we can clearly see that it has its downsides.\n",
    "\n",
    "It is visible when we want to sort values that are in descending ascending order. Here performance is extremely unstable, and deffinately worse compared to Heap Sort and Merge Sort. So its time complexity definately is not O(nlog(n))and it is closer to O(n^2). It is due to the fact that array is 'splited' unevenly (in most cases in proportion 1:n-1, where n is size of current split)  Performance when sorting ascending descending ordered values is also worst compared to Merge Sort and Heap Sort but still a bit better than when sorting Descending Ascending Order. In my opinion it is due to the fact that than there are less switches needed in order to move value to its desired position, and there are less 1:n-1 splits\n",
    "\n",
    "Quick Sort is also really efficient when 'sorting' already sorted values. it is due to the fact that we select a value that is a median so array is splited into two halves. In this setting Quick Sort is the most efficient, which is clearly visible. To conclude, the most efficient quick sort algorithm would always choose median value as a pivot."
   ]
  },
  {
   "cell_type": "code",
   "execution_count": 27,
   "metadata": {},
   "outputs": [],
   "source": [
    "sorting_entries_final = [\n",
    "    ['QuickSort',quick_sort]\n",
    "]\n",
    "\n",
    "order_entries_final = [\n",
    "        ['Random',uniform_distribution],\n",
    "        ['Ascedning Descending',asc_desc_order],\n",
    "        ['Descending Ascending',desc_asc_order]\n",
    "]"
   ]
  },
  {
   "cell_type": "code",
   "execution_count": 28,
   "metadata": {},
   "outputs": [
    {
     "name": "stdout",
     "output_type": "stream",
     "text": [
      "[[0.2063291549682617, 0.20216941833496094, 0.19627828598022462], [2.5692116260528564, 2.8908937692642214, 2.541530966758728], [2.503432774543762, 2.5228184938430784, 2.5092691659927366]]\n"
     ]
    },
    {
     "data": {
      "image/png": "[encoded data removed]",
      "text/plain": [
       "<Figure size 720x432 with 1 Axes>"
      ]
     },
     "metadata": {
      "needs_background": "light"
     },
     "output_type": "display_data"
    }
   ],
   "source": [
    "evaluate2(sorting_entries_final, order_entries_final,[i for i in range(99999,100002,1)])"
   ]
  },
  {
   "cell_type": "code",
   "execution_count": null,
   "metadata": {
    "scrolled": true
   },
   "outputs": [],
   "source": []
  },
  {
   "cell_type": "code",
   "execution_count": null,
   "metadata": {
    "scrolled": true
   },
   "outputs": [],
   "source": []
  },
  {
   "cell_type": "code",
   "execution_count": null,
   "metadata": {},
   "outputs": [],
   "source": []
  }
 ],
 "metadata": {
  "colab": {
   "collapsed_sections": [],
   "name": "terible.ipynb",
   "provenance": []
  },
  "kernelspec": {
   "display_name": "Python 3",
   "language": "python",
   "name": "python3"
  },
  "language_info": {
   "codemirror_mode": {
    "name": "ipython",
    "version": 3
   },
   "file_extension": ".py",
   "mimetype": "text/x-python",
   "name": "python",
   "nbconvert_exporter": "python",
   "pygments_lexer": "ipython3",
   "version": "3.7.6"
  }
 },
 "nbformat": 4,
 "nbformat_minor": 1
}
