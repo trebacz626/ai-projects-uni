{
 "cells": [
  {
   "cell_type": "markdown",
   "metadata": {},
   "source": [
    "# Lists and Binary Trees Evaluation report\n",
    "- Academic Year: 2019/20\n",
    "- Faculty of Computing - Artificial Intelligence - Semester 2\n",
    "- Full name and student id: Kacper Trębacz 145453\n",
    "- Subject: Algorithms and Data Structures\n"
   ]
  },
  {
   "cell_type": "markdown",
   "metadata": {},
   "source": [
    "The main purpose of the excercise was to evaluate performance of add, search and delete operations on lists, binary trees and avl trees. I divided this exercise into 2 main sections and one initial section concerning data used in exercise. At first lets look data that are data that we are going to use."
   ]
  },
  {
   "cell_type": "code",
   "execution_count": 2,
   "metadata": {},
   "outputs": [],
   "source": [
    "from random import randint,sample\n",
    "import sys\n",
    "import matplotlib.pyplot as plt\n",
    "import numpy as np\n",
    "import time \n",
    "import math\n",
    "import random\n",
    "import string\n",
    "import copy\n",
    "import pandas as pd\n",
    "import json\n",
    "sys.setrecursionlimit(10**9)\n",
    "plt.rcParams['figure.figsize'] = (10.0, 6.0)"
   ]
  },
  {
   "cell_type": "markdown",
   "metadata": {},
   "source": [
    "First, lets see declarations of functions that were used to generate data:"
   ]
  },
  {
   "cell_type": "code",
   "execution_count": null,
   "metadata": {},
   "outputs": [],
   "source": [
    "def prepare_student(idx):  \n",
    "    return [''.join([random.choice(string.ascii_letters) for _ in range(12)]),''.join([random.choice(string.ascii_letters) for _ in range(12)]),idx]\n",
    "\n",
    "def prepare_students(amount):\n",
    "    return [prepare_student(idx) for idx in range(1000000,1000000+amount)]\n",
    "\n",
    "def prepare_test_dataset(maximum,jump=1):\n",
    "    X = [amount for amount in range(1,maximum,jump)]\n",
    "    Y = [prepare_students(amount) for amount in X]\n",
    "    return X,Y\n",
    "\n",
    "def generate_and_write_to_file():\n",
    "    with open('Ex1.json','w') as file:\n",
    "        json.dump(prepare_test_dataset(40002,2000), file)\n",
    "    with open('Ex2.json','w') as file:\n",
    "        json.dump(prepare_test_dataset(10002,250), file)\n",
    "    with open('Ex2-2.json','w') as file:\n",
    "        json.dump(prepare_test_dataset(100002,2500),file)\n",
    "generate_and_write_to_file()"
   ]
  },
  {
   "cell_type": "markdown",
   "metadata": {},
   "source": [
    "Data data entry that we are going to store represents a student with firstname (12 characters), surname (12 characters) and index (7 digits). The values in structures are sorted by index. \n",
    "\n",
    "After generating those data it was stored in 3 files: 'Ex1.json', 'Ex2.json', 'Ex2-2.json'\n"
   ]
  },
  {
   "cell_type": "markdown",
   "metadata": {},
   "source": [
    "# Section 1"
   ]
  },
  {
   "cell_type": "markdown",
   "metadata": {},
   "source": [
    "In this exercise we are going to compare storage, search and deletion time for sorted Linked List and Binary Tree"
   ]
  },
  {
   "cell_type": "markdown",
   "metadata": {},
   "source": [
    "## Structure Definitions"
   ]
  },
  {
   "cell_type": "markdown",
   "metadata": {},
   "source": [
    "### Sorted Linked List"
   ]
  },
  {
   "cell_type": "code",
   "execution_count": 4,
   "metadata": {},
   "outputs": [],
   "source": [
    "class Node:\n",
    "    def __init__(self,surname,firstname,index):\n",
    "        self.surname = surname\n",
    "        self.firstname = firstname\n",
    "        self.index = index\n",
    "        self.next_node = None\n",
    "\n",
    "        \n",
    "class SortedList:\n",
    "    def __init__(self):\n",
    "        self.next_node = None\n",
    "    def add(self,element):\n",
    "        new_node = Node(element[0],element[1],element[2])\n",
    "        if not self.next_node:\n",
    "            self.next_node = new_node\n",
    "            return\n",
    "        node = self\n",
    "        while(node.next_node and node.next_node.index < new_node.index):\n",
    "            node = node.next_node\n",
    "        temp_node = node.next_node\n",
    "        node.next_node = new_node\n",
    "        new_node.next_node = temp_node\n",
    "    \n",
    "    def get(self,index):\n",
    "        node = self.next_node\n",
    "        while(node and node.index < index):\n",
    "            node = node.next_node\n",
    "        if(node and node.index == index):\n",
    "            return node\n",
    "        else:\n",
    "            return None\n",
    "    def delete(self,index):\n",
    "        node = self\n",
    "        while(node.next_node and node.next_node.index < index):\n",
    "            node = node.next_node\n",
    "        if(node.next_node and node.next_node.index == index):\n",
    "            temp = node.next_node\n",
    "            node.next_node = node.next_node.next_node#\n",
    "            del(temp)\n",
    "        else:\n",
    "            raise BaseException(\"Element not found\")\n",
    "    def print_all(self):\n",
    "        node = self.next_node\n",
    "        while(node):\n",
    "            print(node.surname+\" \"+node.firstname+\" \"+str(node.index))\n",
    "            node = node.next_node\n",
    "        "
   ]
  },
  {
   "cell_type": "markdown",
   "metadata": {},
   "source": [
    "### Binary Tree"
   ]
  },
  {
   "cell_type": "code",
   "execution_count": 37,
   "metadata": {},
   "outputs": [],
   "source": [
    "class TreeNode:\n",
    "    def __init__(self,surname, firstname, index,left,right):\n",
    "        self.left=left\n",
    "        self.right=right\n",
    "        self.surname = surname\n",
    "        self.firstname = firstname\n",
    "        self.index = index\n",
    "    def print_me(self,level):\n",
    "        print(''.join([\"-\" for i in range(level)])+str(self.index)+\" \" + self.firstname + \" \"+ self.surname)\n",
    "        if self.left:\n",
    "            print(''.join([\"-\" for i in range(level)])+'left')\n",
    "            self.left.print_me(level+1)\n",
    "        if self.right:\n",
    "            print(''.join([\"-\" for i in range(level)])+'right')\n",
    "            self.right.print_me(level+1)\n",
    "    def count(self):\n",
    "        suma = 0\n",
    "        if self.left:\n",
    "            suma+=self.left.count()\n",
    "        if self.right:\n",
    "            suma+=self.right.count()\n",
    "        return suma+1\n",
    "    def delete(self,index):\n",
    "        if self.index == index:\n",
    "            if self.left and self.right:\n",
    "                next_node = self.find_smallest(self.right)\n",
    "                self.index = next_node.index\n",
    "                self.surname = next_node.surname\n",
    "                self.firstname = next_node.surname\n",
    "            elif self.left:\n",
    "                return self.left\n",
    "            elif self.right:\n",
    "                return self.right\n",
    "            else:\n",
    "                return None\n",
    "        elif index < self.index:\n",
    "            if not self.left:\n",
    "                raise BaseException(\"Index not found\")\n",
    "            self.left = self.left.delete(index)\n",
    "        else:\n",
    "            if not self.right:\n",
    "                raise BaseException(\"Index not found\")\n",
    "            self.right = self.right.delete(index)\n",
    "        return self\n",
    "    def find_smallest(self,node):\n",
    "        parent =self\n",
    "        child = node\n",
    "        if not node.left:\n",
    "            parent.right = node.right\n",
    "            return node\n",
    "        while node.left:\n",
    "            parent = node\n",
    "            node =node.left\n",
    "        parent.left = node.right\n",
    "        return node\n",
    "    \n",
    "    def show(self):\n",
    "        print(str(self.index) + \" \" + self.firstname + \" \"+ self.surname)\n",
    "        \n",
    "    def pre_order(self):\n",
    "        self.show()\n",
    "        if self.left:\n",
    "            self.left.pre_order()\n",
    "        if self.right:\n",
    "            self.right.pre_order()\n",
    "        \n",
    "    def post_order(self):\n",
    "        if self.left:\n",
    "            self.left.post_order()\n",
    "        if self.right:\n",
    "            self.right.post_order()\n",
    "        self.show()\n",
    "        \n",
    "    def in_order(self):\n",
    "        if self.left:\n",
    "            self.left.in_order()\n",
    "        self.show()\n",
    "        if self.right:\n",
    "            self.right.in_order()\n",
    "\n",
    "class Tree:\n",
    "    def __init__(self):\n",
    "        self.root = None\n",
    "    def add(self,element):\n",
    "        new_node = TreeNode(element[1],element[2],element[0],None,None);\n",
    "        if not self.root:\n",
    "            self.root = new_node\n",
    "            return\n",
    "        cur_node = self.root\n",
    "        while True:\n",
    "            if new_node.index < cur_node.index:\n",
    "                if cur_node.left:\n",
    "                    cur_node=cur_node.left\n",
    "                else:\n",
    "                    cur_node.left = new_node\n",
    "                    break\n",
    "            else:\n",
    "                if cur_node.right:\n",
    "                    cur_node = cur_node.right                \n",
    "                else:\n",
    "                    cur_node.right = new_node\n",
    "                    break\n",
    "    def get(self,index):\n",
    "        cur_node = self.root\n",
    "        while cur_node:\n",
    "            if index < cur_node.index:\n",
    "                cur_node = cur_node.left\n",
    "            elif index > cur_node.index:\n",
    "                cur_node = cur_node.right\n",
    "            else:\n",
    "                return cur_node\n",
    "        raise BaseException(\"No node with this id\")\n",
    "    def delete(self,index):\n",
    "        self.root=self.root.delete(index)\n",
    "\n",
    "\n",
    "    def get_min_node(self,node):\n",
    "        parent = node\n",
    "        while parent.left and parent.left.left:\n",
    "            parent = parent.left\n",
    "        if parent.left:\n",
    "            temp = parent.left\n",
    "            parent.left = None\n",
    "            return temp\n",
    "        return parent\n",
    "        \n",
    "    def print_all(self):\n",
    "        if self.root:\n",
    "            self.root.print_me(0)\n",
    "        else:\n",
    "            print(\"Empty tree\")\n",
    "    def count(self):\n",
    "        if not self.root:\n",
    "            return 0\n",
    "        return self.root.count()\n",
    "    def pre_order(self):\n",
    "        self.root.pre_order()\n",
    "    \n",
    "    def post_order(self):\n",
    "        self.root.post_order()\n",
    "        \n",
    "    def in_order(self):\n",
    "        self.root.in_order()\n",
    "        "
   ]
  },
  {
   "cell_type": "code",
   "execution_count": 38,
   "metadata": {},
   "outputs": [
    {
     "name": "stdout",
     "output_type": "stream",
     "text": [
      "[['00004', 'Asssskskydws', 'Rwnsjedinsar'], ['00007', 'Dejdkantskre', 'Kwbsrjdogsaw'], ['00001', 'Pnhatdeoicnq', 'Swifnesarksw'], ['00005', 'Iaserjddswut', 'Cwjdernswero'], ['00002', 'Aqwevytskdyt', 'Swdbwiednawe'], ['00009', 'Ldarwncdrisa', 'Swropdcufsaz'], ['00003', 'Usfrwjdloers', 'Swertpflsawr'], ['00010', 'Jhserpdawerl', 'Jwrdlaserods'], ['00006', 'Mnstarwjcdri', 'Baaserdokews'], ['00008', 'Msderlfdswie', 'Qzserfsiogaw'], ['00011', 'Haserodxcswt', 'Msraskermsqa']]\n"
     ]
    }
   ],
   "source": [
    "text =\"00004 Asssskskydws Rwnsjedinsar\\n00007 Dejdkantskre Kwbsrjdogsaw\\n00001 Pnhatdeoicnq Swifnesarksw\\n00005 Iaserjddswut Cwjdernswero\\n00002 Aqwevytskdyt Swdbwiednawe\\n00009 Ldarwncdrisa Swropdcufsaz\\n00003 Usfrwjdloers Swertpflsawr\\n00010 Jhserpdawerl Jwrdlaserods\\n00006 Mnstarwjcdri Baaserdokews\\n00008 Msderlfdswie Qzserfsiogaw\\n00011 Haserodxcswt Msraskermsqa\"\n",
    "data = list(map(lambda x:x.split(\" \"), text.split(\"\\n\")))\n",
    "print(data)"
   ]
  },
  {
   "cell_type": "code",
   "execution_count": 39,
   "metadata": {},
   "outputs": [
    {
     "name": "stdout",
     "output_type": "stream",
     "text": [
      "In order\n",
      "00001 Swifnesarksw Pnhatdeoicnq\n",
      "00002 Swdbwiednawe Aqwevytskdyt\n",
      "00003 Swertpflsawr Usfrwjdloers\n",
      "00004 Rwnsjedinsar Asssskskydws\n",
      "00005 Cwjdernswero Iaserjddswut\n",
      "00006 Baaserdokews Mnstarwjcdri\n",
      "00007 Kwbsrjdogsaw Dejdkantskre\n",
      "00008 Qzserfsiogaw Msderlfdswie\n",
      "00009 Swropdcufsaz Ldarwncdrisa\n",
      "00010 Jwrdlaserods Jhserpdawerl\n",
      "00011 Msraskermsqa Haserodxcswt\n",
      "Pre order\n",
      "00004 Rwnsjedinsar Asssskskydws\n",
      "00001 Swifnesarksw Pnhatdeoicnq\n",
      "00002 Swdbwiednawe Aqwevytskdyt\n",
      "00003 Swertpflsawr Usfrwjdloers\n",
      "00007 Kwbsrjdogsaw Dejdkantskre\n",
      "00005 Cwjdernswero Iaserjddswut\n",
      "00006 Baaserdokews Mnstarwjcdri\n",
      "00009 Swropdcufsaz Ldarwncdrisa\n",
      "00008 Qzserfsiogaw Msderlfdswie\n",
      "00010 Jwrdlaserods Jhserpdawerl\n",
      "00011 Msraskermsqa Haserodxcswt\n",
      "Post order\n",
      "00003 Swertpflsawr Usfrwjdloers\n",
      "00002 Swdbwiednawe Aqwevytskdyt\n",
      "00001 Swifnesarksw Pnhatdeoicnq\n",
      "00006 Baaserdokews Mnstarwjcdri\n",
      "00005 Cwjdernswero Iaserjddswut\n",
      "00008 Qzserfsiogaw Msderlfdswie\n",
      "00011 Msraskermsqa Haserodxcswt\n",
      "00010 Jwrdlaserods Jhserpdawerl\n",
      "00009 Swropdcufsaz Ldarwncdrisa\n",
      "00007 Kwbsrjdogsaw Dejdkantskre\n",
      "00004 Rwnsjedinsar Asssskskydws\n",
      "me\n",
      "00004 Rwnsjedinsar Asssskskydws\n",
      "left\n",
      "-00001 Swifnesarksw Pnhatdeoicnq\n",
      "-right\n",
      "--00002 Swdbwiednawe Aqwevytskdyt\n",
      "--right\n",
      "---00003 Swertpflsawr Usfrwjdloers\n",
      "right\n",
      "-00007 Kwbsrjdogsaw Dejdkantskre\n",
      "-left\n",
      "--00005 Cwjdernswero Iaserjddswut\n",
      "--right\n",
      "---00006 Baaserdokews Mnstarwjcdri\n",
      "-right\n",
      "--00009 Swropdcufsaz Ldarwncdrisa\n",
      "--left\n",
      "---00008 Qzserfsiogaw Msderlfdswie\n",
      "--right\n",
      "---00010 Jwrdlaserods Jhserpdawerl\n",
      "---right\n",
      "----00011 Msraskermsqa Haserodxcswt\n"
     ]
    }
   ],
   "source": [
    "tr = Tree()\n",
    "for el in data:\n",
    "    tr.add(el)\n",
    "    \n",
    "print(\"In order\")\n",
    "tr.in_order()\n",
    "print(\"Pre order\")\n",
    "tr.pre_order()\n",
    "print(\"Post order\")\n",
    "tr.post_order()\n",
    "print(\"me\")\n",
    "tr.print_all()"
   ]
  },
  {
   "cell_type": "markdown",
   "metadata": {},
   "source": [
    "## Time Measurement"
   ]
  },
  {
   "cell_type": "markdown",
   "metadata": {},
   "source": [
    "For every structure and every n we add n elements to the structure and measure time of this operation and divide by n. We do the same for search and delete operation.\n",
    "\n",
    "When we shuffle elements in array we used seed based on number of elements so every structure for every n gets the same sequence of elements"
   ]
  },
  {
   "cell_type": "code",
   "execution_count": 6,
   "metadata": {},
   "outputs": [],
   "source": [
    "def measure_time(students,store):\n",
    "    s_copy = students.copy()\n",
    "    random.seed(len(s_copy))\n",
    "    random.shuffle(s_copy)\n",
    "    start = time.time()\n",
    "    for s in s_copy:\n",
    "        store.add(s)\n",
    "    add_time = (time.time() - start)/len(s_copy)\n",
    "    random.seed(len(s_copy)*2)\n",
    "    random.shuffle(s_copy)\n",
    "    start = time.time()\n",
    "    for s in s_copy:\n",
    "        store.get(s[2])\n",
    "    get_time = (time.time() - start)/len(s_copy)\n",
    "    random.seed(len(s_copy)*3)\n",
    "    random.shuffle(s_copy)\n",
    "    start = time.time()\n",
    "    for s in s_copy:\n",
    "        store.delete(s[2])\n",
    "    delete_time = (time.time() - start)/len(s_copy)\n",
    "    return add_time,get_time,delete_time"
   ]
  },
  {
   "cell_type": "markdown",
   "metadata": {},
   "source": [
    "## Evaluation function"
   ]
  },
  {
   "cell_type": "code",
   "execution_count": 7,
   "metadata": {},
   "outputs": [],
   "source": [
    "def perform_test_single_store(store,X,Y):\n",
    "    adds,gets,deletes=[],[],[]\n",
    "    for y in Y:\n",
    "        add,get,delete = measure_time(y,store)\n",
    "        adds.append(add)\n",
    "        gets.append(get)\n",
    "        deletes.append(delete)\n",
    "    return adds,gets,deletes\n",
    "\n",
    "def plot_plot(X,Ys,labels,title):\n",
    "    for i in range(len(Ys)):\n",
    "        plt.plot(X,Ys[i],label=labels[i])\n",
    "    plt.legend()\n",
    "    plt.xlabel('Number of Elements')\n",
    "    plt.ylabel('Time (s)')\n",
    "    plt.title(title)\n",
    "    plt.show()\n",
    "    \n",
    "    \n",
    "def perform_test(stores,X,Y,labels):\n",
    "    adds,gets,deletes =[],[],[]\n",
    "    for store in stores:\n",
    "        add,get,delete = perform_test_single_store(store,X,Y)\n",
    "        adds.append(add)\n",
    "        gets.append(get)\n",
    "        deletes.append(delete)\n",
    "    plot_plot(X,adds,labels,\"Addition time\")\n",
    "    plot_plot(X,gets,labels,\"Finding time\")\n",
    "    plot_plot(X,deletes,labels,\"Deletion time\")\n",
    "    data = {'N':X}\n",
    "    for i in range(len(stores)):\n",
    "        data[labels[i] + ' Average addition time (s)'] = adds[i]\n",
    "        data[labels[i] + ' Average search time (s)'] = gets[i]\n",
    "        data[labels[i] + ' Deletion time (s)'] = deletes[i]\n",
    "    df = pd.DataFrame(data)\n",
    "    df.set_index('N',inplace=True)\n",
    "    display(df)"
   ]
  },
  {
   "cell_type": "markdown",
   "metadata": {},
   "source": [
    "Now we can run the experiment. We read data from 'Ex1.json' where we have 21 collections of students of size from 1 to 400001 and we insert, search and delete them from Lisked List and Binary Tree. Results are presented in 3 separate graphs for each operation and in 1 table with all data."
   ]
  },
  {
   "cell_type": "code",
   "execution_count": null,
   "metadata": {
    "scrolled": false
   },
   "outputs": [],
   "source": [
    "with open('Ex1.json', 'r') as file:\n",
    "    X,Y = json.load(file)\n",
    "perform_test([SortedList(), Tree()],X,Y,[\"List\",\"Tree\"])"
   ]
  },
  {
   "cell_type": "markdown",
   "metadata": {},
   "source": [
    "# Section 2"
   ]
  },
  {
   "cell_type": "markdown",
   "metadata": {},
   "source": [
    "In this section we are going to compare storage and search time for sorted Linked List, Binary Tree, and Balanced Binary Tree(AVL)\n",
    "\n",
    "I am aware that we were supposed to just measure search time but I realised it after I have also implemented measuring addition time, so I thought that I would add another chart and make some extra conclusions."
   ]
  },
  {
   "cell_type": "markdown",
   "metadata": {},
   "source": [
    "### Balance binary tree (AVL) definition"
   ]
  },
  {
   "cell_type": "code",
   "execution_count": null,
   "metadata": {},
   "outputs": [],
   "source": [
    "class AVLNode:\n",
    "    def __init__(self,surname, firstname, index,left,right):\n",
    "        self.left=left\n",
    "        self.right=right\n",
    "        self.surname = surname\n",
    "        self.firstname = firstname\n",
    "        self.index = index\n",
    "        self.height = 1\n",
    "    def print_me(self,level):\n",
    "        print('-'.join([\"-\" for i in range(level)])+self.surname+self.firstname+str(self.index))\n",
    "        if self.left:\n",
    "            print('-'.join([\"-\" for i in range(level)])+'left')\n",
    "            self.left.print_me(level+1)\n",
    "        if self.right:\n",
    "            print('-'.join([\"-\" for i in range(level)])+'right')\n",
    "            self.right.print_me(level+1)\n",
    "\n",
    "class AVLTree:\n",
    "    def __init__(self):\n",
    "        self.root = None\n",
    "    def add(self,element):\n",
    "        new_node = AVLNode(element[0],element[1],element[2],None,None);\n",
    "        self.root = self.add_recursive(self.root,new_node)\n",
    "        \n",
    "    def add_recursive(self,root,new_node):\n",
    "        if not root:\n",
    "            return new_node\n",
    "        if new_node.index < root.index:\n",
    "            root.left = self.add_recursive(root.left,new_node)\n",
    "        else:\n",
    "            root.right = self.add_recursive(root.right,new_node)\n",
    "        \n",
    "        root.height = 1 + max(self.calculate_height(root.left),self.calculate_height(root.right))\n",
    "        balance = self.calculate_balance(root)\n",
    "        \n",
    "        if balance > 1 and new_node.index  < root.left.index:\n",
    "            return self.rotate_right(root)\n",
    "        if balance < -1 and new_node.index > root.right.index:\n",
    "            return self.rotate_left(root)\n",
    "        if balance > 1 and new_node.index > root.left.index:\n",
    "            root.left = self.rotate_left(root.left)\n",
    "            return self.rotate_right(root)\n",
    "        if balance < -1 and new_node.index < root.right.index:\n",
    "            root.right = self.rotate_right(root.right)\n",
    "            return self.rotate_left(root)\n",
    "        return root\n",
    "        \n",
    "    def rotate_left(self,node):\n",
    "        node2 = node.right\n",
    "        temp = node2.left\n",
    "        node2.left = node\n",
    "        node.right = temp\n",
    "        \n",
    "        node.height = 1 + max(self.calculate_height(node.left),self.calculate_height(node.right))\n",
    "        node2.height = 1 + max(self.calculate_height(node2.left),self.calculate_height(node2.right))\n",
    "        return node2\n",
    "    \n",
    "    def rotate_right(self,node):\n",
    "        node2 = node.left\n",
    "        temp = node2.right\n",
    "        node2.right = node\n",
    "        node.left = temp\n",
    "        \n",
    "        node.height = 1 + max(self.calculate_height(node.left),self.calculate_height(node.right))\n",
    "        node2.height = 1 + max(self.calculate_height(node2.left),self.calculate_height(node2.right))\n",
    "        return node2\n",
    "        \n",
    "        \n",
    "    def calculate_balance(self,node):\n",
    "        if not node:\n",
    "            return 0\n",
    "        return self.calculate_height(node.left)-self.calculate_height(node.right)\n",
    "    def calculate_height(self,node):\n",
    "        if not node:\n",
    "            return 0\n",
    "        \n",
    "        return node.height\n",
    "        \n",
    "    def get(self,index):\n",
    "        cur_node = self.root\n",
    "        while cur_node:\n",
    "            if index < cur_node.index:\n",
    "                cur_node = cur_node.left\n",
    "            elif index > cur_node.index:\n",
    "                cur_node = cur_node.right\n",
    "            else:\n",
    "                return cur_node\n",
    "        raise BaseException(\"No node with this id\")\n",
    "    def print_all(self):\n",
    "        if self.root:\n",
    "            self.root.print_me(0)\n",
    "        else:\n",
    "            print(\"Empty tree\")\n",
    "    def count(self):\n",
    "        if not self.root:\n",
    "            return 0\n",
    "        return self.root.count()\n",
    "    "
   ]
  },
  {
   "cell_type": "markdown",
   "metadata": {},
   "source": [
    "## Time measurement"
   ]
  },
  {
   "cell_type": "markdown",
   "metadata": {},
   "source": [
    "For every structure and every n we add n elements to the structure and measure time of this operation and divide by n. We do the same for search operation.\n",
    "\n",
    "When we shuffle elements in array we use seed based on the number of elements so every structure for every n gets the same sequence of elements"
   ]
  },
  {
   "cell_type": "code",
   "execution_count": null,
   "metadata": {},
   "outputs": [],
   "source": [
    "def measure_time_2(students,store_class):\n",
    "    s_copy = students.copy()\n",
    "    random.seed(len(s_copy))\n",
    "    random.shuffle(s_copy)\n",
    "    store=store_class()\n",
    "    start = time.time()\n",
    "    for s in s_copy:\n",
    "        store.add(s)\n",
    "    add_time = (time.time() - start)/len(students)\n",
    "    random.seed(len(s_copy)*2)\n",
    "    random.shuffle(s_copy)\n",
    "    start = time.time()\n",
    "    for s in s_copy:\n",
    "        store.get(s[2])\n",
    "    get_time = (time.time() - start)/len(s_copy)\n",
    "    return add_time,get_time\n"
   ]
  },
  {
   "cell_type": "markdown",
   "metadata": {},
   "source": [
    "## Evaluation function"
   ]
  },
  {
   "cell_type": "code",
   "execution_count": null,
   "metadata": {},
   "outputs": [],
   "source": [
    "def perform_test_single_store_2(store,X,Y):\n",
    "    adds,gets=[],[]\n",
    "    for y in Y:\n",
    "        add,get = measure_time_2(y,store)\n",
    "        adds.append(add)\n",
    "        gets.append(get)\n",
    "    return adds,gets\n",
    "\n",
    "def perform_test_2(stores,X,Y,labels):\n",
    "    adds,gets =[],[]\n",
    "    for store in stores:\n",
    "        add,get = perform_test_single_store_2(store,X,Y)\n",
    "        adds.append(add)\n",
    "        gets.append(get)\n",
    "    plot_plot(X,adds,labels,\"Addition time\")\n",
    "    plot_plot(X,gets,labels,\"Finding time\")\n",
    "    data = {'N':X}\n",
    "    for i in range(len(stores)):\n",
    "        data[labels[i] + ' Average addition time (s)'] = adds[i]\n",
    "        data[labels[i] + ' Average search time (s)'] = gets[i]\n",
    "    df = pd.DataFrame(data)\n",
    "    df.set_index('N',inplace=True)\n",
    "    display(df)\n",
    "    \n",
    "    "
   ]
  },
  {
   "cell_type": "markdown",
   "metadata": {},
   "source": [
    "Now we can run the experiment. We read data from 'Ex2.json' where we have 41 collections of students of size from 1 to 100001 and we insert and search for them from Lisked List, Binary Tree and Balanced Binary Tree(AVL). Results are presented in 2 separate graphs for each operation and in 1 table with all data."
   ]
  },
  {
   "cell_type": "code",
   "execution_count": null,
   "metadata": {
    "scrolled": false
   },
   "outputs": [],
   "source": [
    "with open('Ex2.json', 'r') as file:\n",
    "    X,Y = json.load(file)\n",
    "perform_test_2([SortedList, Tree, AVLTree],X,Y,[\"List\",\"Tree\", \"AVLTree\"])"
   ]
  },
  {
   "cell_type": "markdown",
   "metadata": {},
   "source": [
    "Now we do the same, but just for Binary Tree and Balance Binary Tree with 41 collections of students of size from 1 to 100001"
   ]
  },
  {
   "cell_type": "code",
   "execution_count": null,
   "metadata": {
    "scrolled": false
   },
   "outputs": [],
   "source": [
    "with open('Ex2-2.json', 'r') as file:\n",
    "    X,Y = json.load(file)\n",
    "perform_test_2([Tree, AVLTree],X,Y,[\"Tree\", \"AVLTree\"])"
   ]
  },
  {
   "cell_type": "markdown",
   "metadata": {},
   "source": [
    "# Conclusions"
   ]
  },
  {
   "cell_type": "markdown",
   "metadata": {},
   "source": [
    "In this setting we can clearly see that Linked Lists are no good for storing values in a sorted order. Insertion, searching and deletion time are huge, when compared to Binary search trees. It means that they should not be used in such situations. Their key advantage is that they are easy to implement, but considering the fact that all structures implemented in this exercise are also implemented in standard libraries of every programming language this advantage becomes meamingless for similar tasks. \n",
    "\n",
    "When it comes to comparing Binary Search Tree (BST) and Balanced Binary Search Tree (here AVL), we can see 2 key differences. BST has much better addition time and AVL has slightly better search time. It is due to the fact that AVL needs to perform additional operations in order to remain balanced and allow for ideal O(logn) search time. Lack of those operations in BST leeds to the situation when tree is not divided equally so the base of logarithm becomes less than 2 and search complexity increases. \n",
    "\n",
    "Previous observations show that we should carefully consider when choosing between AVL and BST. If we know that there are search operations are going to occur much more frequently, then we should choose AVL. However, if there are only a few times more search operations or and we know that values will not be sorted we should use BST"
   ]
  },
  {
   "cell_type": "code",
   "execution_count": null,
   "metadata": {},
   "outputs": [],
   "source": []
  }
 ],
 "metadata": {
  "file_extension": ".py",
  "kernelspec": {
   "display_name": "Python 3",
   "language": "python",
   "name": "python3"
  },
  "language_info": {
   "codemirror_mode": {
    "name": "ipython",
    "version": 3
   },
   "file_extension": ".py",
   "mimetype": "text/x-python",
   "name": "python",
   "nbconvert_exporter": "python",
   "pygments_lexer": "ipython3",
   "version": "3.7.6"
  },
  "mimetype": "text/x-python",
  "name": "python",
  "npconvert_exporter": "python",
  "pygments_lexer": "ipython3",
  "version": 3
 },
 "nbformat": 4,
 "nbformat_minor": 2
}
