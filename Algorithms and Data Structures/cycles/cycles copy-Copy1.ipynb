{
 "cells": [
  {
   "cell_type": "markdown",
   "metadata": {},
   "source": [
    "# Backtracking algorithms evaluation report\n",
    "- Academic Year: 2019/20\n",
    "- Faculty of Computing - Artificial Intelligence - Semester 2\n",
    "- Full name and student id: Kacper Trębacz 145453\n",
    "- Subject: Algorithms and Data Structures\n"
   ]
  },
  {
   "cell_type": "markdown",
   "metadata": {},
   "source": [
    "This exercise consinst of two parts:\n",
    "- evaluation of backtracking algorithm for finding eulerian cycle in a randomly generated graph, which is bound to have one\n",
    "- evaluation of backtracking algorithm for finding hamiltonian cycle in a randomly generated connected graph"
   ]
  },
  {
   "cell_type": "code",
   "execution_count": 1,
   "metadata": {},
   "outputs": [],
   "source": [
    "from random import randint,sample, randrange\n",
    "import sys\n",
    "import matplotlib.pyplot as plt\n",
    "import numpy as np\n",
    "import time \n",
    "import math\n",
    "import random\n",
    "import string\n",
    "import pandas as pd\n",
    "import json\n",
    "import os\n",
    "import multiprocessing as mp\n",
    "import psutil \n",
    "sys.setrecursionlimit(10**9)\n",
    "import itertools\n",
    "plt.rcParams['figure.figsize'] = (10.0, 6.0)\n",
    "import resource\n",
    "resource.setrlimit(resource.RLIMIT_STACK, (resource.RLIM_INFINITY, resource.RLIM_INFINITY))"
   ]
  },
  {
   "cell_type": "markdown",
   "metadata": {},
   "source": [
    "## Constants declaration"
   ]
  },
  {
   "cell_type": "code",
   "execution_count": 2,
   "metadata": {},
   "outputs": [],
   "source": [
    "ADJACENCY_MATRIX = \"Adjacency Matrix\"\n",
    "INCIDENCE_MATRIX = \"Incidence Matrix\"\n",
    "EDGE_LIST = \"Edge List\"\n",
    "LIST_OF_INCIDENTS = \"List of Incidents\"\n",
    "TIMEOUT = 30\n",
    "COPIES = 1"
   ]
  },
  {
   "cell_type": "code",
   "execution_count": 3,
   "metadata": {},
   "outputs": [],
   "source": [
    "def edges_count(n,saturation):\n",
    "    return int(n*(n-1)*saturation/2)"
   ]
  },
  {
   "cell_type": "code",
   "execution_count": 4,
   "metadata": {},
   "outputs": [],
   "source": [
    "edge_saturations = [0.2, 0.3, 0.4, 0.6, 0.8, 0.95]"
   ]
  },
  {
   "cell_type": "markdown",
   "metadata": {},
   "source": [
    "## Graph generation"
   ]
  },
  {
   "cell_type": "markdown",
   "metadata": {},
   "source": [
    "First we need to generate graphs. THere will be 2 groups. In first of them \"hamiltonian\" we are going to generate random connected graphs. For the second group \"eulerian\" we first generate random connected graph, but them we split its edges into 2 groups (those with even and odd degree) and for every 2 vertices with odd degree we either add or delete an edge between them so that the both have even degree. We do remove and delete interchangebly, so in the end the saturation is marginally lower or higher than expected. For graph with more esges its more or less 0.08%. Graphs are stored in text files as adjacency matrixes."
   ]
  },
  {
   "cell_type": "code",
   "execution_count": 5,
   "metadata": {},
   "outputs": [],
   "source": [
    "def generate_connected_graph(n,saturation):\n",
    "    array = np.zeros((n,n), dtype=bool)\n",
    "    n_edges = edges_count(n,saturation)\n",
    "    connected_edges = [randrange(0,n)]\n",
    "    not_connected_edges = [i for i in range(n) if i not in connected_edges]\n",
    "    random.shuffle(not_connected_edges)\n",
    "    for i in range(n-1):\n",
    "        not_connected = not_connected_edges.pop()\n",
    "        connected = random.choice(connected_edges)\n",
    "        array[not_connected][connected]=True\n",
    "        array[connected][not_connected]=True\n",
    "        connected_edges.append(not_connected)\n",
    "    for i in range(n_edges-n+1):\n",
    "        x,y = randrange(n), randrange(n)\n",
    "        while x==y or array[x][y]:\n",
    "            x,y = randrange(n), randrange(n)\n",
    "        array[x][y] = True\n",
    "        array[y][x] = True\n",
    "    return array\n",
    "\n",
    "#functions for checking if graph is connected\n",
    "def is_connected_ref(node_id, graph, n, visited):\n",
    "    visited[node_id] = True\n",
    "    if sum(visited) == len(visited):\n",
    "        return True\n",
    "    for i in range(n):\n",
    "        if graph[node_id][i] and not visited[i]:\n",
    "            if is_connected_ref(i,graph,n,visited):\n",
    "                return True\n",
    "    return False\n",
    "\n",
    "def is_connected(graph,n):\n",
    "    visited = [False]*n\n",
    "    return is_connected_ref(0,graph, n,visited)\n",
    "    \n",
    "    \n",
    "#generating eulerian graph from connected graph\n",
    "def generate_eulerian(n, saturation):\n",
    "    graph = generate_connected_graph(n, saturation)\n",
    "    even_vertices =[]\n",
    "    odd_vertices =[]\n",
    "    for i in range(n):\n",
    "        num_od_edges = np.dot(np.ones(n), graph[i])\n",
    "        if num_od_edges % 2 == 0:\n",
    "            even_vertices.append(i)\n",
    "        else:\n",
    "            odd_vertices.append(i)\n",
    "    desired_num_edges = edges_count(n,saturation)\n",
    "    cur_num_edges = desired_num_edges\n",
    "    while len(odd_vertices):\n",
    "        #deletion\n",
    "        for vert1, vert2 in itertools.combinations(odd_vertices,2):\n",
    "            if graph[vert1][vert2]:\n",
    "                graph[vert1][vert2], graph[vert2][vert1] = False, False\n",
    "                if is_connected(graph, n):\n",
    "                    cur_num_edges-=1\n",
    "                    odd_vertices.remove(vert1)\n",
    "                    odd_vertices.remove(vert2)\n",
    "                    break\n",
    "                graph[vert1][vert2], graph[vert2][vert1] = True, True\n",
    "                if len(odd_vertices) == 2:\n",
    "                    edge = 0\n",
    "                    while edge == vert1 or edge == vert2 or graph[edge][vert1] or graph[edge][vert2]:\n",
    "                        edge+=1\n",
    "                    graph[edge][vert1],graph[edge][vert2],graph[vert1][edge],graph[vert2][edge] = True,True,True,True\n",
    "                    odd_vertices.remove(vert1)\n",
    "                    odd_vertices.remove(vert2)\n",
    "                    break\n",
    "    \n",
    "        #addition         \n",
    "        for vert1, vert2 in itertools.combinations(odd_vertices,2):\n",
    "                if not graph[vert1][vert2]:\n",
    "                    cur_num_edges+=1\n",
    "                    graph[vert1][vert2],graph[vert2][vert1] = True,True\n",
    "                    odd_vertices.remove(vert1)\n",
    "                    odd_vertices.remove(vert2)\n",
    "                    break\n",
    "    \n",
    "    return graph\n",
    "        \n",
    "            \n",
    "        \n",
    "\n",
    "def generate_eulerian_and_write_to_file(min,max,jump,saturations):\n",
    "    for saturation in saturations:\n",
    "        print(saturation)\n",
    "        for i in range(min,max,jump):\n",
    "                graph = generate_eulerian(i,saturation)\n",
    "                os.makedirs(\"data/eulerian/\"+str(saturation)+\"/\"+str(i), exist_ok=True)\n",
    "                np.savetxt(\"data/eulerian/\"+str(saturation)+\"/\"+str(i)+\"/\"+str(0)+\".txt\", graph, fmt=\"%5i\")\n",
    "\n",
    "\n",
    "def generate_random_connected_and_write_to_file(min,max,jump,saturations):\n",
    "    for sat in saturations:\n",
    "        print(sat)\n",
    "        for i in range(min,max,jump):\n",
    "            copy=0\n",
    "            os.makedirs(\"data/hamiltonian/\"+str(sat)+\"/\"+str(i), exist_ok= True)\n",
    "            while(copy<COPIES):\n",
    "                graph = generate_connected_graph(i,sat)\n",
    "                np.savetxt(\"data/hamiltonian/\"+str(sat)+\"/\"+str(i)+\"/\"+str(copy)+\".txt\", graph, fmt=\"%5i\")\n",
    "                copy+=1\n",
    "                \n",
    "def read_graph(folder,saturation,n,copy):\n",
    "    return np.loadtxt(\"data/\"+str(folder)+\"/\"+str(saturation)+\"/\"+str(n)+\"/\"+str(copy)+\".txt\", dtype=bool)"
   ]
  },
  {
   "cell_type": "markdown",
   "metadata": {},
   "source": [
    "Now we generate 21x10 (10 is number of different gaph fo each size) random connected graphs with number of edges from 10 to 310. We do it for each edge saturation."
   ]
  },
  {
   "cell_type": "code",
   "execution_count": 6,
   "metadata": {},
   "outputs": [],
   "source": [
    "# generate_random_connected_and_write_to_file(10,506,15,edge_saturations)"
   ]
  },
  {
   "cell_type": "markdown",
   "metadata": {},
   "source": [
    "And we also generate 50 \"eulerian\" graphs with number of edges from 10 to 500. We do it for each edge saturation"
   ]
  },
  {
   "cell_type": "code",
   "execution_count": 7,
   "metadata": {},
   "outputs": [],
   "source": [
    "# generate_eulerian_and_write_to_file(10,501,10,edge_saturations)"
   ]
  },
  {
   "cell_type": "markdown",
   "metadata": {},
   "source": [
    "# Graph convertion"
   ]
  },
  {
   "cell_type": "markdown",
   "metadata": {},
   "source": [
    "Here we delacre functions which convert graphs from text files to an adjacency list. This is the representation that we are going to use in both experiments. I will justify this choice in other sections."
   ]
  },
  {
   "cell_type": "markdown",
   "metadata": {},
   "source": [
    "### List of Incidents"
   ]
  },
  {
   "cell_type": "code",
   "execution_count": 8,
   "metadata": {},
   "outputs": [],
   "source": [
    "def convert_to_list_of_incidents(n,array):\n",
    "    incidents_list = []\n",
    "    for i in range(n):\n",
    "        incidents = []\n",
    "        for j in range(n):\n",
    "            if i !=j and array[i][j] == 1:\n",
    "                incidents.append(j)\n",
    "        incidents_list.append(incidents)\n",
    "    return incidents_list"
   ]
  },
  {
   "cell_type": "markdown",
   "metadata": {},
   "source": [
    "# Part 1"
   ]
  },
  {
   "cell_type": "markdown",
   "metadata": {},
   "source": [
    "In this part we are going to evaluate a backtracking algorithm for finding eulerian cycle in graph. My choice here was to use list of incidence representation. The other possibility was adjacency matrix. In my opinion it is as good as adjacency list. They are both faster at different operations. List of incidence iterates faster over edges of each vertex because it doesn't need to check if such a edge exists, but it needs more time to find and \"delete\" a given edge, while adjacency matrix does it almost immediately. That is why list of incidence is more suitable for graphs with smaller edge saturation and adjacency matrix would perform better in more dense graphs. Due to the fact that we nned to perform tests on both types of graphs I decided to choose adjacency list because it was easier for me to implement and in most cases takes up less memory."
   ]
  },
  {
   "cell_type": "markdown",
   "metadata": {},
   "source": [
    "### Backtracking algorithm definition"
   ]
  },
  {
   "cell_type": "code",
   "execution_count": 9,
   "metadata": {},
   "outputs": [],
   "source": [
    "def eulerian_backtracking(graph, n_vert,n_edges, path, depth):\n",
    "    global back\n",
    "    if depth == n_edges:\n",
    "        final_edge_exists = path[0] in graph[path[depth-1]]\n",
    "        if final_edge_exists:\n",
    "            path.append(path[0])\n",
    "        return final_edge_exists\n",
    "    for i in range(len(graph[path[depth-1]])):\n",
    "        v = graph[path[depth-1]][i]\n",
    "        if v == -1:\n",
    "            continue\n",
    "        graph[path[depth-1]][i] = -1\n",
    "        replace_index = graph[v].index(path[depth-1])\n",
    "        graph[v][replace_index] = -1\n",
    "        path.append(v)\n",
    "        if eulerian_backtracking(graph, n_vert, n_edges, path, depth+1):\n",
    "            return path\n",
    "        path.pop()\n",
    "        graph[path[depth-1]][i] = v\n",
    "        graph[v][replace_index] = path[depth-1]\n",
    "    return False\n",
    "\n",
    "def find_eulerian_cycle(graph,n):\n",
    "    m=0\n",
    "    for vlist in graph:\n",
    "        length = len(vlist)\n",
    "        if length%2==1:\n",
    "            return False\n",
    "        m+=length\n",
    "    m=int(m/2)\n",
    "    return eulerian_backtracking(graph,n,m,[0],1)\n",
    "    "
   ]
  },
  {
   "cell_type": "markdown",
   "metadata": {},
   "source": [
    "### Time measurement functions definition"
   ]
  },
  {
   "cell_type": "markdown",
   "metadata": {},
   "source": [
    "We measure each time once for each number of elements with each edge saturation"
   ]
  },
  {
   "cell_type": "code",
   "execution_count": 10,
   "metadata": {},
   "outputs": [],
   "source": [
    "def measure_eulerian_single(graph,n):\n",
    "    adj_list = convert_to_list_of_incidents(n,graph)\n",
    "    startTime = time.time()\n",
    "    find_eulerian_cycle(adj_list,n)\n",
    "    return time.time()-startTime\n",
    "\n",
    "def measure_times_eulerian(saturation,n):\n",
    "    time = measure_eulerian_single(read_graph(\"eulerian\",saturation,n,0),n)\n",
    "    return time"
   ]
  },
  {
   "cell_type": "code",
   "execution_count": 11,
   "metadata": {},
   "outputs": [],
   "source": [
    "def plot_plot(X,Ys,labels,title):\n",
    "    for i in range(len(Ys)):\n",
    "        plt.plot(X,Ys[i],label=str(labels[i]))\n",
    "    plt.legend()\n",
    "    plt.xlabel('Number of Elements')\n",
    "    plt.ylabel('Time (s)')\n",
    "    plt.title(title)\n",
    "    plt.show()\n",
    "    plt.close()\n",
    "\n",
    "def perform_test_single_entry_eulerian(entry, X):\n",
    "    return [measure_times_eulerian(entry,n) for n in X]\n",
    "\n",
    "def perform_tests_eulerian(entries,minimum=11,maximum=22,jump=1):\n",
    "    X = [i for i in range(minimum,maximum, jump)]\n",
    "    Ys = [perform_test_single_entry_eulerian(entry,X) for entry in entries]\n",
    "    print(Ys)\n",
    "    plot_plot(X, Ys, entries, \"Eulerian cycle search time\")"
   ]
  },
  {
   "cell_type": "markdown",
   "metadata": {},
   "source": [
    "Here we run the tests"
   ]
  },
  {
   "cell_type": "code",
   "execution_count": 12,
   "metadata": {
    "scrolled": false
   },
   "outputs": [],
   "source": [
    "# perform_tests_eulerian(edge_saturations,10,501,10)"
   ]
  },
  {
   "cell_type": "markdown",
   "metadata": {},
   "source": [
    "Results are very clear we can see that the higher the edge saturation is the longer it takes to find a cycle. Theoretically the time complexity should be extremely high, even 2^(m). Here we do not see it, because algorithm does not need to check every possible path, because the graph is bound to have a cycle, so algorithm does not need to \"go back\" so much. In fact this number is so small that it is negliegible. (I run one test for graph with 23 000 edges and it needed to \"go back\" around 300 times before it found a cycle and finished. So here result highly depends on a number of edge, so its complexity when there are n verticies is O(n(n-1)*saturation/2) or O(E). However it worst case complexity is bigger."
   ]
  },
  {
   "cell_type": "markdown",
   "metadata": {},
   "source": [
    "# Part 2"
   ]
  },
  {
   "cell_type": "markdown",
   "metadata": {},
   "source": [
    "In this part we are going to evaluate a backtracking algorithm for finding hamiltonian cycle in graph. Here the choice again is incidence list, but here it is more justified because it this exercise it takes much longer to find a cycle in a graph with lower edge saturation (it can not exist). And in this setting list of incidents is more efficient."
   ]
  },
  {
   "cell_type": "markdown",
   "metadata": {},
   "source": [
    "### Algorithm implementation"
   ]
  },
  {
   "cell_type": "code",
   "execution_count": 13,
   "metadata": {},
   "outputs": [],
   "source": [
    "def backtracking_hamiltonian_adjacency(graph, n_vert, path, depth,startTime):\n",
    "    if time.time()-startTime >= TIMEOUT:\n",
    "            raise TimeoutError(\"timeout :(\")\n",
    "    if depth == n_vert:\n",
    "        return path[0] in graph[path[depth-1]]\n",
    "    for v in graph[path[depth-1]]:\n",
    "        if (v not in path):\n",
    "            path.append(v)\n",
    "            if backtracking_hamiltonian_adjacency(graph,n_vert,path,depth+1,startTime):\n",
    "                return path\n",
    "            path.pop()\n",
    "    return False"
   ]
  },
  {
   "cell_type": "markdown",
   "metadata": {},
   "source": [
    "### Time measurement functions definition"
   ]
  },
  {
   "cell_type": "markdown",
   "metadata": {},
   "source": [
    "Here we measure time of each of 10 generated graphs for every size and edge saturation and we average them. In order to speed up computation we use multiprocessing library to run this algorithm on all available cors at once. Even in this setting (6 cores) it takes 30 min to complete. Due to the fact that we are not sure if there is a cycle in a graph we stop computation for each graph after 30s seconds if it is not finished."
   ]
  },
  {
   "cell_type": "code",
   "execution_count": 14,
   "metadata": {},
   "outputs": [],
   "source": [
    "def measure_single_hamiltonian(graph,n):\n",
    "        try:\n",
    "            adj_list = convert_to_list_of_incidents(n,graph)\n",
    "            startTime = time.time()\n",
    "            backtracking_hamiltonian_adjacency(adj_list,n,[0],1,startTime)\n",
    "            return time.time()-startTime\n",
    "        except TimeoutError:\n",
    "                print(\"timeout\")\n",
    "                return TIMEOUT\n",
    "            \n",
    "def measure_times_hamiltonian(saturation,n):\n",
    "    pool = mp.Pool(psutil.cpu_count(logical = False))\n",
    "    times = pool.starmap(measure_single_hamiltonian,[(read_graph(\"hamiltonian\",saturation,n,copy),n) for copy in range(COPIES)])\n",
    "    pool.terminate()\n",
    "    return sum(times)/COPIES\n",
    "\n",
    "def perform_test_single_entry(entry, X):\n",
    "    print(\"Saturation: \"+str(entry))\n",
    "    return [measure_times_hamiltonian(entry,n) for n in X]\n",
    "\n",
    "def perform_tests(entries,minimum=11,maximum=22,jump=1):\n",
    "    X = [i for i in range(minimum,maximum, jump)]\n",
    "    Ys = [perform_test_single_entry(entry,X) for entry in entries]\n",
    "    print(Ys)\n",
    "    plot_plot(X, Ys, entries, \"Hamiltonian cycle search time\")\n",
    "    plt.yscale(\"log\")\n",
    "    plot_plot(X, Ys, entries, \"Hamiltonian cycle search time log\")"
   ]
  },
  {
   "cell_type": "markdown",
   "metadata": {},
   "source": [
    "And here we run the tests"
   ]
  },
  {
   "cell_type": "code",
   "execution_count": 15,
   "metadata": {
    "scrolled": false
   },
   "outputs": [],
   "source": [
    "# perform_tests(edge_saturations,10,312,15)"
   ]
  },
  {
   "cell_type": "code",
   "execution_count": 16,
   "metadata": {
    "scrolled": false
   },
   "outputs": [],
   "source": [
    "# perform_tests([0.6,0.8,0.95],10,506,15)"
   ]
  },
  {
   "cell_type": "code",
   "execution_count": 17,
   "metadata": {},
   "outputs": [],
   "source": [
    "# perform_tests([0.8,0.95],10,506,15)"
   ]
  },
  {
   "cell_type": "markdown",
   "metadata": {},
   "source": [
    "The results are quite surprising. Theoretically the more edges there are the longer it should take for algorithm to find the cycle, because it needs to check more possibilities. It is the case for the first few experiments for saturation 0.2, but later the results became highly volatile as for the saturations 0.3.However, for saturation 0.3 it takes less time on average, because there is a  gigher changce that there is a hamiltonian cycle in a graph and an algorithm can stop earlier. Although both graphs are extremely volatile we can see a sligh upward trend, which is blocked by a line of 30s, which was our timeout. The graph for saturation 0.6 is also highly unstable, but at its best for more than 400 edges it becomes faster than 0.8 and 0.95, because it has much less edges. Algorithm seems to be the best for saturation 0.8 because there is high chance that the last vertex that we rich has a connection to the first one, but in the worst cases it might take more time than for saturation 0.95. It is hard to determine a time complexity of this algorithm, because it is proportional to the probability that a given path would lead to finding a cycle. From the shape of the graph we could estimate that its is propornialnal to the number of edges for saturation 0.8 and 0.95."
   ]
  },
  {
   "cell_type": "code",
   "execution_count": 18,
   "metadata": {},
   "outputs": [],
   "source": [
    "# generate_random_connected_and_write_to_file(100,301,100,[0.2,0.95])"
   ]
  },
  {
   "cell_type": "code",
   "execution_count": 19,
   "metadata": {
    "scrolled": false
   },
   "outputs": [],
   "source": [
    "# perform_tests([0.2, 0.95],100, 301, 100 )"
   ]
  },
  {
   "cell_type": "code",
   "execution_count": 22,
   "metadata": {},
   "outputs": [
    {
     "name": "stdout",
     "output_type": "stream",
     "text": [
      "[[0.0026209354400634766, 0.023331880569458008, 0.04566693305969238], [0.03335762023925781, 0.24790239334106445, 0.8154041767120361]]\n"
     ]
    },
    {
     "data": {
      "image/png": "[encoded data removed]",
      "text/plain": [
       "<Figure size 720x432 with 1 Axes>"
      ]
     },
     "metadata": {
      "needs_background": "light"
     },
     "output_type": "display_data"
    }
   ],
   "source": [
    "perform_tests_eulerian([0.2,0.95],100, 301,100)"
   ]
  },
  {
   "cell_type": "code",
   "execution_count": null,
   "metadata": {},
   "outputs": [],
   "source": []
  }
 ],
 "metadata": {
  "kernelspec": {
   "display_name": "Python 3",
   "language": "python",
   "name": "python3"
  },
  "language_info": {
   "codemirror_mode": {
    "name": "ipython",
    "version": 3
   },
   "file_extension": ".py",
   "mimetype": "text/x-python",
   "name": "python",
   "nbconvert_exporter": "python",
   "pygments_lexer": "ipython3",
   "version": "3.7.6"
  }
 },
 "nbformat": 4,
 "nbformat_minor": 4
}
