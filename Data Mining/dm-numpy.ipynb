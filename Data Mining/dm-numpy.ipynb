{
 "cells": [
  {
   "cell_type": "markdown",
   "metadata": {},
   "source": [
    "# NumPy tutorial\n",
    "\n",
    "[Numerical Python](https://numpy.org) is one of the most fundamental tools in each data miner's toolbox. It is impossible to do serious data pre-processing and transformation without the understanding of `NumPy` and its most commonly used methods. The goal of this tutorial is to familiarize students with this awesome library."
   ]
  },
  {
   "cell_type": "markdown",
   "metadata": {
    "heading_collapsed": true
   },
   "source": [
    "## Introduction\n",
    "\n",
    "99% of `NumPy` is one data structure and operations on that structure. `NumPy` stores everything in multidimensional arrays and vectorizes all operations on these arrays. For a motivating example, let's compare the speed of computing an average of 10 mln of random numbers stored in a list vs an array"
   ]
  },
  {
   "cell_type": "code",
   "execution_count": 1,
   "metadata": {
    "ExecuteTime": {
     "end_time": "2021-03-03T23:34:37.840820Z",
     "start_time": "2021-03-03T23:34:37.374882Z"
    },
    "hidden": true
   },
   "outputs": [],
   "source": [
    "import numpy as np\n",
    "from numpy.random import randint\n",
    "\n",
    "randoms = randint(low=0, high=1000, size=10000000)\n",
    "lst = list(randoms)"
   ]
  },
  {
   "cell_type": "code",
   "execution_count": 7,
   "metadata": {
    "ExecuteTime": {
     "end_time": "2021-03-03T23:34:51.175886Z",
     "start_time": "2021-03-03T23:34:49.543405Z"
    },
    "hidden": true
   },
   "outputs": [
    {
     "name": "stdout",
     "output_type": "stream",
     "text": [
      "Average = 499.5591546\n",
      "CPU times: user 2.36 s, sys: 840 µs, total: 2.36 s\n",
      "Wall time: 2.36 s\n"
     ]
    }
   ],
   "source": [
    "%%time\n",
    "\n",
    "# old-school iteration\n",
    "summ = 0\n",
    "for i in range(len(lst)):\n",
    "    summ += lst[i]\n",
    "    \n",
    "print(f'Average = {summ/len(lst)}')"
   ]
  },
  {
   "cell_type": "code",
   "execution_count": 8,
   "metadata": {
    "ExecuteTime": {
     "end_time": "2021-03-03T23:35:03.856582Z",
     "start_time": "2021-03-03T23:35:03.009763Z"
    },
    "hidden": true
   },
   "outputs": [
    {
     "name": "stdout",
     "output_type": "stream",
     "text": [
      "Average = 499.5591546\n",
      "CPU times: user 1.06 s, sys: 8.1 ms, total: 1.07 s\n",
      "Wall time: 1.06 s\n"
     ]
    }
   ],
   "source": [
    "%%time\n",
    "\n",
    "# using built-ins sum() and len()\n",
    "print(f'Average = {sum(lst)/len(lst)}')"
   ]
  },
  {
   "cell_type": "code",
   "execution_count": 9,
   "metadata": {
    "ExecuteTime": {
     "end_time": "2021-03-03T23:35:35.687968Z",
     "start_time": "2021-03-03T23:35:35.651978Z"
    },
    "hidden": true
   },
   "outputs": [
    {
     "name": "stdout",
     "output_type": "stream",
     "text": [
      "Average = 499.5591546\n",
      "CPU times: user 29.2 ms, sys: 111 µs, total: 29.3 ms\n",
      "Wall time: 27.4 ms\n"
     ]
    }
   ],
   "source": [
    "%%time\n",
    "\n",
    "# using NumPy\n",
    "print(f'Average = {np.mean(randoms)}')"
   ]
  },
  {
   "cell_type": "markdown",
   "metadata": {
    "hidden": true
   },
   "source": [
    "There are only two rules regarding `NumPy` arrays:\n",
    "- every element must be of the same type and size\n",
    "- if an array has arrays, they must match as well\n",
    "\n",
    "Let's see how to create an array and what happens when we start messing with the types and sizes of objects"
   ]
  },
  {
   "cell_type": "code",
   "execution_count": 5,
   "metadata": {
    "ExecuteTime": {
     "end_time": "2021-03-03T23:40:59.226084Z",
     "start_time": "2021-03-03T23:40:59.137544Z"
    },
    "hidden": true
   },
   "outputs": [
    {
     "name": "stdout",
     "output_type": "stream",
     "text": [
      "Shape (sizes of dimensions): (5,)\n",
      "Number of dimensions: 1\n",
      "Length (number of elements): 5\n",
      "Size (number of nested elements): 5\n",
      "Type : <class 'numpy.ndarray'>\n",
      "Data type (type of array elements): int64\n"
     ]
    }
   ],
   "source": [
    "a = np.array([1, 2, 3, 4, 5])\n",
    "\n",
    "print(f'Shape (sizes of dimensions): {a.shape}')\n",
    "print(f'Number of dimensions: {a.ndim}')\n",
    "print(f'Length (number of elements): {len(a)}')\n",
    "print(f'Size (number of nested elements): {a.size}')\n",
    "print(f'Type : {type(a)}')\n",
    "print(f'Data type (type of array elements): {a.dtype}')"
   ]
  },
  {
   "cell_type": "markdown",
   "metadata": {
    "hidden": true
   },
   "source": [
    "Now let's see how the same descriptors can be applied to a two-dimensional array"
   ]
  },
  {
   "cell_type": "code",
   "execution_count": 6,
   "metadata": {
    "ExecuteTime": {
     "end_time": "2021-03-03T23:42:21.365979Z",
     "start_time": "2021-03-03T23:42:21.350905Z"
    },
    "hidden": true
   },
   "outputs": [
    {
     "name": "stdout",
     "output_type": "stream",
     "text": [
      "Shape (sizes of dimensions): (2, 5)\n",
      "Number of dimensions: 2\n",
      "Length (number of elements): 2\n",
      "Size (number of nested elements): 10\n",
      "Type : <class 'numpy.ndarray'>\n",
      "Data type (type of array elements): int64\n"
     ]
    }
   ],
   "source": [
    "a = np.array([\n",
    "    [1, 2, 3, 4, 5],\n",
    "    [1, 4, 9, 16, 25]\n",
    "])\n",
    "\n",
    "print(f'Shape (sizes of dimensions): {a.shape}')\n",
    "print(f'Number of dimensions: {a.ndim}')\n",
    "print(f'Length (number of elements): {len(a)}')\n",
    "print(f'Size (number of nested elements): {a.size}')\n",
    "print(f'Type : {type(a)}')\n",
    "print(f'Data type (type of array elements): {a.dtype}')"
   ]
  },
  {
   "cell_type": "markdown",
   "metadata": {
    "hidden": true
   },
   "source": [
    "Array elements should be of the same type. Let's see what happens if we mix two types."
   ]
  },
  {
   "cell_type": "code",
   "execution_count": 11,
   "metadata": {
    "ExecuteTime": {
     "end_time": "2021-03-03T23:43:35.028140Z",
     "start_time": "2021-03-03T23:43:35.016527Z"
    },
    "hidden": true
   },
   "outputs": [
    {
     "name": "stdout",
     "output_type": "stream",
     "text": [
      "['1' '2' 'mary' 'had' '2' 'lambs']\n"
     ]
    }
   ],
   "source": [
    "a = np.array([1, 2, 'mary', 'had', 2, 'lambs'])\n",
    "\n",
    "print(a)"
   ]
  },
  {
   "cell_type": "markdown",
   "metadata": {
    "hidden": true
   },
   "source": [
    "We can also try to modify the length of array's elements"
   ]
  },
  {
   "cell_type": "code",
   "execution_count": 12,
   "metadata": {
    "ExecuteTime": {
     "end_time": "2021-03-03T23:46:03.589097Z",
     "start_time": "2021-03-03T23:46:03.574401Z"
    },
    "hidden": true
   },
   "outputs": [
    {
     "name": "stdout",
     "output_type": "stream",
     "text": [
      "['mary' 'had' 'a' 'little' 'and ve']\n"
     ]
    }
   ],
   "source": [
    "a = np.array(['mary', 'had', 'a', 'little', 'lamb'])\n",
    "a[4] = 'and very very very very long snake'\n",
    "\n",
    "print(a)"
   ]
  },
  {
   "cell_type": "markdown",
   "metadata": {
    "hidden": true
   },
   "source": [
    "After an array has been created, it can be reshaped to whatever shape one desires. A special function is provided for transposing an array (changing rows into columns and vice versa)"
   ]
  },
  {
   "cell_type": "code",
   "execution_count": 39,
   "metadata": {
    "ExecuteTime": {
     "end_time": "2021-03-04T00:25:39.696354Z",
     "start_time": "2021-03-04T00:25:39.692435Z"
    },
    "hidden": true
   },
   "outputs": [
    {
     "name": "stdout",
     "output_type": "stream",
     "text": [
      "[[ 0  1  2  3]\n",
      " [ 4  5  6  7]\n",
      " [ 8  9 10 11]]\n"
     ]
    }
   ],
   "source": [
    "a = np.array([0,1,2,3,4,5,6,7,8,9,10,11])\n",
    "\n",
    "a.shape = 3,4\n",
    "print(a)"
   ]
  },
  {
   "cell_type": "code",
   "execution_count": 41,
   "metadata": {
    "ExecuteTime": {
     "end_time": "2021-03-04T00:26:34.197402Z",
     "start_time": "2021-03-04T00:26:34.194711Z"
    },
    "hidden": true
   },
   "outputs": [],
   "source": [
    "a = a.reshape(6, 2)"
   ]
  },
  {
   "cell_type": "code",
   "execution_count": 42,
   "metadata": {
    "ExecuteTime": {
     "end_time": "2021-03-04T00:26:45.662148Z",
     "start_time": "2021-03-04T00:26:45.657699Z"
    },
    "hidden": true
   },
   "outputs": [
    {
     "data": {
      "text/plain": [
       "array([[ 0,  2,  4,  6,  8, 10],\n",
       "       [ 1,  3,  5,  7,  9, 11]])"
      ]
     },
     "execution_count": 42,
     "metadata": {},
     "output_type": "execute_result"
    }
   ],
   "source": [
    "a.T"
   ]
  },
  {
   "cell_type": "markdown",
   "metadata": {
    "heading_collapsed": true
   },
   "source": [
    "## Creating arrays\n",
    "\n",
    "The easiest way to create a 1-d array is to use a list. If you want a 2-d array, you use a list of lists. 3-d arrays are created using a list of lists of lists. You get the gist."
   ]
  },
  {
   "cell_type": "code",
   "execution_count": 43,
   "metadata": {
    "ExecuteTime": {
     "end_time": "2021-03-03T23:52:14.604377Z",
     "start_time": "2021-03-03T23:52:14.591105Z"
    },
    "hidden": true
   },
   "outputs": [],
   "source": [
    "a_1d = np.array([1, 2, 3, 4])\n",
    "\n",
    "a_2d = np.array([\n",
    "    [1, 2, 3, 4],\n",
    "    [1, 4, 9, 16],\n",
    "    [1, 8, 27, 64]\n",
    "])\n",
    "\n",
    "a_3d = np.array([\n",
    "    [\n",
    "        [0, 0],\n",
    "        [0, 1],\n",
    "    ],\n",
    "    [\n",
    "        [1, 0],\n",
    "        [1, 1],\n",
    "    ],\n",
    "])"
   ]
  },
  {
   "cell_type": "markdown",
   "metadata": {
    "hidden": true
   },
   "source": [
    "There are utility functions in the `np` module for creating popular types of arrays:\n",
    "- an array filled with zeros\n",
    "- an array filled with ones\n",
    "- an array filled with any value\n",
    "- an array of consecutive (or stepped) values\n",
    "- an array filled with random values\n",
    "- a diagonal array"
   ]
  },
  {
   "cell_type": "code",
   "execution_count": 44,
   "metadata": {
    "ExecuteTime": {
     "end_time": "2021-03-03T23:53:36.562699Z",
     "start_time": "2021-03-03T23:53:36.534927Z"
    },
    "hidden": true
   },
   "outputs": [
    {
     "data": {
      "text/plain": [
       "array([0., 0., 0., 0., 0., 0., 0., 0., 0., 0.])"
      ]
     },
     "execution_count": 44,
     "metadata": {},
     "output_type": "execute_result"
    }
   ],
   "source": [
    "np.zeros(shape=10)"
   ]
  },
  {
   "cell_type": "code",
   "execution_count": 45,
   "metadata": {
    "ExecuteTime": {
     "end_time": "2021-03-03T23:53:47.705059Z",
     "start_time": "2021-03-03T23:53:47.701794Z"
    },
    "hidden": true
   },
   "outputs": [
    {
     "data": {
      "text/plain": [
       "array([[0., 0., 0., 0., 0.],\n",
       "       [0., 0., 0., 0., 0.],\n",
       "       [0., 0., 0., 0., 0.]])"
      ]
     },
     "execution_count": 45,
     "metadata": {},
     "output_type": "execute_result"
    }
   ],
   "source": [
    "np.zeros(shape=(3,5))"
   ]
  },
  {
   "cell_type": "code",
   "execution_count": 46,
   "metadata": {
    "ExecuteTime": {
     "end_time": "2021-03-03T23:54:22.161537Z",
     "start_time": "2021-03-03T23:54:22.158256Z"
    },
    "hidden": true
   },
   "outputs": [
    {
     "data": {
      "text/plain": [
       "array([1., 1., 1., 1., 1., 1., 1., 1., 1., 1.])"
      ]
     },
     "execution_count": 46,
     "metadata": {},
     "output_type": "execute_result"
    }
   ],
   "source": [
    "np.ones(10)"
   ]
  },
  {
   "cell_type": "code",
   "execution_count": 47,
   "metadata": {
    "ExecuteTime": {
     "end_time": "2021-03-03T23:54:43.228779Z",
     "start_time": "2021-03-03T23:54:43.214731Z"
    },
    "hidden": true
   },
   "outputs": [
    {
     "data": {
      "text/plain": [
       "array([1, 1, 1, 1, 1, 1, 1, 1, 1, 1])"
      ]
     },
     "execution_count": 47,
     "metadata": {},
     "output_type": "execute_result"
    }
   ],
   "source": [
    "np.ones(10, dtype=np.int)"
   ]
  },
  {
   "cell_type": "code",
   "execution_count": 48,
   "metadata": {
    "ExecuteTime": {
     "end_time": "2021-03-03T23:55:22.143212Z",
     "start_time": "2021-03-03T23:55:22.129782Z"
    },
    "hidden": true
   },
   "outputs": [
    {
     "data": {
      "text/plain": [
       "array([['empty', 'empty', 'empty', 'empty'],\n",
       "       ['empty', 'empty', 'empty', 'empty'],\n",
       "       ['empty', 'empty', 'empty', 'empty'],\n",
       "       ['empty', 'empty', 'empty', 'empty']], dtype='<U5')"
      ]
     },
     "execution_count": 48,
     "metadata": {},
     "output_type": "execute_result"
    }
   ],
   "source": [
    "np.full(shape=(4,4), fill_value='empty')"
   ]
  },
  {
   "cell_type": "code",
   "execution_count": 49,
   "metadata": {
    "ExecuteTime": {
     "end_time": "2021-03-03T23:56:04.667688Z",
     "start_time": "2021-03-03T23:56:04.664710Z"
    },
    "hidden": true
   },
   "outputs": [],
   "source": [
    "??np.arange"
   ]
  },
  {
   "cell_type": "code",
   "execution_count": 50,
   "metadata": {
    "ExecuteTime": {
     "end_time": "2021-03-03T23:57:02.369240Z",
     "start_time": "2021-03-03T23:57:02.357312Z"
    },
    "hidden": true
   },
   "outputs": [
    {
     "data": {
      "text/plain": [
       "array([-2. , -1.5, -1. , -0.5,  0. ,  0.5,  1. ,  1.5])"
      ]
     },
     "execution_count": 50,
     "metadata": {},
     "output_type": "execute_result"
    }
   ],
   "source": [
    "np.arange(-2, 2, 0.5)"
   ]
  },
  {
   "cell_type": "code",
   "execution_count": 51,
   "metadata": {
    "ExecuteTime": {
     "end_time": "2021-03-03T23:58:14.953312Z",
     "start_time": "2021-03-03T23:58:14.940224Z"
    },
    "hidden": true
   },
   "outputs": [
    {
     "data": {
      "text/plain": [
       "array([[[-0.10076051, -0.63917097],\n",
       "        [ 0.11698958, -0.66885976],\n",
       "        [ 0.1579159 , -0.62863452]],\n",
       "\n",
       "       [[-0.23855573,  1.809766  ],\n",
       "        [-0.83887003, -2.29175903],\n",
       "        [-0.19591689, -0.64840379]],\n",
       "\n",
       "       [[ 0.9413059 , -2.64962956],\n",
       "        [ 0.23742025, -0.52900089],\n",
       "        [-0.01257001, -0.39034467]]])"
      ]
     },
     "execution_count": 51,
     "metadata": {},
     "output_type": "execute_result"
    }
   ],
   "source": [
    "np.random.randn(3, 3, 2)"
   ]
  },
  {
   "cell_type": "code",
   "execution_count": 52,
   "metadata": {
    "ExecuteTime": {
     "end_time": "2021-03-03T23:59:12.590873Z",
     "start_time": "2021-03-03T23:59:12.586763Z"
    },
    "hidden": true
   },
   "outputs": [
    {
     "data": {
      "text/plain": [
       "array([3, 1, 2, 2, 5, 5, 2, 1, 5, 6])"
      ]
     },
     "execution_count": 52,
     "metadata": {},
     "output_type": "execute_result"
    }
   ],
   "source": [
    "np.random.randint(low=1, high=7, size=10)"
   ]
  },
  {
   "cell_type": "code",
   "execution_count": 53,
   "metadata": {
    "ExecuteTime": {
     "end_time": "2021-03-03T23:59:42.028302Z",
     "start_time": "2021-03-03T23:59:42.015021Z"
    },
    "hidden": true
   },
   "outputs": [
    {
     "data": {
      "text/plain": [
       "array([[1., 0., 0., 0., 0.],\n",
       "       [0., 1., 0., 0., 0.],\n",
       "       [0., 0., 1., 0., 0.],\n",
       "       [0., 0., 0., 1., 0.],\n",
       "       [0., 0., 0., 0., 1.]])"
      ]
     },
     "execution_count": 53,
     "metadata": {},
     "output_type": "execute_result"
    }
   ],
   "source": [
    "np.eye(5)"
   ]
  },
  {
   "cell_type": "code",
   "execution_count": 54,
   "metadata": {
    "ExecuteTime": {
     "end_time": "2021-03-03T23:59:54.041350Z",
     "start_time": "2021-03-03T23:59:54.027680Z"
    },
    "hidden": true
   },
   "outputs": [
    {
     "data": {
      "text/plain": [
       "array([[1., 0., 0., 0., 0., 0., 0., 0.],\n",
       "       [0., 1., 0., 0., 0., 0., 0., 0.],\n",
       "       [0., 0., 1., 0., 0., 0., 0., 0.],\n",
       "       [0., 0., 0., 1., 0., 0., 0., 0.],\n",
       "       [0., 0., 0., 0., 1., 0., 0., 0.]])"
      ]
     },
     "execution_count": 54,
     "metadata": {},
     "output_type": "execute_result"
    }
   ],
   "source": [
    "np.eye(5, 8)"
   ]
  },
  {
   "cell_type": "markdown",
   "metadata": {
    "heading_collapsed": true
   },
   "source": [
    "## Indexing arrays\n",
    "\n",
    "Arrays in `NumPy` are 0-indexed. Indexing of 1-d arrays is very easy, just follow the pattern of *start*:*end*:*step*"
   ]
  },
  {
   "cell_type": "code",
   "execution_count": 55,
   "metadata": {
    "ExecuteTime": {
     "end_time": "2021-03-04T00:04:23.448864Z",
     "start_time": "2021-03-04T00:04:23.435381Z"
    },
    "hidden": true
   },
   "outputs": [
    {
     "name": "stdout",
     "output_type": "stream",
     "text": [
      "Full array: [0 1 2 3 4 5 6 7 8 9]\n",
      "First element: 0\n",
      "First three elements: [0 1 2]\n",
      "Last element: 9 and 9\n",
      "Even elements: [0 2 4 6 8]\n"
     ]
    }
   ],
   "source": [
    "a = np.arange(0, 10)\n",
    "\n",
    "print(f'Full array: {a}')\n",
    "print(f'First element: {a[0]}')\n",
    "print(f'First three elements: {a[0:3]}')\n",
    "print(f'Last element: {a[len(a)-1]} and {a[-1]}')\n",
    "print(f'Even elements: {a[::2]}')"
   ]
  },
  {
   "cell_type": "markdown",
   "metadata": {
    "hidden": true
   },
   "source": [
    "Indexing of n-dim arrays is a bit more tricky. Keep in mind that axis 0 refers to rows and axis 1 refers to columns. For high dimensional arrays try to build the following intuition:\n",
    "- 1-d: a row of values\n",
    "- 2-d: a matrix (rows and columns) of values\n",
    "- 3-d: a row of arrays\n",
    "- 4-d: a matrix of arrays\n",
    "- and so on..."
   ]
  },
  {
   "cell_type": "code",
   "execution_count": 56,
   "metadata": {
    "ExecuteTime": {
     "end_time": "2021-03-04T00:14:12.644767Z",
     "start_time": "2021-03-04T00:14:12.629102Z"
    },
    "hidden": true
   },
   "outputs": [
    {
     "name": "stdout",
     "output_type": "stream",
     "text": [
      "[[  1   2   3   4]\n",
      " [ 10  20  30  40]\n",
      " [100 200 300 400]]\n",
      "Element at second row, third column: 30\n",
      "Entire first row: [1 2 3 4]\n",
      "Entire first row as 2-d array: [[1 2 3 4]]\n",
      "First and second rows, last column: [ 4 40]\n"
     ]
    }
   ],
   "source": [
    "a = np.array([\n",
    "    [1, 2, 3, 4],\n",
    "    [10, 20, 30, 40],\n",
    "    [100, 200, 300, 400],\n",
    "])\n",
    "\n",
    "print(a)\n",
    "\n",
    "print(f'Element at second row, third column: {a[1,2]}')\n",
    "print(f'Entire first row: {a[0]}')\n",
    "print(f'Entire first row as 2-d array: {a[0, None]}')\n",
    "print(f'First and second rows, last column: {a[:2,-1]}')\n"
   ]
  },
  {
   "cell_type": "markdown",
   "metadata": {
    "hidden": true
   },
   "source": [
    "The same goes with all n-dim arrays. For instance, let's extract first matrix, all rows, first column. You can also use indexing to assign multiple values to array cell at once."
   ]
  },
  {
   "cell_type": "code",
   "execution_count": 88,
   "metadata": {
    "ExecuteTime": {
     "end_time": "2021-03-04T00:17:21.552078Z",
     "start_time": "2021-03-04T00:17:21.539966Z"
    },
    "hidden": true
   },
   "outputs": [
    {
     "data": {
      "text/plain": [
       "array([0, 0])"
      ]
     },
     "execution_count": 88,
     "metadata": {},
     "output_type": "execute_result"
    }
   ],
   "source": [
    "a_3d[0, :, 0]"
   ]
  },
  {
   "cell_type": "code",
   "execution_count": 89,
   "metadata": {
    "ExecuteTime": {
     "end_time": "2021-03-04T00:18:28.799580Z",
     "start_time": "2021-03-04T00:18:28.790355Z"
    },
    "hidden": true
   },
   "outputs": [
    {
     "name": "stdout",
     "output_type": "stream",
     "text": [
      "[[[ 0  0]\n",
      "  [ 0  1]]\n",
      "\n",
      " [[ 1 -1]\n",
      "  [ 1 -1]]]\n"
     ]
    }
   ],
   "source": [
    "a_3d[1, :, 1] = -1\n",
    "\n",
    "print(a_3d)"
   ]
  },
  {
   "cell_type": "markdown",
   "metadata": {
    "heading_collapsed": true
   },
   "source": [
    "## Basic operations on arrays\n",
    "\n",
    "All array operations are vectorized, so they tend to be very quick. By default, `NumPy` performs element-wise array operations. If you want to correctly multiply arrays, use `@` operator as shown below."
   ]
  },
  {
   "cell_type": "code",
   "execution_count": 90,
   "metadata": {
    "ExecuteTime": {
     "end_time": "2021-03-04T00:21:30.170093Z",
     "start_time": "2021-03-04T00:21:30.164333Z"
    },
    "hidden": true
   },
   "outputs": [],
   "source": [
    "a = np.arange(0, 12)\n",
    "b = np.arange(12, 24)\n",
    "\n",
    "a.shape = b.shape = 3, 4"
   ]
  },
  {
   "cell_type": "code",
   "execution_count": 91,
   "metadata": {
    "ExecuteTime": {
     "end_time": "2021-03-04T00:21:52.134301Z",
     "start_time": "2021-03-04T00:21:52.130928Z"
    },
    "hidden": true
   },
   "outputs": [
    {
     "data": {
      "text/plain": [
       "array([[ 0,  1,  2,  3],\n",
       "       [ 4,  5,  6,  7],\n",
       "       [ 8,  9, 10, 11]])"
      ]
     },
     "execution_count": 91,
     "metadata": {},
     "output_type": "execute_result"
    }
   ],
   "source": [
    "a"
   ]
  },
  {
   "cell_type": "code",
   "execution_count": 92,
   "metadata": {
    "ExecuteTime": {
     "end_time": "2021-03-04T00:22:03.423514Z",
     "start_time": "2021-03-04T00:22:03.420597Z"
    },
    "hidden": true
   },
   "outputs": [
    {
     "data": {
      "text/plain": [
       "array([[12, 13, 14, 15],\n",
       "       [16, 17, 18, 19],\n",
       "       [20, 21, 22, 23]])"
      ]
     },
     "execution_count": 92,
     "metadata": {},
     "output_type": "execute_result"
    }
   ],
   "source": [
    "b"
   ]
  },
  {
   "cell_type": "code",
   "execution_count": 93,
   "metadata": {
    "ExecuteTime": {
     "end_time": "2021-03-04T00:21:40.945540Z",
     "start_time": "2021-03-04T00:21:40.941873Z"
    },
    "hidden": true
   },
   "outputs": [
    {
     "data": {
      "text/plain": [
       "array([[12, 14, 16, 18],\n",
       "       [20, 22, 24, 26],\n",
       "       [28, 30, 32, 34]])"
      ]
     },
     "execution_count": 93,
     "metadata": {},
     "output_type": "execute_result"
    }
   ],
   "source": [
    "a + b"
   ]
  },
  {
   "cell_type": "code",
   "execution_count": 94,
   "metadata": {
    "ExecuteTime": {
     "end_time": "2021-03-04T00:22:14.920011Z",
     "start_time": "2021-03-04T00:22:14.917144Z"
    },
    "hidden": true
   },
   "outputs": [
    {
     "data": {
      "text/plain": [
       "array([[12, 12, 12, 12],\n",
       "       [12, 12, 12, 12],\n",
       "       [12, 12, 12, 12]])"
      ]
     },
     "execution_count": 94,
     "metadata": {},
     "output_type": "execute_result"
    }
   ],
   "source": [
    "b - a"
   ]
  },
  {
   "cell_type": "code",
   "execution_count": 95,
   "metadata": {
    "ExecuteTime": {
     "end_time": "2021-03-04T00:22:28.393813Z",
     "start_time": "2021-03-04T00:22:28.385430Z"
    },
    "hidden": true
   },
   "outputs": [
    {
     "data": {
      "text/plain": [
       "array([[  0,  10,  20,  30],\n",
       "       [ 40,  50,  60,  70],\n",
       "       [ 80,  90, 100, 110]])"
      ]
     },
     "execution_count": 95,
     "metadata": {},
     "output_type": "execute_result"
    }
   ],
   "source": [
    "a * 10"
   ]
  },
  {
   "cell_type": "code",
   "execution_count": 96,
   "metadata": {
    "ExecuteTime": {
     "end_time": "2021-03-04T00:23:37.009050Z",
     "start_time": "2021-03-04T00:23:36.994199Z"
    },
    "hidden": true
   },
   "outputs": [
    {
     "data": {
      "text/plain": [
       "array([[ 86, 110, 134],\n",
       "       [302, 390, 478],\n",
       "       [518, 670, 822]])"
      ]
     },
     "execution_count": 96,
     "metadata": {},
     "output_type": "execute_result"
    }
   ],
   "source": [
    "a @ b.T"
   ]
  },
  {
   "cell_type": "markdown",
   "metadata": {},
   "source": [
    "## Exercises"
   ]
  },
  {
   "cell_type": "markdown",
   "metadata": {},
   "source": [
    "### Calculating sliding averages\n",
    "\n",
    "Given an array of daily measurements, create a new array with averages computed over each pair of consecutive days"
   ]
  },
  {
   "cell_type": "code",
   "execution_count": 99,
   "metadata": {
    "ExecuteTime": {
     "end_time": "2021-03-04T00:36:42.398567Z",
     "start_time": "2021-03-04T00:36:42.396222Z"
    }
   },
   "outputs": [
    {
     "data": {
      "text/plain": [
       "array([ 0.5,  1.5,  2.5,  3.5,  4.5,  5.5,  6.5,  7.5,  8.5,  9.5, 10.5,\n",
       "       11.5, 12.5, 13.5, 14.5, 15.5, 16.5, 17.5, 18.5, 19.5, 20.5, 21.5,\n",
       "       22.5, 23.5, 24.5, 25.5, 26.5, 27.5, 28.5, 29.5, 30.5, 31.5, 32.5,\n",
       "       33.5, 34.5, 35.5, 36.5, 37.5, 38.5, 39.5, 40.5, 41.5, 42.5, 43.5,\n",
       "       44.5, 45.5, 46.5, 47.5, 48.5, 49.5, 50.5, 51.5, 52.5, 53.5, 54.5,\n",
       "       55.5, 56.5, 57.5, 58.5, 59.5, 60.5, 61.5, 62.5, 63.5, 64.5, 65.5,\n",
       "       66.5, 67.5, 68.5, 69.5, 70.5, 71.5, 72.5, 73.5, 74.5, 75.5, 76.5,\n",
       "       77.5, 78.5, 79.5, 80.5, 81.5, 82.5, 83.5, 84.5, 85.5, 86.5, 87.5,\n",
       "       88.5, 89.5, 90.5, 91.5, 92.5, 93.5, 94.5, 95.5, 96.5, 97.5, 98.5])"
      ]
     },
     "execution_count": 99,
     "metadata": {},
     "output_type": "execute_result"
    }
   ],
   "source": [
    "measurements = np.arange(100)\n",
    "(measurements[:99]+measurements[1:])/2"
   ]
  },
  {
   "cell_type": "markdown",
   "metadata": {
    "heading_collapsed": true
   },
   "source": [
    "### Battleships\n",
    "\n",
    "Given a 10x10 playing field with hidden battleships and a list of shooting targets, compute the number of hits."
   ]
  },
  {
   "cell_type": "code",
   "execution_count": 128,
   "metadata": {
    "ExecuteTime": {
     "end_time": "2021-03-04T00:35:35.875449Z",
     "start_time": "2021-03-04T00:35:35.863108Z"
    },
    "hidden": true
   },
   "outputs": [
    {
     "data": {
      "text/plain": [
       "array([[0, 0, 1, 0, 1, 0, 1, 1, 1, 1],\n",
       "       [0, 1, 1, 1, 0, 0, 1, 0, 1, 0],\n",
       "       [1, 1, 0, 1, 1, 0, 0, 0, 0, 1],\n",
       "       [1, 1, 1, 0, 1, 0, 1, 0, 0, 1],\n",
       "       [0, 1, 0, 1, 1, 1, 0, 0, 1, 1],\n",
       "       [1, 0, 1, 1, 1, 0, 1, 0, 1, 1],\n",
       "       [1, 0, 0, 0, 0, 0, 1, 0, 0, 0],\n",
       "       [0, 1, 0, 1, 0, 0, 1, 1, 0, 0],\n",
       "       [1, 0, 1, 0, 0, 0, 1, 0, 0, 1],\n",
       "       [0, 1, 0, 0, 1, 1, 1, 0, 0, 0]])"
      ]
     },
     "execution_count": 128,
     "metadata": {},
     "output_type": "execute_result"
    }
   ],
   "source": [
    "sea = np.random.randint(low=0, high=2, size=(10,10))\n",
    "\n",
    "sea"
   ]
  },
  {
   "cell_type": "code",
   "execution_count": 129,
   "metadata": {
    "ExecuteTime": {
     "end_time": "2021-03-04T00:36:30.933605Z",
     "start_time": "2021-03-04T00:36:30.919049Z"
    },
    "hidden": true
   },
   "outputs": [],
   "source": [
    "targets = np.array([\n",
    "    [0,3],\n",
    "    [1,7],\n",
    "    [2,2],\n",
    "    [3,5],\n",
    "    [8,2]\n",
    "])\n"
   ]
  },
  {
   "cell_type": "code",
   "execution_count": 130,
   "metadata": {},
   "outputs": [
    {
     "data": {
      "text/plain": [
       "array([0, 1, 2, 3, 8])"
      ]
     },
     "execution_count": 130,
     "metadata": {},
     "output_type": "execute_result"
    }
   ],
   "source": [
    "#Rows\n",
    "targets[:,0]"
   ]
  },
  {
   "cell_type": "code",
   "execution_count": 134,
   "metadata": {},
   "outputs": [
    {
     "data": {
      "text/plain": [
       "array([3, 7, 2, 5, 2])"
      ]
     },
     "execution_count": 134,
     "metadata": {},
     "output_type": "execute_result"
    }
   ],
   "source": [
    "#Columns\n",
    "targets[:,1]"
   ]
  },
  {
   "cell_type": "code",
   "execution_count": 132,
   "metadata": {},
   "outputs": [
    {
     "data": {
      "text/plain": [
       "array([0, 0, 0, 0, 1])"
      ]
     },
     "execution_count": 132,
     "metadata": {},
     "output_type": "execute_result"
    }
   ],
   "source": [
    "sea[targets[:,0], targets[:,1]]"
   ]
  },
  {
   "cell_type": "code",
   "execution_count": 133,
   "metadata": {},
   "outputs": [
    {
     "data": {
      "text/plain": [
       "1"
      ]
     },
     "execution_count": 133,
     "metadata": {},
     "output_type": "execute_result"
    }
   ],
   "source": [
    "np.sum(sea[targets[:,0], targets[:,1]])"
   ]
  },
  {
   "cell_type": "markdown",
   "metadata": {
    "heading_collapsed": true
   },
   "source": [
    "## Broadcasting\n",
    "\n",
    "This is by far the most important concept in `NumPy`. Broadcasting is an automatic expansion of arrays so that they match with their operands.\n",
    "\n",
    "Let's start with the simplest example."
   ]
  },
  {
   "cell_type": "code",
   "execution_count": 36,
   "metadata": {
    "ExecuteTime": {
     "end_time": "2021-03-04T00:39:56.304695Z",
     "start_time": "2021-03-04T00:39:56.299661Z"
    },
    "hidden": true
   },
   "outputs": [
    {
     "data": {
      "text/plain": [
       "array([10, 11, 12, 13, 14, 15, 16, 17, 18, 19])"
      ]
     },
     "execution_count": 36,
     "metadata": {},
     "output_type": "execute_result"
    }
   ],
   "source": [
    "a = np.arange(10)\n",
    "\n",
    "a + 10"
   ]
  },
  {
   "cell_type": "markdown",
   "metadata": {
    "hidden": true
   },
   "source": [
    "The same happens for 2-d arrays"
   ]
  },
  {
   "cell_type": "code",
   "execution_count": 135,
   "metadata": {
    "ExecuteTime": {
     "end_time": "2021-03-04T00:40:59.492967Z",
     "start_time": "2021-03-04T00:40:59.477682Z"
    },
    "hidden": true
   },
   "outputs": [
    {
     "data": {
      "text/plain": [
       "array([[ 1.1,  2.2,  3.3,  4.4],\n",
       "       [ 1.1,  4.2,  9.3, 16.4]])"
      ]
     },
     "execution_count": 135,
     "metadata": {},
     "output_type": "execute_result"
    }
   ],
   "source": [
    "a = np.array([\n",
    "    [1, 2, 3, 4],\n",
    "    [1, 4, 9, 16],\n",
    "])\n",
    "\n",
    "b = np.array([\n",
    "    [0.1, 0.2, 0.3, 0.4]\n",
    "])\n",
    "\n",
    "a + b"
   ]
  },
  {
   "cell_type": "markdown",
   "metadata": {
    "hidden": true
   },
   "source": [
    "The simple rule for broadcasting is the following:\n",
    "\n",
    "If we want to operate on two arrays `a` and `b`:\n",
    "- moving backwards from the last dimension of each array, we check if their dimensions are the same or one equals 1\n",
    "- if all of `a`'s dimensions are compatible with `b`'s dimensions, arrays `a` and `b` are compatible."
   ]
  },
  {
   "cell_type": "code",
   "execution_count": 136,
   "metadata": {
    "ExecuteTime": {
     "end_time": "2021-03-04T00:44:06.538120Z",
     "start_time": "2021-03-04T00:44:06.523007Z"
    },
    "hidden": true
   },
   "outputs": [
    {
     "name": "stdout",
     "output_type": "stream",
     "text": [
      "[[4 7 6 5]\n",
      " [9 2 8 7]\n",
      " [9 1 6 1]]\n",
      "[[7]\n",
      " [3]\n",
      " [1]]\n"
     ]
    }
   ],
   "source": [
    "np.random.seed(1234)\n",
    "\n",
    "a = np.random.randint(low = 1, high = 10, size = (3, 4))\n",
    "print(a)\n",
    "\n",
    "b = np.random.randint(low = 1, high = 10, size = (3, 1))\n",
    "print(b)"
   ]
  },
  {
   "cell_type": "code",
   "execution_count": 137,
   "metadata": {
    "ExecuteTime": {
     "end_time": "2021-03-04T00:44:17.341824Z",
     "start_time": "2021-03-04T00:44:17.338577Z"
    },
    "hidden": true
   },
   "outputs": [
    {
     "data": {
      "text/plain": [
       "array([[11, 14, 13, 12],\n",
       "       [12,  5, 11, 10],\n",
       "       [10,  2,  7,  2]])"
      ]
     },
     "execution_count": 137,
     "metadata": {},
     "output_type": "execute_result"
    }
   ],
   "source": [
    "a + b"
   ]
  },
  {
   "cell_type": "code",
   "execution_count": 138,
   "metadata": {
    "ExecuteTime": {
     "end_time": "2021-03-04T00:45:11.965135Z",
     "start_time": "2021-03-04T00:45:11.944938Z"
    },
    "hidden": true
   },
   "outputs": [
    {
     "name": "stdout",
     "output_type": "stream",
     "text": [
      "[[[4 7 6 5]]\n",
      "\n",
      " [[9 2 8 7]]\n",
      "\n",
      " [[9 1 6 1]]]\n",
      "[[7]\n",
      " [3]]\n"
     ]
    }
   ],
   "source": [
    "np.random.seed(1234)\n",
    "\n",
    "a = np.random.randint(low = 1, high = 10, size = (3, 1, 4))\n",
    "print(a)\n",
    "\n",
    "b = np.random.randint(low = 1, high = 10, size = (2, 1))\n",
    "print(b)"
   ]
  },
  {
   "cell_type": "code",
   "execution_count": 139,
   "metadata": {
    "ExecuteTime": {
     "end_time": "2021-03-04T00:45:23.039269Z",
     "start_time": "2021-03-04T00:45:23.035906Z"
    },
    "hidden": true
   },
   "outputs": [
    {
     "data": {
      "text/plain": [
       "array([[[11, 14, 13, 12],\n",
       "        [ 7, 10,  9,  8]],\n",
       "\n",
       "       [[16,  9, 15, 14],\n",
       "        [12,  5, 11, 10]],\n",
       "\n",
       "       [[16,  8, 13,  8],\n",
       "        [12,  4,  9,  4]]])"
      ]
     },
     "execution_count": 139,
     "metadata": {},
     "output_type": "execute_result"
    }
   ],
   "source": [
    "a + b"
   ]
  },
  {
   "cell_type": "markdown",
   "metadata": {
    "hidden": true
   },
   "source": [
    "Sometimes it is useful to be able to manually modify the shape of the array. This can be done using the `np.newaxis` function (which is simply an alias for the `None` keyword)"
   ]
  },
  {
   "cell_type": "code",
   "execution_count": 140,
   "metadata": {
    "ExecuteTime": {
     "end_time": "2021-03-04T00:49:28.656056Z",
     "start_time": "2021-03-04T00:49:28.644879Z"
    },
    "hidden": true
   },
   "outputs": [],
   "source": [
    "a = np.array([1, 2, 3, 5, 7, 11, 13])"
   ]
  },
  {
   "cell_type": "code",
   "execution_count": 143,
   "metadata": {
    "ExecuteTime": {
     "end_time": "2021-03-04T00:49:40.242177Z",
     "start_time": "2021-03-04T00:49:40.238365Z"
    },
    "hidden": true
   },
   "outputs": [
    {
     "data": {
      "text/plain": [
       "array([[ 1],\n",
       "       [ 2],\n",
       "       [ 3],\n",
       "       [ 5],\n",
       "       [ 7],\n",
       "       [11],\n",
       "       [13]])"
      ]
     },
     "execution_count": 143,
     "metadata": {},
     "output_type": "execute_result"
    }
   ],
   "source": [
    "a[:, np.newaxis]"
   ]
  },
  {
   "cell_type": "code",
   "execution_count": 144,
   "metadata": {
    "ExecuteTime": {
     "end_time": "2021-03-04T00:49:52.530524Z",
     "start_time": "2021-03-04T00:49:52.526643Z"
    },
    "hidden": true
   },
   "outputs": [
    {
     "data": {
      "text/plain": [
       "array([[ 1,  2,  3,  5,  7, 11, 13]])"
      ]
     },
     "execution_count": 144,
     "metadata": {},
     "output_type": "execute_result"
    }
   ],
   "source": [
    "a[None, :]"
   ]
  },
  {
   "cell_type": "markdown",
   "metadata": {
    "hidden": true
   },
   "source": [
    "This can be very useful if one wants to build an array containing the results of a cross-join operation on two matrices. Suppose we are trying to create $c_{ij} = a_i - b_j$."
   ]
  },
  {
   "cell_type": "code",
   "execution_count": 69,
   "metadata": {
    "ExecuteTime": {
     "end_time": "2021-03-04T00:51:36.583341Z",
     "start_time": "2021-03-04T00:51:36.574004Z"
    },
    "hidden": true
   },
   "outputs": [
    {
     "name": "stdout",
     "output_type": "stream",
     "text": [
      "[[ 1  0 -1 -2 -3 -4 -5]\n",
      " [ 2  1  0 -1 -2 -3 -4]\n",
      " [ 3  2  1  0 -1 -2 -3]\n",
      " [ 5  4  3  2  1  0 -1]\n",
      " [ 7  6  5  4  3  2  1]\n",
      " [11 10  9  8  7  6  5]\n",
      " [13 12 11 10  9  8  7]]\n"
     ]
    }
   ],
   "source": [
    "b = np.arange(7)\n",
    "\n",
    "c = a[:, None] - b[None, :]\n",
    "\n",
    "print(c)"
   ]
  },
  {
   "cell_type": "markdown",
   "metadata": {
    "heading_collapsed": true
   },
   "source": [
    "## Boolean indexing\n",
    "\n",
    "Anytime you have a boolean array, you can use it to mask entries in another array."
   ]
  },
  {
   "cell_type": "code",
   "execution_count": 145,
   "metadata": {
    "ExecuteTime": {
     "end_time": "2021-03-04T00:58:58.327021Z",
     "start_time": "2021-03-04T00:58:58.316765Z"
    },
    "hidden": true
   },
   "outputs": [
    {
     "data": {
      "text/plain": [
       "array([[76, 37, 34, 38, 67],\n",
       "       [11,  0, 75, 80,  3],\n",
       "       [ 2, 19, 12, 65, 75],\n",
       "       [81, 14, 71, 60, 46],\n",
       "       [28, 81, 87, 13, 96]])"
      ]
     },
     "execution_count": 145,
     "metadata": {},
     "output_type": "execute_result"
    }
   ],
   "source": [
    "a = np.random.randint(0, 100, size=(5,5))\n",
    "\n",
    "a"
   ]
  },
  {
   "cell_type": "code",
   "execution_count": 146,
   "metadata": {
    "ExecuteTime": {
     "end_time": "2021-03-04T00:59:09.347964Z",
     "start_time": "2021-03-04T00:59:09.345128Z"
    },
    "hidden": true
   },
   "outputs": [
    {
     "name": "stdout",
     "output_type": "stream",
     "text": [
      "[[False False False False False]\n",
      " [False False False False False]\n",
      " [False False False False False]\n",
      " [ True False False False False]\n",
      " [False  True  True False  True]]\n"
     ]
    }
   ],
   "source": [
    "mask = a > 80\n",
    "print(mask)"
   ]
  },
  {
   "cell_type": "code",
   "execution_count": 147,
   "metadata": {
    "ExecuteTime": {
     "end_time": "2021-03-04T00:59:21.245408Z",
     "start_time": "2021-03-04T00:59:21.241830Z"
    },
    "hidden": true
   },
   "outputs": [
    {
     "data": {
      "text/plain": [
       "array([81, 81, 87, 96])"
      ]
     },
     "execution_count": 147,
     "metadata": {},
     "output_type": "execute_result"
    }
   ],
   "source": [
    "a[mask]"
   ]
  },
  {
   "cell_type": "markdown",
   "metadata": {
    "hidden": true
   },
   "source": [
    "Boolean masking may be applied not only to values, but to rows and columns as well. Just remember to use slicing:\n",
    "\n",
    "*array*[*row_mask*,*col_mask*]"
   ]
  },
  {
   "cell_type": "code",
   "execution_count": 148,
   "metadata": {
    "ExecuteTime": {
     "end_time": "2021-03-04T01:01:04.171882Z",
     "start_time": "2021-03-04T01:01:04.158556Z"
    },
    "hidden": true
   },
   "outputs": [],
   "source": [
    "rows_2_and_4 = np.array([False, True, False, True, False])\n",
    "cols_1_and_2 = np.array([True, True, False, False, False])"
   ]
  },
  {
   "cell_type": "code",
   "execution_count": 149,
   "metadata": {
    "ExecuteTime": {
     "end_time": "2021-03-04T01:01:15.079755Z",
     "start_time": "2021-03-04T01:01:15.076351Z"
    },
    "hidden": true
   },
   "outputs": [
    {
     "data": {
      "text/plain": [
       "array([[11,  0, 75, 80,  3],\n",
       "       [81, 14, 71, 60, 46]])"
      ]
     },
     "execution_count": 149,
     "metadata": {},
     "output_type": "execute_result"
    }
   ],
   "source": [
    "a[rows_2_and_4]"
   ]
  },
  {
   "cell_type": "code",
   "execution_count": 150,
   "metadata": {
    "ExecuteTime": {
     "end_time": "2021-03-04T01:01:53.473515Z",
     "start_time": "2021-03-04T01:01:53.458781Z"
    },
    "hidden": true
   },
   "outputs": [
    {
     "data": {
      "text/plain": [
       "array([11, 14])"
      ]
     },
     "execution_count": 150,
     "metadata": {},
     "output_type": "execute_result"
    }
   ],
   "source": [
    "a[rows_2_and_4, cols_1_and_2]"
   ]
  },
  {
   "cell_type": "code",
   "execution_count": 151,
   "metadata": {
    "ExecuteTime": {
     "end_time": "2021-03-04T01:07:13.346410Z",
     "start_time": "2021-03-04T01:07:13.337918Z"
    },
    "hidden": true
   },
   "outputs": [],
   "source": [
    "names = np.array([\"Dennis\", \"Dee\", \"Charlie\", \"Mac\", \"Frank\"])\n",
    "ages = np.array([43, 44, 43, 42, 74])\n",
    "genders = np.array(['male', 'female', 'male', 'male', 'male'])"
   ]
  },
  {
   "cell_type": "code",
   "execution_count": 152,
   "metadata": {
    "ExecuteTime": {
     "end_time": "2021-03-04T01:09:18.998068Z",
     "start_time": "2021-03-04T01:09:18.986151Z"
    },
    "hidden": true
   },
   "outputs": [
    {
     "data": {
      "text/plain": [
       "array(['Frank'], dtype='<U7')"
      ]
     },
     "execution_count": 152,
     "metadata": {},
     "output_type": "execute_result"
    }
   ],
   "source": [
    "names[(genders == 'male') & (ages > 43)]"
   ]
  },
  {
   "cell_type": "code",
   "execution_count": 153,
   "metadata": {
    "ExecuteTime": {
     "end_time": "2021-03-04T01:09:02.783426Z",
     "start_time": "2021-03-04T01:09:02.778182Z"
    },
    "hidden": true
   },
   "outputs": [
    {
     "data": {
      "text/plain": [
       "array(['Dee'], dtype='<U7')"
      ]
     },
     "execution_count": 153,
     "metadata": {},
     "output_type": "execute_result"
    }
   ],
   "source": [
    "names[~(genders == 'male') & (ages % 2 == 0)]"
   ]
  },
  {
   "cell_type": "markdown",
   "metadata": {
    "heading_collapsed": true
   },
   "source": [
    "## `Random` module\n",
    "\n",
    "One of the most frequently used parts of the `NumPy` is the random number generation procedure. Below you can see examples of different samples:\n",
    "- normal sample\n",
    "- uniform sample\n",
    "- choosing from a set with/without replacement"
   ]
  },
  {
   "cell_type": "code",
   "execution_count": 154,
   "metadata": {
    "ExecuteTime": {
     "end_time": "2021-03-04T01:13:30.412286Z",
     "start_time": "2021-03-04T01:13:30.402525Z"
    },
    "hidden": true
   },
   "outputs": [
    {
     "data": {
      "text/plain": [
       "array([ 7.77254312,  9.32518006, 11.01484933,  9.44297546,  9.57539397,\n",
       "       10.13749589,  9.92948695, 10.32539432,  9.52647845,  8.39078239])"
      ]
     },
     "execution_count": 154,
     "metadata": {},
     "output_type": "execute_result"
    }
   ],
   "source": [
    "np.random.normal(loc=10.0, scale=1.0, size=10)"
   ]
  },
  {
   "cell_type": "code",
   "execution_count": 155,
   "metadata": {
    "ExecuteTime": {
     "end_time": "2021-03-04T01:13:59.097241Z",
     "start_time": "2021-03-04T01:13:59.086062Z"
    },
    "hidden": true
   },
   "outputs": [
    {
     "data": {
      "text/plain": [
       "array([[12, 15, 16],\n",
       "       [17, 14, 13],\n",
       "       [15, 16, 14]])"
      ]
     },
     "execution_count": 155,
     "metadata": {},
     "output_type": "execute_result"
    }
   ],
   "source": [
    "np.random.randint(low=10, high=20, size=(3,3))"
   ]
  },
  {
   "cell_type": "code",
   "execution_count": 156,
   "metadata": {
    "ExecuteTime": {
     "end_time": "2021-03-04T01:14:24.048533Z",
     "start_time": "2021-03-04T01:14:24.035327Z"
    },
    "hidden": true
   },
   "outputs": [
    {
     "data": {
      "text/plain": [
       "array([0.32815036, 0.47386   , 0.06808472, 0.3827107 , 0.11855414])"
      ]
     },
     "execution_count": 156,
     "metadata": {},
     "output_type": "execute_result"
    }
   ],
   "source": [
    "np.random.uniform(low=0, high=1, size=5)"
   ]
  },
  {
   "cell_type": "code",
   "execution_count": 157,
   "metadata": {
    "ExecuteTime": {
     "end_time": "2021-03-04T01:15:06.127315Z",
     "start_time": "2021-03-04T01:15:06.111460Z"
    },
    "hidden": true
   },
   "outputs": [
    {
     "data": {
      "text/plain": [
       "array([4, 3, 2, 5, 2])"
      ]
     },
     "execution_count": 157,
     "metadata": {},
     "output_type": "execute_result"
    }
   ],
   "source": [
    "np.random.choice(\n",
    "    a=[1,2,3,4,5,6],\n",
    "    replace=True,\n",
    "    size=5\n",
    ")"
   ]
  },
  {
   "cell_type": "code",
   "execution_count": 158,
   "metadata": {
    "ExecuteTime": {
     "end_time": "2021-03-04T01:15:57.028059Z",
     "start_time": "2021-03-04T01:15:57.024575Z"
    },
    "hidden": true
   },
   "outputs": [
    {
     "data": {
      "text/plain": [
       "array(['replacement', 'without', 'sampling'], dtype='<U11')"
      ]
     },
     "execution_count": 158,
     "metadata": {},
     "output_type": "execute_result"
    }
   ],
   "source": [
    "np.random.choice(\n",
    "    a=['this','is','sampling','without','replacement'],\n",
    "    replace=False,\n",
    "    size=3\n",
    ")"
   ]
  },
  {
   "cell_type": "markdown",
   "metadata": {
    "hidden": true
   },
   "source": [
    "Despite the fact that most people use the `random` module as above, this way is in fact deprecated, because it introduces a dependency on the random number generator used currently by `NumPy`. In theory, if `NumPy` changes the generator, all the code becomes non-reproducible.\n",
    "A simple solution is to use the generic `Generator` class."
   ]
  },
  {
   "cell_type": "code",
   "execution_count": 159,
   "metadata": {
    "ExecuteTime": {
     "end_time": "2021-03-04T01:19:53.679504Z",
     "start_time": "2021-03-04T01:19:53.666177Z"
    },
    "hidden": true
   },
   "outputs": [],
   "source": [
    "generator = np.random.default_rng(seed=123)"
   ]
  },
  {
   "cell_type": "code",
   "execution_count": 160,
   "metadata": {
    "ExecuteTime": {
     "end_time": "2021-03-04T01:20:06.373382Z",
     "start_time": "2021-03-04T01:20:06.361393Z"
    },
    "hidden": true
   },
   "outputs": [
    {
     "data": {
      "text/plain": [
       "array([ 2, 68, 59,  6, 90, 22, 26, 19, 34, 18])"
      ]
     },
     "execution_count": 160,
     "metadata": {},
     "output_type": "execute_result"
    }
   ],
   "source": [
    "generator.integers(low=1, high=100, size=10)"
   ]
  },
  {
   "cell_type": "code",
   "execution_count": 161,
   "metadata": {
    "ExecuteTime": {
     "end_time": "2021-03-04T01:20:18.059333Z",
     "start_time": "2021-03-04T01:20:18.055066Z"
    },
    "hidden": true
   },
   "outputs": [
    {
     "data": {
      "text/plain": [
       "array([ 0.57710379, -0.63646365,  0.54195222, -0.31659545, -0.32238912,\n",
       "        0.09716732, -1.52593041,  1.1921661 , -0.67108968,  1.00026942])"
      ]
     },
     "execution_count": 161,
     "metadata": {},
     "output_type": "execute_result"
    }
   ],
   "source": [
    "generator.normal(loc=0, scale=1, size=10)"
   ]
  },
  {
   "cell_type": "code",
   "execution_count": 162,
   "metadata": {
    "ExecuteTime": {
     "end_time": "2021-03-04T01:20:29.812654Z",
     "start_time": "2021-03-04T01:20:29.807057Z"
    },
    "hidden": true
   },
   "outputs": [
    {
     "data": {
      "text/plain": [
       "array([1, 2, 2, 3, 3, 1, 3, 3, 1, 2])"
      ]
     },
     "execution_count": 162,
     "metadata": {},
     "output_type": "execute_result"
    }
   ],
   "source": [
    "generator.choice(a=[1,2,3], replace=True, size=10)"
   ]
  },
  {
   "cell_type": "markdown",
   "metadata": {
    "heading_collapsed": true
   },
   "source": [
    "## Exercises"
   ]
  },
  {
   "cell_type": "markdown",
   "metadata": {
    "hidden": true
   },
   "source": [
    "### Two reviewers\n",
    "\n",
    "You are given two arrays representing ratings assigned to 100 movies by two reviewers. Identify movies such that the reviewers differ in their rating by at most 1."
   ]
  },
  {
   "cell_type": "code",
   "execution_count": 204,
   "metadata": {
    "ExecuteTime": {
     "end_time": "2021-03-04T01:23:50.673956Z",
     "start_time": "2021-03-04T01:23:50.665992Z"
    },
    "hidden": true
   },
   "outputs": [],
   "source": [
    "movies = np.arange(100)\n",
    "reviewer_a = np.random.choice(a=[1,2,3,4,5], size=100)\n",
    "reviewer_b = np.random.choice(a=[1,2,3,4,5], size=100)"
   ]
  },
  {
   "cell_type": "code",
   "execution_count": 205,
   "metadata": {
    "ExecuteTime": {
     "end_time": "2021-03-04T01:24:31.187506Z",
     "start_time": "2021-03-04T01:24:31.184215Z"
    },
    "hidden": true
   },
   "outputs": [
    {
     "data": {
      "text/plain": [
       "array([ 3,  4,  5,  8, 12, 14, 15, 16, 18, 20, 22, 24, 25, 26, 27, 30, 31,\n",
       "       34, 36, 37, 40, 44, 47, 49, 50, 52, 58, 59, 66, 67, 68, 72, 73, 75,\n",
       "       76, 77, 80, 81, 82, 86, 88, 93, 96, 97, 98, 99])"
      ]
     },
     "execution_count": 205,
     "metadata": {},
     "output_type": "execute_result"
    }
   ],
   "source": [
    "movies_with_similar_review = movies[np.abs(reviewer_a-reviewer_b) <=1]\n",
    "movies_with_similar_review"
   ]
  },
  {
   "cell_type": "markdown",
   "metadata": {
    "hidden": true
   },
   "source": [
    "### First to finish the assignment\n",
    "\n",
    "Given an array with students' assignments ordered by the increasing date of submission, you want to reward first 3 students who submitted their work and who got at least 75 points. Increase their scores by 5 points."
   ]
  },
  {
   "cell_type": "code",
   "execution_count": 243,
   "metadata": {
    "ExecuteTime": {
     "end_time": "2021-03-04T01:29:16.351532Z",
     "start_time": "2021-03-04T01:29:16.346171Z"
    },
    "hidden": true
   },
   "outputs": [],
   "source": [
    "grades = np.random.randint(low=0, high=100, size=50)"
   ]
  },
  {
   "cell_type": "code",
   "execution_count": 244,
   "metadata": {},
   "outputs": [
    {
     "data": {
      "text/plain": [
       "array([  6,  80,  18,  52,  11,  20, 102,  42,  86,   8,  37,   1,  72,\n",
       "        25,  64,  87,   1,  19, 100,  59,  57,  42,  16,  40,  72,  66,\n",
       "        31,   0,  57,  30,  56,  69,  54,  95,  50,   8,  73,  43,  97,\n",
       "        22,  99,  56,   8,  87,  16,  39,  12,  28,   0,  23])"
      ]
     },
     "execution_count": 244,
     "metadata": {},
     "output_type": "execute_result"
    }
   ],
   "source": [
    "grades + 5*np.array(grades>=75, dtype=np.int)"
   ]
  },
  {
   "cell_type": "markdown",
   "metadata": {
    "heading_collapsed": true
   },
   "source": [
    "## Using `where`\n",
    "\n",
    "`np.where` is a very useful function which allows to quickly filter elements of an array based on the condition. Imagine you have two large arrays and you want to create a third array such that it contains, for each cell, the larger value from the two arrays. First, let's do it in a traditional way."
   ]
  },
  {
   "cell_type": "code",
   "execution_count": 164,
   "metadata": {
    "ExecuteTime": {
     "end_time": "2021-03-04T01:35:33.173822Z",
     "start_time": "2021-03-04T01:35:33.158110Z"
    },
    "hidden": true
   },
   "outputs": [],
   "source": [
    "a = np.random.randint(1, 6, size=10**5)\n",
    "b = np.random.randint(1, 6, size=10**5)"
   ]
  },
  {
   "cell_type": "code",
   "execution_count": 168,
   "metadata": {
    "ExecuteTime": {
     "end_time": "2021-03-04T01:35:45.038116Z",
     "start_time": "2021-03-04T01:35:44.974516Z"
    },
    "hidden": true
   },
   "outputs": [
    {
     "name": "stdout",
     "output_type": "stream",
     "text": [
      "CPU times: user 86.7 ms, sys: 0 ns, total: 86.7 ms\n",
      "Wall time: 89.3 ms\n"
     ]
    }
   ],
   "source": [
    "%%time\n",
    "c = np.zeros(a.size)\n",
    "\n",
    "for i in range(a.size):\n",
    "    if a[i] > b[i]:\n",
    "        c[i] = a[i]\n",
    "    else:\n",
    "        c[i] = b[i]\n"
   ]
  },
  {
   "cell_type": "code",
   "execution_count": 169,
   "metadata": {
    "ExecuteTime": {
     "end_time": "2021-03-04T01:36:16.874686Z",
     "start_time": "2021-03-04T01:36:16.859060Z"
    },
    "hidden": true
   },
   "outputs": [
    {
     "name": "stdout",
     "output_type": "stream",
     "text": [
      "CPU times: user 1.68 ms, sys: 0 ns, total: 1.68 ms\n",
      "Wall time: 1.08 ms\n"
     ]
    }
   ],
   "source": [
    "%%time\n",
    "d = np.where(a > b, a, b)"
   ]
  },
  {
   "cell_type": "code",
   "execution_count": 170,
   "metadata": {
    "ExecuteTime": {
     "end_time": "2021-03-04T01:36:30.843607Z",
     "start_time": "2021-03-04T01:36:30.831747Z"
    },
    "hidden": true
   },
   "outputs": [
    {
     "data": {
      "text/plain": [
       "True"
      ]
     },
     "execution_count": 170,
     "metadata": {},
     "output_type": "execute_result"
    }
   ],
   "source": [
    "np.array_equal(c,d)"
   ]
  },
  {
   "cell_type": "markdown",
   "metadata": {
    "heading_collapsed": true
   },
   "source": [
    "## Math functions\n",
    "\n",
    "`NumPy` contains several highly optimized implementations of math functions. Whenever possible, try to use them instead of your own implementations. Remember, that math functions are easily generalized to n-dim arrays."
   ]
  },
  {
   "cell_type": "code",
   "execution_count": 171,
   "metadata": {
    "ExecuteTime": {
     "end_time": "2021-03-04T01:46:17.713642Z",
     "start_time": "2021-03-04T01:46:17.703583Z"
    },
    "hidden": true
   },
   "outputs": [],
   "source": [
    "a = np.array([\n",
    "    [1, 2, 3, 4],\n",
    "    [5, 6, 7, 8],\n",
    "    [9, 10, 11, 12],\n",
    "    [13, 14, 15, 16],\n",
    "], dtype=np.float)"
   ]
  },
  {
   "cell_type": "code",
   "execution_count": 172,
   "metadata": {
    "ExecuteTime": {
     "end_time": "2021-03-04T01:46:29.196867Z",
     "start_time": "2021-03-04T01:46:29.193334Z"
    },
    "hidden": true
   },
   "outputs": [
    {
     "data": {
      "text/plain": [
       "136.0"
      ]
     },
     "execution_count": 172,
     "metadata": {},
     "output_type": "execute_result"
    }
   ],
   "source": [
    "np.sum(a)"
   ]
  },
  {
   "cell_type": "code",
   "execution_count": 173,
   "metadata": {
    "ExecuteTime": {
     "end_time": "2021-03-04T01:46:40.617133Z",
     "start_time": "2021-03-04T01:46:40.613348Z"
    },
    "hidden": true
   },
   "outputs": [
    {
     "data": {
      "text/plain": [
       "array([28., 32., 36., 40.])"
      ]
     },
     "execution_count": 173,
     "metadata": {},
     "output_type": "execute_result"
    }
   ],
   "source": [
    "np.sum(a, axis=0)"
   ]
  },
  {
   "cell_type": "code",
   "execution_count": 174,
   "metadata": {
    "ExecuteTime": {
     "end_time": "2021-03-04T01:46:51.839435Z",
     "start_time": "2021-03-04T01:46:51.834506Z"
    },
    "hidden": true
   },
   "outputs": [
    {
     "data": {
      "text/plain": [
       "array([10., 26., 42., 58.])"
      ]
     },
     "execution_count": 174,
     "metadata": {},
     "output_type": "execute_result"
    }
   ],
   "source": [
    "np.sum(a, axis=1)"
   ]
  },
  {
   "cell_type": "markdown",
   "metadata": {
    "hidden": true
   },
   "source": [
    "But beware of `nan`s, as they tend to destroy all math!"
   ]
  },
  {
   "cell_type": "code",
   "execution_count": 175,
   "metadata": {
    "ExecuteTime": {
     "end_time": "2021-03-04T01:47:03.091026Z",
     "start_time": "2021-03-04T01:47:03.088536Z"
    },
    "hidden": true
   },
   "outputs": [],
   "source": [
    "a[2,2] = np.nan"
   ]
  },
  {
   "cell_type": "code",
   "execution_count": 176,
   "metadata": {
    "ExecuteTime": {
     "end_time": "2021-03-04T01:47:14.620263Z",
     "start_time": "2021-03-04T01:47:14.617024Z"
    },
    "hidden": true
   },
   "outputs": [
    {
     "data": {
      "text/plain": [
       "nan"
      ]
     },
     "execution_count": 176,
     "metadata": {},
     "output_type": "execute_result"
    }
   ],
   "source": [
    "np.sum(a)"
   ]
  },
  {
   "cell_type": "code",
   "execution_count": 177,
   "metadata": {
    "ExecuteTime": {
     "end_time": "2021-03-04T01:47:25.545186Z",
     "start_time": "2021-03-04T01:47:25.541010Z"
    },
    "hidden": true
   },
   "outputs": [
    {
     "data": {
      "text/plain": [
       "125.0"
      ]
     },
     "execution_count": 177,
     "metadata": {},
     "output_type": "execute_result"
    }
   ],
   "source": [
    "np.sum(a, where=~np.isnan(a))"
   ]
  },
  {
   "cell_type": "code",
   "execution_count": 178,
   "metadata": {
    "ExecuteTime": {
     "end_time": "2021-03-04T01:47:37.526976Z",
     "start_time": "2021-03-04T01:47:37.523706Z"
    },
    "hidden": true
   },
   "outputs": [
    {
     "data": {
      "text/plain": [
       "125.0"
      ]
     },
     "execution_count": 178,
     "metadata": {},
     "output_type": "execute_result"
    }
   ],
   "source": [
    "np.nansum(a)"
   ]
  },
  {
   "cell_type": "code",
   "execution_count": 179,
   "metadata": {
    "ExecuteTime": {
     "end_time": "2021-03-04T01:47:49.661301Z",
     "start_time": "2021-03-04T01:47:49.657068Z"
    },
    "hidden": true
   },
   "outputs": [
    {
     "data": {
      "text/plain": [
       "125.0"
      ]
     },
     "execution_count": 179,
     "metadata": {},
     "output_type": "execute_result"
    }
   ],
   "source": [
    "np.sum(np.nan_to_num(a))"
   ]
  },
  {
   "cell_type": "markdown",
   "metadata": {
    "ExecuteTime": {
     "end_time": "2021-03-04T01:42:42.061430Z",
     "start_time": "2021-03-04T01:42:42.050688Z"
    },
    "hidden": true
   },
   "source": [
    "Let's see what else we can do with `nan`s"
   ]
  },
  {
   "cell_type": "code",
   "execution_count": 180,
   "metadata": {
    "ExecuteTime": {
     "end_time": "2021-03-04T01:48:01.561865Z",
     "start_time": "2021-03-04T01:48:01.559546Z"
    },
    "hidden": true
   },
   "outputs": [],
   "source": [
    "a[0,1] = np.nan\n",
    "a[1,3] = np.nan"
   ]
  },
  {
   "cell_type": "code",
   "execution_count": 181,
   "metadata": {
    "ExecuteTime": {
     "end_time": "2021-03-04T01:48:30.691819Z",
     "start_time": "2021-03-04T01:48:30.682004Z"
    },
    "hidden": true
   },
   "outputs": [
    {
     "data": {
      "text/plain": [
       "array([[False,  True, False, False],\n",
       "       [False, False, False,  True],\n",
       "       [False, False,  True, False],\n",
       "       [False, False, False, False]])"
      ]
     },
     "execution_count": 181,
     "metadata": {},
     "output_type": "execute_result"
    }
   ],
   "source": [
    "np.isnan(a)"
   ]
  },
  {
   "cell_type": "code",
   "execution_count": 182,
   "metadata": {
    "ExecuteTime": {
     "end_time": "2021-03-04T01:48:42.117162Z",
     "start_time": "2021-03-04T01:48:42.113988Z"
    },
    "hidden": true
   },
   "outputs": [
    {
     "data": {
      "text/plain": [
       "array([ True,  True,  True, False])"
      ]
     },
     "execution_count": 182,
     "metadata": {},
     "output_type": "execute_result"
    }
   ],
   "source": [
    "np.any(np.isnan(a), axis=1)"
   ]
  },
  {
   "cell_type": "code",
   "execution_count": 183,
   "metadata": {
    "ExecuteTime": {
     "end_time": "2021-03-04T01:49:01.901219Z",
     "start_time": "2021-03-04T01:49:01.890166Z"
    },
    "hidden": true
   },
   "outputs": [
    {
     "data": {
      "text/plain": [
       "array([[ 1., nan,  3.,  4.],\n",
       "       [ 5.,  6.,  7., nan],\n",
       "       [ 9., 10., nan, 12.]])"
      ]
     },
     "execution_count": 183,
     "metadata": {},
     "output_type": "execute_result"
    }
   ],
   "source": [
    "mask = np.any(np.isnan(a), axis=1)\n",
    "a[mask]"
   ]
  },
  {
   "cell_type": "markdown",
   "metadata": {
    "heading_collapsed": true
   },
   "source": [
    "## Concatenation & sorting\n",
    "\n",
    "Concatenation means joining two arrays by rows or by columns. An array may be concatenated with itself or with another array. There are 4 functions that help with concatenation."
   ]
  },
  {
   "cell_type": "code",
   "execution_count": 184,
   "metadata": {
    "ExecuteTime": {
     "end_time": "2021-03-04T01:52:12.749325Z",
     "start_time": "2021-03-04T01:52:12.744965Z"
    },
    "hidden": true
   },
   "outputs": [],
   "source": [
    "a = np.zeros(shape=(3,2))\n",
    "b = np.ones(shape=(2,2))"
   ]
  },
  {
   "cell_type": "code",
   "execution_count": 185,
   "metadata": {
    "ExecuteTime": {
     "end_time": "2021-03-04T01:52:55.332174Z",
     "start_time": "2021-03-04T01:52:55.328301Z"
    },
    "hidden": true
   },
   "outputs": [
    {
     "data": {
      "text/plain": [
       "array([[0., 0., 0., 0., 0., 0., 0., 0.],\n",
       "       [0., 0., 0., 0., 0., 0., 0., 0.],\n",
       "       [0., 0., 0., 0., 0., 0., 0., 0.]])"
      ]
     },
     "execution_count": 185,
     "metadata": {},
     "output_type": "execute_result"
    }
   ],
   "source": [
    "np.concatenate([a, a, a, a], axis=1)"
   ]
  },
  {
   "cell_type": "code",
   "execution_count": 186,
   "metadata": {
    "ExecuteTime": {
     "end_time": "2021-03-04T01:53:19.520210Z",
     "start_time": "2021-03-04T01:53:19.507457Z"
    },
    "hidden": true
   },
   "outputs": [
    {
     "data": {
      "text/plain": [
       "array([[0., 0.],\n",
       "       [0., 0.],\n",
       "       [0., 0.],\n",
       "       [1., 1.],\n",
       "       [1., 1.]])"
      ]
     },
     "execution_count": 186,
     "metadata": {},
     "output_type": "execute_result"
    }
   ],
   "source": [
    "np.concatenate([a, b], axis=0)"
   ]
  },
  {
   "cell_type": "code",
   "execution_count": 187,
   "metadata": {
    "ExecuteTime": {
     "end_time": "2021-03-04T01:53:57.626149Z",
     "start_time": "2021-03-04T01:53:57.613627Z"
    },
    "hidden": true
   },
   "outputs": [
    {
     "data": {
      "text/plain": [
       "array([[0., 0.],\n",
       "       [0., 0.],\n",
       "       [0., 0.],\n",
       "       [1., 1.],\n",
       "       [1., 1.]])"
      ]
     },
     "execution_count": 187,
     "metadata": {},
     "output_type": "execute_result"
    }
   ],
   "source": [
    "np.vstack([a,b])"
   ]
  },
  {
   "cell_type": "code",
   "execution_count": 188,
   "metadata": {
    "ExecuteTime": {
     "end_time": "2021-03-04T01:54:22.310972Z",
     "start_time": "2021-03-04T01:54:22.299845Z"
    },
    "hidden": true
   },
   "outputs": [
    {
     "data": {
      "text/plain": [
       "array([[0., 0., 0., 1., 1.],\n",
       "       [0., 0., 0., 1., 1.]])"
      ]
     },
     "execution_count": 188,
     "metadata": {},
     "output_type": "execute_result"
    }
   ],
   "source": [
    "np.hstack([a.T,b])"
   ]
  },
  {
   "cell_type": "code",
   "execution_count": 189,
   "metadata": {
    "ExecuteTime": {
     "end_time": "2021-03-04T01:58:26.892600Z",
     "start_time": "2021-03-04T01:58:26.888622Z"
    },
    "hidden": true
   },
   "outputs": [
    {
     "data": {
      "text/plain": [
       "array([[[0., 0.],\n",
       "        [0., 0.]],\n",
       "\n",
       "       [[1., 1.],\n",
       "        [1., 1.]]])"
      ]
     },
     "execution_count": 189,
     "metadata": {},
     "output_type": "execute_result"
    }
   ],
   "source": [
    "np.stack([a[:2,:2], b], axis=0)"
   ]
  },
  {
   "cell_type": "markdown",
   "metadata": {
    "hidden": true
   },
   "source": [
    "Unfortunately, `NumPy` does not provide any easy way of reverse sort, and sorting is limited to two functions."
   ]
  },
  {
   "cell_type": "code",
   "execution_count": 190,
   "metadata": {
    "ExecuteTime": {
     "end_time": "2021-03-04T01:59:35.218973Z",
     "start_time": "2021-03-04T01:59:35.212421Z"
    },
    "hidden": true
   },
   "outputs": [
    {
     "data": {
      "text/plain": [
       "array([ 9, 72,  8, 47, 33, 75, 44, 11, 41, 64, 98, 35, 70, 67, 80, 16,  2,\n",
       "        9, 47,  1, 39, 32, 84, 97, 21, 33, 48, 89,  1, 60, 96, 68, 21, 17,\n",
       "       37, 69, 24,  5, 38,  2, 91, 90, 36, 10,  8, 22, 34, 23, 71, 91])"
      ]
     },
     "execution_count": 190,
     "metadata": {},
     "output_type": "execute_result"
    }
   ],
   "source": [
    "a = np.random.randint(1, 100, size=50)\n",
    "a"
   ]
  },
  {
   "cell_type": "code",
   "execution_count": 191,
   "metadata": {
    "ExecuteTime": {
     "end_time": "2021-03-04T01:59:46.921680Z",
     "start_time": "2021-03-04T01:59:46.919401Z"
    },
    "hidden": true
   },
   "outputs": [],
   "source": [
    "a.sort()"
   ]
  },
  {
   "cell_type": "code",
   "execution_count": 192,
   "metadata": {
    "ExecuteTime": {
     "end_time": "2021-03-04T01:59:58.660387Z",
     "start_time": "2021-03-04T01:59:58.657177Z"
    },
    "hidden": true
   },
   "outputs": [
    {
     "data": {
      "text/plain": [
       "array([ 1,  1,  2,  2,  5,  8,  8,  9,  9, 10, 11, 16, 17, 21, 21, 22, 23,\n",
       "       24, 32, 33, 33, 34, 35, 36, 37, 38, 39, 41, 44, 47, 47, 48, 60, 64,\n",
       "       67, 68, 69, 70, 71, 72, 75, 80, 84, 89, 90, 91, 91, 96, 97, 98])"
      ]
     },
     "execution_count": 192,
     "metadata": {},
     "output_type": "execute_result"
    }
   ],
   "source": [
    "a"
   ]
  },
  {
   "cell_type": "code",
   "execution_count": 193,
   "metadata": {
    "ExecuteTime": {
     "end_time": "2021-03-04T02:00:30.341582Z",
     "start_time": "2021-03-04T02:00:30.338107Z"
    },
    "hidden": true
   },
   "outputs": [
    {
     "data": {
      "text/plain": [
       "array([98, 97, 96, 91, 91, 90, 89, 84, 80, 75, 72, 71, 70, 69, 68, 67, 64,\n",
       "       60, 48, 47, 47, 44, 41, 39, 38, 37, 36, 35, 34, 33, 33, 32, 24, 23,\n",
       "       22, 21, 21, 17, 16, 11, 10,  9,  9,  8,  8,  5,  2,  2,  1,  1])"
      ]
     },
     "execution_count": 193,
     "metadata": {},
     "output_type": "execute_result"
    }
   ],
   "source": [
    "np.sort(a)[::-1]"
   ]
  },
  {
   "cell_type": "markdown",
   "metadata": {
    "hidden": true
   },
   "source": [
    "If you want to be able to sort values in the first column of an array according to the order in the second column of an array, you need to use `np.argsort`."
   ]
  },
  {
   "cell_type": "code",
   "execution_count": 194,
   "metadata": {
    "ExecuteTime": {
     "end_time": "2021-03-04T02:12:52.520705Z",
     "start_time": "2021-03-04T02:12:52.510136Z"
    },
    "hidden": true
   },
   "outputs": [
    {
     "name": "stdout",
     "output_type": "stream",
     "text": [
      "[[28 15 75 22]\n",
      " [66 31 10 55]\n",
      " [80 55 46 14]\n",
      " [37 82 63 89]\n",
      " [52 36 45 78]]\n"
     ]
    }
   ],
   "source": [
    "a = np.random.randint(1, 100, size=20)\n",
    "a.shape = 5,4\n",
    "\n",
    "print(a)"
   ]
  },
  {
   "cell_type": "code",
   "execution_count": 195,
   "metadata": {
    "ExecuteTime": {
     "end_time": "2021-03-04T02:04:49.330043Z",
     "start_time": "2021-03-04T02:04:49.322913Z"
    },
    "hidden": true
   },
   "outputs": [
    {
     "data": {
      "text/plain": [
       "array([[15, 22, 28, 75],\n",
       "       [10, 31, 55, 66],\n",
       "       [14, 46, 55, 80],\n",
       "       [37, 63, 82, 89],\n",
       "       [36, 45, 52, 78]])"
      ]
     },
     "execution_count": 195,
     "metadata": {},
     "output_type": "execute_result"
    }
   ],
   "source": [
    "np.sort(a, axis=1)"
   ]
  },
  {
   "cell_type": "code",
   "execution_count": 196,
   "metadata": {
    "ExecuteTime": {
     "end_time": "2021-03-04T02:13:03.936412Z",
     "start_time": "2021-03-04T02:13:03.933382Z"
    },
    "hidden": true
   },
   "outputs": [
    {
     "data": {
      "text/plain": [
       "array([[28, 15, 75, 22],\n",
       "       [66, 31, 10, 55],\n",
       "       [80, 55, 46, 14],\n",
       "       [37, 82, 63, 89],\n",
       "       [52, 36, 45, 78]])"
      ]
     },
     "execution_count": 196,
     "metadata": {},
     "output_type": "execute_result"
    }
   ],
   "source": [
    "a"
   ]
  },
  {
   "cell_type": "code",
   "execution_count": 197,
   "metadata": {
    "ExecuteTime": {
     "end_time": "2021-03-04T02:17:19.282624Z",
     "start_time": "2021-03-04T02:17:19.270150Z"
    },
    "hidden": true
   },
   "outputs": [
    {
     "data": {
      "text/plain": [
       "array([[28, 15, 75, 22],\n",
       "       [66, 31, 10, 55],\n",
       "       [52, 36, 45, 78],\n",
       "       [80, 55, 46, 14],\n",
       "       [37, 82, 63, 89]])"
      ]
     },
     "execution_count": 197,
     "metadata": {},
     "output_type": "execute_result"
    }
   ],
   "source": [
    "a[np.argsort(a[:,1])]"
   ]
  },
  {
   "cell_type": "code",
   "execution_count": null,
   "metadata": {
    "hidden": true
   },
   "outputs": [],
   "source": []
  }
 ],
 "metadata": {
  "kernelspec": {
   "display_name": "Python 3",
   "language": "python",
   "name": "python3"
  },
  "language_info": {
   "codemirror_mode": {
    "name": "ipython",
    "version": 3
   },
   "file_extension": ".py",
   "mimetype": "text/x-python",
   "name": "python",
   "nbconvert_exporter": "python",
   "pygments_lexer": "ipython3",
   "version": "3.7.6"
  },
  "toc": {
   "base_numbering": 1,
   "nav_menu": {},
   "number_sections": true,
   "sideBar": true,
   "skip_h1_title": false,
   "title_cell": "Table of Contents",
   "title_sidebar": "Contents",
   "toc_cell": false,
   "toc_position": {},
   "toc_section_display": true,
   "toc_window_display": false
  },
  "varInspector": {
   "cols": {
    "lenName": 16,
    "lenType": 16,
    "lenVar": 40
   },
   "kernels_config": {
    "python": {
     "delete_cmd_postfix": "",
     "delete_cmd_prefix": "del ",
     "library": "var_list.py",
     "varRefreshCmd": "print(var_dic_list())"
    },
    "r": {
     "delete_cmd_postfix": ") ",
     "delete_cmd_prefix": "rm(",
     "library": "var_list.r",
     "varRefreshCmd": "cat(var_dic_list()) "
    }
   },
   "types_to_exclude": [
    "module",
    "function",
    "builtin_function_or_method",
    "instance",
    "_Feature"
   ],
   "window_display": false
  }
 },
 "nbformat": 4,
 "nbformat_minor": 4
}
