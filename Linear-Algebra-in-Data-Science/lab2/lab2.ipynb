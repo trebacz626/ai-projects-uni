{
 "cells": [
  {
   "cell_type": "markdown",
   "metadata": {},
   "source": [
    "## Exercise 1"
   ]
  },
  {
   "cell_type": "code",
   "execution_count": 2,
   "metadata": {},
   "outputs": [
    {
     "name": "stdout",
     "output_type": "stream",
     "text": [
      "ans =\r\n",
      "\r\n",
      "   1.69623\r\n",
      "   6.37177\r\n",
      "  -0.76722\r\n",
      "  -9.69219\r\n",
      "   0.26571\r\n",
      "\r\n"
     ]
    }
   ],
   "source": [
    "%plot gnuplot\n",
    "X = [0 -2 -1; 2 4 1; 2 2 3];\n",
    "eig(X);\n",
    "A = [1 5 9 2 -1; 2 -1 -9 0 -8; pi 0 sqrt(3) 0 0; 1 1 1 1 9; 2 8 2 1 7];\n",
    "b = [7 9/5 4 0 45]';\n",
    "linsolve(A,b)"
   ]
  },
  {
   "cell_type": "markdown",
   "metadata": {},
   "source": [
    "## Exercise 2"
   ]
  },
  {
   "cell_type": "code",
   "execution_count": 23,
   "metadata": {},
   "outputs": [],
   "source": [
    "A = hilb(7);\n",
    "x = -10:0.01:10;\n",
    "y = sin(x.^2)/trace(A);\n",
    "plot(x,y, \"+m\");\n",
    "set (gca, \"ygrid\", \"on\");\n",
    "set (gca, \"xgrid\", \"on\");"
   ]
  },
  {
   "cell_type": "markdown",
   "metadata": {},
   "source": [
    "## Exercise 3"
   ]
  },
  {
   "cell_type": "code",
   "execution_count": 6,
   "metadata": {},
   "outputs": [],
   "source": [
    "x = 0:0.01:(4*pi);\n",
    "y = sin(x);\n",
    "z = cos(y);\n",
    "for i= 0:0.3:20\n",
    "    plot3(mod((x+i),4*pi),y,z,\"o\")\n",
    "    pause(0.001)\n",
    "end"
   ]
  },
  {
   "cell_type": "markdown",
   "metadata": {},
   "source": [
    "## Exercise 4"
   ]
  },
  {
   "cell_type": "code",
   "execution_count": 44,
   "metadata": {},
   "outputs": [
    {
     "name": "stdout",
     "output_type": "stream",
     "text": [
      "retval = 1\r\n"
     ]
    }
   ],
   "source": [
    "function retval = is_stochatic(A)\n",
    "    col_sum = sum(A,1);\n",
    "    row_sum = sum(A,2);\n",
    "    retval = (max(col_sum) == min(col_sum) && max(col_sum) == 1) && (max(row_sum) == min(row_sum) && max(row_sum) == 1)\n",
    "endfunction\n",
    "\n",
    "is_stochatic([1/2 1/2; 1/2 1/2]);"
   ]
  },
  {
   "cell_type": "markdown",
   "metadata": {},
   "source": [
    "## Exercise 5"
   ]
  },
  {
   "cell_type": "code",
   "execution_count": 15,
   "metadata": {
    "scrolled": false
   },
   "outputs": [
    {
     "name": "stdout",
     "output_type": "stream",
     "text": [
      "warning: matrix singular to machine precision, rcond = 9.48427e-20\n",
      "warning: called from\n",
      "    linsolve at line 108 column 7\n",
      "ans =\n",
      "\n",
      "    1.00000\n",
      "    2.00005\n",
      "    2.99859\n",
      "    4.01798\n",
      "    4.88549\n",
      "    6.38629\n",
      "    6.35794\n",
      "    8.28869\n",
      "    9.42323\n",
      "    9.84203\n",
      "   10.57408\n",
      "   11.82418\n",
      "   13.20597\n",
      "   14.36802\n",
      "   15.24411\n",
      "   15.97704\n",
      "   16.74878\n",
      "   17.67357\n",
      "   18.76103\n",
      "   19.94727\n",
      "   21.14514\n",
      "   22.27445\n",
      "   23.29524\n",
      "   24.21122\n",
      "   25.06080\n",
      "   25.89488\n",
      "   26.76643\n",
      "   27.71199\n",
      "   28.74637\n",
      "   29.86111\n",
      "   31.01977\n",
      "   32.17728\n",
      "   33.28115\n",
      "   34.29169\n",
      "   35.19199\n",
      "   35.99813\n",
      "   36.77245\n",
      "   37.63291\n",
      "   38.75661\n",
      "   40.38607\n",
      "\n",
      "ans =\n",
      "\n",
      "   0\n",
      "   0\n",
      "   0\n",
      "   0\n",
      "   0\n",
      "   0\n",
      "   0\n",
      "   0\n",
      "   0\n",
      "   0\n",
      "   0\n",
      "   0\n",
      "   0\n",
      "   0\n",
      "   0\n",
      "   0\n",
      "   0\n",
      "   1\n",
      "   0\n",
      "   0\n",
      "   0\n",
      "   0\n",
      "   0\n",
      "   0\n",
      "   0\n",
      "   0\n",
      "   0\n",
      "   0\n",
      "   0\n",
      "   0\n",
      "   0\n",
      "   0\n",
      "   0\n",
      "   0\n",
      "   0\n",
      "   0\n",
      "   0\n",
      "   0\n",
      "   0\n",
      "   0\n",
      "\n"
     ]
    }
   ],
   "source": [
    "H = hilb(40);\n",
    "y = [1:40]';\n",
    "b = H*y;\n",
    "\n",
    "linsolve(H,b)\n",
    "\n",
    "Hb = [H, b];\n",
    "tmp = rref(Hb);\n",
    "tmp(:,end)"
   ]
  },
  {
   "cell_type": "code",
   "execution_count": null,
   "metadata": {},
   "outputs": [],
   "source": []
  }
 ],
 "metadata": {
  "kernelspec": {
   "display_name": "Octave [conda env:root] *",
   "language": "octave",
   "name": "conda-root-octave"
  },
  "language_info": {
   "file_extension": ".m",
   "help_links": [
    {
     "text": "GNU Octave",
     "url": "https://www.gnu.org/software/octave/support.html"
    },
    {
     "text": "Octave Kernel",
     "url": "https://github.com/Calysto/octave_kernel"
    },
    {
     "text": "MetaKernel Magics",
     "url": "https://metakernel.readthedocs.io/en/latest/source/README.html"
    }
   ],
   "mimetype": "text/x-octave",
   "name": "octave",
   "version": "5.2.0"
  }
 },
 "nbformat": 4,
 "nbformat_minor": 4
}
