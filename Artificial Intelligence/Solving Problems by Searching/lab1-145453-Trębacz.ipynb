{
 "cells": [
  {
   "cell_type": "markdown",
   "metadata": {},
   "source": [
    "# AI Agents\n",
    "\n",
    "In this assignment, your task is to implement ... The algorithms are a recap from your earlier Algorithms and Data Structures class, but the input is slightly different: the graph is not materialized. Instead, it is generated dynamically and you can access a single node of the graph at a time."
   ]
  },
  {
   "cell_type": "markdown",
   "metadata": {},
   "source": [
    "## Agent"
   ]
  },
  {
   "cell_type": "markdown",
   "metadata": {},
   "source": [
    "We begin by considering a generic problem-solving agent. The agent receives *percepts* from its *environment* through *sensors* and uses *actuators* to perform *actions* to influence the environment. The process of converting the percepts to the actions (denoted by the question mark in the picture below) is the core function of the agent."
   ]
  },
  {
   "cell_type": "markdown",
   "metadata": {},
   "source": [
    "![](aima-images/fig2_1.png)"
   ]
  },
  {
   "cell_type": "markdown",
   "metadata": {},
   "source": [
    "This picture is very general and covers a broad range of agents, both software (e.g., a chatbot) and hardware (e.g., a robot vacuum cleaner). For now, we will simplify. We will ignore sensors and actuators and concentrate only on the core. We will implement it according to the following contract represented as the class `Agent` (see cell below) with a single method: `do_step`. The sole argument of the method are the percepts of the agent and it should return an action to be executed next."
   ]
  },
  {
   "cell_type": "code",
   "execution_count": 1,
   "metadata": {},
   "outputs": [],
   "source": [
    "class Agent:\n",
    "    def next_action(self, percepts):\n",
    "        ...\n",
    "        return action"
   ]
  },
  {
   "cell_type": "markdown",
   "metadata": {},
   "source": [
    "## Problem"
   ]
  },
  {
   "cell_type": "markdown",
   "metadata": {},
   "source": [
    "The environment above represents a real environment, meaning that any action in it will be visible to the user. Usually, it makes it unsuitable for planning what action to take. For example, if one plans to go on a car trip from Poznań to Berlin, one does not start driving blindly trying to find a route to Berlin. Instead, one takes a map and search for it on a model of the environment. We will combine this model with the definition of the problem to be solved, i.e., a starting position and a destination.\n",
    "\n",
    "This is represented by the class `Problem` below. It has a single property `initial_state` that returns the starting position in the problem, e.g., the city of Poznań in the example about the trip. There are also three methods:\n",
    "* `available_actions` returns, for a given `state` (e.g., a currently considered city), what actions are to be considered (e.g., what are the neighbouring cities one could go to directly from the currently considered city)\n",
    "* `do_action` returns new state reached from the state `state` by executing the action `action` (e.g., the state representing that begin in Poznań and taking the highway to Warsaw, one ends up in Warsaw)\n",
    "* `is_goal` which returns `True` if `state` is (one of) the destination(s) for the agent in this particular problem."
   ]
  },
  {
   "cell_type": "code",
   "execution_count": 2,
   "metadata": {},
   "outputs": [],
   "source": [
    "class Problem:\n",
    "    @property\n",
    "    def initial_state(self):\n",
    "        ...\n",
    "        \n",
    "    def available_actions(self, state):\n",
    "        ...        \n",
    "        \n",
    "    def do_action(self, state, action):\n",
    "        ...\n",
    "        return new_state\n",
    "    \n",
    "    def is_goal(self, state) -> bool:\n",
    "        ..."
   ]
  },
  {
   "cell_type": "markdown",
   "metadata": {},
   "source": [
    "To ground the problem definition in something more concrete consider a small flat of two dirty rooms and a robotic vacuum cleaner, as depicted in the following picture:\n",
    "![](aima-images/fig2_2.png)"
   ]
  },
  {
   "cell_type": "markdown",
   "metadata": {},
   "source": [
    "In the model, there are two rooms (A, B), each of them is either dirty or clean and the robot can always go to the left or to the right (maybe bumping into a wall), or suck the dirt (even if there's no dirt).\n",
    "\n",
    "This is a model. Maybe the real environment is similar: two very small, rectangular rooms such that a single \"suck\" of the robot cleans the whole room at a time. Maybe it is very dissimilary: there are more rooms and they're of varying shapes, and actually cleaning them is a tedious task. The agent doesn't know and must thus assume that the `Problem` represents the environment well enough.\n",
    "\n",
    "Assume the initial state looks like the picture above, and there are two goal states: both rooms clean and robot in either room A or room B. Lets formalize all this into the class `VacuumProblem`"
   ]
  },
  {
   "cell_type": "code",
   "execution_count": 33,
   "metadata": {},
   "outputs": [],
   "source": [
    "class VacuumProblem(Problem):\n",
    "    @property\n",
    "    def initial_state(self):\n",
    "        return (0, (True, True))\n",
    "    \n",
    "    def available_actions(self, state):\n",
    "        return [\"Left\", \"Suck\", \"Right\"]\n",
    "        \n",
    "    def do_action(self, state, action):\n",
    "        robot, dirty = state\n",
    "        if action == \"Left\":\n",
    "            return (max(robot-1, 0), dirty)\n",
    "        elif action == \"Suck\":\n",
    "            new_dirty = list(dirty)\n",
    "            new_dirty[robot] = False\n",
    "            return (robot, tuple(new_dirty))\n",
    "        elif action == \"Right\":\n",
    "            return (min(robot+1, len(dirty)-1), dirty)        \n",
    "        raise Exception('Invalid action')\n",
    "    \n",
    "    def is_goal(self, state) -> bool:\n",
    "        return not any(state[1])"
   ]
  },
  {
   "cell_type": "markdown",
   "metadata": {},
   "source": [
    "Lets test it a bit:"
   ]
  },
  {
   "cell_type": "code",
   "execution_count": 34,
   "metadata": {},
   "outputs": [
    {
     "name": "stdout",
     "output_type": "stream",
     "text": [
      "State after going right from the initial state (1, (True, True))\n",
      "Are we there yet? False\n"
     ]
    }
   ],
   "source": [
    "problem = VacuumProblem()\n",
    "state = problem.initial_state\n",
    "state = problem.do_action(state, 'Right')\n",
    "\n",
    "print(\"State after going right from the initial state\", state)\n",
    "print(\"Are we there yet?\", problem.is_goal(state))"
   ]
  },
  {
   "cell_type": "code",
   "execution_count": 35,
   "metadata": {},
   "outputs": [
    {
     "name": "stdout",
     "output_type": "stream",
     "text": [
      "State after going right again (1, (True, True))\n",
      "Are we there yet? False\n"
     ]
    }
   ],
   "source": [
    "state = problem.do_action(state, 'Right')\n",
    "\n",
    "print(\"State after going right again\", state)\n",
    "print(\"Are we there yet?\", problem.is_goal(state))"
   ]
  },
  {
   "cell_type": "code",
   "execution_count": 36,
   "metadata": {},
   "outputs": [
    {
     "name": "stdout",
     "output_type": "stream",
     "text": [
      "State after sucking (1, (True, False))\n",
      "Are we there yet? False\n"
     ]
    }
   ],
   "source": [
    "state = problem.do_action(state, 'Suck')\n",
    "\n",
    "print(\"State after sucking\", state)\n",
    "print(\"Are we there yet?\", problem.is_goal(state))"
   ]
  },
  {
   "cell_type": "code",
   "execution_count": 37,
   "metadata": {},
   "outputs": [
    {
     "name": "stdout",
     "output_type": "stream",
     "text": [
      "State after going to the left twice and sucking (0, (False, False))\n",
      "Are we there yet? True\n"
     ]
    }
   ],
   "source": [
    "state = problem.do_action(state, 'Left')\n",
    "state = problem.do_action(state, 'Left')\n",
    "state = problem.do_action(state, 'Suck')\n",
    "\n",
    "print(\"State after going to the left twice and sucking\", state)\n",
    "print(\"Are we there yet?\", problem.is_goal(state))"
   ]
  },
  {
   "cell_type": "markdown",
   "metadata": {},
   "source": [
    "## Oracular agent\n",
    "\n",
    "Consider the following oracular agent. It is initialized with a problem and has an embedded oracle, which provides it with a sequence of actions to be executed to reach a goal in the problem."
   ]
  },
  {
   "cell_type": "code",
   "execution_count": 38,
   "metadata": {},
   "outputs": [],
   "source": [
    "class OracularAgent(Agent):\n",
    "    def __init__(self, problem):\n",
    "        self.problem = problem\n",
    "        self.plan = self.oracle()\n",
    "        \n",
    "    def next_action(self, percepts):\n",
    "        return self.plan.pop(0)\n",
    "    \n",
    "    def oracle(self):\n",
    "        return ['Suck', 'Right', 'Suck']"
   ]
  },
  {
   "cell_type": "markdown",
   "metadata": {},
   "source": [
    "Now it is the time to test this agent. We create an instance of the `VacuumProblem` and then ask the agent for `next_action`s until goal is not reach."
   ]
  },
  {
   "cell_type": "code",
   "execution_count": 39,
   "metadata": {},
   "outputs": [
    {
     "name": "stdout",
     "output_type": "stream",
     "text": [
      "Reached state: (1, (False, False))\n",
      "Is it goal? True\n"
     ]
    }
   ],
   "source": [
    "problem = VacuumProblem()\n",
    "agent = OracularAgent(problem)\n",
    "\n",
    "state = problem.initial_state\n",
    "while not problem.is_goal(state):\n",
    "    action = agent.next_action(None)\n",
    "    state = problem.do_action(state, action)\n",
    "    \n",
    "print(\"Reached state:\", state)\n",
    "print(\"Is it goal?\", problem.is_goal(state))"
   ]
  },
  {
   "cell_type": "markdown",
   "metadata": {},
   "source": [
    "Observe that the agent works remarkably well and is able to reach a goal state with no problem whatsoever. It is fast, the code is short. There is only one obvious drawback: the solution is hard-coded and completely unsuitable not only to other types of problems, but also for other variants of the vacuum problem, e.g., such that the robot must return to the room A. We must therefore look for a more general solution: a searching agent."
   ]
  },
  {
   "cell_type": "markdown",
   "metadata": {},
   "source": [
    "## Task 1: Implement a breadth-first searching agent\n",
    "\n",
    "Complete the method `bfs` in the class `BFSAgent` in the next cell. It should implement breadth-first search, an algorithm you should be familar with after the *Algorithms and data structures* classes. The main difference is that the graph is not explicitly specified not available as a whole. Instead, you must look on the `Problem` as a graph generator: a state corresponds to a node in the graph and each action available in the state corresponds to an arc from the current state to the state reached by executing this action. The following picture should help you to understand the concept.\n",
    "\n",
    "![](aima-images/fig3_3.png)"
   ]
  },
  {
   "cell_type": "code",
   "execution_count": 47,
   "metadata": {},
   "outputs": [],
   "source": [
    "class BFSAgent(Agent):\n",
    "    def __init__(self, problem):\n",
    "        self.problem = problem\n",
    "        self.plan = self.bfs()\n",
    "        \n",
    "    def next_action(self, percepts):\n",
    "        return self.plan.pop(0)\n",
    "    \n",
    "    def bfs(self):\n",
    "        Q = [([], self.problem.initial_state)]\n",
    "        i=0\n",
    "        for q in Q:\n",
    "            i+=1\n",
    "            if i%100 == 0:\n",
    "                print(i)\n",
    "            steps = q[0]\n",
    "            previous_state =q[1]\n",
    "            possible_actions = self.problem.available_actions(previous_state)\n",
    "            for action in possible_actions:\n",
    "                next_state = self.problem.do_action(previous_state, action)\n",
    "                new_steps = steps.copy()\n",
    "                new_steps.append(action)\n",
    "                if(self.problem.is_goal(next_state)):\n",
    "                    return new_steps\n",
    "                Q.append((new_steps, next_state))\n",
    "            Q.pop(0)\n",
    "            "
   ]
  },
  {
   "cell_type": "markdown",
   "metadata": {},
   "source": [
    "Lets test the solution in the same framework as the oracular agent"
   ]
  },
  {
   "cell_type": "code",
   "execution_count": 48,
   "metadata": {},
   "outputs": [
    {
     "name": "stdout",
     "output_type": "stream",
     "text": [
      "Plan to be executed ['Suck', 'Right', 'Suck']\n",
      "Reached state: (1, (False, False))\n",
      "Is it goal? True\n",
      "False\n"
     ]
    }
   ],
   "source": [
    "problem = VacuumProblem()\n",
    "agent = BFSAgent(problem)\n",
    "\n",
    "print(\"Plan to be executed\", agent.plan)\n",
    "\n",
    "state = problem.initial_state\n",
    "while not problem.is_goal(state):\n",
    "    action = agent.next_action(None)\n",
    "    state = problem.do_action(state, action)\n",
    "    \n",
    "print(\"Reached state:\", state)\n",
    "print(\"Is it goal?\", problem.is_goal(state))\n",
    "print((1,(True,True)) == (0,(True,True)))"
   ]
  },
  {
   "cell_type": "markdown",
   "metadata": {},
   "source": [
    "## Task 2: Implementing depth-first searching agent\n",
    "\n",
    "Complete the method `dfs` in the class `BFSAgent` in the next cell. This time the task is to implement depth-first search (DFS). Be careful: DFS is vulnerable to infinite loops. Implement some sort of protection against them."
   ]
  },
  {
   "cell_type": "code",
   "execution_count": 88,
   "metadata": {},
   "outputs": [],
   "source": [
    "class DFSAgent(Agent):\n",
    "    def __init__(self, problem):\n",
    "        self.problem = problem\n",
    "        self.plan = self.dfs()\n",
    "        \n",
    "    def next_action(self, percepts):\n",
    "        return self.plan.pop(0)\n",
    "    \n",
    "    def dfs(self):\n",
    "        previous_states = [str(self.problem.initial_state)]\n",
    "        stack = [(None,self.problem.initial_state)]\n",
    "        while stack:\n",
    "            old_state = stack[-1][1]\n",
    "            old_moves = stack[-1][0]\n",
    "            possible_moves = self.problem.available_actions(old_state)\n",
    "            for move in possible_moves:\n",
    "#                 print(\"considering:\",old_state, move)\n",
    "                next_state = self.problem.do_action(old_state, move)\n",
    "                if  self.problem.is_goal(next_state):\n",
    "                    return list(map(lambda x: x[0], stack[1:]))+[move]\n",
    "                if str(next_state) not in previous_states:\n",
    "                    new_move = move\n",
    "                    previous_states.append(str(next_state))\n",
    "                    break;\n",
    "            else:\n",
    "                stack.pop()\n",
    "                continue\n",
    "            stack.append((new_move, next_state))\n",
    "            "
   ]
  },
  {
   "cell_type": "code",
   "execution_count": 77,
   "metadata": {},
   "outputs": [
    {
     "data": {
      "text/plain": [
       "(1, 1)"
      ]
     },
     "execution_count": 77,
     "metadata": {},
     "output_type": "execute_result"
    }
   ],
   "source": [
    "import sys\n",
    "import numpy as np\n",
    "item_index = np.where(np.array([[1,2,3],[5,7,9],[1,11,12]])==7)\n",
    "i,j = item_index[0][0], item_index[1][0]\n",
    "i,j"
   ]
  },
  {
   "cell_type": "code",
   "execution_count": 78,
   "metadata": {},
   "outputs": [
    {
     "name": "stdout",
     "output_type": "stream",
     "text": [
      "Plan to be executed ['Suck', 'Right', 'Suck']\n",
      "Reached state: (1, (False, False))\n",
      "Is it goal? True\n"
     ]
    }
   ],
   "source": [
    "problem = VacuumProblem()\n",
    "agent = DFSAgent(problem)\n",
    "\n",
    "print(\"Plan to be executed\", agent.plan)\n",
    "\n",
    "state = problem.initial_state\n",
    "while not problem.is_goal(state):\n",
    "    action = agent.next_action(None)\n",
    "    state = problem.do_action(state, action)\n",
    "    \n",
    "print(\"Reached state:\", state)\n",
    "print(\"Is it goal?\", problem.is_goal(state))"
   ]
  },
  {
   "cell_type": "markdown",
   "metadata": {},
   "source": [
    "## Task 3: Test it on 8-puzzle"
   ]
  },
  {
   "cell_type": "markdown",
   "metadata": {},
   "source": [
    "The 8-puzzle, an instance of which is shown in the figure, consists of a 3×3 board with\n",
    "eight numbered tiles and a blank space. A tile adjacent to the blank space can slide into the space. The object is to reach a specified goal state, such as the one shown on the right of the figure. The standard formulation is as follows:\n",
    "\n",
    "* *States*: A state description specifies the location of each of the eight tiles and the blank in one of the nine squares.\n",
    "* *Initial state*: Any state can be designated as the initial state. Note that any given goal can be reached from exactly half of the possible initial states.\n",
    "* *Actions*: The simplest formulation defines the actions as movements of the blank space Left, Right, Up, or Down. Different subsets of these are possible depending on where the blank is.\n",
    "* *Transition model*: Given a state and action, this returns the resulting state; for example, if we apply Left to the start state in the figure, the resulting state has the 5 and the blank switched.\n",
    "* *Goal test*: This checks whether the state matches the goal configuration shown in the figure. (Other goal configurations are possible.)\n",
    "\n",
    "![](aima-images/fig3_4.png)"
   ]
  },
  {
   "cell_type": "markdown",
   "metadata": {},
   "source": [
    "Your task is to implement `PuzzleProblem` as a subclass of the class `Problem` to provide a formal problem description of the 8-puzzle problem described above. Then test your `DFSAgent` and `BFSAgent` on this new problem. \n",
    "\n",
    "It's fine if your agents are incapable of solving the problem for the presented start state and goal due to the excessive length of the necessary plan. If this the case, simplify the problem by changing the start state and/or the goal. The idea of this task is to show that your implementations are correct and the agents are capable - in principle - of solving this problem, not waiting for hours on end for computations to complete."
   ]
  },
  {
   "cell_type": "code",
   "execution_count": 79,
   "metadata": {},
   "outputs": [],
   "source": [
    "class PuzzleProblem(Problem):\n",
    "    def __init__(self, init_state, goal_state):\n",
    "        self.init_state = init_state\n",
    "        self.goal_state = goal_state\n",
    "        \n",
    "    @property\n",
    "    def initial_state(self):\n",
    "        return self.init_state\n",
    "    \n",
    "    def get0index(self,state):\n",
    "        item_index = np.where(state==0)\n",
    "        return item_index[0][0], item_index[1][0]\n",
    "    \n",
    "    def available_actions(self, state):\n",
    "        i,j = self.get0index(state);\n",
    "        result =[]\n",
    "        if j != 0:\n",
    "            result.append('L')\n",
    "        if j!=2:\n",
    "            result.append('R')\n",
    "        if i != 0:\n",
    "            result.append('U')\n",
    "        if i !=2:\n",
    "            result.append('D')\n",
    "        return result\n",
    "        \n",
    "    def do_action(self, state, action):\n",
    "        i,j = self.get0index(state);\n",
    "        new_state = np.copy(state)\n",
    "        if action == 'L':\n",
    "            if j==0:\n",
    "                raise Exception('Invalid action')\n",
    "            new_state[i][j], new_state[i][j-1] = new_state[i][j-1],new_state[i][j]\n",
    "        elif action == 'R':\n",
    "            if j==2:\n",
    "                raise Exception('Invalid action')\n",
    "            new_state[i][j], new_state[i][j+1] = new_state[i][j+1],new_state[i][j]\n",
    "        elif action == 'U':\n",
    "            if i==0:\n",
    "                raise Exception('Invalid action')\n",
    "            new_state[i][j], new_state[i-1][j] = new_state[i-1][j], new_state[i][j]\n",
    "        elif action == 'D':\n",
    "            if i==2:\n",
    "                raise Exception('Invalid action')\n",
    "            new_state[i][j], new_state[i+1][j] = new_state[i+1][j], new_state[i][j]\n",
    "        else:\n",
    "            raise Exception('Invalid action') \n",
    "        return new_state\n",
    "    \n",
    "    def is_goal(self, state) -> bool:\n",
    "        return (state==self.goal_state).all()"
   ]
  },
  {
   "cell_type": "code",
   "execution_count": 80,
   "metadata": {},
   "outputs": [
    {
     "name": "stdout",
     "output_type": "stream",
     "text": [
      "Plan to be executed ['U', 'L', 'D', 'R', 'L', 'L', 'U']\n",
      "[[3 2 0]\n",
      " [4 1 5]\n",
      " [6 7 8]]\n",
      "-----------\n",
      "[[3 0 2]\n",
      " [4 1 5]\n",
      " [6 7 8]]\n",
      "-----------\n",
      "[[3 1 2]\n",
      " [4 0 5]\n",
      " [6 7 8]]\n",
      "-----------\n",
      "[[3 1 2]\n",
      " [4 5 0]\n",
      " [6 7 8]]\n",
      "-----------\n",
      "[[3 1 2]\n",
      " [4 0 5]\n",
      " [6 7 8]]\n",
      "-----------\n",
      "[[3 1 2]\n",
      " [0 4 5]\n",
      " [6 7 8]]\n",
      "-----------\n",
      "[[0 1 2]\n",
      " [3 4 5]\n",
      " [6 7 8]]\n",
      "-----------\n",
      "Reached state: [[0 1 2]\n",
      " [3 4 5]\n",
      " [6 7 8]]\n",
      "Is it goal? True\n"
     ]
    }
   ],
   "source": [
    "problem = PuzzleProblem(np.array([[3,2,5], [4,1,0], [6,7,8]]), np.array([[0,1,2],[3,4,5], [6,7,8]]))\n",
    "agent = BFSAgent(problem)\n",
    "\n",
    "print(\"Plan to be executed\", agent.plan)\n",
    "\n",
    "state = problem.initial_state\n",
    "while not problem.is_goal(state):\n",
    "    action = agent.next_action(None)\n",
    "    state = problem.do_action(state, action)\n",
    "    print(state)\n",
    "    print('-----------')\n",
    "    \n",
    "print(\"Reached state:\", state)\n",
    "print(\"Is it goal?\", problem.is_goal(state))"
   ]
  },
  {
   "cell_type": "code",
   "execution_count": 91,
   "metadata": {},
   "outputs": [
    {
     "name": "stdout",
     "output_type": "stream",
     "text": [
      "Plan to be executed ['L', 'L', 'U', 'R', 'R', 'D', 'L', 'L', 'U', 'R', 'R', 'D', 'L', 'L', 'U', 'R', 'R', 'D', 'L', 'L', 'U', 'R', 'R', 'D', 'L', 'L', 'U', 'R', 'D', 'L', 'U']\n",
      "[[3 2 5]\n",
      " [4 0 1]\n",
      " [6 7 8]]\n",
      "-----------\n",
      "[[3 2 5]\n",
      " [0 4 1]\n",
      " [6 7 8]]\n",
      "-----------\n",
      "[[0 2 5]\n",
      " [3 4 1]\n",
      " [6 7 8]]\n",
      "-----------\n",
      "[[2 0 5]\n",
      " [3 4 1]\n",
      " [6 7 8]]\n",
      "-----------\n",
      "[[2 5 0]\n",
      " [3 4 1]\n",
      " [6 7 8]]\n",
      "-----------\n",
      "[[2 5 1]\n",
      " [3 4 0]\n",
      " [6 7 8]]\n",
      "-----------\n",
      "[[2 5 1]\n",
      " [3 0 4]\n",
      " [6 7 8]]\n",
      "-----------\n",
      "[[2 5 1]\n",
      " [0 3 4]\n",
      " [6 7 8]]\n",
      "-----------\n",
      "[[0 5 1]\n",
      " [2 3 4]\n",
      " [6 7 8]]\n",
      "-----------\n",
      "[[5 0 1]\n",
      " [2 3 4]\n",
      " [6 7 8]]\n",
      "-----------\n",
      "[[5 1 0]\n",
      " [2 3 4]\n",
      " [6 7 8]]\n",
      "-----------\n",
      "[[5 1 4]\n",
      " [2 3 0]\n",
      " [6 7 8]]\n",
      "-----------\n",
      "[[5 1 4]\n",
      " [2 0 3]\n",
      " [6 7 8]]\n",
      "-----------\n",
      "[[5 1 4]\n",
      " [0 2 3]\n",
      " [6 7 8]]\n",
      "-----------\n",
      "[[0 1 4]\n",
      " [5 2 3]\n",
      " [6 7 8]]\n",
      "-----------\n",
      "[[1 0 4]\n",
      " [5 2 3]\n",
      " [6 7 8]]\n",
      "-----------\n",
      "[[1 4 0]\n",
      " [5 2 3]\n",
      " [6 7 8]]\n",
      "-----------\n",
      "[[1 4 3]\n",
      " [5 2 0]\n",
      " [6 7 8]]\n",
      "-----------\n",
      "[[1 4 3]\n",
      " [5 0 2]\n",
      " [6 7 8]]\n",
      "-----------\n",
      "[[1 4 3]\n",
      " [0 5 2]\n",
      " [6 7 8]]\n",
      "-----------\n",
      "[[0 4 3]\n",
      " [1 5 2]\n",
      " [6 7 8]]\n",
      "-----------\n",
      "[[4 0 3]\n",
      " [1 5 2]\n",
      " [6 7 8]]\n",
      "-----------\n",
      "[[4 3 0]\n",
      " [1 5 2]\n",
      " [6 7 8]]\n",
      "-----------\n",
      "[[4 3 2]\n",
      " [1 5 0]\n",
      " [6 7 8]]\n",
      "-----------\n",
      "[[4 3 2]\n",
      " [1 0 5]\n",
      " [6 7 8]]\n",
      "-----------\n",
      "[[4 3 2]\n",
      " [0 1 5]\n",
      " [6 7 8]]\n",
      "-----------\n",
      "[[0 3 2]\n",
      " [4 1 5]\n",
      " [6 7 8]]\n",
      "-----------\n",
      "[[3 0 2]\n",
      " [4 1 5]\n",
      " [6 7 8]]\n",
      "-----------\n",
      "[[3 1 2]\n",
      " [4 0 5]\n",
      " [6 7 8]]\n",
      "-----------\n",
      "[[3 1 2]\n",
      " [0 4 5]\n",
      " [6 7 8]]\n",
      "-----------\n",
      "[[0 1 2]\n",
      " [3 4 5]\n",
      " [6 7 8]]\n",
      "-----------\n",
      "Reached state: [[0 1 2]\n",
      " [3 4 5]\n",
      " [6 7 8]]\n",
      "Is it goal? True\n"
     ]
    }
   ],
   "source": [
    "problem = PuzzleProblem(np.array([[3,2,5], [4,1,0], [6,7,8]]), np.array([[0,1,2],[3,4,5], [6,7,8]]))\n",
    "agent = DFSAgent(problem)\n",
    "\n",
    "print(\"Plan to be executed\", agent.plan)\n",
    "\n",
    "state = problem.initial_state\n",
    "while not problem.is_goal(state):\n",
    "    action = agent.next_action(None)\n",
    "    state = problem.do_action(state, action)\n",
    "    print(state)\n",
    "    print('-----------')\n",
    "    \n",
    "print(\"Reached state:\", state)\n",
    "print(\"Is it goal?\", problem.is_goal(state))"
   ]
  },
  {
   "cell_type": "markdown",
   "metadata": {},
   "source": [
    "------------\n",
    "The pictures and the description of 8-puzzle are from \"Artificial Intelligence: A Modern Approach\" 3rd ed."
   ]
  }
 ],
 "metadata": {
  "kernelspec": {
   "display_name": "Python 3",
   "language": "python",
   "name": "python3"
  },
  "language_info": {
   "codemirror_mode": {
    "name": "ipython",
    "version": 3
   },
   "file_extension": ".py",
   "mimetype": "text/x-python",
   "name": "python",
   "nbconvert_exporter": "python",
   "pygments_lexer": "ipython3",
   "version": "3.7.6"
  }
 },
 "nbformat": 4,
 "nbformat_minor": 4
}
