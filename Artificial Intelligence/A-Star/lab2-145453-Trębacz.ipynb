{
 "cells": [
  {
   "cell_type": "markdown",
   "metadata": {},
   "source": [
    "# Informed search - the A* algorithm"
   ]
  },
  {
   "cell_type": "markdown",
   "metadata": {},
   "source": [
    "Depth-first search and breadth-first search considered in the previous lesson are completely *blind* algorithms: they're only concerned whether the currently considered state is a goal state or not. They're unable to distinguish whether a state is easy or hard to reach, or whether it is near or far of the goal. This makes them very inefficient search algorithms. To allievate the issue, we introduce informed search algorithms. The information is given to an algorithm in two ways:\n",
    "\n",
    "1. By using an *action cost* function $c(s,a)$, which, given a state $s$ and an action $a$ available in this state, returns its cost as a non-negative number.\n",
    "2. By using a *heuristic* $h(s)$, which, given a state, estimates the lowest cost to reach a goal state from the given state.\n",
    "\n",
    "Given a sequence of actions $a_1, \\ldots, a_n$ and an initial state $s_1$, we can express the *total cost* of reaching the state $s_{n+1}$ by executing the sequence as:\n",
    "$$ c(s_1, a_1, \\ldots, a_{n-1}) = \\sum_{i=1}^n c(s_i, a_i) $$\n",
    "and the *expected cost* of the solution as the sum of the total cost and the estimate cost of reaching the goal from the state $s_{n+1}$\n",
    "$$ f(s_1, a_1, \\ldots, a_n) = c(s_1, a_1, \\ldots, a_n) + h(s_{n+1}) $$\n",
    "\n",
    "The heuristic function is a bit tricky, because we want it to have two properties:\n",
    "* *Admissibility*: It must never *overestimate* the true cost of reaching the goal. \n",
    "* *Consistency*: Let $s$ be a state such that $a$ is an available action in this state and $s'$ is the state reached by executing this action. The heuristic should fulfil triangle inequality, that is, the estimated cost to reach the goal from $s$ should be no greater than the cost of executing the action $a$ + the estimated cost of reaching the goal from the new state.\n",
    "$$ h(s) \\leq c(s, a) + h(s') $$\n",
    "\n",
    "One can prove that admissibility follows from consistency, but consistency is important only if there are multiple paths to reach the same state (i.e., we are searching in a graph, not in a tree). Otherwise, admissability is sufficient."
   ]
  },
  {
   "cell_type": "markdown",
   "metadata": {},
   "source": [
    "Lets extend the class `Problem` from the previous lesson with two new functions `action_cost` and `heuristic`, which correspond to the functions $c(s,a)$ and $h(s)$ described above."
   ]
  },
  {
   "cell_type": "code",
   "execution_count": 1,
   "metadata": {},
   "outputs": [],
   "source": [
    "class Problem:\n",
    "    @property\n",
    "    def initial_state(self):\n",
    "        ...\n",
    "\n",
    "    def available_actions(self, state):\n",
    "        ...\n",
    "\n",
    "    def do_action(self, state, action):\n",
    "        ...\n",
    "        return new_state\n",
    "\n",
    "    def is_goal(self, state) -> bool:\n",
    "        ...\n",
    "\n",
    "    def action_cost(self, state, action) -> float:\n",
    "        ...\n",
    "\n",
    "    def heuristic(self, state) -> float:\n",
    "        ..."
   ]
  },
  {
   "cell_type": "markdown",
   "metadata": {},
   "source": [
    "To make a concrete example, lets revisit the vacuum world. \n",
    "\n",
    "![](aima-images/fig2_2.png)\n",
    "\n",
    "Below, we assume a very simple model:\n",
    "* Any action costs 1. This corresponds to searching for the shortest plan.\n",
    "* The heuristic estimation is the number of fields which are still dirty. \n",
    "\n",
    "\n",
    "Lets consider the properties of the heuristic:\n",
    "* Is is admissible? The heuristic value is equal to the number of 'Suck' actions that are yet to be executed and ignores the spatial aspect (i.e., moving between the rooms), thus never overestimating.\n",
    "* Is it consistent? As a consequence of a single action the heuristic value can decrease by at most 1 (if the action happens to be 'Suck' and the room is dirty). The cost of any action is 1, so rewriting the triangle inequality we arrive at:\n",
    "$$ h(s) \\leq c(s, a) + h(s') = \\begin{cases} 1 + (h(s)-1) & a=\\text{'Suck' and the room was dirty} \\\\ 1 + h(s) & \\text{otherwise} \\end{cases} $$\n",
    "* Is it the best we could have? By no means! We could include the spatial aspect."
   ]
  },
  {
   "cell_type": "code",
   "execution_count": 2,
   "metadata": {},
   "outputs": [],
   "source": [
    "class VacuumProblem(Problem):\n",
    "    @property\n",
    "    def initial_state(self):\n",
    "        return (1, (True, True))\n",
    "\n",
    "    def available_actions(self, state):\n",
    "        return [\"Left\", \"Suck\", \"Right\"]\n",
    "\n",
    "    def do_action(self, state, action):\n",
    "        robot, dirty = state\n",
    "        if action == \"Left\":\n",
    "            return (max(robot - 1, 0), dirty)\n",
    "        elif action == \"Suck\":\n",
    "            new_dirty = list(dirty)\n",
    "            new_dirty[robot] = False\n",
    "            return (robot, tuple(new_dirty))\n",
    "        elif action == \"Right\":\n",
    "            return (min(robot + 1, len(dirty) - 1), dirty)\n",
    "        raise Exception(\"Invalid action\")\n",
    "\n",
    "    def is_goal(self, state) -> bool:\n",
    "        return not any(state[1])\n",
    "\n",
    "    def action_cost(self, state, action):\n",
    "        return 1\n",
    "\n",
    "    def heuristic(self, state):\n",
    "        return sum(state[1])"
   ]
  },
  {
   "cell_type": "markdown",
   "metadata": {},
   "source": [
    "## Task 1: Implement the A* algorithm\n",
    "\n",
    "To implement the A* algorithm you must have a priority queue. Luckily, Python comes with one, so you don't need to implement it by yourself. Then, the algorithm is very simple: \n",
    "1. Start with a queue containing a single item - the initial state\n",
    "2. Repeat until the queue is not empty:\n",
    "  1. Pick an item with the lowest expected cost\n",
    "  2. If this is the goal, return the sequence of actions necessary to reach this state\n",
    "  3. Otherwise, for each available action, create a new entry in the queue corresponding to the state reached after executing the action.\n",
    "  \n",
    "Guard the algorithm against infinite loops: if you already visited a state, you don't need to visit it again (if your heuristic is consistent).\n",
    "\n",
    "In the cell below implement the algorithm in a similar manner as the BFS and DFS in the previous lesson: the sole argument is an object of the class Problem and the function should return a list of actions to achieve a goal state from the initial state.\n",
    "If it is impossible to reach the goal, return `None`.\n",
    "Count the number of states visited during the search and print in out before returning from the function, it will be useful later on to compare different heuristics."
   ]
  },
  {
   "cell_type": "code",
   "execution_count": 3,
   "metadata": {},
   "outputs": [],
   "source": [
    "import heapq"
   ]
  },
  {
   "cell_type": "code",
   "execution_count": 14,
   "metadata": {},
   "outputs": [],
   "source": [
    "def astar(problem: Problem):\n",
    "    initial_state = problem.initial_state\n",
    "    visited_states = []\n",
    "    q = [(problem.heuristic(initial_state), (0, [], initial_state))]\n",
    "    while q:\n",
    "        priority, element = heapq.heappop(q)\n",
    "        cur_cost, moves, last_state = element\n",
    "        if tuple(last_state) in visited_states:\n",
    "            continue\n",
    "        visited_states.append(tuple(last_state))\n",
    "        if problem.is_goal(last_state):\n",
    "            return moves\n",
    "        actions = problem.available_actions(last_state)\n",
    "        for action in actions:\n",
    "            next_state = problem.do_action(last_state, action)\n",
    "            if tuple(next_state) not in visited_states:\n",
    "                action_cost = problem.action_cost(last_state, action)\n",
    "                cost_after_action = cur_cost + action_cost\n",
    "                cost_with_heuristic = cost_after_action + problem.heuristic(next_state)\n",
    "                next_moves = moves + [action]\n",
    "                que_candidate = (cost_with_heuristic, (cost_after_action, next_moves, next_state))\n",
    "                heapq.heappush(q, que_candidate)"
   ]
  },
  {
   "cell_type": "markdown",
   "metadata": {},
   "source": [
    "Now lets test your code in the vacuum world!"
   ]
  },
  {
   "cell_type": "code",
   "execution_count": 15,
   "metadata": {},
   "outputs": [
    {
     "name": "stdout",
     "output_type": "stream",
     "text": [
      "14.8 µs ± 791 ns per loop (mean ± std. dev. of 7 runs, 100000 loops each)\n"
     ]
    }
   ],
   "source": [
    "%timeit astar(VacuumProblem())"
   ]
  },
  {
   "cell_type": "markdown",
   "metadata": {},
   "source": [
    "## Task 2: Variants of the vacuum world\n",
    "\n",
    "Now lets consider a different take on the vacuum world in which the heuristic is not admissible and increases as the number of dirty fields decreases."
   ]
  },
  {
   "cell_type": "code",
   "execution_count": 16,
   "metadata": {},
   "outputs": [
    {
     "name": "stdout",
     "output_type": "stream",
     "text": [
      "19.4 µs ± 160 ns per loop (mean ± std. dev. of 7 runs, 100000 loops each)\n"
     ]
    }
   ],
   "source": [
    "class VacuumProblem1(VacuumProblem):\n",
    "    def action_cost(self, state, action):\n",
    "        return 1\n",
    "\n",
    "    def heuristic(self, state):\n",
    "        return len(state[1]) - sum(state[1])\n",
    "\n",
    "\n",
    "%timeit astar(VacuumProblem1())"
   ]
  },
  {
   "cell_type": "markdown",
   "metadata": {},
   "source": [
    "And another in which heuristic grossly overestimates the cost."
   ]
  },
  {
   "cell_type": "code",
   "execution_count": 17,
   "metadata": {},
   "outputs": [
    {
     "name": "stdout",
     "output_type": "stream",
     "text": [
      "9.85 µs ± 812 ns per loop (mean ± std. dev. of 7 runs, 100000 loops each)\n"
     ]
    }
   ],
   "source": [
    "class VacuumProblem2(VacuumProblem):\n",
    "    def action_cost(self, state, action):\n",
    "        return 1\n",
    "\n",
    "    def heuristic(self, state):\n",
    "        return 10 * sum(state[1])\n",
    "\n",
    "\n",
    "%timeit astar(VacuumProblem2())"
   ]
  },
  {
   "cell_type": "markdown",
   "metadata": {},
   "source": [
    "**Which of the three heuristic functions (`VacuumProblem`, `VacuumProblem1`, `VacuumProblem2`) is the best? Is it the expected answer given the properties of the heuristics? If not, explain why an unorthodox approach works better.**"
   ]
  },
  {
   "cell_type": "markdown",
   "metadata": {},
   "source": [
    "Although VacumProblem2 is the best it is not the expected answer, because it does not satisfy the properties of heurystic, due to the fact that it overestimates the distance to sollution. It works better than the only heurystic from VacumProblem, because it gives a lot of points to an aption that does Suck first, which in this setting is the best possible move."
   ]
  },
  {
   "cell_type": "markdown",
   "metadata": {},
   "source": [
    "## Task 3: 8-puzzle problem\n",
    "\n",
    "Recall the 8-puzzle problem from the previous lesson. Reuse your code and implement an extended version assuming that each action costs 1. Propose 3 (at least) admissible heuristics. This time don't change the initial state, your solution should be capable enough to solve this.\n",
    "\n",
    "![](aima-images/fig3_4.png)"
   ]
  },
  {
   "cell_type": "code",
   "execution_count": 18,
   "metadata": {},
   "outputs": [],
   "source": [
    "class PuzzleProblem(Problem):\n",
    "    def __init__(self, init_state, goal_state):\n",
    "        self.init_state = init_state\n",
    "        self.goal_state = goal_state\n",
    "        \n",
    "    @property\n",
    "    def initial_state(self):\n",
    "        return self.init_state\n",
    "    \n",
    "    def get0index(self,state):\n",
    "        for i, x in enumerate(state):\n",
    "            if 0 in x:\n",
    "                return (i, x.index(0))\n",
    "    \n",
    "    def available_actions(self, state):\n",
    "        i,j = self.get0index(state);\n",
    "        result =[]\n",
    "        if j != 0:\n",
    "            result.append('L')\n",
    "        if j!=2:\n",
    "            result.append('R')\n",
    "        if i != 0:\n",
    "            result.append('U')\n",
    "        if i !=2:\n",
    "            result.append('D')\n",
    "        return result\n",
    "        \n",
    "    def do_action(self, state, action):\n",
    "        i,j = self.get0index(state);\n",
    "        new_state = [x[:] for x in state]\n",
    "        if action == 'L':\n",
    "            if j==0:\n",
    "                raise Exception('Invalid action')\n",
    "            new_state[i][j], new_state[i][j-1] = new_state[i][j-1],new_state[i][j]\n",
    "        elif action == 'R':\n",
    "            if j==2:\n",
    "                raise Exception('Invalid action')\n",
    "            new_state[i][j], new_state[i][j+1] = new_state[i][j+1],new_state[i][j]\n",
    "        elif action == 'U':\n",
    "            if i==0:\n",
    "                raise Exception('Invalid action')\n",
    "            new_state[i][j], new_state[i-1][j] = new_state[i-1][j], new_state[i][j]\n",
    "        elif action == 'D':\n",
    "            if i==2:\n",
    "                raise Exception('Invalid action')\n",
    "            new_state[i][j], new_state[i+1][j] = new_state[i+1][j], new_state[i][j]\n",
    "        else:\n",
    "            raise Exception('Invalid action') \n",
    "        return new_state\n",
    "    \n",
    "    def is_goal(self, state) -> bool:\n",
    "        return state==self.goal_state\n",
    "\n",
    "    def action_cost(self, state, action) -> float:\n",
    "        return 1\n",
    "\n",
    "    def manhatan_distances_of_elements(self, state) -> float:\n",
    "        current_locations = [0] * 9\n",
    "        for i in range(3):\n",
    "            for j in range(3):\n",
    "                current_locations[state[i][j]] = (i, j)\n",
    "        goal_locations = [0] * 9\n",
    "        for i in range(3):\n",
    "            for j in range(3):\n",
    "                goal_locations[self.goal_state[i][j]] = (i, j)\n",
    "        return [\n",
    "            abs(current_locations[i][0] - goal_locations[i][0])\n",
    "            + abs(current_locations[i][1] - goal_locations[i][1])\n",
    "            for i in range(1, 9)\n",
    "        ]\n",
    "    \n",
    "    def euklidean_distances_of_elements(self, state) -> float:\n",
    "        current_locations = [0] * 9\n",
    "        for i in range(3):\n",
    "            for j in range(3):\n",
    "                current_locations[state[i][j]] = (i, j)\n",
    "        goal_locations = [0] * 9\n",
    "        for i in range(3):\n",
    "            for j in range(3):\n",
    "                goal_locations[self.goal_state[i][j]] = (i, j)\n",
    "        return [\n",
    "            sqrt((current_locations[i][0] - goal_locations[i][0])**2\n",
    "            + (current_locations[i][1] - goal_locations[i][1])**2)\n",
    "            for i in range(1, 9)\n",
    "        ]\n",
    "\n",
    "    def heuristic(self, state) -> float:\n",
    "        return sum(self.manhatan_distances_of_elements(state))"
   ]
  },
  {
   "cell_type": "markdown",
   "metadata": {},
   "source": [
    "**Prove that this heuristic is admissible.**"
   ]
  },
  {
   "cell_type": "markdown",
   "metadata": {},
   "source": [
    "Heurystic is sum of distances of every element from its current location to desired location. Because every action that we do reduces this distance by at most 1 for 1 element our heurystic will always be smaller than real distance"
   ]
  },
  {
   "cell_type": "code",
   "execution_count": 19,
   "metadata": {},
   "outputs": [],
   "source": [
    "class PuzzleProblem1(PuzzleProblem):\n",
    "    def heuristic(self, state) -> float:\n",
    "        m_dists = self.manhatan_distances_of_elements(state)\n",
    "        eukl_dists = self.euklidean_distances_of_elements(state)\n",
    "        return (sum(m_dists)+sum(eukl_dists))/2"
   ]
  },
  {
   "cell_type": "markdown",
   "metadata": {},
   "source": [
    "**Prove that this heuristic is admissible.**"
   ]
  },
  {
   "cell_type": "markdown",
   "metadata": {},
   "source": [
    "This heurystic is always smaller or equal to the first one"
   ]
  },
  {
   "cell_type": "code",
   "execution_count": 20,
   "metadata": {},
   "outputs": [],
   "source": [
    "from math import sqrt\n",
    "class PuzzleProblem2(PuzzleProblem):\n",
    "    def heuristic(self, state) -> float:\n",
    "        distances = self.euklidean_distances_of_elements(state) \n",
    "        return sum(distances)"
   ]
  },
  {
   "cell_type": "markdown",
   "metadata": {},
   "source": [
    "**Prove that this heuristic is admissible.**"
   ]
  },
  {
   "cell_type": "markdown",
   "metadata": {},
   "source": [
    "This heurystic is also always smaller or equal to the 1st one."
   ]
  },
  {
   "cell_type": "markdown",
   "metadata": {},
   "source": [
    "Run your heuristics on the given problem."
   ]
  },
  {
   "cell_type": "code",
   "execution_count": 21,
   "metadata": {},
   "outputs": [
    {
     "name": "stdout",
     "output_type": "stream",
     "text": [
      "1.55 s ± 9.49 ms per loop (mean ± std. dev. of 7 runs, 1 loop each)\n",
      "p0 26\n"
     ]
    }
   ],
   "source": [
    "initial_state = [[7,2,4],[5,0,6],[8,3,1]]\n",
    "goal_state = [[0,1,2],[3,4,5],[6,7,8]]\n",
    "%timeit plan0 = astar(PuzzleProblem(initial_state,goal_state))\n",
    "plan0 = astar(PuzzleProblem(initial_state,goal_state))\n",
    "print(\"p0\",len(plan0))"
   ]
  },
  {
   "cell_type": "code",
   "execution_count": 22,
   "metadata": {},
   "outputs": [
    {
     "name": "stdout",
     "output_type": "stream",
     "text": [
      "1.75 s ± 6.8 ms per loop (mean ± std. dev. of 7 runs, 1 loop each)\n",
      "p1 26\n"
     ]
    }
   ],
   "source": [
    "%timeit plan1 = astar(PuzzleProblem1(initial_state,goal_state))\n",
    "plan1 = astar(PuzzleProblem1(initial_state,goal_state))\n",
    "print(\"p1\", len(plan1))"
   ]
  },
  {
   "cell_type": "code",
   "execution_count": null,
   "metadata": {},
   "outputs": [],
   "source": [
    "%timeit astar(PuzzleProblem2(initial_state,goal_state))\n",
    "plan2 = astar(PuzzleProblem2(initial_state,goal_state))\n",
    "print(\"p2\", len(plan2))\n",
    "\n",
    "print(\"Is plan0==plan1?\", plan0 == plan1)\n",
    "print(\"Is plan0==plan2?\", plan0 == plan2)\n",
    "print(\"Is plan1==plan2?\", plan1 == plan2)"
   ]
  },
  {
   "cell_type": "markdown",
   "metadata": {},
   "source": [
    "**Which of the heuristics is the best for this task? Why is that?**"
   ]
  },
  {
   "cell_type": "markdown",
   "metadata": {},
   "source": [
    "1st heurystic is the best, because it is closest to the required number of moves, because manhatan distance is greater than euklidean distance and greater than average of those 2."
   ]
  },
  {
   "cell_type": "markdown",
   "metadata": {},
   "source": [
    "------------\n",
    "The pictures and the description of 8-puzzle are from \"Artificial Intelligence: A Modern Approach\" 3rd ed."
   ]
  }
 ],
 "metadata": {
  "kernelspec": {
   "display_name": "Python 3",
   "language": "python",
   "name": "python3"
  },
  "language_info": {
   "codemirror_mode": {
    "name": "ipython",
    "version": 3
   },
   "file_extension": ".py",
   "mimetype": "text/x-python",
   "name": "python",
   "nbconvert_exporter": "python",
   "pygments_lexer": "ipython3",
   "version": "3.7.6"
  }
 },
 "nbformat": 4,
 "nbformat_minor": 4
}
