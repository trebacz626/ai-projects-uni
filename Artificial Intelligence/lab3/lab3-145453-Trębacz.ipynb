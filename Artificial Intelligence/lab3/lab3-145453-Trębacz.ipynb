{
 "cells": [
  {
   "cell_type": "markdown",
   "metadata": {},
   "source": [
    "# Local search and constraint satisfaction problems\n",
    "\n",
    "During the previous classes we were concerned with finding a sequence of actions (a plan) to reach one of the goal states from a predefined initial state. In a sense, we were more interested in the *journey* rather than in the *destination* itself: our goal was to transform the initial state to the goal state, not to construct the goal state from scratch. Constraint satisfaction problems (CSP) are different from them: we are not interested in the journey, only in the destination. We are again in a situation where we can recognize a goal state, but we don't care how we get there, the only interesting aspect is finding a state that satisfies all specified constraints. Local search is also different from tree/graph search algorithms like A*: it assumes that all intermediate states are acceptable, but they differ in their quality and the goal is to find the best solution."
   ]
  },
  {
   "cell_type": "markdown",
   "metadata": {},
   "source": [
    "## Constraint satisfaction problem\n",
    "\n",
    "In the previous tasks the state was opaque: an algorithm could execute an action and transform a state to another state, but that was it. It could not depend in its search on the details of a state, because the state representation was different from problem to problem. In CSP this is no longer true: the state always consists of an assignment of values over some domains to variables. This enables an algorithm to interact with the state directly, not only through opaque actions. \n",
    "\n",
    "Allowed assignments are limited by constraints in the problem and broadly speaking they can be divided into three groups:\n",
    "\n",
    "* *Unary constraints* each concerning only a single variable (e.g., $x>0$)\n",
    "* *Binary constraints* relating two variables to each other (e.g., $x>y$)\n",
    "* *General constraints* concerning more than two variables at once\n",
    "\n",
    "In general, the shape of constraints is unrestricted and we are not limited to numeric domains and constraints in the form of inequalities. In principle, one could employ arbitrary boolean functions as constraints.\n",
    "\n",
    "The following class `CSP` is a very limited representation of such a problem capable only of handling:\n",
    "\n",
    "* unary constraints defined in terms of Python's operators `==`, `!=`, `<`, `<=`, `>`, `>=` and `in` such that the left-hand side of the operator is a variable and the right-hand side is a constant\n",
    "* binary constraints defined in terms of Python's operators `==`, `!=`, `<`, `<=`, `>` and `>=` such that both sides are variables.\n",
    "\n",
    "About its methods:\n",
    "\n",
    "* The constructor (`__init__`) requires a single argument: a domain shared by all the variables. This is not used by the class itself, but it is exposed as a field `domain` to be used by algorithms solving a CSP modelled this way.\n",
    "* `addUnaryConstraint` requires three arguments: \n",
    "    * `var` - a variable (a string representing ins name, but really, it could be any object);\n",
    "    * `op` - an operator (one of the following strings: `'=='`, `'!='`, `'<'`, `'<='`, `'>'`, `'>='` and `'in'`)\n",
    "    * `value` - an element of the domain for all the operators except `in` and a subset of the domain for the `in` operator\n",
    "* `addBinaryConstraint` also requires three arguments:\n",
    "    * `var1` - a variable, the left-hand side of the constraint\n",
    "    * `op` - an operator (one of the following strings: `'=='`, `'!='`, `'<'`, `'<='`, `'>'`, `'>='`)\n",
    "    * `var2` - a variable, the right-hand side of the constraint\n",
    "* `verify` gets a single argument: a (partial) solution in the form of a Python's dictionary mapping variables to values and returns a pair of numbers. The first it the number constraints satisfied by the provided solution, the second is the number of unsatisfied constraints."
   ]
  },
  {
   "cell_type": "code",
   "execution_count": 1,
   "metadata": {},
   "outputs": [],
   "source": [
    "class CSP:\n",
    "    def __init__(self, domain):\n",
    "        self.variables = set()\n",
    "        self.domain = domain\n",
    "        self.unary = []\n",
    "        self.binary = []\n",
    "\n",
    "    def addUnaryConstraint(self, var, op, value):\n",
    "        self.unary.append((var, op, value))\n",
    "        self.variables.add(var)\n",
    "\n",
    "    def addBinaryConstraint(self, var1, operator, var2):\n",
    "        c = (var1, operator, var2)\n",
    "        self.binary.append(c)\n",
    "        self.variables.add(var1)\n",
    "        self.variables.add(var2)\n",
    "\n",
    "    def _verify(self, left, op, right):\n",
    "        if op[0] == \"=\":\n",
    "            return left == right\n",
    "        if op == \"!=\":\n",
    "            return left != right\n",
    "        if op == \"<\":\n",
    "            return left < right\n",
    "        if op == \"<=\":\n",
    "            return left <= right\n",
    "        if op == \">\":\n",
    "            return left > right\n",
    "        if op == \">=\":\n",
    "            return left >= right\n",
    "        if op.lower() == \"in\":\n",
    "            return left in right\n",
    "\n",
    "    def verify(self, solution, show=False):\n",
    "        unary_hit = 0\n",
    "        unary_miss = 0\n",
    "        for var, op, value in self.unary:\n",
    "            if var in solution and self._verify(solution[var], op, value):\n",
    "                unary_hit += 1\n",
    "            else:\n",
    "                unary_miss += 1\n",
    "                if show:\n",
    "                    print(var,op,value)\n",
    "        binary_hit = 0\n",
    "        binary_miss = 0\n",
    "        for var1, op, var2 in self.binary:\n",
    "            if var1 in solution and var2 in solution:\n",
    "                if self._verify(solution[var1], op, solution[var2]):\n",
    "                    binary_hit += 1\n",
    "                    continue\n",
    "            binary_miss += 1\n",
    "            if show:\n",
    "                print(var1,op,var2)\n",
    "        return unary_hit + binary_hit, unary_miss + binary_miss"
   ]
  },
  {
   "cell_type": "markdown",
   "metadata": {},
   "source": [
    "## Making Australia colorful again"
   ]
  },
  {
   "cell_type": "markdown",
   "metadata": {},
   "source": [
    "Lets model a map coloring problem. In particular, we'll color the following map of Australia. It can be simplified to a graph presented in the right-hand side of the picture below.\n",
    "\n",
    "![](aima-images/fig_6_1.png)"
   ]
  },
  {
   "cell_type": "markdown",
   "metadata": {},
   "source": [
    "We begin by creating a new problem in the variable `australia` over the domain consisting of three values: `'R'` statnding for the color red, `'G'` standing for green and `'B'` standing for blue. Of course the particular symbols used are not relevant."
   ]
  },
  {
   "cell_type": "code",
   "execution_count": 2,
   "metadata": {},
   "outputs": [],
   "source": [
    "australia = CSP({\"R\", \"G\", \"B\"})"
   ]
  },
  {
   "cell_type": "markdown",
   "metadata": {},
   "source": [
    "Any two teritories of Australia sharing a border should be colored using different colours. We thus define 7 binary constraints."
   ]
  },
  {
   "cell_type": "code",
   "execution_count": 3,
   "metadata": {},
   "outputs": [],
   "source": [
    "australia.addBinaryConstraint(\"WA\", \"!=\", \"NT\")\n",
    "australia.addBinaryConstraint(\"WA\", \"!=\", \"SA\")\n",
    "australia.addBinaryConstraint(\"NT\", \"!=\", \"SA\")\n",
    "australia.addBinaryConstraint(\"NT\", \"!=\", \"Q\")\n",
    "australia.addBinaryConstraint(\"SA\", \"!=\", \"Q\")\n",
    "australia.addBinaryConstraint(\"SA\", \"!=\", \"NSW\")\n",
    "australia.addBinaryConstraint(\"SA\", \"!=\", \"V\")"
   ]
  },
  {
   "cell_type": "markdown",
   "metadata": {},
   "source": [
    "Lets now verify a solution such that *Western Australia* is red and the rest is unspecified."
   ]
  },
  {
   "cell_type": "code",
   "execution_count": 4,
   "metadata": {},
   "outputs": [],
   "source": [
    "australia.verify({\"WA\": \"R\"})"
   ]
  },
  {
   "cell_type": "markdown",
   "metadata": {},
   "source": [
    "As expected it didn't work: there are still 7 unfulfiled constraints. So lets extend the solution."
   ]
  },
  {
   "cell_type": "code",
   "execution_count": 5,
   "metadata": {},
   "outputs": [],
   "source": [
    "australia.verify({\"WA\": \"R\", \"Q\": \"R\", \"V\": \"R\", \"NT\": \"B\", \"NSW\": \"B\", \"SA\": \"G\"})"
   ]
  },
  {
   "cell_type": "markdown",
   "metadata": {},
   "source": [
    "Splendid, now everything works as it should: all 7 constraints are satisfied! The problem is, Tasmania still has no color assigned. To address this, we add unary constraints requiring that each of the 7 teritories has a color assigned."
   ]
  },
  {
   "cell_type": "code",
   "execution_count": 6,
   "metadata": {},
   "outputs": [],
   "source": [
    "for teritory in [\"WA\", \"SA\", \"Q\", \"NT\", \"NSW\", \"V\", \"T\"]:\n",
    "    australia.addUnaryConstraint(teritory, \"in\", {\"R\", \"G\", \"B\"})"
   ]
  },
  {
   "cell_type": "markdown",
   "metadata": {},
   "source": [
    "Lets verify the incomplete solution again:"
   ]
  },
  {
   "cell_type": "code",
   "execution_count": 7,
   "metadata": {},
   "outputs": [],
   "source": [
    "australia.verify({\"WA\": \"R\", \"Q\": \"R\", \"V\": \"R\", \"NT\": \"B\", \"NSW\": \"B\", \"SA\": \"G\"})"
   ]
  },
  {
   "cell_type": "markdown",
   "metadata": {},
   "source": [
    "Now one constraint remains unsatisfied. Lets extend the solution."
   ]
  },
  {
   "cell_type": "code",
   "execution_count": 8,
   "metadata": {},
   "outputs": [],
   "source": [
    "australia.verify(\n",
    "    {\"WA\": \"R\", \"Q\": \"R\", \"V\": \"R\", \"NT\": \"B\", \"NSW\": \"B\", \"SA\": \"G\", \"T\": \"B\"}\n",
    ")"
   ]
  },
  {
   "cell_type": "markdown",
   "metadata": {},
   "source": [
    "## Task 1: CSP as search\n",
    "\n",
    "Complete the following class `CSSearchProblem` casting a CSP (given in the field `self.csp`) as a generic search problem. It is very similar to the tasks you solved during the previous classes:\n",
    "\n",
    "* `initial_state` should return an intial state of the search (e.g., a state such that no variable has any value assigned though you may consider other possibilities, such as filling it with a random assignment instead)\n",
    "* `available_actions` should return a list of avilable actions in the given state, each action should correspond to assigning a value to a variable\n",
    "* `do_action` generates a new state by adding/changing the assignment specified in the given action\n",
    "* `value` is about the only new thing: this should be some measure of the quality of the given state (solution), the higher value the better.\n",
    "\n",
    "Please bear in mind the following: **This is NOT how you should solve CSP problems in real life.** You SHOULD use an off-the-shelf solver or at the very least implement specialized algorithms for CSP, which were discussed in details during the lecture. It is, nevertheless, an interesting exercise to cast one kind of a problem as another kind and see what emerges. Sometimes such an exercises can lead to a genuinely valuable solution."
   ]
  },
  {
   "cell_type": "code",
   "execution_count": 9,
   "metadata": {},
   "outputs": [],
   "source": [
    "class CSSearchProblem:\n",
    "    def __init__(self, csp):\n",
    "        self.csp = csp\n",
    "\n",
    "    @property\n",
    "    def initial_state(self):\n",
    "        state = dict()\n",
    "        for variable in self.csp.variables:\n",
    "            state[variable] = None\n",
    "        return state\n",
    "\n",
    "    def available_actions(self, state):\n",
    "        actions = []\n",
    "        for variable in self.csp.variables:\n",
    "            for el in self.csp.domain:\n",
    "                actions.append((variable, el))\n",
    "        return actions\n",
    "\n",
    "    def do_action(self, state, action):\n",
    "        new_state = state.copy()\n",
    "        new_state[action[0]] = action[1]\n",
    "        return new_state\n",
    "\n",
    "    def value(self, state) -> float:\n",
    "        return self.csp.verify(state)[0]"
   ]
  },
  {
   "cell_type": "markdown",
   "metadata": {},
   "source": [
    "## Task 2: Implement hill climbing to solve search problems\n",
    "\n",
    "Complete the following cell of code with an implemention of the hill climbing algorithm.\n",
    "The algorithm starts in the initial state of the given search problem `problem` and loops forever.\n",
    "During each repetition of the loop it \"looks around\" and tests all the states achievable through actions available in the current state.\n",
    "If none of them is better than the current state (i.e., the algorithm reached a peak or a plateau according to the `value` function), it breaks the loop and returns the reached state.\n",
    "Otherwise, it goes to the best of these neighbouring states and computes the next repetition of the loop."
   ]
  },
  {
   "cell_type": "code",
   "execution_count": 10,
   "metadata": {},
   "outputs": [],
   "source": [
    "def hill_climbing(problem: CSSearchProblem):\n",
    "    state = problem.initial_state\n",
    "    while True:\n",
    "        best_new_state = state\n",
    "        for action in problem.available_actions(state):\n",
    "            new_state = problem.do_action(state, action)\n",
    "            if problem.value(new_state) > problem.value(state):\n",
    "                best_new_state = new_state\n",
    "        if best_new_state == state:\n",
    "            return state\n",
    "        else:\n",
    "            state = best_new_state"
   ]
  },
  {
   "cell_type": "markdown",
   "metadata": {},
   "source": [
    "Lets test your implementation by solving the problem of coloring Australia!"
   ]
  },
  {
   "cell_type": "code",
   "execution_count": 11,
   "metadata": {},
   "outputs": [
    {
     "data": {
      "text/plain": [
       "{'V': 'G', 'NT': 'B', 'WA': 'G', 'T': 'G', 'Q': 'G', 'SA': 'R', 'NSW': 'B'}"
      ]
     },
     "execution_count": 11,
     "metadata": {},
     "output_type": "execute_result"
    }
   ],
   "source": [
    "solution = hill_climbing(CSSearchProblem(australia))\n",
    "solution"
   ]
  },
  {
   "cell_type": "markdown",
   "metadata": {},
   "source": [
    "Is the obtained solution correct and complete? (It should be and the following assertion should not fail.)"
   ]
  },
  {
   "cell_type": "code",
   "execution_count": 12,
   "metadata": {},
   "outputs": [],
   "source": [
    "assert australia.verify(solution) == (14, 0)"
   ]
  },
  {
   "cell_type": "markdown",
   "metadata": {},
   "source": [
    "## Sudoku!\n",
    "\n",
    "Coloring Australia is really a bit boring. Lets deal with something more exciting: SUDOKU! I assume you know the rules, but if you don't, go look them up, spend some time solving a few puzzles and familiarize yourself with the puzzle.\n",
    "The cell below defines a string `puzzle` which represents a Sudoku puzzle from the picture below. A digit in `puzzle` corresponds to a digit in the puzzle, while an underscore `_` corresponds to a blank cell in the puzzle. For your convenience there's also variable `solution` containing the correct solution to this particular puzzle.\n",
    "\n",
    "![](aima-images/fig_6_4.png)"
   ]
  },
  {
   "cell_type": "code",
   "execution_count": 13,
   "metadata": {
    "scrolled": true
   },
   "outputs": [
    {
     "name": "stdout",
     "output_type": "stream",
     "text": [
      "_\n"
     ]
    }
   ],
   "source": [
    "puzzle = \"\"\"\n",
    "__3_2_6__\n",
    "9__3_5__1\n",
    "__18_64__\n",
    "__81_29__\n",
    "7_______8\n",
    "__67_82__\n",
    "__26_95__\n",
    "8__2_3__9\n",
    "__5_1_3__\n",
    "\"\"\"\n",
    "print(puzzle[2])"
   ]
  },
  {
   "cell_type": "code",
   "execution_count": 14,
   "metadata": {},
   "outputs": [],
   "source": [
    "solution = \"\"\"\n",
    "483921657\n",
    "967345821\n",
    "251876493\n",
    "548132976\n",
    "729564138\n",
    "136798245\n",
    "372689514\n",
    "814253769\n",
    "695417382\n",
    "\"\"\""
   ]
  },
  {
   "cell_type": "markdown",
   "metadata": {},
   "source": [
    "### Task 3: Sudoku as CSP\n",
    "\n",
    "Using the string `puzzle` defined above write in the cell below code that will add all the necessary constraints to the CSP represented by the variable `sudoku`. "
   ]
  },
  {
   "cell_type": "code",
   "execution_count": 15,
   "metadata": {},
   "outputs": [
    {
     "name": "stdout",
     "output_type": "stream",
     "text": [
      "306\n",
      "417\n"
     ]
    }
   ],
   "source": [
    "import itertools\n",
    "\n",
    "sudoku = CSP({1, 2, 3, 4, 5, 6, 7, 8, 9})\n",
    "stripped_puzzle = puzzle[1:]\n",
    "#vertical and horizontal lines\n",
    "for index, l in enumerate(stripped_puzzle):\n",
    "    i, j = index // 10, index % 10\n",
    "    if j == 9:\n",
    "        continue\n",
    "    if l == \"_\":\n",
    "        left_side = (i, j)\n",
    "        sudoku.addUnaryConstraint((i, j), \"in\", {1, 2, 3, 4, 5, 6, 7, 8, 9})\n",
    "    else:\n",
    "        left_side = int(l)\n",
    "    for i2 in range(i + 1, 9):\n",
    "        if stripped_puzzle[i2 * 10 + j] == \"_\":\n",
    "            right_side = (i2, j)\n",
    "        else:\n",
    "            right_side = int(stripped_puzzle[i2 * 10 + j])\n",
    "        # if any side is a not a variable we make unary constraint for variable or nothing if both are numbers\n",
    "        if not isinstance(left_side, int) and not isinstance(right_side, int):\n",
    "            sudoku.addBinaryConstraint(left_side, \"!=\", right_side)\n",
    "        elif not isinstance(left_side, int):\n",
    "            sudoku.addUnaryConstraint(left_side, \"!=\", right_side)\n",
    "        elif not isinstance(right_side, int):\n",
    "            sudoku.addUnaryConstraint(right_side, \"!=\", left_side)\n",
    "\n",
    "    for j2 in range(j + 1, 9):\n",
    "        if stripped_puzzle[i * 10 + j2] == \"_\":\n",
    "            right_side = (i, j2)\n",
    "        else:\n",
    "            right_side = int(stripped_puzzle[i * 10 + j2])\n",
    "        if not isinstance(left_side, int) and not isinstance(right_side, int):\n",
    "            sudoku.addBinaryConstraint(left_side, \"!=\", right_side)\n",
    "        elif not isinstance(left_side, int):\n",
    "            sudoku.addUnaryConstraint(left_side, \"!=\", right_side)\n",
    "        elif not isinstance(right_side, int):\n",
    "            sudoku.addUnaryConstraint(right_side, \"!=\", left_side)\n",
    "\n",
    "#small squares constraints            \n",
    "for i in range(0, 3):\n",
    "    for j in range(0, 3):\n",
    "        pairs = list(\n",
    "            itertools.combinations(\n",
    "                itertools.product(\n",
    "                    [0 + 3 * i, 1 + 3 * i, 2 + 3 * i], [0 + 3 * j, 1 + 3 * j, 2 + 3 * j]\n",
    "                ),\n",
    "                r=2,\n",
    "            )\n",
    "        )\n",
    "        for pair in pairs:\n",
    "            if pair[0][0] == pair[1][0] or pair[0][1] == pair[1][1]:\n",
    "                continue\n",
    "            left_side = (\n",
    "                pair[0]\n",
    "                if stripped_puzzle[pair[0][0] * 10 + pair[0][1]] == \"_\"\n",
    "                else int(stripped_puzzle[pair[0][0] * 10 + pair[0][1]])\n",
    "            )\n",
    "            right_side = (\n",
    "                pair[1]\n",
    "                if stripped_puzzle[pair[1][0] * 10 + pair[1][1]] == \"_\"\n",
    "                else int(stripped_puzzle[pair[1][0] * 10 + pair[1][1]])\n",
    "            )\n",
    "            if not isinstance(left_side, int) and not isinstance(right_side, int):\n",
    "                sudoku.addBinaryConstraint(left_side, \"!=\", right_side)\n",
    "            elif not isinstance(left_side, int):\n",
    "                sudoku.addUnaryConstraint(left_side, \"!=\", right_side)\n",
    "            elif not isinstance(right_side, int):\n",
    "                sudoku.addUnaryConstraint(right_side, \"!=\", left_side)\n",
    "\n",
    "print(len(sudoku.binary))\n",
    "print(len(sudoku.unary))"
   ]
  },
  {
   "cell_type": "markdown",
   "metadata": {},
   "source": [
    "## Task 4: Solving sudoku by hill climbing\n",
    "\n",
    "Complete the cell below by using the `CSSearchProblem` class you defined above and hill climbing to find a solution to the sudoku puzzle. Answer the questions below."
   ]
  },
  {
   "cell_type": "code",
   "execution_count": 16,
   "metadata": {},
   "outputs": [],
   "source": [
    "solution = hill_climbing(CSSearchProblem(sudoku))"
   ]
  },
  {
   "cell_type": "code",
   "execution_count": 17,
   "metadata": {},
   "outputs": [
    {
     "name": "stdout",
     "output_type": "stream",
     "text": [
      "783924695\n",
      "949375881\n",
      "52187643_\n",
      "_58162947\n",
      "724593168\n",
      "196748253\n",
      "372689514\n",
      "864253779\n",
      "895417326\n"
     ]
    }
   ],
   "source": [
    "result = [['0' for i in range(9)] for j in range(9)]\n",
    "for key in solution.keys():\n",
    "    result[key[0]][key[1]] = str(solution[key])\n",
    "    if result[key[0]][key[1]] == \"None\":\n",
    "        result[key[0]][key[1]] = puzzle[1:][key[0] * 10 + key[1]]\n",
    "\n",
    "for i in range(9):\n",
    "    for j in range(9):\n",
    "        if result[i][j] == '0':\n",
    "            result[i][j] = stripped_puzzle[10*i+j]\n",
    "for row in result:\n",
    "    print(\"\".join(row))\n"
   ]
  },
  {
   "cell_type": "code",
   "execution_count": 18,
   "metadata": {},
   "outputs": [
    {
     "name": "stdout",
     "output_type": "stream",
     "text": [
      "(0, 0) != 7\n",
      "(1, 2) != 9\n",
      "(2, 8) in {1, 2, 3, 4, 5, 6, 7, 8, 9}\n",
      "(3, 0) in {1, 2, 3, 4, 5, 6, 7, 8, 9}\n",
      "(4, 5) != 3\n",
      "(8, 0) != 8\n",
      "(0, 3) != (0, 7)\n",
      "(1, 4) != (2, 4)\n",
      "(1, 6) != (1, 7)\n",
      "(2, 1) != (4, 1)\n",
      "(4, 2) != (7, 2)\n",
      "(5, 1) != (8, 1)\n",
      "(7, 6) != (7, 7)\n"
     ]
    },
    {
     "data": {
      "text/plain": [
       "(710, 13)"
      ]
     },
     "execution_count": 18,
     "metadata": {},
     "output_type": "execute_result"
    }
   ],
   "source": [
    "sudoku.verify(solution, show=True)"
   ]
  },
  {
   "cell_type": "markdown",
   "metadata": {},
   "source": [
    "**Is the solution correct and complete or does it violate some constraints? If it does, which constraints are violated? Would a human solving this puzzle make that kind of mistakes?**"
   ]
  },
  {
   "cell_type": "markdown",
   "metadata": {},
   "source": [
    "It violates the constraints showed above. I think human would definately not leave an empty field. Human would also not put the same numbers so close to each other."
   ]
  },
  {
   "cell_type": "markdown",
   "metadata": {},
   "source": [
    "## Genetic algorithms\n",
    "\n",
    "Another popular search/optimization approaches are genetic/evolutionary algorithms.\n",
    "The basic notion in a genetic algorithm is an *individual*, which encodes a solution to the problem at hand.\n",
    "The details of the encoding may vary greatly, but the most common approach is to construct a sequence of symbols (bits, possibly more complex symbols) of a constant length.\n",
    "Continuing with the biological analogies, the encoding represents a genotype, whereas the encoded solution represents a phenotype.\n",
    "It is rather important to ensure that most (if not all) such sequences (genotypes) represent valid solutions (phenotypes).\n",
    "\n",
    "Each of the individuals is assigned some numeric value called *fitness*, which is a gain-type measure (i.e., the higher the better) and describes how well the individual copes in the given environment. It is, again, an analogy to the process of evolution.\n",
    "\n",
    "Finally, two operators are usually defined:\n",
    "\n",
    "* Mutation, which randomly changes a single gene in an individual.\n",
    "* Reproduction, which given two parents combines their genetic material to create a child. If the individuals are represented as sequences, the most common approach is to find a random cross-over point and glue the part before the cross-over point from one parent with the part after the cross-over point from the other parent.\n",
    "\n",
    "A group of individuals forms a *population* and the genetic algorithm generates new populations of the same size from the old ones by using the two described operators.\n",
    "Some form of the *survival of the fittest* is implemented, e.g., by making a probability of parenting a child by an individual proportional to its fitness, or by creating more children than the desired population size and then removing these with the lowest fitness."
   ]
  },
  {
   "cell_type": "markdown",
   "metadata": {},
   "source": [
    "The following class `GeneticOperators` is an abstraction necessary to decouple representation from the algorithm itself.\n",
    "\n",
    "* `random_individual` is responsible for constructing randomly a new individual\n",
    "* `mutate` given an `individual` is supposed to perform a mutation and return a new, mutated individual\n",
    "* `reproduce` given two parents `parent1` and `parent2` should return a child of theirs\n",
    "* `fitness` should return a float number representing the fitness of the given `individual`"
   ]
  },
  {
   "cell_type": "code",
   "execution_count": 19,
   "metadata": {},
   "outputs": [],
   "source": [
    "class GeneticOperators:\n",
    "    def random_individual(self):\n",
    "        ...\n",
    "\n",
    "    def mutate(self, individual):\n",
    "        ...\n",
    "        return mutated_individual\n",
    "\n",
    "    def reproduce(self, parent1, parent2):\n",
    "        ...\n",
    "        return child\n",
    "\n",
    "    def fitness(self, individual) -> float:\n",
    "        ...\n",
    "        return result"
   ]
  },
  {
   "cell_type": "markdown",
   "metadata": {},
   "source": [
    "### Taks 5: Wrapping CSP into genetic operators\n",
    "\n",
    "Complete the following class `CSPGO`, providing necessary operators to cast a CSP problem representd as an object of the class `CSP` to a representation suitable for a genetic algorithm.\n",
    "Apart from the four functions from `GeneticOperators`, implement a function `phenotype` which, given an individual, returns a solution suitable for passing to the `verify` method of the `CSP` object."
   ]
  },
  {
   "cell_type": "code",
   "execution_count": 20,
   "metadata": {},
   "outputs": [],
   "source": [
    "import random\n",
    "\n",
    "class CSPGO(GeneticOperators):\n",
    "    def __init__(self, csp):\n",
    "        self.csp = csp\n",
    "        # add here any initialization code you may need\n",
    "        \n",
    "    def random_individual(self):\n",
    "        state = dict()\n",
    "        for variable in self.csp.variables:\n",
    "            state[variable] = random.choice(list(self.csp.domain))\n",
    "        return state\n",
    "            \n",
    "        \n",
    "    def mutate(self, individual):\n",
    "        mutated_individual = individual.copy()\n",
    "        mut_keys = random.sample(mutated_individual.keys(), k=3)\n",
    "        for key in mut_keys:\n",
    "            mutated_individual[key] = random.choice(list(self.csp.domain))\n",
    "        return mutated_individual\n",
    "    \n",
    "    def reproduce(self, parent1, parent2):\n",
    "        child = parent1.copy()\n",
    "        for key in random.sample(parent2.keys(), k= len(parent2)//2):\n",
    "            child[key] = parent2[key]\n",
    "        return child\n",
    "    \n",
    "    def fitness(self, individual) -> float:\n",
    "        result = self.csp.verify(individual)[0]\n",
    "        return result\n",
    "    \n",
    "    def phenotype(self, individual):\n",
    "        return individual.copy()"
   ]
  },
  {
   "cell_type": "markdown",
   "metadata": {},
   "source": [
    "If your solution is correct a random individual should have a corresponding phenotype that can be then passed to the CSP."
   ]
  },
  {
   "cell_type": "code",
   "execution_count": 21,
   "metadata": {},
   "outputs": [
    {
     "data": {
      "text/plain": [
       "(12, 2)"
      ]
     },
     "execution_count": 21,
     "metadata": {},
     "output_type": "execute_result"
    }
   ],
   "source": [
    "australiaGO = CSPGO(australia)\n",
    "australia.verify(australiaGO.phenotype(australiaGO.random_individual()))"
   ]
  },
  {
   "cell_type": "markdown",
   "metadata": {},
   "source": [
    "So should a mutated random individual"
   ]
  },
  {
   "cell_type": "code",
   "execution_count": 22,
   "metadata": {},
   "outputs": [
    {
     "data": {
      "text/plain": [
       "(11, 3)"
      ]
     },
     "execution_count": 22,
     "metadata": {},
     "output_type": "execute_result"
    }
   ],
   "source": [
    "australia.verify(australiaGO.phenotype(australiaGO.mutate(australiaGO.random_individual())))"
   ]
  },
  {
   "cell_type": "markdown",
   "metadata": {},
   "source": [
    "And a child of two random individuals"
   ]
  },
  {
   "cell_type": "code",
   "execution_count": 23,
   "metadata": {},
   "outputs": [
    {
     "name": "stdout",
     "output_type": "stream",
     "text": [
      "{'V': 'B', 'NT': 'R', 'WA': 'R', 'T': 'B', 'Q': 'B', 'SA': 'R', 'NSW': 'R'}\n",
      "WA != NT\n",
      "WA != SA\n",
      "NT != SA\n",
      "SA != NSW\n"
     ]
    },
    {
     "data": {
      "text/plain": [
       "(10, 4)"
      ]
     },
     "execution_count": 23,
     "metadata": {},
     "output_type": "execute_result"
    }
   ],
   "source": [
    "parent1 = australiaGO.random_individual()\n",
    "parent2 = australiaGO.random_individual()\n",
    "child = australiaGO.reproduce(parent1, parent2)\n",
    "print(child)\n",
    "australia.verify(australiaGO.phenotype(child), show=True)"
   ]
  },
  {
   "cell_type": "markdown",
   "metadata": {},
   "source": [
    "Of course it is perfectly acceptable that within these solutions some (or all) the constraints are unsatisfied."
   ]
  },
  {
   "cell_type": "markdown",
   "metadata": {},
   "source": [
    "## Task 6: Implement a genetic algorithm\n",
    "\n",
    "A genetic algorithm works as follows:\n",
    "\n",
    "1. Generate a random population of a given size `n`\n",
    "2. Repeat the following `g` times:\n",
    "    1. Repeat `n` times:\n",
    "       1. Select at random two individuals from the population. The probability of selection should be proportional to their fitness (so individuals with higher fitness are selected more often).\n",
    "       2. Create a child of these two individuals\n",
    "       3. With a small probability `p` mutate the child\n",
    "       4. Add the child to a new population\n",
    "    2. Replace the old population with the new population\n",
    "3. Return the best individual encountered in any of the `g` populations generated in the previous step"
   ]
  },
  {
   "cell_type": "markdown",
   "metadata": {},
   "source": [
    "The last task! Complete the following function `ga` with an implementation of a genetic algorithm, given the following parameters:\n",
    "\n",
    "* `operators` An object of the type `GeneticOperators`\n",
    "* `g` The number of populations to generate\n",
    "* `n` The size of a single population\n",
    "* `p` The probability of mutation"
   ]
  },
  {
   "cell_type": "markdown",
   "metadata": {},
   "source": [
    "**Hint**: sampling proportionally to the fitness is simple. For example, you can apply the following naive method (but you could do it faster using binary search).\n",
    "1. Sum all the fitnesses.\n",
    "2. Generate a random float from the range 0 to 1.\n",
    "3. Iterate over individuals summing their fitnesses again. The moment the sum divided by total exceeds the random float, you found your random individual."
   ]
  },
  {
   "cell_type": "code",
   "execution_count": 24,
   "metadata": {},
   "outputs": [],
   "source": [
    "def ga(operators: GeneticOperators, n: int, g: int, p: float):\n",
    "    population = [operators.random_individual() for i in range(n)]\n",
    "    fitness = [operators.fitness(p) for p in population]\n",
    "    best_fitness = max(fitness)\n",
    "    best_individual = population[fitness.index(best_fitness)]\n",
    "    for i in range(g):\n",
    "        new_population = []\n",
    "        for j in range(n):\n",
    "            p1,p2 = random.choices(population,weights=fitness,k=2)\n",
    "            child = operators.reproduce(p1,p2)\n",
    "            if random.random() <= p:\n",
    "                child = operators.mutate(child)\n",
    "            new_population.append(child)\n",
    "        population = new_population\n",
    "        fitness = [operators.fitness(p) for p in population]\n",
    "        bf_candidate =max(fitness)\n",
    "        if bf_candidate > best_fitness:\n",
    "            best_fitness = bf_candidate\n",
    "            best_individual = population[fitness.index(best_fitness)]\n",
    "    print(best_fitness)\n",
    "    return best_individual\n",
    "        "
   ]
  },
  {
   "cell_type": "markdown",
   "metadata": {},
   "source": [
    "Lets test it on the considered CSPs."
   ]
  },
  {
   "cell_type": "code",
   "execution_count": 25,
   "metadata": {},
   "outputs": [
    {
     "name": "stdout",
     "output_type": "stream",
     "text": [
      "14\n"
     ]
    },
    {
     "data": {
      "text/plain": [
       "(14, 0)"
      ]
     },
     "execution_count": 25,
     "metadata": {},
     "output_type": "execute_result"
    }
   ],
   "source": [
    "individual = ga(australiaGO, 100, 10, 0.1)\n",
    "australia.verify(australiaGO.phenotype(individual))"
   ]
  },
  {
   "cell_type": "code",
   "execution_count": 26,
   "metadata": {
    "scrolled": true
   },
   "outputs": [
    {
     "name": "stdout",
     "output_type": "stream",
     "text": [
      "667\n"
     ]
    },
    {
     "data": {
      "text/plain": [
       "(667, 56)"
      ]
     },
     "execution_count": 26,
     "metadata": {},
     "output_type": "execute_result"
    }
   ],
   "source": [
    "sudokuGO = CSPGO(sudoku)\n",
    "individual = ga(sudokuGO, 100, 10, 0.1)\n",
    "sudoku.verify(sudokuGO.phenotype(individual))"
   ]
  },
  {
   "cell_type": "code",
   "execution_count": 27,
   "metadata": {},
   "outputs": [
    {
     "name": "stdout",
     "output_type": "stream",
     "text": [
      "677\n"
     ]
    },
    {
     "data": {
      "text/plain": [
       "(677, 46)"
      ]
     },
     "execution_count": 27,
     "metadata": {},
     "output_type": "execute_result"
    }
   ],
   "source": [
    "individual = ga(sudokuGO, 500, 100, 0.2)\n",
    "sudoku.verify(sudokuGO.phenotype(individual))"
   ]
  },
  {
   "cell_type": "markdown",
   "metadata": {},
   "source": []
  }
 ],
 "metadata": {
  "kernelspec": {
   "display_name": "Python 3",
   "language": "python",
   "name": "python3"
  },
  "language_info": {
   "codemirror_mode": {
    "name": "ipython",
    "version": 3
   },
   "file_extension": ".py",
   "mimetype": "text/x-python",
   "name": "python",
   "nbconvert_exporter": "python",
   "pygments_lexer": "ipython3",
   "version": "3.7.6"
  }
 },
 "nbformat": 4,
 "nbformat_minor": 4
}
